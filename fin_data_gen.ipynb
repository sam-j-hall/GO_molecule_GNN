{
 "cells": [
  {
   "cell_type": "code",
   "execution_count": 1,
   "id": "438cfcd4-440d-4e94-890d-aebdf6b11ba3",
   "metadata": {
    "tags": []
   },
   "outputs": [
    {
     "data": {
      "text/plain": [
       "'2023.03.1'"
      ]
     },
     "execution_count": 1,
     "metadata": {},
     "output_type": "execute_result"
    }
   ],
   "source": [
    "import pandas as pd\n",
    "import os \n",
    "import numpy as np\n",
    "from rdkit import Chem\n",
    "from rdkit.Chem.rdmolfiles import  MolFromXYZFile\n",
    "from rdkit.Chem import rdDetermineBonds\n",
    "from rdkit.Chem import rdFMCS\n",
    "import rdkit\n",
    "import networkx as nx\n",
    "import torch\n",
    "import re\n",
    "import matplotlib.pyplot as plt\n",
    "import copy\n",
    "rdkit.__version__\n"
   ]
  },
  {
   "cell_type": "code",
   "execution_count": 2,
   "id": "5fba8e1e-a734-4a0f-93a2-856b64a41927",
   "metadata": {
    "tags": []
   },
   "outputs": [],
   "source": [
    "def spectrum(E,osc,sigma,x):\n",
    "    gE=[]\n",
    "    for Ei in x:\n",
    "        tot=0\n",
    "        for Ej,os in zip(E,osc):\n",
    "            tot+=os*np.exp(-((((Ej-Ei)/sigma)**2)))\n",
    "        gE.append(tot)\n",
    "    return gE"
   ]
  },
  {
   "cell_type": "code",
   "execution_count": 3,
   "id": "6306d88e-b440-48d0-abc4-31335641748b",
   "metadata": {
    "tags": []
   },
   "outputs": [],
   "source": [
    "def count_atoms(mol,atomic_num):\n",
    "    #Works for all atoms, input atomic_num\n",
    "    num_oxygens = 0\n",
    "    for atom in mol.GetAtoms():\n",
    "        if atom.GetAtomicNum() == atomic_num:  # Atomic number 8 corresponds to oxygen\n",
    "            num_oxygens += 1\n",
    "    return num_oxygens"
   ]
  },
  {
   "cell_type": "code",
   "execution_count": 4,
   "id": "ab918e03-189a-46bc-851c-3555046c47e8",
   "metadata": {
    "tags": []
   },
   "outputs": [],
   "source": [
    "def plot_spectrum(x,gE,spec_dest) -> None:\n",
    "    \n",
    "    \n",
    "    fig, ax = plt.subplots()\n",
    "    ax.plot(x, gE, color='k',alpha=0.4, linewidth=0.8)\n",
    "    ax.set_xlim(280, 300)\n",
    "    ax.set_xlabel('Energy')\n",
    "    ax.set_ylabel('Intensity')\n",
    "    ax.set_title('Spectra')\n",
    "    plt.savefig(spec_dest)\n",
    "    plt.close()\n",
    "                \n",
    "                \n",
    "    "
   ]
  },
  {
   "cell_type": "code",
   "execution_count": 5,
   "id": "d367af60-be0a-4fe8-a101-80bd9237162f",
   "metadata": {
    "tags": []
   },
   "outputs": [],
   "source": [
    "def symm_atoms(mol) -> None:\n",
    "\n",
    "    Chem.AssignStereochemistry(mol,cleanIt=True,force=True,flagPossibleStereoCenters=True)\n",
    "    t=[[atom.GetIdx(),atom.GetProp('_CIPRank')]for atom in mol.GetAtoms()]\n",
    "    symm_dict={}\n",
    "    for atom in mol.GetAtoms():\n",
    "        symm_dict[atom.GetIdx()]=atom.GetProp('_CIPRank')\n",
    "   \n",
    "    # Print the symmetric carbons\n",
    "   # print(\"Symmetric carbons:\")\n",
    "   # print(symm_dict)\n",
    "    \n",
    "    return symm_dict\n",
    "\n",
    "                    \n"
   ]
  },
  {
   "cell_type": "code",
   "execution_count": null,
   "id": "5ce1cd2f-f2bc-467d-a572-5ae2ea7e094d",
   "metadata": {},
   "outputs": [],
   "source": []
  },
  {
   "cell_type": "code",
   "execution_count": 6,
   "id": "daffde85-cc36-4696-bfe0-939e06e3c5f6",
   "metadata": {},
   "outputs": [],
   "source": [
    "#define a function to take folders and make networkx graphs\n",
    "def graph_maker(main_dir,plot_var=0):\n",
    "    \n",
    "    #cmap = plt.get_cmap('viridis')\n",
    "    #initialise certain variables\n",
    "    x=np.linspace(280,300, num=200, endpoint=True)\n",
    "    sigma=0.6\n",
    "    \n",
    "    #List of files in the directory. need this to get the optimised xyz coordinate\n",
    "    files = [f for f in os.listdir(main_dir) if os.path.isfile(os.path.join(main_dir, f))]\n",
    "    #print(files)\n",
    "    \n",
    "    #find the file with the OPT_x.xyz name\n",
    "    pattern = r'^OPT_[\\w]+\\.xyz$'\n",
    "    \n",
    "    for filename in files:\n",
    "        if re.match(pattern, filename):\n",
    "            xyz_name=filename\n",
    "            break\n",
    "    \n",
    "    #make the path of the xyz file\n",
    "    xyz_path=main_dir+'/'+xyz_name\n",
    "    \n",
    "    #make a mol object from the xyz file\n",
    "    \n",
    "    raw_mol = MolFromXYZFile(xyz_path)\n",
    "    conn_mol = Chem.Mol(raw_mol)\n",
    "    rdDetermineBonds.DetermineBonds(conn_mol)\n",
    "    mol = copy.deepcopy(conn_mol)\n",
    "    mol = Chem.RemoveAllHs(mol)\n",
    "   \n",
    "    Chem.RemoveStereochemistry(mol)\n",
    "    smi = Chem.MolToSmiles(mol)\n",
    "   \n",
    "    #print(smi)\n",
    "    px=symm_atoms(mol)\n",
    "    \n",
    "        \n",
    "    for i, atom in enumerate(mol.GetAtoms()):\n",
    "        #For each atom, set the property \"molAtomMapNumber\" to a custom number, let's say, the index of the atom in the molecule\n",
    "        atom.SetProp(\"molAtomMapNumber\", str(atom.GetIdx()))\n",
    "        #atom.SetProp(\"molAtomMapNumber\", str(px[i]))\n",
    "    \n",
    "    #display(mol)\n",
    "    count_ox=count_atoms(mol,8)\n",
    "    \n",
    "    #look now at the subdirectories that contain the local spectra\n",
    "    loc_dirs = [os.path.join(main_dir, d) for d in os.listdir(main_dir) if os.path.isdir(os.path.join(main_dir, d))]\n",
    "    loc_names=[f for f in os.listdir(main_dir) if os.path.isdir(os.path.join(main_dir, f))]\n",
    "    name_dirs=[x[1] for x in os.walk(main_dir)][0]\n",
    "    #print(loc_names)\n",
    "    \n",
    "    #t_num={}\n",
    "    #for i, atom in enumerate(mol.GetAtoms()):\n",
    "        #For each atom, set the property \"molAtomMapNumber\" to a custom number, let's say, the index of the atom in the molecule\n",
    "     #   t_num[atom.GetProp(\"molAtomMapNumber\")]=atom.GetIdx()\n",
    "    #print(t_num)\n",
    "    \n",
    "    #loop through each directory and get the spectrum file / make a dataframes for the spectra\n",
    "    spec_dict={}\n",
    "    for i in range(len(loc_dirs)) :\n",
    "        loc_dir=loc_dirs[i]\n",
    "        #name_dir=name_dirs[i]\n",
    "        loc_files=[f for f in os.listdir(loc_dir) if os.path.isfile(os.path.join(loc_dir, f))]\n",
    "        dict_ind=str(int(loc_names[i])-count_ox)\n",
    "    \n",
    "       # print(loc_dir,loc_files,name_dir)\n",
    "        #color = cmap(i / len(loc_dirs))\n",
    "        \n",
    "        symm_dict={}\n",
    "        for filename in loc_files:\n",
    "        \n",
    "           # print(loc_folders)\n",
    "            if filename.endswith('.abs.stk'):\n",
    "                spec_df= pd.read_csv(loc_dir+\"/\"+filename, sep='\\s+', header=None, names=['Peak', 'Strength'])\n",
    "                #make spectrum array\n",
    "                \n",
    "                energies=spec_df['Peak']\n",
    "                osc=spec_df['Strength']\n",
    "                gE=spectrum(energies,osc,sigma,x)\n",
    "                spec_dict[dict_ind]=gE\n",
    "                \n",
    "                #print(int(dict_ind),mol.GetAtomWithIdx(int(dict_ind)).GetAtomicNum())\n",
    "                #print([[x.GetIdx(),x.GetAtomicNum()] for x in mol.GetAtomWithIdx(int(dict_ind)).GetNeighbors()])\n",
    "                \n",
    "                if plot_var==1 :\n",
    "                    #print('Now plotting spectra')\n",
    "                    dest_name='E:/comp_spec/'+filename+'_'+dict_ind+'_spectrum.jpg'\n",
    "                    plot_spectrum(x,gE,dest_name)\n",
    "                    \n",
    "    return mol,spec_dict\n",
    "    "
   ]
  },
  {
   "cell_type": "code",
   "execution_count": 7,
   "id": "b90f2e25-945e-4b84-b4d9-a48941fb1a2b",
   "metadata": {
    "tags": []
   },
   "outputs": [],
   "source": [
    "folder_path='E:/XAS_dataset/Coronene/Coronene_spectra/set_tot/OPT_output'\n",
    "subdirs = [os.path.join(folder_path, d) for d in os.listdir(folder_path) if os.path.isdir(os.path.join(folder_path, d))]"
   ]
  },
  {
   "cell_type": "code",
   "execution_count": 8,
   "id": "ec29fe82-cfba-47cb-b101-1081cd187d86",
   "metadata": {
    "tags": []
   },
   "outputs": [],
   "source": [
    "spec_list={}\n",
    "mol_list={}\n",
    "smile_list={}\n",
    "\n",
    "for subdir in subdirs:\n",
    "    dirpath, foldername = os.path.split(subdir)\n",
    "    plot_var = 1\n",
    "\n",
    "    try:\n",
    "        m1, m1_spec = graph_maker(subdir, plot_var)\n",
    "        count_c = count_atoms(m1, 6)\n",
    "        \n",
    "        if len(m1_spec.keys()) == count_c:\n",
    "            spec_list[foldername] = m1_spec\n",
    "            mol_list[foldername] = Chem.MolToSmiles(m1)\n",
    "        else:\n",
    "            print('Molecule invalid:', subdir)\n",
    "    except Exception as e:\n",
    "        print('Error occurred in graph_maker:', str(e))\n",
    "\n",
    "\n"
   ]
  },
  {
   "cell_type": "code",
   "execution_count": 9,
   "id": "95997f56-fc0e-41ad-96c7-d0316b423444",
   "metadata": {},
   "outputs": [],
   "source": [
    "import json"
   ]
  },
  {
   "cell_type": "code",
   "execution_count": 10,
   "id": "e99f1da9-9db7-49fe-ab9e-9533dc2e8b72",
   "metadata": {
    "tags": []
   },
   "outputs": [],
   "source": [
    "sm2=mol_list['R_eOH_0_eCOOH__0_eEPOXY_0_eCHO_0_eKETO_0_iOH_0_iEPOXY_1_ieEPOXY_1_1']"
   ]
  },
  {
   "cell_type": "code",
   "execution_count": null,
   "id": "03da8870-2636-4231-ae8b-a37012753790",
   "metadata": {
    "tags": []
   },
   "outputs": [],
   "source": [
    "from rdkit.Chem import Draw\n",
    "atom_index=0\n",
    "# Generate a highlighted image of the molecule\n",
    "highlighted_mol = Draw.MolToImage(mol, highlightAtoms=[atom_index])\n",
    "\n",
    "# Display the image\n",
    "highlighted_mol.show()"
   ]
  },
  {
   "cell_type": "code",
   "execution_count": 99,
   "id": "5fc40ef5-9b35-47e3-8a10-c88e8389f134",
   "metadata": {
    "tags": []
   },
   "outputs": [],
   "source": [
    "m1 = Chem.MolFromSmiles(sm2)"
   ]
  },
  {
   "cell_type": "code",
   "execution_count": 100,
   "id": "0d729dd7-7fb3-48a3-a0a0-ccedeac44606",
   "metadata": {
    "tags": []
   },
   "outputs": [
    {
     "data": {
      "image/png": "[encoded data removed]",
      "text/plain": [
       "<rdkit.Chem.rdchem.Mol at 0x1f979402ff0>"
      ]
     },
     "metadata": {},
     "output_type": "display_data"
    }
   ],
   "source": [
    "display(m1)"
   ]
  },
  {
   "cell_type": "code",
   "execution_count": 59,
   "id": "4766ace2-903d-49e3-ab08-0f2556d26751",
   "metadata": {
    "tags": []
   },
   "outputs": [],
   "source": [
    "sm1=mol_list['R_eOH_0_eCOOH__0_eEPOXY_0_eCHO_0_eKETO_0_iOH_0_iEPOXY_0_ieEPOXY_3_2']"
   ]
  },
  {
   "cell_type": "code",
   "execution_count": 56,
   "id": "86a6746c-68ba-49eb-b1a8-06ccebe23a79",
   "metadata": {},
   "outputs": [
    {
     "data": {
      "text/plain": [
       "dict_keys(['7', '8', '9', '10', '11', '12', '13', '14', '15', '16', '17', '18', '19', '20', '21', '22', '23', '0', '1', '2', '3', '4', '5', '6'])"
      ]
     },
     "execution_count": 56,
     "metadata": {},
     "output_type": "execute_result"
    }
   ],
   "source": [
    "spec_list['R_eOH_0_eCOOH__0_eEPOXY_0_eCHO_0_eKETO_0_iOH_0_iEPOXY_0_ieEPOXY_3_2'].keys()"
   ]
  },
  {
   "cell_type": "code",
   "execution_count": 60,
   "id": "67dbaaac-a5af-4b71-a5c7-984dc54734d5",
   "metadata": {
    "tags": []
   },
   "outputs": [],
   "source": [
    "m = Chem.MolFromSmiles(sm1)"
   ]
  },
  {
   "cell_type": "code",
   "execution_count": 61,
   "id": "cfc7bf90-f872-40cb-812d-886f3e425804",
   "metadata": {
    "tags": []
   },
   "outputs": [
    {
     "data": {
      "image/png": "[encoded data removed]",
      "text/plain": [
       "<rdkit.Chem.rdchem.Mol at 0x1f9792bccf0>"
      ]
     },
     "metadata": {},
     "output_type": "display_data"
    }
   ],
   "source": [
    "display(m)"
   ]
  },
  {
   "cell_type": "code",
   "execution_count": 66,
   "id": "ab2f2e70-5925-4e79-8ec0-4f1a553899db",
   "metadata": {
    "tags": []
   },
   "outputs": [],
   "source": [
    "for atom in range(0,27):\n",
    "    neighbours_dict[atom]= [[(m.GetAtomWithIdx(atom)).GetProp(\"molAtomMapNumber\"),x.GetProp(\"molAtomMapNumber\"),x.GetIdx()] for x in m.GetAtomWithIdx(atom).GetNeighbors()]"
   ]
  },
  {
   "cell_type": "code",
   "execution_count": 67,
   "id": "7d5412fd-8757-4d46-80c5-5dd8bda9aa57",
   "metadata": {
    "tags": []
   },
   "outputs": [
    {
     "data": {
      "text/plain": [
       "{0: [['0', '4', 1], ['0', '20', 9], ['0', '2', 22]],\n",
       " 1: [['4', '0', 0], ['4', '6', 2], ['4', '8', 6]],\n",
       " 2: [['6', '4', 1], ['6', '7', 3], ['6', '5', 24]],\n",
       " 3: [['7', '6', 2], ['7', '9', 4]],\n",
       " 4: [['9', '7', 3], ['9', '10', 5]],\n",
       " 5: [['10', '9', 4], ['10', '8', 6], ['10', '11', 18]],\n",
       " 6: [['8', '10', 5], ['8', '12', 7], ['8', '4', 1]],\n",
       " 7: [['12', '8', 6], ['12', '16', 8], ['12', '14', 16]],\n",
       " 8: [['16', '12', 7], ['16', '20', 9], ['16', '18', 13]],\n",
       " 9: [['20', '16', 8], ['20', '22', 10], ['20', '0', 0]],\n",
       " 10: [['22', '20', 9], ['22', '21', 11], ['22', '23', 20], ['22', '25', 26]],\n",
       " 11: [['21', '22', 10], ['21', '19', 12]],\n",
       " 12: [['19', '21', 11], ['19', '18', 13]],\n",
       " 13: [['18', '19', 12], ['18', '17', 14], ['18', '16', 8]],\n",
       " 14: [['17', '18', 13], ['17', '15', 15]],\n",
       " 15: [['15', '17', 14], ['15', '14', 16]],\n",
       " 16: [['14', '15', 15], ['14', '13', 17], ['14', '12', 7], ['14', '26', 19]],\n",
       " 17: [['13', '14', 16], ['13', '11', 18], ['13', '26', 19]],\n",
       " 18: [['11', '13', 17], ['11', '10', 5]],\n",
       " 19: [['26', '13', 17], ['26', '14', 16]],\n",
       " 20: [['23', '22', 10], ['23', '1', 21], ['23', '25', 26]],\n",
       " 21: [['1', '23', 20], ['1', '2', 22]],\n",
       " 22: [['2', '1', 21], ['2', '3', 23], ['2', '0', 0], ['2', '24', 25]],\n",
       " 23: [['3', '2', 22], ['3', '5', 24], ['3', '24', 25]],\n",
       " 24: [['5', '3', 23], ['5', '6', 2]],\n",
       " 25: [['24', '3', 23], ['24', '2', 22]],\n",
       " 26: [['25', '23', 20], ['25', '22', 10]]}"
      ]
     },
     "execution_count": 67,
     "metadata": {},
     "output_type": "execute_result"
    }
   ],
   "source": [
    "neighbours_dict"
   ]
  },
  {
   "cell_type": "code",
   "execution_count": 68,
   "id": "54ff704d-6143-4c43-94c0-fa8ccb21b184",
   "metadata": {
    "tags": []
   },
   "outputs": [
    {
     "data": {
      "text/plain": [
       "8"
      ]
     },
     "execution_count": 68,
     "metadata": {},
     "output_type": "execute_result"
    }
   ],
   "source": [
    "m.GetAtomWithIdx(19).GetAtomicNum()"
   ]
  },
  {
   "cell_type": "code",
   "execution_count": null,
   "id": "90a35398-fad7-4b9b-a1f7-b8202f937406",
   "metadata": {
    "tags": []
   },
   "outputs": [],
   "source": [
    "x=spec_list['R_eOH_0_eCOOH__0_eEPOXY_0_eCHO_0_eKETO_0_iOH_0_iEPOXY_1_ieEPOXY_1_1'].keys()\n",
    "high=[int(t) for t in x]"
   ]
  },
  {
   "cell_type": "code",
   "execution_count": null,
   "id": "11432f7c-db56-4087-95b2-378ffff53b82",
   "metadata": {},
   "outputs": [],
   "source": []
  },
  {
   "cell_type": "code",
   "execution_count": null,
   "id": "68d30d90-1ee5-4cf2-a37e-929eb5f305c6",
   "metadata": {
    "tags": []
   },
   "outputs": [],
   "source": [
    "from rdkit.Chem import Draw\n",
    "atom_index=0\n",
    "# Generate a highlighted image of the molecule\n",
    "highlighted_mol = Draw.MolToImage(mol, highlightAtoms=high)\n",
    "\n",
    "# Display the image\n",
    "highlighted_mol.show()"
   ]
  },
  {
   "cell_type": "code",
   "execution_count": 11,
   "id": "4f05ae77-71d0-4c76-8707-2277bce3ae55",
   "metadata": {
    "tags": []
   },
   "outputs": [],
   "source": [
    "import pickle \n",
    "\n",
    "input_list=[mol_list,spec_list]\n",
    "\n",
    "with open(\"E:/hlrn_orca/input.pkl\", \"wb\") as file:\n",
    "    pickle.dump(input_list, file)"
   ]
  },
  {
   "cell_type": "code",
   "execution_count": 12,
   "id": "f6f24123-b76c-4b69-b621-40b213cb8a4d",
   "metadata": {
    "tags": []
   },
   "outputs": [],
   "source": [
    "filename = \"E:/hlrn_orca/data_coronene_4sets_0.6.json\"\n",
    "with open(filename, \"w\") as file:\n",
    "    json.dump(input_list, file)\n"
   ]
  },
  {
   "cell_type": "code",
   "execution_count": null,
   "id": "b2a02ab9-8a00-48fe-b4e0-30625fb8bfd4",
   "metadata": {
    "tags": []
   },
   "outputs": [],
   "source": [
    "# Aromatize the molecule\n",
    "Chem.SanitizeMol(m1, Chem.SanitizeFlags.AROMATIC)\n",
    "\n",
    "# Get the aromatized SMILES string\n",
    "aromatized_smiles = Chem.MolToSmiles(m1)\n",
    "\n",
    "#print(\"Aromatized SMILES:\", aromatized_smiles)\n",
    "Chem.Kekulize(m1)"
   ]
  },
  {
   "cell_type": "code",
   "execution_count": null,
   "id": "7aa88011-1ca6-4a6f-bd84-50505d5f530f",
   "metadata": {
    "tags": []
   },
   "outputs": [],
   "source": [
    "len(input_list[0])"
   ]
  },
  {
   "cell_type": "code",
   "execution_count": null,
   "id": "4782bc3d-2ff9-434d-9d73-a012a78f92e9",
   "metadata": {
    "tags": []
   },
   "outputs": [],
   "source": [
    "rdkit.Chem.Draw.MolToImage(m1, size=(300, 300), kekulize=True, wedgeBonds=True, fitImage=False, options=None, canvas=None)"
   ]
  },
  {
   "cell_type": "code",
   "execution_count": 20,
   "id": "e752343e-d08a-485f-a45b-f153b4801550",
   "metadata": {
    "tags": []
   },
   "outputs": [
    {
     "data": {
      "text/plain": [
       "['[C:0]123[C:2]4=[CH:3][CH:6]=[C:7]5[C:5]1([C:9]16[C:11](=[CH:12][CH:14]=[C:15]7[C:13]1([C:17]18[C:19]([CH:18]=[CH:16]7)([CH:20]=[C:22]([OH:25])[C:23](=[C:21]21)[CH:24]=[C:1]4[OH:4])[O:26]8)[O:28]6)[CH:10]=[CH:8]5)[O:27]3']"
      ]
     },
     "execution_count": 20,
     "metadata": {},
     "output_type": "execute_result"
    }
   ],
   "source": [
    "sm1='[C:0]123[C:2]4=[CH:3][CH:6]=[C:7]5[C:5]1([C:9]16[C:11](=[CH:12][CH:14]=[C:15]7[C:13]1([C:17]18[C:19]([CH:18]=[CH:16]7)([CH:20]=[C:22]([OH:25])[C:23](=[C:21]21)[CH:24]=[C:1]4[OH:4])[O:26]8)[O:28]6)[CH:10]=[CH:8]5)[O:27]3'\n",
    "m = Chem.MolFromSmiles(sm1)\n",
    "res = list(BRICS.BRICSDecompose(m))\n",
    "sorted(res)"
   ]
  },
  {
   "cell_type": "code",
   "execution_count": 42,
   "id": "cec16404-3a95-4de1-a7e2-d9c24c5f1dd1",
   "metadata": {
    "tags": []
   },
   "outputs": [],
   "source": [
    "atoms=[]\n",
    "neighbours_dict={}\n",
    "for atom in range(0,25):\n",
    "    neighbours_dict[atom]= [[(m.GetAtomWithIdx(atom)).GetProp(\"molAtomMapNumber\"),x.GetProp(\"molAtomMapNumber\"),x.GetIdx()] for x in m.GetAtomWithIdx(atom).GetNeighbors()]"
   ]
  },
  {
   "cell_type": "code",
   "execution_count": 43,
   "id": "b9470cc6-020d-4aa1-a3fb-aaff6d084914",
   "metadata": {
    "tags": []
   },
   "outputs": [
    {
     "data": {
      "text/plain": [
       "{0: [['0', '2', 1], ['0', '5', 5], ['0', '21', 20], ['0', '27', 28]],\n",
       " 1: [['2', '0', 0], ['2', '3', 2], ['2', '1', 22]],\n",
       " 2: [['3', '2', 1], ['3', '6', 3]],\n",
       " 3: [['6', '3', 2], ['6', '7', 4]],\n",
       " 4: [['7', '6', 3], ['7', '5', 5], ['7', '8', 27]],\n",
       " 5: [['5', '7', 4], ['5', '9', 6], ['5', '27', 28], ['5', '0', 0]],\n",
       " 6: [['9', '5', 5], ['9', '11', 7], ['9', '13', 11], ['9', '28', 25]],\n",
       " 7: [['11', '9', 6], ['11', '12', 8], ['11', '10', 26]],\n",
       " 8: [['12', '11', 7], ['12', '14', 9]],\n",
       " 9: [['14', '12', 8], ['14', '15', 10]],\n",
       " 10: [['15', '14', 9], ['15', '13', 11], ['15', '16', 15]],\n",
       " 11: [['13', '15', 10], ['13', '17', 12], ['13', '28', 25], ['13', '9', 6]],\n",
       " 12: [['17', '13', 11], ['17', '19', 13], ['17', '21', 20], ['17', '26', 24]],\n",
       " 13: [['19', '17', 12], ['19', '18', 14], ['19', '20', 16], ['19', '26', 24]],\n",
       " 14: [['18', '19', 13], ['18', '16', 15]],\n",
       " 15: [['16', '18', 14], ['16', '15', 10]],\n",
       " 16: [['20', '19', 13], ['20', '22', 17]],\n",
       " 17: [['22', '20', 16], ['22', '25', 18], ['22', '23', 19]],\n",
       " 18: [['25', '22', 17]],\n",
       " 19: [['23', '22', 17], ['23', '21', 20], ['23', '24', 21]],\n",
       " 20: [['21', '23', 19], ['21', '17', 12], ['21', '0', 0]],\n",
       " 21: [['24', '23', 19], ['24', '1', 22]],\n",
       " 22: [['1', '24', 21], ['1', '4', 23], ['1', '2', 1]],\n",
       " 23: [['4', '1', 22]],\n",
       " 24: [['26', '19', 13], ['26', '17', 12]]}"
      ]
     },
     "execution_count": 43,
     "metadata": {},
     "output_type": "execute_result"
    }
   ],
   "source": [
    "neighbours_dict"
   ]
  },
  {
   "cell_type": "code",
   "execution_count": 36,
   "id": "81e4d29e-4fd8-48d7-ba3e-5ec5ecb9e468",
   "metadata": {
    "tags": []
   },
   "outputs": [
    {
     "data": {
      "image/png": "[encoded data removed]",
      "text/plain": [
       "<rdkit.Chem.rdchem.Mol at 0x1f979175f50>"
      ]
     },
     "metadata": {},
     "output_type": "display_data"
    }
   ],
   "source": [
    "display(m)"
   ]
  },
  {
   "cell_type": "code",
   "execution_count": 37,
   "id": "4c33686e-8100-42c9-b37d-cf107b7278cf",
   "metadata": {
    "tags": []
   },
   "outputs": [
    {
     "ename": "NameError",
     "evalue": "name 'mol' is not defined",
     "output_type": "error",
     "traceback": [
      "\u001b[1;31m---------------------------------------------------------------------------\u001b[0m",
      "\u001b[1;31mNameError\u001b[0m                                 Traceback (most recent call last)",
      "Input \u001b[1;32mIn [37]\u001b[0m, in \u001b[0;36m<cell line: 2>\u001b[1;34m()\u001b[0m\n\u001b[0;32m      1\u001b[0m \u001b[38;5;66;03m# Remove hydrogen atoms\u001b[39;00m\n\u001b[1;32m----> 2\u001b[0m Chem\u001b[38;5;241m.\u001b[39mRemoveStereochemistry(\u001b[43mmol\u001b[49m)\n\u001b[0;32m      3\u001b[0m mol \u001b[38;5;241m=\u001b[39m Chem\u001b[38;5;241m.\u001b[39mRemoveAllHs(m1)\n\u001b[0;32m      5\u001b[0m \u001b[38;5;66;03m# Get the SMILES string without hydrogens\u001b[39;00m\n",
      "\u001b[1;31mNameError\u001b[0m: name 'mol' is not defined"
     ]
    }
   ],
   "source": [
    "# Remove hydrogen atoms\n",
    "Chem.RemoveStereochemistry(mol)\n",
    "mol = Chem.RemoveAllHs(m1)\n",
    "\n",
    "# Get the SMILES string without hydrogens\n",
    "smiles_no_hydrogens = Chem.MolToSmiles(mol)\n",
    "\n",
    "print(\"SMILES without hydrogens:\", smiles_no_hydrogens)"
   ]
  },
  {
   "cell_type": "code",
   "execution_count": null,
   "id": "e91beed6-5434-422e-899d-f844695bc57a",
   "metadata": {
    "tags": []
   },
   "outputs": [],
   "source": [
    "print(m1==m )"
   ]
  },
  {
   "cell_type": "code",
   "execution_count": null,
   "id": "ebe1381d-c2e8-4f70-9920-d7aa325a8ce9",
   "metadata": {},
   "outputs": [],
   "source": [
    "ATOM_FEATURES = {\n",
    "            'atomic_num': [1,6,8],\n",
    "            'degree': [0, 1, 2, 3, 4],\n",
    "           # 'formal_charge': [-1, -2, 1, 2, 0],\n",
    "            'chiral_tag': [0, 1, 2, 3],\n",
    "            'num_Hs': [0, 1, 2, 3, 4],\n",
    "            'hybridization': [\n",
    "                Chem.rdchem.HybridizationType.SP,\n",
    "                Chem.rdchem.HybridizationType.SP2,\n",
    "                Chem.rdchem.HybridizationType.SP3\n",
    "                ],\n",
    "            }\n",
    "\n",
    "ATOM_FDIM=sum(len(choices)  for choices in ATOM_FEATURES.values()) + 1"
   ]
  },
  {
   "cell_type": "code",
   "execution_count": null,
   "id": "e34680bc-b9e8-4170-b306-50c3836e5560",
   "metadata": {
    "tags": []
   },
   "outputs": [],
   "source": [
    "ATOM_FDIM"
   ]
  },
  {
   "cell_type": "code",
   "execution_count": null,
   "id": "2ce12606-148d-4cff-9a46-4c52b585688d",
   "metadata": {},
   "outputs": [],
   "source": []
  }
 ],
 "metadata": {
  "kernelspec": {
   "display_name": "pinnsfinal",
   "language": "python",
   "name": "pinnsfinal"
  },
  "language_info": {
   "codemirror_mode": {
    "name": "ipython",
    "version": 3
   },
   "file_extension": ".py",
   "mimetype": "text/x-python",
   "name": "python",
   "nbconvert_exporter": "python",
   "pygments_lexer": "ipython3",
   "version": "3.10.4"
  }
 },
 "nbformat": 4,
 "nbformat_minor": 5
}
