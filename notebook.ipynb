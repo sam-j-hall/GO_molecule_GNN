{
 "cells": [
  {
   "cell_type": "code",
   "execution_count": 2,
   "metadata": {},
   "outputs": [
    {
     "data": {
      "text/plain": [
       "'2023.09.1'"
      ]
     },
     "execution_count": 2,
     "metadata": {},
     "output_type": "execute_result"
    }
   ],
   "source": [
    "import os\n",
    "import copy\n",
    "import re\n",
    "import json\n",
    "import numpy as np\n",
    "import pandas as pd\n",
    "import matplotlib.pyplot as plt\n",
    "from icecream import ic\n",
    "# RDKit\n",
    "import rdkit\n",
    "from rdkit import Chem\n",
    "from rdkit.Chem.rdmolfiles import MolFromXYZFile\n",
    "from rdkit.Chem import rdDetermineBonds, rdFMCS\n",
    "from rdkit.Chem.Draw import IPythonConsole\n",
    "IPythonConsole.drawOptions.addAtomIndices=True\n",
    "IPythonConsole.drawOptions.annotationFontScale=0.8\n",
    "IPythonConsole.molSize = 400,400\n",
    "rdkit.__version__"
   ]
  },
  {
   "cell_type": "code",
   "execution_count": 3,
   "metadata": {},
   "outputs": [
    {
     "name": "stdout",
     "output_type": "stream",
     "text": [
      "91\n",
      "['../GNN_XAS_Node/raw_data/OPT_output/cir_R_eOH_0_eCOOH__0_eEPOXY_1_eCHO_0_eKETO_0_iOH_2_iEPOXY_0_ieEPOXY_2_2', '../GNN_XAS_Node/raw_data/OPT_output/cir_R_eOH_0_eCOOH__0_eEPOXY_1_eCHO_0_eKETO_0_iOH_0_iEPOXY_1_ieEPOXY_3_0', '../GNN_XAS_Node/raw_data/OPT_output/cir_R_eOH_0_eCOOH__0_eEPOXY_0_eCHO_0_eKETO_0_iOH_0_iEPOXY_3_ieEPOXY_0_2', '../GNN_XAS_Node/raw_data/OPT_output/cir_R_eOH_0_eCOOH__1_eEPOXY_0_eCHO_2_eKETO_0_iOH_1_iEPOXY_1_ieEPOXY_0_1', '../GNN_XAS_Node/raw_data/OPT_output/cir_R_eOH_0_eCOOH__0_eEPOXY_1_eCHO_2_eKETO_0_iOH_1_iEPOXY_1_ieEPOXY_0_1', '../GNN_XAS_Node/raw_data/OPT_output/cir_R_eOH_0_eCOOH__0_eEPOXY_0_eCHO_0_eKETO_1_iOH_2_iEPOXY_1_ieEPOXY_0_0', '../GNN_XAS_Node/raw_data/OPT_output/cir_R_eOH_0_eCOOH__0_eEPOXY_0_eCHO_1_eKETO_1_iOH_1_iEPOXY_2_ieEPOXY_0_0', '../GNN_XAS_Node/raw_data/OPT_output/cir_R_eOH_0_eCOOH__2_eEPOXY_0_eCHO_0_eKETO_0_iOH_3_iEPOXY_0_ieEPOXY_0_1', '../GNN_XAS_Node/raw_data/OPT_output/cir_R_eOH_0_eCOOH__1_eEPOXY_0_eCHO_0_eKETO_0_iOH_0_iEPOXY_2_ieEPOXY_1_1', '../GNN_XAS_Node/raw_data/OPT_output/cir_R_eOH_0_eCOOH__0_eEPOXY_1_eCHO_1_eKETO_0_iOH_0_iEPOXY_1_ieEPOXY_2_2', '../GNN_XAS_Node/raw_data/OPT_output/cir_R_eOH_0_eCOOH__1_eEPOXY_0_eCHO_1_eKETO_3_iOH_0_iEPOXY_0_ieEPOXY_0_2', '../GNN_XAS_Node/raw_data/OPT_output/cir_R_eOH_0_eCOOH__1_eEPOXY_0_eCHO_0_eKETO_1_iOH_1_iEPOXY_2_ieEPOXY_0_0', '../GNN_XAS_Node/raw_data/OPT_output/cir_R_eOH_1_eCOOH__1_eEPOXY_0_eCHO_0_eKETO_0_iOH_0_iEPOXY_0_ieEPOXY_0_1', '../GNN_XAS_Node/raw_data/OPT_output/cir_R_eOH_0_eCOOH__0_eEPOXY_3_eCHO_1_eKETO_0_iOH_0_iEPOXY_1_ieEPOXY_0_2', '../GNN_XAS_Node/raw_data/OPT_output/cir_R_eOH_1_eCOOH__2_eEPOXY_1_eCHO_0_eKETO_0_iOH_0_iEPOXY_0_ieEPOXY_0_2', '../GNN_XAS_Node/raw_data/OPT_output/cir_R_eOH_0_eCOOH__2_eEPOXY_0_eCHO_0_eKETO_1_iOH_0_iEPOXY_1_ieEPOXY_1_2', '../GNN_XAS_Node/raw_data/OPT_output/cir_R_eOH_0_eCOOH__2_eEPOXY_1_eCHO_1_eKETO_0_iOH_0_iEPOXY_1_ieEPOXY_0_2', '../GNN_XAS_Node/raw_data/OPT_output/cir_R_eOH_1_eCOOH__1_eEPOXY_2_eCHO_0_eKETO_0_iOH_0_iEPOXY_0_ieEPOXY_0_2', '../GNN_XAS_Node/raw_data/OPT_output/cir_R_eOH_0_eCOOH__0_eEPOXY_0_eCHO_3_eKETO_1_iOH_0_iEPOXY_0_ieEPOXY_0_1', '../GNN_XAS_Node/raw_data/OPT_output/cir_R_eOH_0_eCOOH__2_eEPOXY_0_eCHO_1_eKETO_0_iOH_0_iEPOXY_1_ieEPOXY_0_1', '../GNN_XAS_Node/raw_data/OPT_output/cir_R_eOH_1_eCOOH__1_eEPOXY_0_eCHO_1_eKETO_0_iOH_0_iEPOXY_1_ieEPOXY_0_0', '../GNN_XAS_Node/raw_data/OPT_output/cir_R_eOH_1_eCOOH__1_eEPOXY_1_eCHO_0_eKETO_1_iOH_0_iEPOXY_0_ieEPOXY_0_2', '../GNN_XAS_Node/raw_data/OPT_output/cir_R_eOH_0_eCOOH__2_eEPOXY_0_eCHO_1_eKETO_0_iOH_1_iEPOXY_1_ieEPOXY_0_1', '../GNN_XAS_Node/raw_data/OPT_output/cir_R_eOH_0_eCOOH__1_eEPOXY_0_eCHO_0_eKETO_0_iOH_3_iEPOXY_1_ieEPOXY_0_2', '../GNN_XAS_Node/raw_data/OPT_output/cir_R_eOH_0_eCOOH__0_eEPOXY_0_eCHO_1_eKETO_0_iOH_3_iEPOXY_1_ieEPOXY_0_2', '../GNN_XAS_Node/raw_data/OPT_output/cir_R_eOH_1_eCOOH__1_eEPOXY_1_eCHO_0_eKETO_1_iOH_0_iEPOXY_1_ieEPOXY_0_2', '../GNN_XAS_Node/raw_data/OPT_output/cir_R_eOH_0_eCOOH__0_eEPOXY_0_eCHO_0_eKETO_1_iOH_0_iEPOXY_3_ieEPOXY_1_2', '../GNN_XAS_Node/raw_data/OPT_output/cir_R_eOH_0_eCOOH__3_eEPOXY_0_eCHO_2_eKETO_0_iOH_0_iEPOXY_0_ieEPOXY_0_2', '../GNN_XAS_Node/raw_data/OPT_output/cir_R_eOH_0_eCOOH__0_eEPOXY_0_eCHO_0_eKETO_1_iOH_0_iEPOXY_2_ieEPOXY_1_0', '../GNN_XAS_Node/raw_data/OPT_output/cir_R_eOH_0_eCOOH__1_eEPOXY_1_eCHO_0_eKETO_0_iOH_1_iEPOXY_0_ieEPOXY_2_1', '../GNN_XAS_Node/raw_data/OPT_output/cir_R_eOH_0_eCOOH__1_eEPOXY_1_eCHO_0_eKETO_0_iOH_0_iEPOXY_2_ieEPOXY_0_1', '../GNN_XAS_Node/raw_data/OPT_output/cir_R_eOH_0_eCOOH__2_eEPOXY_0_eCHO_1_eKETO_1_iOH_0_iEPOXY_0_ieEPOXY_0_2', '../GNN_XAS_Node/raw_data/OPT_output/cir_R_eOH_0_eCOOH__0_eEPOXY_0_eCHO_1_eKETO_2_iOH_0_iEPOXY_0_ieEPOXY_2_2', '../GNN_XAS_Node/raw_data/OPT_output/cir_R_eOH_1_eCOOH__2_eEPOXY_0_eCHO_0_eKETO_0_iOH_1_iEPOXY_0_ieEPOXY_1_1', '../GNN_XAS_Node/raw_data/OPT_output/cir_R_eOH_0_eCOOH__0_eEPOXY_1_eCHO_1_eKETO_0_iOH_1_iEPOXY_1_ieEPOXY_1_2', '../GNN_XAS_Node/raw_data/OPT_output/cir_R_eOH_0_eCOOH__0_eEPOXY_0_eCHO_0_eKETO_1_iOH_0_iEPOXY_3_ieEPOXY_0_0', '../GNN_XAS_Node/raw_data/OPT_output/cir_R_eOH_0_eCOOH__1_eEPOXY_2_eCHO_0_eKETO_1_iOH_0_iEPOXY_0_ieEPOXY_1_2', '../GNN_XAS_Node/raw_data/OPT_output/cir_R_eOH_0_eCOOH__0_eEPOXY_0_eCHO_0_eKETO_0_iOH_1_iEPOXY_1_ieEPOXY_1_0', '../GNN_XAS_Node/raw_data/OPT_output/cir_R_eOH_0_eCOOH__0_eEPOXY_0_eCHO_0_eKETO_3_iOH_1_iEPOXY_0_ieEPOXY_1_1', '../GNN_XAS_Node/raw_data/OPT_output/cir_R_eOH_0_eCOOH__2_eEPOXY_0_eCHO_1_eKETO_0_iOH_0_iEPOXY_0_ieEPOXY_2_2', '../GNN_XAS_Node/raw_data/OPT_output/cir_R_eOH_0_eCOOH__0_eEPOXY_1_eCHO_2_eKETO_0_iOH_0_iEPOXY_0_ieEPOXY_2_2', '../GNN_XAS_Node/raw_data/OPT_output/cir_R_eOH_0_eCOOH__1_eEPOXY_0_eCHO_2_eKETO_0_iOH_1_iEPOXY_1_ieEPOXY_0_0', '../GNN_XAS_Node/raw_data/OPT_output/cir_R_eOH_0_eCOOH__0_eEPOXY_0_eCHO_2_eKETO_0_iOH_1_iEPOXY_0_ieEPOXY_2_2', '../GNN_XAS_Node/raw_data/OPT_output/cir_R_eOH_0_eCOOH__0_eEPOXY_1_eCHO_0_eKETO_0_iOH_0_iEPOXY_0_ieEPOXY_1_2', '../GNN_XAS_Node/raw_data/OPT_output/cir_R_eOH_0_eCOOH__1_eEPOXY_1_eCHO_0_eKETO_0_iOH_1_iEPOXY_0_ieEPOXY_2_0', '../GNN_XAS_Node/raw_data/OPT_output/cir_R_eOH_0_eCOOH__0_eEPOXY_1_eCHO_1_eKETO_0_iOH_1_iEPOXY_0_ieEPOXY_0_1', '../GNN_XAS_Node/raw_data/OPT_output/cir_R_eOH_0_eCOOH__1_eEPOXY_1_eCHO_2_eKETO_0_iOH_0_iEPOXY_0_ieEPOXY_0_0', '../GNN_XAS_Node/raw_data/OPT_output/cir_R_eOH_0_eCOOH__2_eEPOXY_1_eCHO_1_eKETO_0_iOH_0_iEPOXY_0_ieEPOXY_1_0', '../GNN_XAS_Node/raw_data/OPT_output/cir_R_eOH_0_eCOOH__0_eEPOXY_0_eCHO_0_eKETO_1_iOH_0_iEPOXY_0_ieEPOXY_2_1', '../GNN_XAS_Node/raw_data/OPT_output/cir_R_eOH_0_eCOOH__2_eEPOXY_0_eCHO_0_eKETO_1_iOH_0_iEPOXY_1_ieEPOXY_0_1', '../GNN_XAS_Node/raw_data/OPT_output/cir_R_eOH_1_eCOOH__4_eEPOXY_0_eCHO_0_eKETO_0_iOH_0_iEPOXY_0_ieEPOXY_0_0', '../GNN_XAS_Node/raw_data/OPT_output/cir_R_eOH_0_eCOOH__0_eEPOXY_0_eCHO_3_eKETO_2_iOH_0_iEPOXY_0_ieEPOXY_0_0', '../GNN_XAS_Node/raw_data/OPT_output/cir_R_eOH_0_eCOOH__0_eEPOXY_1_eCHO_0_eKETO_0_iOH_3_iEPOXY_1_ieEPOXY_0_0', '../GNN_XAS_Node/raw_data/OPT_output/cir_R_eOH_0_eCOOH__0_eEPOXY_2_eCHO_0_eKETO_1_iOH_0_iEPOXY_0_ieEPOXY_0_2', '../GNN_XAS_Node/raw_data/OPT_output/cir_R_eOH_1_eCOOH__1_eEPOXY_0_eCHO_0_eKETO_1_iOH_0_iEPOXY_1_ieEPOXY_1_2', '../GNN_XAS_Node/raw_data/OPT_output/cir_R_eOH_0_eCOOH__1_eEPOXY_2_eCHO_1_eKETO_1_iOH_0_iEPOXY_0_ieEPOXY_0_0', '../GNN_XAS_Node/raw_data/OPT_output/cir_R_eOH_0_eCOOH__0_eEPOXY_1_eCHO_0_eKETO_0_iOH_0_iEPOXY_2_ieEPOXY_0_1', '../GNN_XAS_Node/raw_data/OPT_output/cir_R_eOH_0_eCOOH__0_eEPOXY_4_eCHO_0_eKETO_0_iOH_0_iEPOXY_0_ieEPOXY_1_1', '../GNN_XAS_Node/raw_data/OPT_output/cir_R_eOH_0_eCOOH__0_eEPOXY_0_eCHO_0_eKETO_2_iOH_0_iEPOXY_0_ieEPOXY_3_1', '../GNN_XAS_Node/raw_data/OPT_output/cir_R_eOH_0_eCOOH__1_eEPOXY_2_eCHO_0_eKETO_1_iOH_0_iEPOXY_0_ieEPOXY_0_1', '../GNN_XAS_Node/raw_data/OPT_output/cir_R_eOH_1_eCOOH__1_eEPOXY_0_eCHO_0_eKETO_0_iOH_1_iEPOXY_0_ieEPOXY_1_2', '../GNN_XAS_Node/raw_data/OPT_output/cir_R_eOH_0_eCOOH__0_eEPOXY_0_eCHO_0_eKETO_0_iOH_0_iEPOXY_4_ieEPOXY_0_1', '../GNN_XAS_Node/raw_data/OPT_output/cir_R_eOH_2_eCOOH__1_eEPOXY_0_eCHO_0_eKETO_0_iOH_2_iEPOXY_0_ieEPOXY_0_2', '../GNN_XAS_Node/raw_data/OPT_output/cir_R_eOH_0_eCOOH__0_eEPOXY_1_eCHO_0_eKETO_1_iOH_3_iEPOXY_0_ieEPOXY_0_0', '../GNN_XAS_Node/raw_data/OPT_output/cir_R_eOH_0_eCOOH__0_eEPOXY_1_eCHO_0_eKETO_2_iOH_0_iEPOXY_1_ieEPOXY_1_1', '../GNN_XAS_Node/raw_data/OPT_output/cir_R_eOH_0_eCOOH__1_eEPOXY_0_eCHO_1_eKETO_1_iOH_1_iEPOXY_0_ieEPOXY_0_1', '../GNN_XAS_Node/raw_data/OPT_output/cir_R_eOH_1_eCOOH__2_eEPOXY_0_eCHO_0_eKETO_0_iOH_1_iEPOXY_1_ieEPOXY_0_2', '../GNN_XAS_Node/raw_data/OPT_output/cir_R_eOH_0_eCOOH__0_eEPOXY_1_eCHO_0_eKETO_0_iOH_1_iEPOXY_0_ieEPOXY_1_0', '../GNN_XAS_Node/raw_data/OPT_output/cir_R_eOH_0_eCOOH__1_eEPOXY_1_eCHO_0_eKETO_0_iOH_0_iEPOXY_0_ieEPOXY_1_0', '../GNN_XAS_Node/raw_data/OPT_output/cir_R_eOH_2_eCOOH__1_eEPOXY_0_eCHO_1_eKETO_1_iOH_0_iEPOXY_0_ieEPOXY_0_1', '../GNN_XAS_Node/raw_data/OPT_output/cir_R_eOH_0_eCOOH__1_eEPOXY_1_eCHO_1_eKETO_0_iOH_0_iEPOXY_1_ieEPOXY_0_0', '../GNN_XAS_Node/raw_data/OPT_output/cir_R_eOH_0_eCOOH__0_eEPOXY_0_eCHO_1_eKETO_1_iOH_0_iEPOXY_1_ieEPOXY_1_2', '../GNN_XAS_Node/raw_data/OPT_output/cir_R_eOH_0_eCOOH__2_eEPOXY_0_eCHO_1_eKETO_0_iOH_1_iEPOXY_0_ieEPOXY_0_2', '../GNN_XAS_Node/raw_data/OPT_output/cir_R_eOH_0_eCOOH__0_eEPOXY_1_eCHO_2_eKETO_0_iOH_0_iEPOXY_0_ieEPOXY_1_1', '../GNN_XAS_Node/raw_data/OPT_output/cir_R_eOH_0_eCOOH__0_eEPOXY_1_eCHO_2_eKETO_0_iOH_0_iEPOXY_0_ieEPOXY_0_1', '../GNN_XAS_Node/raw_data/OPT_output/cir_R_eOH_0_eCOOH__0_eEPOXY_0_eCHO_0_eKETO_3_iOH_0_iEPOXY_2_ieEPOXY_0_0', '../GNN_XAS_Node/raw_data/OPT_output/cir_R_eOH_2_eCOOH__1_eEPOXY_1_eCHO_1_eKETO_0_iOH_0_iEPOXY_0_ieEPOXY_0_2', '../GNN_XAS_Node/raw_data/OPT_output/cir_R_eOH_0_eCOOH__2_eEPOXY_0_eCHO_0_eKETO_0_iOH_0_iEPOXY_1_ieEPOXY_2_2', '../GNN_XAS_Node/raw_data/OPT_output/cir_R_eOH_0_eCOOH__0_eEPOXY_0_eCHO_0_eKETO_0_iOH_1_iEPOXY_1_ieEPOXY_3_0', '../GNN_XAS_Node/raw_data/OPT_output/cir_R_eOH_1_eCOOH__1_eEPOXY_0_eCHO_0_eKETO_1_iOH_0_iEPOXY_0_ieEPOXY_1_2', '../GNN_XAS_Node/raw_data/OPT_output/cir_R_eOH_0_eCOOH__1_eEPOXY_2_eCHO_0_eKETO_2_iOH_0_iEPOXY_0_ieEPOXY_0_0', '../GNN_XAS_Node/raw_data/OPT_output/cir_R_eOH_2_eCOOH__1_eEPOXY_1_eCHO_0_eKETO_1_iOH_0_iEPOXY_0_ieEPOXY_0_0', '../GNN_XAS_Node/raw_data/OPT_output/cir_R_eOH_0_eCOOH__1_eEPOXY_0_eCHO_0_eKETO_0_iOH_3_iEPOXY_0_ieEPOXY_0_2', '../GNN_XAS_Node/raw_data/OPT_output/cir_R_eOH_0_eCOOH__3_eEPOXY_0_eCHO_1_eKETO_0_iOH_1_iEPOXY_0_ieEPOXY_0_1', '../GNN_XAS_Node/raw_data/OPT_output/cir_R_eOH_0_eCOOH__1_eEPOXY_0_eCHO_2_eKETO_0_iOH_0_iEPOXY_0_ieEPOXY_0_2', '../GNN_XAS_Node/raw_data/OPT_output/cir_R_eOH_0_eCOOH__0_eEPOXY_0_eCHO_0_eKETO_3_iOH_0_iEPOXY_0_ieEPOXY_0_1', '../GNN_XAS_Node/raw_data/OPT_output/cir_R_eOH_0_eCOOH__0_eEPOXY_1_eCHO_1_eKETO_1_iOH_0_iEPOXY_0_ieEPOXY_2_2', '../GNN_XAS_Node/raw_data/OPT_output/cir_R_eOH_0_eCOOH__0_eEPOXY_0_eCHO_0_eKETO_2_iOH_1_iEPOXY_2_ieEPOXY_0_2', '../GNN_XAS_Node/raw_data/OPT_output/cir_R_eOH_0_eCOOH__0_eEPOXY_0_eCHO_1_eKETO_3_iOH_0_iEPOXY_0_ieEPOXY_0_2', '../GNN_XAS_Node/raw_data/OPT_output/cir_R_eOH_0_eCOOH__0_eEPOXY_0_eCHO_0_eKETO_2_iOH_1_iEPOXY_1_ieEPOXY_1_2', '../GNN_XAS_Node/raw_data/OPT_output/cir_R_eOH_2_eCOOH__1_eEPOXY_0_eCHO_0_eKETO_2_iOH_0_iEPOXY_0_ieEPOXY_0_2']\n"
     ]
    }
   ],
   "source": [
    "# Path to main folder where all the data is\n",
    "data_path = '../GNN_XAS_Node/raw_data/OPT_output'\n",
    "# Create a list with the path of all the different molecule folders\n",
    "subdirs = [os.path.join(data_path, d) for d in os.listdir(data_path) if os.path.isdir(os.path.join(data_path, d))]\n",
    "\n",
    "# Number of molecules in the data set\n",
    "print(len(subdirs))\n",
    "# List of paths to all the different molecules\n",
    "print(subdirs)"
   ]
  },
  {
   "cell_type": "code",
   "execution_count": 4,
   "metadata": {},
   "outputs": [
    {
     "name": "stdout",
     "output_type": "stream",
     "text": [
      "91\n",
      "['cir_R_eOH_0_eCOOH__0_eEPOXY_1_eCHO_0_eKETO_0_iOH_2_iEPOXY_0_ieEPOXY_2_2', 'cir_R_eOH_0_eCOOH__0_eEPOXY_1_eCHO_0_eKETO_0_iOH_0_iEPOXY_1_ieEPOXY_3_0', 'cir_R_eOH_0_eCOOH__0_eEPOXY_0_eCHO_0_eKETO_0_iOH_0_iEPOXY_3_ieEPOXY_0_2', 'cir_R_eOH_0_eCOOH__1_eEPOXY_0_eCHO_2_eKETO_0_iOH_1_iEPOXY_1_ieEPOXY_0_1', 'cir_R_eOH_0_eCOOH__0_eEPOXY_1_eCHO_2_eKETO_0_iOH_1_iEPOXY_1_ieEPOXY_0_1', 'cir_R_eOH_0_eCOOH__0_eEPOXY_0_eCHO_0_eKETO_1_iOH_2_iEPOXY_1_ieEPOXY_0_0', 'cir_R_eOH_0_eCOOH__0_eEPOXY_0_eCHO_1_eKETO_1_iOH_1_iEPOXY_2_ieEPOXY_0_0', 'cir_R_eOH_0_eCOOH__2_eEPOXY_0_eCHO_0_eKETO_0_iOH_3_iEPOXY_0_ieEPOXY_0_1', 'cir_R_eOH_0_eCOOH__1_eEPOXY_0_eCHO_0_eKETO_0_iOH_0_iEPOXY_2_ieEPOXY_1_1', 'cir_R_eOH_0_eCOOH__0_eEPOXY_1_eCHO_1_eKETO_0_iOH_0_iEPOXY_1_ieEPOXY_2_2', 'cir_R_eOH_0_eCOOH__1_eEPOXY_0_eCHO_1_eKETO_3_iOH_0_iEPOXY_0_ieEPOXY_0_2', 'cir_R_eOH_0_eCOOH__1_eEPOXY_0_eCHO_0_eKETO_1_iOH_1_iEPOXY_2_ieEPOXY_0_0', 'cir_R_eOH_1_eCOOH__1_eEPOXY_0_eCHO_0_eKETO_0_iOH_0_iEPOXY_0_ieEPOXY_0_1', 'cir_R_eOH_0_eCOOH__0_eEPOXY_3_eCHO_1_eKETO_0_iOH_0_iEPOXY_1_ieEPOXY_0_2', 'cir_R_eOH_1_eCOOH__2_eEPOXY_1_eCHO_0_eKETO_0_iOH_0_iEPOXY_0_ieEPOXY_0_2', 'cir_R_eOH_0_eCOOH__2_eEPOXY_0_eCHO_0_eKETO_1_iOH_0_iEPOXY_1_ieEPOXY_1_2', 'cir_R_eOH_0_eCOOH__2_eEPOXY_1_eCHO_1_eKETO_0_iOH_0_iEPOXY_1_ieEPOXY_0_2', 'cir_R_eOH_1_eCOOH__1_eEPOXY_2_eCHO_0_eKETO_0_iOH_0_iEPOXY_0_ieEPOXY_0_2', 'cir_R_eOH_0_eCOOH__0_eEPOXY_0_eCHO_3_eKETO_1_iOH_0_iEPOXY_0_ieEPOXY_0_1', 'cir_R_eOH_0_eCOOH__2_eEPOXY_0_eCHO_1_eKETO_0_iOH_0_iEPOXY_1_ieEPOXY_0_1', 'cir_R_eOH_1_eCOOH__1_eEPOXY_0_eCHO_1_eKETO_0_iOH_0_iEPOXY_1_ieEPOXY_0_0', 'cir_R_eOH_1_eCOOH__1_eEPOXY_1_eCHO_0_eKETO_1_iOH_0_iEPOXY_0_ieEPOXY_0_2', 'cir_R_eOH_0_eCOOH__2_eEPOXY_0_eCHO_1_eKETO_0_iOH_1_iEPOXY_1_ieEPOXY_0_1', 'cir_R_eOH_0_eCOOH__1_eEPOXY_0_eCHO_0_eKETO_0_iOH_3_iEPOXY_1_ieEPOXY_0_2', 'cir_R_eOH_0_eCOOH__0_eEPOXY_0_eCHO_1_eKETO_0_iOH_3_iEPOXY_1_ieEPOXY_0_2', 'cir_R_eOH_1_eCOOH__1_eEPOXY_1_eCHO_0_eKETO_1_iOH_0_iEPOXY_1_ieEPOXY_0_2', 'cir_R_eOH_0_eCOOH__0_eEPOXY_0_eCHO_0_eKETO_1_iOH_0_iEPOXY_3_ieEPOXY_1_2', 'cir_R_eOH_0_eCOOH__3_eEPOXY_0_eCHO_2_eKETO_0_iOH_0_iEPOXY_0_ieEPOXY_0_2', 'cir_R_eOH_0_eCOOH__0_eEPOXY_0_eCHO_0_eKETO_1_iOH_0_iEPOXY_2_ieEPOXY_1_0', 'cir_R_eOH_0_eCOOH__1_eEPOXY_1_eCHO_0_eKETO_0_iOH_1_iEPOXY_0_ieEPOXY_2_1', 'cir_R_eOH_0_eCOOH__1_eEPOXY_1_eCHO_0_eKETO_0_iOH_0_iEPOXY_2_ieEPOXY_0_1', 'cir_R_eOH_0_eCOOH__2_eEPOXY_0_eCHO_1_eKETO_1_iOH_0_iEPOXY_0_ieEPOXY_0_2', 'cir_R_eOH_0_eCOOH__0_eEPOXY_0_eCHO_1_eKETO_2_iOH_0_iEPOXY_0_ieEPOXY_2_2', 'cir_R_eOH_1_eCOOH__2_eEPOXY_0_eCHO_0_eKETO_0_iOH_1_iEPOXY_0_ieEPOXY_1_1', 'cir_R_eOH_0_eCOOH__0_eEPOXY_1_eCHO_1_eKETO_0_iOH_1_iEPOXY_1_ieEPOXY_1_2', 'cir_R_eOH_0_eCOOH__0_eEPOXY_0_eCHO_0_eKETO_1_iOH_0_iEPOXY_3_ieEPOXY_0_0', 'cir_R_eOH_0_eCOOH__1_eEPOXY_2_eCHO_0_eKETO_1_iOH_0_iEPOXY_0_ieEPOXY_1_2', 'cir_R_eOH_0_eCOOH__0_eEPOXY_0_eCHO_0_eKETO_0_iOH_1_iEPOXY_1_ieEPOXY_1_0', 'cir_R_eOH_0_eCOOH__0_eEPOXY_0_eCHO_0_eKETO_3_iOH_1_iEPOXY_0_ieEPOXY_1_1', 'cir_R_eOH_0_eCOOH__2_eEPOXY_0_eCHO_1_eKETO_0_iOH_0_iEPOXY_0_ieEPOXY_2_2', 'cir_R_eOH_0_eCOOH__0_eEPOXY_1_eCHO_2_eKETO_0_iOH_0_iEPOXY_0_ieEPOXY_2_2', 'cir_R_eOH_0_eCOOH__1_eEPOXY_0_eCHO_2_eKETO_0_iOH_1_iEPOXY_1_ieEPOXY_0_0', 'cir_R_eOH_0_eCOOH__0_eEPOXY_0_eCHO_2_eKETO_0_iOH_1_iEPOXY_0_ieEPOXY_2_2', 'cir_R_eOH_0_eCOOH__0_eEPOXY_1_eCHO_0_eKETO_0_iOH_0_iEPOXY_0_ieEPOXY_1_2', 'cir_R_eOH_0_eCOOH__1_eEPOXY_1_eCHO_0_eKETO_0_iOH_1_iEPOXY_0_ieEPOXY_2_0', 'cir_R_eOH_0_eCOOH__0_eEPOXY_1_eCHO_1_eKETO_0_iOH_1_iEPOXY_0_ieEPOXY_0_1', 'cir_R_eOH_0_eCOOH__1_eEPOXY_1_eCHO_2_eKETO_0_iOH_0_iEPOXY_0_ieEPOXY_0_0', 'cir_R_eOH_0_eCOOH__2_eEPOXY_1_eCHO_1_eKETO_0_iOH_0_iEPOXY_0_ieEPOXY_1_0', 'cir_R_eOH_0_eCOOH__0_eEPOXY_0_eCHO_0_eKETO_1_iOH_0_iEPOXY_0_ieEPOXY_2_1', 'cir_R_eOH_0_eCOOH__2_eEPOXY_0_eCHO_0_eKETO_1_iOH_0_iEPOXY_1_ieEPOXY_0_1', 'cir_R_eOH_1_eCOOH__4_eEPOXY_0_eCHO_0_eKETO_0_iOH_0_iEPOXY_0_ieEPOXY_0_0', 'cir_R_eOH_0_eCOOH__0_eEPOXY_0_eCHO_3_eKETO_2_iOH_0_iEPOXY_0_ieEPOXY_0_0', 'cir_R_eOH_0_eCOOH__0_eEPOXY_1_eCHO_0_eKETO_0_iOH_3_iEPOXY_1_ieEPOXY_0_0', 'cir_R_eOH_0_eCOOH__0_eEPOXY_2_eCHO_0_eKETO_1_iOH_0_iEPOXY_0_ieEPOXY_0_2', 'cir_R_eOH_1_eCOOH__1_eEPOXY_0_eCHO_0_eKETO_1_iOH_0_iEPOXY_1_ieEPOXY_1_2', 'cir_R_eOH_0_eCOOH__1_eEPOXY_2_eCHO_1_eKETO_1_iOH_0_iEPOXY_0_ieEPOXY_0_0', 'cir_R_eOH_0_eCOOH__0_eEPOXY_1_eCHO_0_eKETO_0_iOH_0_iEPOXY_2_ieEPOXY_0_1', 'cir_R_eOH_0_eCOOH__0_eEPOXY_4_eCHO_0_eKETO_0_iOH_0_iEPOXY_0_ieEPOXY_1_1', 'cir_R_eOH_0_eCOOH__0_eEPOXY_0_eCHO_0_eKETO_2_iOH_0_iEPOXY_0_ieEPOXY_3_1', 'cir_R_eOH_0_eCOOH__1_eEPOXY_2_eCHO_0_eKETO_1_iOH_0_iEPOXY_0_ieEPOXY_0_1', 'cir_R_eOH_1_eCOOH__1_eEPOXY_0_eCHO_0_eKETO_0_iOH_1_iEPOXY_0_ieEPOXY_1_2', 'cir_R_eOH_0_eCOOH__0_eEPOXY_0_eCHO_0_eKETO_0_iOH_0_iEPOXY_4_ieEPOXY_0_1', 'cir_R_eOH_2_eCOOH__1_eEPOXY_0_eCHO_0_eKETO_0_iOH_2_iEPOXY_0_ieEPOXY_0_2', 'cir_R_eOH_0_eCOOH__0_eEPOXY_1_eCHO_0_eKETO_1_iOH_3_iEPOXY_0_ieEPOXY_0_0', 'cir_R_eOH_0_eCOOH__0_eEPOXY_1_eCHO_0_eKETO_2_iOH_0_iEPOXY_1_ieEPOXY_1_1', 'cir_R_eOH_0_eCOOH__1_eEPOXY_0_eCHO_1_eKETO_1_iOH_1_iEPOXY_0_ieEPOXY_0_1', 'cir_R_eOH_1_eCOOH__2_eEPOXY_0_eCHO_0_eKETO_0_iOH_1_iEPOXY_1_ieEPOXY_0_2', 'cir_R_eOH_0_eCOOH__0_eEPOXY_1_eCHO_0_eKETO_0_iOH_1_iEPOXY_0_ieEPOXY_1_0', 'cir_R_eOH_0_eCOOH__1_eEPOXY_1_eCHO_0_eKETO_0_iOH_0_iEPOXY_0_ieEPOXY_1_0', 'cir_R_eOH_2_eCOOH__1_eEPOXY_0_eCHO_1_eKETO_1_iOH_0_iEPOXY_0_ieEPOXY_0_1', 'cir_R_eOH_0_eCOOH__1_eEPOXY_1_eCHO_1_eKETO_0_iOH_0_iEPOXY_1_ieEPOXY_0_0', 'cir_R_eOH_0_eCOOH__0_eEPOXY_0_eCHO_1_eKETO_1_iOH_0_iEPOXY_1_ieEPOXY_1_2', 'cir_R_eOH_0_eCOOH__2_eEPOXY_0_eCHO_1_eKETO_0_iOH_1_iEPOXY_0_ieEPOXY_0_2', 'cir_R_eOH_0_eCOOH__0_eEPOXY_1_eCHO_2_eKETO_0_iOH_0_iEPOXY_0_ieEPOXY_1_1', 'cir_R_eOH_0_eCOOH__0_eEPOXY_1_eCHO_2_eKETO_0_iOH_0_iEPOXY_0_ieEPOXY_0_1', 'cir_R_eOH_0_eCOOH__0_eEPOXY_0_eCHO_0_eKETO_3_iOH_0_iEPOXY_2_ieEPOXY_0_0', 'cir_R_eOH_2_eCOOH__1_eEPOXY_1_eCHO_1_eKETO_0_iOH_0_iEPOXY_0_ieEPOXY_0_2', 'cir_R_eOH_0_eCOOH__2_eEPOXY_0_eCHO_0_eKETO_0_iOH_0_iEPOXY_1_ieEPOXY_2_2', 'cir_R_eOH_0_eCOOH__0_eEPOXY_0_eCHO_0_eKETO_0_iOH_1_iEPOXY_1_ieEPOXY_3_0', 'cir_R_eOH_1_eCOOH__1_eEPOXY_0_eCHO_0_eKETO_1_iOH_0_iEPOXY_0_ieEPOXY_1_2', 'cir_R_eOH_0_eCOOH__1_eEPOXY_2_eCHO_0_eKETO_2_iOH_0_iEPOXY_0_ieEPOXY_0_0', 'cir_R_eOH_2_eCOOH__1_eEPOXY_1_eCHO_0_eKETO_1_iOH_0_iEPOXY_0_ieEPOXY_0_0', 'cir_R_eOH_0_eCOOH__1_eEPOXY_0_eCHO_0_eKETO_0_iOH_3_iEPOXY_0_ieEPOXY_0_2', 'cir_R_eOH_0_eCOOH__3_eEPOXY_0_eCHO_1_eKETO_0_iOH_1_iEPOXY_0_ieEPOXY_0_1', 'cir_R_eOH_0_eCOOH__1_eEPOXY_0_eCHO_2_eKETO_0_iOH_0_iEPOXY_0_ieEPOXY_0_2', 'cir_R_eOH_0_eCOOH__0_eEPOXY_0_eCHO_0_eKETO_3_iOH_0_iEPOXY_0_ieEPOXY_0_1', 'cir_R_eOH_0_eCOOH__0_eEPOXY_1_eCHO_1_eKETO_1_iOH_0_iEPOXY_0_ieEPOXY_2_2', 'cir_R_eOH_0_eCOOH__0_eEPOXY_0_eCHO_0_eKETO_2_iOH_1_iEPOXY_2_ieEPOXY_0_2', 'cir_R_eOH_0_eCOOH__0_eEPOXY_0_eCHO_1_eKETO_3_iOH_0_iEPOXY_0_ieEPOXY_0_2', 'cir_R_eOH_0_eCOOH__0_eEPOXY_0_eCHO_0_eKETO_2_iOH_1_iEPOXY_1_ieEPOXY_1_2', 'cir_R_eOH_2_eCOOH__1_eEPOXY_0_eCHO_0_eKETO_2_iOH_0_iEPOXY_0_ieEPOXY_0_2']\n"
     ]
    }
   ],
   "source": [
    "mol_name = []\n",
    "# Split up into the directory path and list of all the folder/molecule names\n",
    "for subdir in subdirs:\n",
    "    dir_path, path = os.path.split(subdir)\n",
    "    mol_name.append(path)\n",
    "\n",
    "print(len(mol_name))\n",
    "# List of all the molecule names\n",
    "print(mol_name)"
   ]
  },
  {
   "cell_type": "code",
   "execution_count": 6,
   "metadata": {},
   "outputs": [
    {
     "data": {
      "text/plain": [
       "'../GNN_XAS_Node/raw_data/OPT_output/cir_R_eOH_0_eCOOH__0_eEPOXY_1_eCHO_0_eKETO_0_iOH_0_iEPOXY_1_ieEPOXY_3_0'"
      ]
     },
     "execution_count": 6,
     "metadata": {},
     "output_type": "execute_result"
    }
   ],
   "source": [
    "subdirs[1]"
   ]
  },
  {
   "cell_type": "code",
   "execution_count": 8,
   "metadata": {},
   "outputs": [
    {
     "data": {
      "text/plain": [
       "['slurm-7198315.out',\n",
       " 'OPT_R_eOH_0_eCOOH__0_eEPOXY_1_eCHO_0_eKETO_0_iOH_0_iEPOXY_1_ieEPOXY_3_0.sh',\n",
       " 'R_eOH_0_eCOOH__0_eEPOXY_1_eCHO_0_eKETO_0_iOH_0_iEPOXY_1_ieEPOXY_3_0.xyz',\n",
       " 'OPT_R_eOH_0_eCOOH__0_eEPOXY_1_eCHO_0_eKETO_0_iOH_0_iEPOXY_1_ieEPOXY_3_0.xyz',\n",
       " 'OPT_R_eOH_0_eCOOH__0_eEPOXY_1_eCHO_0_eKETO_0_iOH_0_iEPOXY_1_ieEPOXY_3_0.inp']"
      ]
     },
     "execution_count": 8,
     "metadata": {},
     "output_type": "execute_result"
    }
   ],
   "source": [
    "xyz_files = [f for f in os.listdir(subdirs[1]) if os.path.isfile(os.path.join(subdirs[1], f))]\n",
    "xyz_files\n"
   ]
  },
  {
   "cell_type": "code",
   "execution_count": 9,
   "metadata": {},
   "outputs": [
    {
     "data": {
      "text/plain": [
       "'OPT_R_eOH_0_eCOOH__0_eEPOXY_1_eCHO_0_eKETO_0_iOH_0_iEPOXY_1_ieEPOXY_3_0.xyz'"
      ]
     },
     "execution_count": 9,
     "metadata": {},
     "output_type": "execute_result"
    }
   ],
   "source": [
    "pattern = r'OPT_[\\w]+\\.xyz$'\n",
    "\n",
    "for filename in xyz_files:\n",
    "    if re.match(pattern, filename):\n",
    "        xyz_name  = filename\n",
    "        break\n",
    "\n",
    "filename"
   ]
  },
  {
   "cell_type": "code",
   "execution_count": 11,
   "metadata": {},
   "outputs": [
    {
     "data": {
      "text/plain": [
       "'../GNN_XAS_Node/raw_data/OPT_output/cir_R_eOH_0_eCOOH__0_eEPOXY_1_eCHO_0_eKETO_0_iOH_0_iEPOXY_1_ieEPOXY_3_0/OPT_R_eOH_0_eCOOH__0_eEPOXY_1_eCHO_0_eKETO_0_iOH_0_iEPOXY_1_ieEPOXY_3_0.xyz'"
      ]
     },
     "execution_count": 11,
     "metadata": {},
     "output_type": "execute_result"
    }
   ],
   "source": [
    "xyz_path = subdirs[1] + '/' + xyz_name\n",
    "xyz_path"
   ]
  },
  {
   "cell_type": "code",
   "execution_count": 12,
   "metadata": {},
   "outputs": [],
   "source": [
    "loc_dirs = [os.path.join(subdirs[1], d) for d in os.listdir(subdirs[1]) if os.path.isdir(os.path.join(subdirs[1], d))]\n",
    "loc_names = [f for f in os.listdir(subdirs[1]) if os.path.isdir(os.path.join(subdirs[1], f))]\n",
    "name_dirs = [x[1] for x in os.walk(subdirs[1])][0]"
   ]
  },
  {
   "cell_type": "code",
   "execution_count": 16,
   "metadata": {},
   "outputs": [
    {
     "name": "stdout",
     "output_type": "stream",
     "text": [
      "['../GNN_XAS_Node/raw_data/OPT_output/cir_R_eOH_0_eCOOH__0_eEPOXY_1_eCHO_0_eKETO_0_iOH_0_iEPOXY_1_ieEPOXY_3_0/34', '../GNN_XAS_Node/raw_data/OPT_output/cir_R_eOH_0_eCOOH__0_eEPOXY_1_eCHO_0_eKETO_0_iOH_0_iEPOXY_1_ieEPOXY_3_0/37', '../GNN_XAS_Node/raw_data/OPT_output/cir_R_eOH_0_eCOOH__0_eEPOXY_1_eCHO_0_eKETO_0_iOH_0_iEPOXY_1_ieEPOXY_3_0/53', '../GNN_XAS_Node/raw_data/OPT_output/cir_R_eOH_0_eCOOH__0_eEPOXY_1_eCHO_0_eKETO_0_iOH_0_iEPOXY_1_ieEPOXY_3_0/7', '../GNN_XAS_Node/raw_data/OPT_output/cir_R_eOH_0_eCOOH__0_eEPOXY_1_eCHO_0_eKETO_0_iOH_0_iEPOXY_1_ieEPOXY_3_0/56', '../GNN_XAS_Node/raw_data/OPT_output/cir_R_eOH_0_eCOOH__0_eEPOXY_1_eCHO_0_eKETO_0_iOH_0_iEPOXY_1_ieEPOXY_3_0/51', '../GNN_XAS_Node/raw_data/OPT_output/cir_R_eOH_0_eCOOH__0_eEPOXY_1_eCHO_0_eKETO_0_iOH_0_iEPOXY_1_ieEPOXY_3_0/21', '../GNN_XAS_Node/raw_data/OPT_output/cir_R_eOH_0_eCOOH__0_eEPOXY_1_eCHO_0_eKETO_0_iOH_0_iEPOXY_1_ieEPOXY_3_0/24', '../GNN_XAS_Node/raw_data/OPT_output/cir_R_eOH_0_eCOOH__0_eEPOXY_1_eCHO_0_eKETO_0_iOH_0_iEPOXY_1_ieEPOXY_3_0/27', '../GNN_XAS_Node/raw_data/OPT_output/cir_R_eOH_0_eCOOH__0_eEPOXY_1_eCHO_0_eKETO_0_iOH_0_iEPOXY_1_ieEPOXY_3_0/43', '../GNN_XAS_Node/raw_data/OPT_output/cir_R_eOH_0_eCOOH__0_eEPOXY_1_eCHO_0_eKETO_0_iOH_0_iEPOXY_1_ieEPOXY_3_0/6', '../GNN_XAS_Node/raw_data/OPT_output/cir_R_eOH_0_eCOOH__0_eEPOXY_1_eCHO_0_eKETO_0_iOH_0_iEPOXY_1_ieEPOXY_3_0/46', '../GNN_XAS_Node/raw_data/OPT_output/cir_R_eOH_0_eCOOH__0_eEPOXY_1_eCHO_0_eKETO_0_iOH_0_iEPOXY_1_ieEPOXY_3_0/41', '../GNN_XAS_Node/raw_data/OPT_output/cir_R_eOH_0_eCOOH__0_eEPOXY_1_eCHO_0_eKETO_0_iOH_0_iEPOXY_1_ieEPOXY_3_0/11', '../GNN_XAS_Node/raw_data/OPT_output/cir_R_eOH_0_eCOOH__0_eEPOXY_1_eCHO_0_eKETO_0_iOH_0_iEPOXY_1_ieEPOXY_3_0/49', '../GNN_XAS_Node/raw_data/OPT_output/cir_R_eOH_0_eCOOH__0_eEPOXY_1_eCHO_0_eKETO_0_iOH_0_iEPOXY_1_ieEPOXY_3_0/19', '../GNN_XAS_Node/raw_data/OPT_output/cir_R_eOH_0_eCOOH__0_eEPOXY_1_eCHO_0_eKETO_0_iOH_0_iEPOXY_1_ieEPOXY_3_0/14', '../GNN_XAS_Node/raw_data/OPT_output/cir_R_eOH_0_eCOOH__0_eEPOXY_1_eCHO_0_eKETO_0_iOH_0_iEPOXY_1_ieEPOXY_3_0/17', '../GNN_XAS_Node/raw_data/OPT_output/cir_R_eOH_0_eCOOH__0_eEPOXY_1_eCHO_0_eKETO_0_iOH_0_iEPOXY_1_ieEPOXY_3_0/33', '../GNN_XAS_Node/raw_data/OPT_output/cir_R_eOH_0_eCOOH__0_eEPOXY_1_eCHO_0_eKETO_0_iOH_0_iEPOXY_1_ieEPOXY_3_0/5', '../GNN_XAS_Node/raw_data/OPT_output/cir_R_eOH_0_eCOOH__0_eEPOXY_1_eCHO_0_eKETO_0_iOH_0_iEPOXY_1_ieEPOXY_3_0/36', '../GNN_XAS_Node/raw_data/OPT_output/cir_R_eOH_0_eCOOH__0_eEPOXY_1_eCHO_0_eKETO_0_iOH_0_iEPOXY_1_ieEPOXY_3_0/31', '../GNN_XAS_Node/raw_data/OPT_output/cir_R_eOH_0_eCOOH__0_eEPOXY_1_eCHO_0_eKETO_0_iOH_0_iEPOXY_1_ieEPOXY_3_0/39', '../GNN_XAS_Node/raw_data/OPT_output/cir_R_eOH_0_eCOOH__0_eEPOXY_1_eCHO_0_eKETO_0_iOH_0_iEPOXY_1_ieEPOXY_3_0/55', '../GNN_XAS_Node/raw_data/OPT_output/cir_R_eOH_0_eCOOH__0_eEPOXY_1_eCHO_0_eKETO_0_iOH_0_iEPOXY_1_ieEPOXY_3_0/50', '../GNN_XAS_Node/raw_data/OPT_output/cir_R_eOH_0_eCOOH__0_eEPOXY_1_eCHO_0_eKETO_0_iOH_0_iEPOXY_1_ieEPOXY_3_0/23', '../GNN_XAS_Node/raw_data/OPT_output/cir_R_eOH_0_eCOOH__0_eEPOXY_1_eCHO_0_eKETO_0_iOH_0_iEPOXY_1_ieEPOXY_3_0/4', '../GNN_XAS_Node/raw_data/OPT_output/cir_R_eOH_0_eCOOH__0_eEPOXY_1_eCHO_0_eKETO_0_iOH_0_iEPOXY_1_ieEPOXY_3_0/26', '../GNN_XAS_Node/raw_data/OPT_output/cir_R_eOH_0_eCOOH__0_eEPOXY_1_eCHO_0_eKETO_0_iOH_0_iEPOXY_1_ieEPOXY_3_0/29', '../GNN_XAS_Node/raw_data/OPT_output/cir_R_eOH_0_eCOOH__0_eEPOXY_1_eCHO_0_eKETO_0_iOH_0_iEPOXY_1_ieEPOXY_3_0/45', '../GNN_XAS_Node/raw_data/OPT_output/cir_R_eOH_0_eCOOH__0_eEPOXY_1_eCHO_0_eKETO_0_iOH_0_iEPOXY_1_ieEPOXY_3_0/40', '../GNN_XAS_Node/raw_data/OPT_output/cir_R_eOH_0_eCOOH__0_eEPOXY_1_eCHO_0_eKETO_0_iOH_0_iEPOXY_1_ieEPOXY_3_0/48', '../GNN_XAS_Node/raw_data/OPT_output/cir_R_eOH_0_eCOOH__0_eEPOXY_1_eCHO_0_eKETO_0_iOH_0_iEPOXY_1_ieEPOXY_3_0/13', '../GNN_XAS_Node/raw_data/OPT_output/cir_R_eOH_0_eCOOH__0_eEPOXY_1_eCHO_0_eKETO_0_iOH_0_iEPOXY_1_ieEPOXY_3_0/16', '../GNN_XAS_Node/raw_data/OPT_output/cir_R_eOH_0_eCOOH__0_eEPOXY_1_eCHO_0_eKETO_0_iOH_0_iEPOXY_1_ieEPOXY_3_0/32', '../GNN_XAS_Node/raw_data/OPT_output/cir_R_eOH_0_eCOOH__0_eEPOXY_1_eCHO_0_eKETO_0_iOH_0_iEPOXY_1_ieEPOXY_3_0/35', '../GNN_XAS_Node/raw_data/OPT_output/cir_R_eOH_0_eCOOH__0_eEPOXY_1_eCHO_0_eKETO_0_iOH_0_iEPOXY_1_ieEPOXY_3_0/30', '../GNN_XAS_Node/raw_data/OPT_output/cir_R_eOH_0_eCOOH__0_eEPOXY_1_eCHO_0_eKETO_0_iOH_0_iEPOXY_1_ieEPOXY_3_0/38', '../GNN_XAS_Node/raw_data/OPT_output/cir_R_eOH_0_eCOOH__0_eEPOXY_1_eCHO_0_eKETO_0_iOH_0_iEPOXY_1_ieEPOXY_3_0/54', '../GNN_XAS_Node/raw_data/OPT_output/cir_R_eOH_0_eCOOH__0_eEPOXY_1_eCHO_0_eKETO_0_iOH_0_iEPOXY_1_ieEPOXY_3_0/57', '../GNN_XAS_Node/raw_data/OPT_output/cir_R_eOH_0_eCOOH__0_eEPOXY_1_eCHO_0_eKETO_0_iOH_0_iEPOXY_1_ieEPOXY_3_0/52', '../GNN_XAS_Node/raw_data/OPT_output/cir_R_eOH_0_eCOOH__0_eEPOXY_1_eCHO_0_eKETO_0_iOH_0_iEPOXY_1_ieEPOXY_3_0/22', '../GNN_XAS_Node/raw_data/OPT_output/cir_R_eOH_0_eCOOH__0_eEPOXY_1_eCHO_0_eKETO_0_iOH_0_iEPOXY_1_ieEPOXY_3_0/25', '../GNN_XAS_Node/raw_data/OPT_output/cir_R_eOH_0_eCOOH__0_eEPOXY_1_eCHO_0_eKETO_0_iOH_0_iEPOXY_1_ieEPOXY_3_0/20', '../GNN_XAS_Node/raw_data/OPT_output/cir_R_eOH_0_eCOOH__0_eEPOXY_1_eCHO_0_eKETO_0_iOH_0_iEPOXY_1_ieEPOXY_3_0/9', '../GNN_XAS_Node/raw_data/OPT_output/cir_R_eOH_0_eCOOH__0_eEPOXY_1_eCHO_0_eKETO_0_iOH_0_iEPOXY_1_ieEPOXY_3_0/28', '../GNN_XAS_Node/raw_data/OPT_output/cir_R_eOH_0_eCOOH__0_eEPOXY_1_eCHO_0_eKETO_0_iOH_0_iEPOXY_1_ieEPOXY_3_0/44', '../GNN_XAS_Node/raw_data/OPT_output/cir_R_eOH_0_eCOOH__0_eEPOXY_1_eCHO_0_eKETO_0_iOH_0_iEPOXY_1_ieEPOXY_3_0/47', '../GNN_XAS_Node/raw_data/OPT_output/cir_R_eOH_0_eCOOH__0_eEPOXY_1_eCHO_0_eKETO_0_iOH_0_iEPOXY_1_ieEPOXY_3_0/42', '../GNN_XAS_Node/raw_data/OPT_output/cir_R_eOH_0_eCOOH__0_eEPOXY_1_eCHO_0_eKETO_0_iOH_0_iEPOXY_1_ieEPOXY_3_0/12', '../GNN_XAS_Node/raw_data/OPT_output/cir_R_eOH_0_eCOOH__0_eEPOXY_1_eCHO_0_eKETO_0_iOH_0_iEPOXY_1_ieEPOXY_3_0/15', '../GNN_XAS_Node/raw_data/OPT_output/cir_R_eOH_0_eCOOH__0_eEPOXY_1_eCHO_0_eKETO_0_iOH_0_iEPOXY_1_ieEPOXY_3_0/10', '../GNN_XAS_Node/raw_data/OPT_output/cir_R_eOH_0_eCOOH__0_eEPOXY_1_eCHO_0_eKETO_0_iOH_0_iEPOXY_1_ieEPOXY_3_0/8', '../GNN_XAS_Node/raw_data/OPT_output/cir_R_eOH_0_eCOOH__0_eEPOXY_1_eCHO_0_eKETO_0_iOH_0_iEPOXY_1_ieEPOXY_3_0/18']\n"
     ]
    }
   ],
   "source": [
    "print(loc_dirs)"
   ]
  },
  {
   "cell_type": "code",
   "execution_count": 31,
   "metadata": {},
   "outputs": [
    {
     "name": "stdout",
     "output_type": "stream",
     "text": [
      "['34', '37', '53', '7', '56', '51', '21', '24', '27', '43', '6', '46', '41', '11', '49', '19', '14', '17', '33', '5', '36', '31', '39', '55', '50', '23', '4', '26', '29', '45', '40', '48', '13', '16', '32', '35', '30', '38', '54', '57', '52', '22', '25', '20', '9', '28', '44', '47', '42', '12', '15', '10', '8', '18']\n",
      "['4', '5', '6', '7', '8', '9', '10', '11', '12', '13', '14', '15', '16', '17', '18', '19', '20', '21', '22', '23', '24', '25', '26', '27', '28', '29', '30', '31', '32', '33', '34', '35', '36', '37', '38', '39', '40', '41', '42', '43', '44', '45', '46', '47', '48', '49', '50', '51', '52', '53', '54', '55', '56', '57']\n"
     ]
    }
   ],
   "source": [
    "sort_names = natsorted(loc_names)\n",
    "\n",
    "print(loc_names)\n",
    "print(sort_names)"
   ]
  },
  {
   "cell_type": "code",
   "execution_count": 32,
   "metadata": {},
   "outputs": [
    {
     "name": "stdout",
     "output_type": "stream",
     "text": [
      "['34', '37', '53', '7', '56', '51', '21', '24', '27', '43', '6', '46', '41', '11', '49', '19', '14', '17', '33', '5', '36', '31', '39', '55', '50', '23', '4', '26', '29', '45', '40', '48', '13', '16', '32', '35', '30', '38', '54', '57', '52', '22', '25', '20', '9', '28', '44', '47', '42', '12', '15', '10', '8', '18']\n",
      "['4', '5', '6', '7', '8', '9', '10', '11', '12', '13', '14', '15', '16', '17', '18', '19', '20', '21', '22', '23', '24', '25', '26', '27', '28', '29', '30', '31', '32', '33', '34', '35', '36', '37', '38', '39', '40', '41', '42', '43', '44', '45', '46', '47', '48', '49', '50', '51', '52', '53', '54', '55', '56', '57']\n"
     ]
    }
   ],
   "source": [
    "sort_dirs = natsorted(name_dirs)\n",
    "\n",
    "print(name_dirs)\n",
    "print(sort_dirs)"
   ]
  },
  {
   "cell_type": "code",
   "execution_count": 30,
   "metadata": {},
   "outputs": [
    {
     "name": "stdout",
     "output_type": "stream",
     "text": [
      "['34', '37', '53', '7', '56', '51', '21', '24', '27', '43', '6', '46', '41', '11', '49', '19', '14', '17', '33', '5', '36', '31', '39', '55', '50', '23', '4', '26', '29', '45', '40', '48', '13', '16', '32', '35', '30', '38', '54', '57', '52', '22', '25', '20', '9', '28', '44', '47', '42', '12', '15', '10', '8', '18']\n"
     ]
    }
   ],
   "source": [
    "print(name_dirs)"
   ]
  },
  {
   "cell_type": "code",
   "execution_count": 38,
   "metadata": {},
   "outputs": [
    {
     "name": "stdout",
     "output_type": "stream",
     "text": [
      "[0, 1, 2, 3, 4, 5, 6, 7, 8, 9, 10, 11, 12, 13, 14, 15, 16, 17, 18, 19, 20, 21, 22, 23, 24, 25, 26, 27, 28, 29, 30, 31, 32, 33, 34, 35, 36, 37, 38, 39, 40, 41, 42, 43, 44, 45, 46, 47, 48, 49, 50, 51, 52, 53]\n"
     ]
    }
   ],
   "source": [
    "new_id = list(range(0, len(name_dirs)))\n",
    "print(new_id)"
   ]
  },
  {
   "cell_type": "code",
   "execution_count": 39,
   "metadata": {},
   "outputs": [
    {
     "name": "stdout",
     "output_type": "stream",
     "text": [
      "34\n",
      "37\n",
      "53\n",
      "7\n",
      "56\n",
      "51\n",
      "21\n",
      "24\n",
      "27\n",
      "43\n",
      "6\n",
      "46\n",
      "41\n",
      "11\n",
      "49\n",
      "19\n",
      "14\n",
      "17\n",
      "33\n",
      "5\n",
      "36\n",
      "31\n",
      "39\n",
      "55\n",
      "50\n",
      "23\n",
      "4\n",
      "26\n",
      "29\n",
      "45\n",
      "40\n",
      "48\n",
      "13\n",
      "16\n",
      "32\n",
      "35\n",
      "30\n",
      "38\n",
      "54\n",
      "57\n",
      "52\n",
      "22\n",
      "25\n",
      "20\n",
      "9\n",
      "28\n",
      "44\n",
      "47\n",
      "42\n",
      "12\n",
      "15\n",
      "10\n",
      "8\n",
      "18\n"
     ]
    }
   ],
   "source": [
    " for i in range(len(loc_dirs)):\n",
    "        loc_dir = loc_dirs[i]\n",
    "    \n",
    "        loc_files = [f for f in os.listdir(loc_dir) if os.path.isfile(os.path.join(loc_dir, f))]\n",
    "        dict_ind = str(int(loc_names[i]))\n",
    "        print(dict_ind)"
   ]
  },
  {
   "cell_type": "code",
   "execution_count": 21,
   "metadata": {},
   "outputs": [
    {
     "name": "stdout",
     "output_type": "stream",
     "text": [
      "18\n"
     ]
    }
   ],
   "source": [
    "print(dict_ind)"
   ]
  },
  {
   "cell_type": "code",
   "execution_count": 28,
   "metadata": {},
   "outputs": [
    {
     "name": "stdout",
     "output_type": "stream",
     "text": [
      "['../GNN_XAS_Node/raw_data/OPT_output/cir_R_eOH_0_eCOOH__0_eEPOXY_1_eCHO_0_eKETO_0_iOH_0_iEPOXY_1_ieEPOXY_3_0/4', '../GNN_XAS_Node/raw_data/OPT_output/cir_R_eOH_0_eCOOH__0_eEPOXY_1_eCHO_0_eKETO_0_iOH_0_iEPOXY_1_ieEPOXY_3_0/5', '../GNN_XAS_Node/raw_data/OPT_output/cir_R_eOH_0_eCOOH__0_eEPOXY_1_eCHO_0_eKETO_0_iOH_0_iEPOXY_1_ieEPOXY_3_0/6', '../GNN_XAS_Node/raw_data/OPT_output/cir_R_eOH_0_eCOOH__0_eEPOXY_1_eCHO_0_eKETO_0_iOH_0_iEPOXY_1_ieEPOXY_3_0/7', '../GNN_XAS_Node/raw_data/OPT_output/cir_R_eOH_0_eCOOH__0_eEPOXY_1_eCHO_0_eKETO_0_iOH_0_iEPOXY_1_ieEPOXY_3_0/8', '../GNN_XAS_Node/raw_data/OPT_output/cir_R_eOH_0_eCOOH__0_eEPOXY_1_eCHO_0_eKETO_0_iOH_0_iEPOXY_1_ieEPOXY_3_0/9', '../GNN_XAS_Node/raw_data/OPT_output/cir_R_eOH_0_eCOOH__0_eEPOXY_1_eCHO_0_eKETO_0_iOH_0_iEPOXY_1_ieEPOXY_3_0/10', '../GNN_XAS_Node/raw_data/OPT_output/cir_R_eOH_0_eCOOH__0_eEPOXY_1_eCHO_0_eKETO_0_iOH_0_iEPOXY_1_ieEPOXY_3_0/11', '../GNN_XAS_Node/raw_data/OPT_output/cir_R_eOH_0_eCOOH__0_eEPOXY_1_eCHO_0_eKETO_0_iOH_0_iEPOXY_1_ieEPOXY_3_0/12', '../GNN_XAS_Node/raw_data/OPT_output/cir_R_eOH_0_eCOOH__0_eEPOXY_1_eCHO_0_eKETO_0_iOH_0_iEPOXY_1_ieEPOXY_3_0/13', '../GNN_XAS_Node/raw_data/OPT_output/cir_R_eOH_0_eCOOH__0_eEPOXY_1_eCHO_0_eKETO_0_iOH_0_iEPOXY_1_ieEPOXY_3_0/14', '../GNN_XAS_Node/raw_data/OPT_output/cir_R_eOH_0_eCOOH__0_eEPOXY_1_eCHO_0_eKETO_0_iOH_0_iEPOXY_1_ieEPOXY_3_0/15', '../GNN_XAS_Node/raw_data/OPT_output/cir_R_eOH_0_eCOOH__0_eEPOXY_1_eCHO_0_eKETO_0_iOH_0_iEPOXY_1_ieEPOXY_3_0/16', '../GNN_XAS_Node/raw_data/OPT_output/cir_R_eOH_0_eCOOH__0_eEPOXY_1_eCHO_0_eKETO_0_iOH_0_iEPOXY_1_ieEPOXY_3_0/17', '../GNN_XAS_Node/raw_data/OPT_output/cir_R_eOH_0_eCOOH__0_eEPOXY_1_eCHO_0_eKETO_0_iOH_0_iEPOXY_1_ieEPOXY_3_0/18', '../GNN_XAS_Node/raw_data/OPT_output/cir_R_eOH_0_eCOOH__0_eEPOXY_1_eCHO_0_eKETO_0_iOH_0_iEPOXY_1_ieEPOXY_3_0/19', '../GNN_XAS_Node/raw_data/OPT_output/cir_R_eOH_0_eCOOH__0_eEPOXY_1_eCHO_0_eKETO_0_iOH_0_iEPOXY_1_ieEPOXY_3_0/20', '../GNN_XAS_Node/raw_data/OPT_output/cir_R_eOH_0_eCOOH__0_eEPOXY_1_eCHO_0_eKETO_0_iOH_0_iEPOXY_1_ieEPOXY_3_0/21', '../GNN_XAS_Node/raw_data/OPT_output/cir_R_eOH_0_eCOOH__0_eEPOXY_1_eCHO_0_eKETO_0_iOH_0_iEPOXY_1_ieEPOXY_3_0/22', '../GNN_XAS_Node/raw_data/OPT_output/cir_R_eOH_0_eCOOH__0_eEPOXY_1_eCHO_0_eKETO_0_iOH_0_iEPOXY_1_ieEPOXY_3_0/23', '../GNN_XAS_Node/raw_data/OPT_output/cir_R_eOH_0_eCOOH__0_eEPOXY_1_eCHO_0_eKETO_0_iOH_0_iEPOXY_1_ieEPOXY_3_0/24', '../GNN_XAS_Node/raw_data/OPT_output/cir_R_eOH_0_eCOOH__0_eEPOXY_1_eCHO_0_eKETO_0_iOH_0_iEPOXY_1_ieEPOXY_3_0/25', '../GNN_XAS_Node/raw_data/OPT_output/cir_R_eOH_0_eCOOH__0_eEPOXY_1_eCHO_0_eKETO_0_iOH_0_iEPOXY_1_ieEPOXY_3_0/26', '../GNN_XAS_Node/raw_data/OPT_output/cir_R_eOH_0_eCOOH__0_eEPOXY_1_eCHO_0_eKETO_0_iOH_0_iEPOXY_1_ieEPOXY_3_0/27', '../GNN_XAS_Node/raw_data/OPT_output/cir_R_eOH_0_eCOOH__0_eEPOXY_1_eCHO_0_eKETO_0_iOH_0_iEPOXY_1_ieEPOXY_3_0/28', '../GNN_XAS_Node/raw_data/OPT_output/cir_R_eOH_0_eCOOH__0_eEPOXY_1_eCHO_0_eKETO_0_iOH_0_iEPOXY_1_ieEPOXY_3_0/29', '../GNN_XAS_Node/raw_data/OPT_output/cir_R_eOH_0_eCOOH__0_eEPOXY_1_eCHO_0_eKETO_0_iOH_0_iEPOXY_1_ieEPOXY_3_0/30', '../GNN_XAS_Node/raw_data/OPT_output/cir_R_eOH_0_eCOOH__0_eEPOXY_1_eCHO_0_eKETO_0_iOH_0_iEPOXY_1_ieEPOXY_3_0/31', '../GNN_XAS_Node/raw_data/OPT_output/cir_R_eOH_0_eCOOH__0_eEPOXY_1_eCHO_0_eKETO_0_iOH_0_iEPOXY_1_ieEPOXY_3_0/32', '../GNN_XAS_Node/raw_data/OPT_output/cir_R_eOH_0_eCOOH__0_eEPOXY_1_eCHO_0_eKETO_0_iOH_0_iEPOXY_1_ieEPOXY_3_0/33', '../GNN_XAS_Node/raw_data/OPT_output/cir_R_eOH_0_eCOOH__0_eEPOXY_1_eCHO_0_eKETO_0_iOH_0_iEPOXY_1_ieEPOXY_3_0/34', '../GNN_XAS_Node/raw_data/OPT_output/cir_R_eOH_0_eCOOH__0_eEPOXY_1_eCHO_0_eKETO_0_iOH_0_iEPOXY_1_ieEPOXY_3_0/35', '../GNN_XAS_Node/raw_data/OPT_output/cir_R_eOH_0_eCOOH__0_eEPOXY_1_eCHO_0_eKETO_0_iOH_0_iEPOXY_1_ieEPOXY_3_0/36', '../GNN_XAS_Node/raw_data/OPT_output/cir_R_eOH_0_eCOOH__0_eEPOXY_1_eCHO_0_eKETO_0_iOH_0_iEPOXY_1_ieEPOXY_3_0/37', '../GNN_XAS_Node/raw_data/OPT_output/cir_R_eOH_0_eCOOH__0_eEPOXY_1_eCHO_0_eKETO_0_iOH_0_iEPOXY_1_ieEPOXY_3_0/38', '../GNN_XAS_Node/raw_data/OPT_output/cir_R_eOH_0_eCOOH__0_eEPOXY_1_eCHO_0_eKETO_0_iOH_0_iEPOXY_1_ieEPOXY_3_0/39', '../GNN_XAS_Node/raw_data/OPT_output/cir_R_eOH_0_eCOOH__0_eEPOXY_1_eCHO_0_eKETO_0_iOH_0_iEPOXY_1_ieEPOXY_3_0/40', '../GNN_XAS_Node/raw_data/OPT_output/cir_R_eOH_0_eCOOH__0_eEPOXY_1_eCHO_0_eKETO_0_iOH_0_iEPOXY_1_ieEPOXY_3_0/41', '../GNN_XAS_Node/raw_data/OPT_output/cir_R_eOH_0_eCOOH__0_eEPOXY_1_eCHO_0_eKETO_0_iOH_0_iEPOXY_1_ieEPOXY_3_0/42', '../GNN_XAS_Node/raw_data/OPT_output/cir_R_eOH_0_eCOOH__0_eEPOXY_1_eCHO_0_eKETO_0_iOH_0_iEPOXY_1_ieEPOXY_3_0/43', '../GNN_XAS_Node/raw_data/OPT_output/cir_R_eOH_0_eCOOH__0_eEPOXY_1_eCHO_0_eKETO_0_iOH_0_iEPOXY_1_ieEPOXY_3_0/44', '../GNN_XAS_Node/raw_data/OPT_output/cir_R_eOH_0_eCOOH__0_eEPOXY_1_eCHO_0_eKETO_0_iOH_0_iEPOXY_1_ieEPOXY_3_0/45', '../GNN_XAS_Node/raw_data/OPT_output/cir_R_eOH_0_eCOOH__0_eEPOXY_1_eCHO_0_eKETO_0_iOH_0_iEPOXY_1_ieEPOXY_3_0/46', '../GNN_XAS_Node/raw_data/OPT_output/cir_R_eOH_0_eCOOH__0_eEPOXY_1_eCHO_0_eKETO_0_iOH_0_iEPOXY_1_ieEPOXY_3_0/47', '../GNN_XAS_Node/raw_data/OPT_output/cir_R_eOH_0_eCOOH__0_eEPOXY_1_eCHO_0_eKETO_0_iOH_0_iEPOXY_1_ieEPOXY_3_0/48', '../GNN_XAS_Node/raw_data/OPT_output/cir_R_eOH_0_eCOOH__0_eEPOXY_1_eCHO_0_eKETO_0_iOH_0_iEPOXY_1_ieEPOXY_3_0/49', '../GNN_XAS_Node/raw_data/OPT_output/cir_R_eOH_0_eCOOH__0_eEPOXY_1_eCHO_0_eKETO_0_iOH_0_iEPOXY_1_ieEPOXY_3_0/50', '../GNN_XAS_Node/raw_data/OPT_output/cir_R_eOH_0_eCOOH__0_eEPOXY_1_eCHO_0_eKETO_0_iOH_0_iEPOXY_1_ieEPOXY_3_0/51', '../GNN_XAS_Node/raw_data/OPT_output/cir_R_eOH_0_eCOOH__0_eEPOXY_1_eCHO_0_eKETO_0_iOH_0_iEPOXY_1_ieEPOXY_3_0/52', '../GNN_XAS_Node/raw_data/OPT_output/cir_R_eOH_0_eCOOH__0_eEPOXY_1_eCHO_0_eKETO_0_iOH_0_iEPOXY_1_ieEPOXY_3_0/53', '../GNN_XAS_Node/raw_data/OPT_output/cir_R_eOH_0_eCOOH__0_eEPOXY_1_eCHO_0_eKETO_0_iOH_0_iEPOXY_1_ieEPOXY_3_0/54', '../GNN_XAS_Node/raw_data/OPT_output/cir_R_eOH_0_eCOOH__0_eEPOXY_1_eCHO_0_eKETO_0_iOH_0_iEPOXY_1_ieEPOXY_3_0/55', '../GNN_XAS_Node/raw_data/OPT_output/cir_R_eOH_0_eCOOH__0_eEPOXY_1_eCHO_0_eKETO_0_iOH_0_iEPOXY_1_ieEPOXY_3_0/56', '../GNN_XAS_Node/raw_data/OPT_output/cir_R_eOH_0_eCOOH__0_eEPOXY_1_eCHO_0_eKETO_0_iOH_0_iEPOXY_1_ieEPOXY_3_0/57']\n"
     ]
    }
   ],
   "source": [
    "from natsort import natsorted\n",
    "\n",
    "print(natsorted(loc_dirs))"
   ]
  },
  {
   "cell_type": "code",
   "execution_count": null,
   "metadata": {},
   "outputs": [],
   "source": []
  }
 ],
 "metadata": {
  "kernelspec": {
   "display_name": "go_gnn",
   "language": "python",
   "name": "python3"
  },
  "language_info": {
   "codemirror_mode": {
    "name": "ipython",
    "version": 3
   },
   "file_extension": ".py",
   "mimetype": "text/x-python",
   "name": "python",
   "nbconvert_exporter": "python",
   "pygments_lexer": "ipython3",
   "version": "3.10.13"
  },
  "orig_nbformat": 4
 },
 "nbformat": 4,
 "nbformat_minor": 2
}
