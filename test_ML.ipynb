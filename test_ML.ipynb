{
 "cells": [
  {
   "attachments": {},
   "cell_type": "markdown",
   "metadata": {},
   "source": [
    "### Acetic Acid Test"
   ]
  },
  {
   "cell_type": "code",
   "execution_count": 1,
   "metadata": {},
   "outputs": [
    {
     "data": {
      "image/png": "[encoded data removed]",
      "text/plain": [
       "<rdkit.Chem.rdchem.Mol at 0x7f3a8f194b80>"
      ]
     },
     "execution_count": 1,
     "metadata": {},
     "output_type": "execute_result"
    }
   ],
   "source": [
    "from rdkit import Chem\n",
    "\n",
    "# Create test molecule of acetic acid\n",
    "acetic_acid = 'CC(O)=O'\n",
    "\n",
    "temp = Chem.MolFromSmiles(acetic_acid)\n",
    "mol = Chem.AddHs(temp)\n",
    "mol"
   ]
  },
  {
   "cell_type": "code",
   "execution_count": 2,
   "metadata": {},
   "outputs": [],
   "source": [
    "# Define the node and edge features to be used\n",
    "ATOM_FEATURES = {\n",
    "    'atomic_num': [1, 6, 8]\n",
    "}\n",
    "ATOM_FDIM = sum(len(choices) for choices in ATOM_FEATURES)\n",
    "\n",
    "BOND_FDIM = 4"
   ]
  },
  {
   "cell_type": "code",
   "execution_count": 3,
   "metadata": {},
   "outputs": [],
   "source": [
    "from typing import List, Union\n",
    "\n",
    "# Functions to get node and edge features\n",
    "def get_OneHotEncoding(value: int, choices: List[int]) -> List[int]:\n",
    "    encoding = [0] * (len(choices))\n",
    "    index = choices.index(value)\n",
    "    encoding[index] = 1\n",
    "\n",
    "    return encoding\n",
    "\n",
    "def get_atom_features(atom: Chem.rdchem.Atom, functional_groups: List[int] = None) -> List[Union[bool, int, float]]:\n",
    "    if atom is None:\n",
    "        features = [0] * ATOM_FDIM\n",
    "    else:\n",
    "        features = get_OneHotEncoding(atom.GetAtomicNum(), ATOM_FEATURES['atomic_num'])\n",
    "    \n",
    "    return features\n",
    "\n",
    "def get_bond_features(bond: Chem.rdchem.Bond) -> List[Union[bool, int, float]]:\n",
    "    if bond is None:\n",
    "        fbond = [1] + [0] * (BOND_FDIM - 1)\n",
    "    else:\n",
    "        bt = bond.GetBondType()\n",
    "        fbond = [0,\n",
    "                 int(bt == Chem.rdchem.BondType.SINGLE),\n",
    "                 int(bt == Chem.rdchem.BondType.DOUBLE),\n",
    "                 int(bt == Chem.rdchem.BondType.AROMATIC),\n",
    "                 int(bond.GetIsConjugated() if bt is not None else 0),\n",
    "                 int(bond.IsInRing() if bt is not None else 0)\n",
    "                 ]\n",
    "\n",
    "    return fbond    "
   ]
  },
  {
   "cell_type": "code",
   "execution_count": 4,
   "metadata": {},
   "outputs": [
    {
     "name": "stderr",
     "output_type": "stream",
     "text": [
      "/home/a3782/anaconda3/envs/go_gnn/lib/python3.10/site-packages/tqdm/auto.py:21: TqdmWarning: IProgress not found. Please update jupyter and ipywidgets. See https://ipywidgets.readthedocs.io/en/stable/user_install.html\n",
      "  from .autonotebook import tqdm as notebook_tqdm\n"
     ]
    }
   ],
   "source": [
    "import networkx as nx\n",
    "from torch_geometric.utils.convert import from_networkx\n",
    "\n",
    "# Create graph for acetic acid\n",
    "G = nx.Graph()\n",
    "\n",
    "# Create feature vectors\n",
    "for atom in mol.GetAtoms():\n",
    "    G.add_node(atom.GetIdx(), x=get_atom_features(atom))\n",
    "\n",
    "for bond in mol.GetBonds():\n",
    "    G.add_edge(bond.GetBeginAtomIdx(), bond.GetEndAtomIdx(),\n",
    "    edge_attrs=get_bond_features(bond))\n",
    "\n",
    "pyg_graph = from_networkx(G)\n"
   ]
  },
  {
   "cell_type": "code",
   "execution_count": 5,
   "metadata": {},
   "outputs": [
    {
     "data": {
      "image/png": "[encoded data removed]",
      "text/plain": [
       "<Figure size 300x300 with 1 Axes>"
      ]
     },
     "metadata": {},
     "output_type": "display_data"
    }
   ],
   "source": [
    "%matplotlib inline\n",
    "import matplotlib.pyplot as plt\n",
    "\n",
    "# Plot the graph\n",
    "plt.figure(figsize=(3,3))\n",
    "\n",
    "nx.draw(G, with_labels=True)\n",
    "\n",
    "plt.show()"
   ]
  },
  {
   "cell_type": "code",
   "execution_count": 6,
   "metadata": {},
   "outputs": [
    {
     "name": "stdout",
     "output_type": "stream",
     "text": [
      "Data(x=[8, 3], edge_index=[2, 14], edge_attrs=[14, 6])\n",
      "---\n",
      "tensor([[0, 1, 0],\n",
      "        [0, 1, 0],\n",
      "        [0, 0, 1],\n",
      "        [0, 0, 1],\n",
      "        [1, 0, 0],\n",
      "        [1, 0, 0],\n",
      "        [1, 0, 0],\n",
      "        [1, 0, 0]])\n",
      "---\n",
      "tensor([[0, 0, 0, 0, 1, 1, 1, 2, 2, 3, 4, 5, 6, 7],\n",
      "        [1, 4, 5, 6, 0, 2, 3, 1, 7, 1, 0, 0, 0, 2]])\n",
      "---\n",
      "<bound method BaseData.edge_attrs of Data(x=[8, 3], edge_index=[2, 14], edge_attrs=[14, 6])>\n"
     ]
    }
   ],
   "source": [
    "# Print graph details\n",
    "print(pyg_graph)\n",
    "print('---')\n",
    "print(pyg_graph.x)\n",
    "print('---')\n",
    "print(pyg_graph.edge_index)\n",
    "print('---')\n",
    "print(pyg_graph.edge_attrs)"
   ]
  },
  {
   "cell_type": "code",
   "execution_count": 7,
   "metadata": {},
   "outputs": [],
   "source": [
    "from torch_geometric.nn import GCNConv\n",
    "\n",
    "# Set up GCN layer\n",
    "conv1 = GCNConv(3, 3)\n",
    "# Ready data for GCN\n",
    "x = pyg_graph.x.float()\n",
    "edge_index = pyg_graph.edge_index\n",
    "edge_attrs = pyg_graph.edge_attrs"
   ]
  },
  {
   "cell_type": "code",
   "execution_count": 8,
   "metadata": {},
   "outputs": [
    {
     "name": "stdout",
     "output_type": "stream",
     "text": [
      "tensor([[-0.2757,  0.5450, -0.7764],\n",
      "        [-0.4016, -0.9790, -0.8574],\n",
      "        [-0.3111, -0.1622, -0.7048],\n",
      "        [-0.3109, -0.7500, -0.6594],\n",
      "        [-0.1559,  0.2129, -0.4587],\n",
      "        [-0.1559,  0.2129, -0.4587],\n",
      "        [-0.1559,  0.2129, -0.4587],\n",
      "        [-0.3407,  0.0839, -0.6749]], grad_fn=<AddBackward0>)\n"
     ]
    }
   ],
   "source": [
    "# Pass data through GCN layer\n",
    "out = conv1(x, edge_index)\n",
    "print(out)\n"
   ]
  },
  {
   "cell_type": "code",
   "execution_count": 9,
   "metadata": {},
   "outputs": [
    {
     "name": "stdout",
     "output_type": "stream",
     "text": [
      "tensor([[0.0000, 0.5450, 0.0000],\n",
      "        [0.0000, 0.0000, 0.0000],\n",
      "        [0.0000, 0.0000, 0.0000],\n",
      "        [0.0000, 0.0000, 0.0000],\n",
      "        [0.0000, 0.2129, 0.0000],\n",
      "        [0.0000, 0.2129, 0.0000],\n",
      "        [0.0000, 0.2129, 0.0000],\n",
      "        [0.0000, 0.0839, 0.0000]], grad_fn=<ReluBackward0>)\n"
     ]
    }
   ],
   "source": [
    "import torch.nn.functional as F\n",
    "\n",
    "# Pass through ReLU\n",
    "out = F.relu(out)\n",
    "print(out)"
   ]
  },
  {
   "cell_type": "code",
   "execution_count": 10,
   "metadata": {},
   "outputs": [],
   "source": [
    "import torch.nn as nn\n",
    "\n",
    "BN = nn.BatchNorm1d(3)"
   ]
  },
  {
   "cell_type": "code",
   "execution_count": 11,
   "metadata": {},
   "outputs": [
    {
     "name": "stdout",
     "output_type": "stream",
     "text": [
      "tensor([[ 0.0000,  2.2349,  0.0000],\n",
      "        [ 0.0000, -0.9162,  0.0000],\n",
      "        [ 0.0000, -0.9162,  0.0000],\n",
      "        [ 0.0000, -0.9162,  0.0000],\n",
      "        [ 0.0000,  0.3151,  0.0000],\n",
      "        [ 0.0000,  0.3151,  0.0000],\n",
      "        [ 0.0000,  0.3151,  0.0000],\n",
      "        [ 0.0000, -0.4314,  0.0000]], grad_fn=<NativeBatchNormBackward0>)\n"
     ]
    }
   ],
   "source": [
    "#  Pass through batch normalisation\n",
    "out = BN(out)\n",
    "print(out)"
   ]
  },
  {
   "attachments": {},
   "cell_type": "markdown",
   "metadata": {},
   "source": [
    "### GO Test"
   ]
  },
  {
   "cell_type": "code",
   "execution_count": 38,
   "metadata": {},
   "outputs": [],
   "source": [
    "from Dataset import XASDataset\n",
    "from icecream import ic\n",
    "\n",
    "# Path raw directory containing the data\n",
    "path = \"./\"\n",
    "# Load and create the dataset\n",
    "dataset = XASDataset(path)"
   ]
  },
  {
   "cell_type": "code",
   "execution_count": 39,
   "metadata": {},
   "outputs": [
    {
     "name": "stdout",
     "output_type": "stream",
     "text": [
      "XASDataset(319)\n",
      "------------\n",
      "Number of graphs: 319\n",
      "Number of features: 10\n",
      "Number of classes: 63482\n",
      "------------\n",
      "Data(x=[30, 10], edge_index=[2, 76], y=[200], edge_attrs=[76, 4], idx=[1], smiles='[c:0]12[c:4]3[c:8]4[c:10]5[cH:11][cH:14][c:15]6[c:13]4[c:17]4[c:19]([cH:18][cH:16]6)[cH:20][c:22]([OH:25])[c:23]([c:21]14)[CH2:24][CH:1]1[C:2]2([CH:3]=[CH:5][C:6]32[CH:7]([CH:9]5[C:12](=[O:26])[OH:27])[O:29]2)[O:28]1')\n",
      "------------\n",
      "Number of nodes: 30\n",
      "Number of edges: 76\n",
      "Average node degree: 2.53\n",
      "Has isolated nodes: False\n",
      "Has self loops: False\n",
      "Is undirected: True\n"
     ]
    }
   ],
   "source": [
    "# Show detail of the dataset\n",
    "print(dataset)\n",
    "print('------------')\n",
    "print(f'Number of graphs: {len(dataset)}')\n",
    "print(f'Number of features: {dataset.num_features}')\n",
    "print(f'Number of classes: {dataset.num_classes}')\n",
    "print('------------')\n",
    "# Show details of the first molecule/graph in dataset\n",
    "data = dataset[0]\n",
    "\n",
    "print(data)\n",
    "print('------------')\n",
    "print(f'Number of nodes: {data.num_nodes}')\n",
    "print(f'Number of edges: {data.num_edges}')\n",
    "print(f'Average node degree: {data.num_edges / data.num_nodes:.2f}')\n",
    "print(f'Has isolated nodes: {data.has_isolated_nodes()}')\n",
    "print(f'Has self loops: {data.has_self_loops()}')\n",
    "print(f'Is undirected: {data.is_undirected()}')"
   ]
  },
  {
   "cell_type": "code",
   "execution_count": 40,
   "metadata": {},
   "outputs": [],
   "source": [
    "train_dataset = dataset[0:252]\n",
    "val_dataset = dataset[252:280]\n",
    "test_dataset = dataset[280:]"
   ]
  },
  {
   "cell_type": "code",
   "execution_count": 41,
   "metadata": {},
   "outputs": [],
   "source": [
    "from torch_geometric.loader import DataLoader\n",
    "\n",
    "test_loader = DataLoader(test_dataset, batch_size=30, shuffle=False)\n",
    "val_loader = DataLoader(val_dataset, batch_size=30, shuffle=False)\n",
    "train_loader = DataLoader(train_dataset, batch_size=30, shuffle=True)"
   ]
  },
  {
   "cell_type": "code",
   "execution_count": 42,
   "metadata": {},
   "outputs": [],
   "source": [
    "import torch.nn as nn\n",
    "\n",
    "class MLP(nn.Module):\n",
    "    def __init__(self):\n",
    "        super().__init__()\n",
    "\n",
    "        self.graph_pred_linear = nn.Linear(10, 200)        \n",
    "\n",
    "    def forward(self, batched_data):\n",
    "        \n",
    "        x = batched_data.x.float()\n",
    "\n",
    "        h_list = [x]\n",
    "\n",
    "        out = self.graph_pred_linear(x)\n",
    "\n",
    "        return out\n"
   ]
  },
  {
   "cell_type": "code",
   "execution_count": 43,
   "metadata": {},
   "outputs": [
    {
     "data": {
      "text/plain": [
       "MLP(\n",
       "  (graph_pred_linear): Linear(in_features=10, out_features=200, bias=True)\n",
       ")"
      ]
     },
     "execution_count": 43,
     "metadata": {},
     "output_type": "execute_result"
    }
   ],
   "source": [
    "import torch\n",
    "\n",
    "device = torch.device(\"cuda\" if torch.cuda.is_available() else \"cpu\")\n",
    "model = MLP().to(device)\n",
    "\n",
    "model"
   ]
  },
  {
   "cell_type": "code",
   "execution_count": 44,
   "metadata": {},
   "outputs": [],
   "source": [
    "optimizer = torch.optim.Adam(model.parameters(), lr=0.01, betas=(0.9, 0.999), eps=1e-08, amsgrad=True)\n",
    "\n",
    "scheduler = torch.optim.lr_scheduler.ReduceLROnPlateau(optimizer, mode=\"min\", factor=0.5, patience=100, min_lr=0.000001)\n"
   ]
  },
  {
   "cell_type": "code",
   "execution_count": 47,
   "metadata": {},
   "outputs": [],
   "source": [
    "def train(epoch):\n",
    "    model.train()\n",
    "    loss_all = 0\n",
    "    \n",
    "    for batch in train_loader:\n",
    "\n",
    "        batch = batch.to(device)\n",
    "\n",
    "        optimizer.zero_grad()\n",
    "\n",
    "        pred = model(batch)\n",
    "        batch_size = batch.y.shape[0] // 200\n",
    "        ic(batch.y.shape)\n",
    "        batch.y = batch.y.view(batch_size, 200)\n",
    "        ic(pred.shape)\n",
    "        ic(batch.y.shape)\n",
    "        loss = nn.MSELoss()(pred.double(), batch.y.double())\n",
    "\n",
    "        loss.backward()\n",
    "\n",
    "        loss_all += loss.item() * batch.num_graphs\n",
    "        optimizer.step()\n",
    "\n",
    "    return loss_all / len(train_loader.dataset)"
   ]
  },
  {
   "cell_type": "code",
   "execution_count": 48,
   "metadata": {},
   "outputs": [
    {
     "name": "stderr",
     "output_type": "stream",
     "text": [
      "ic| batch.y.shape: torch.Size([6000])\n",
      "ic| pred.shape: torch.Size([894, 200])\n",
      "ic| batch.y.shape: torch.Size([30, 200])\n",
      "/home/a3782/anaconda3/envs/go_gnn/lib/python3.10/site-packages/torch/nn/modules/loss.py:530: UserWarning: Using a target size (torch.Size([30, 200])) that is different to the input size (torch.Size([894, 200])). This will likely lead to incorrect results due to broadcasting. Please ensure they have the same size.\n",
      "  return F.mse_loss(input, target, reduction=self.reduction)\n"
     ]
    },
    {
     "ename": "RuntimeError",
     "evalue": "The size of tensor a (894) must match the size of tensor b (30) at non-singleton dimension 0",
     "output_type": "error",
     "traceback": [
      "\u001b[0;31m---------------------------------------------------------------------------\u001b[0m",
      "\u001b[0;31mRuntimeError\u001b[0m                              Traceback (most recent call last)",
      "Cell \u001b[0;32mIn[48], line 7\u001b[0m\n\u001b[1;32m      3\u001b[0m val_losses \u001b[39m=\u001b[39m []\n\u001b[1;32m      5\u001b[0m \u001b[39mfor\u001b[39;00m epoch \u001b[39min\u001b[39;00m \u001b[39mrange\u001b[39m(\u001b[39m0\u001b[39m, \u001b[39m300\u001b[39m):\n\u001b[0;32m----> 7\u001b[0m     loss \u001b[39m=\u001b[39m train(epoch)\n\u001b[1;32m      9\u001b[0m     val_error \u001b[39m=\u001b[39m test(val_loader)\n\u001b[1;32m     10\u001b[0m     scheduler\u001b[39m.\u001b[39mstep(val_error)\n",
      "Cell \u001b[0;32mIn[47], line 17\u001b[0m, in \u001b[0;36mtrain\u001b[0;34m(epoch)\u001b[0m\n\u001b[1;32m     15\u001b[0m ic(pred\u001b[39m.\u001b[39mshape)\n\u001b[1;32m     16\u001b[0m ic(batch\u001b[39m.\u001b[39my\u001b[39m.\u001b[39mshape)\n\u001b[0;32m---> 17\u001b[0m loss \u001b[39m=\u001b[39m nn\u001b[39m.\u001b[39;49mMSELoss()(pred\u001b[39m.\u001b[39;49mdouble(), batch\u001b[39m.\u001b[39;49my\u001b[39m.\u001b[39;49mdouble())\n\u001b[1;32m     19\u001b[0m loss\u001b[39m.\u001b[39mbackward()\n\u001b[1;32m     21\u001b[0m loss_all \u001b[39m+\u001b[39m\u001b[39m=\u001b[39m loss\u001b[39m.\u001b[39mitem() \u001b[39m*\u001b[39m batch\u001b[39m.\u001b[39mnum_graphs\n",
      "File \u001b[0;32m~/anaconda3/envs/go_gnn/lib/python3.10/site-packages/torch/nn/modules/module.py:1130\u001b[0m, in \u001b[0;36mModule._call_impl\u001b[0;34m(self, *input, **kwargs)\u001b[0m\n\u001b[1;32m   1126\u001b[0m \u001b[39m# If we don't have any hooks, we want to skip the rest of the logic in\u001b[39;00m\n\u001b[1;32m   1127\u001b[0m \u001b[39m# this function, and just call forward.\u001b[39;00m\n\u001b[1;32m   1128\u001b[0m \u001b[39mif\u001b[39;00m \u001b[39mnot\u001b[39;00m (\u001b[39mself\u001b[39m\u001b[39m.\u001b[39m_backward_hooks \u001b[39mor\u001b[39;00m \u001b[39mself\u001b[39m\u001b[39m.\u001b[39m_forward_hooks \u001b[39mor\u001b[39;00m \u001b[39mself\u001b[39m\u001b[39m.\u001b[39m_forward_pre_hooks \u001b[39mor\u001b[39;00m _global_backward_hooks\n\u001b[1;32m   1129\u001b[0m         \u001b[39mor\u001b[39;00m _global_forward_hooks \u001b[39mor\u001b[39;00m _global_forward_pre_hooks):\n\u001b[0;32m-> 1130\u001b[0m     \u001b[39mreturn\u001b[39;00m forward_call(\u001b[39m*\u001b[39;49m\u001b[39minput\u001b[39;49m, \u001b[39m*\u001b[39;49m\u001b[39m*\u001b[39;49mkwargs)\n\u001b[1;32m   1131\u001b[0m \u001b[39m# Do not call functions when jit is used\u001b[39;00m\n\u001b[1;32m   1132\u001b[0m full_backward_hooks, non_full_backward_hooks \u001b[39m=\u001b[39m [], []\n",
      "File \u001b[0;32m~/anaconda3/envs/go_gnn/lib/python3.10/site-packages/torch/nn/modules/loss.py:530\u001b[0m, in \u001b[0;36mMSELoss.forward\u001b[0;34m(self, input, target)\u001b[0m\n\u001b[1;32m    529\u001b[0m \u001b[39mdef\u001b[39;00m \u001b[39mforward\u001b[39m(\u001b[39mself\u001b[39m, \u001b[39minput\u001b[39m: Tensor, target: Tensor) \u001b[39m-\u001b[39m\u001b[39m>\u001b[39m Tensor:\n\u001b[0;32m--> 530\u001b[0m     \u001b[39mreturn\u001b[39;00m F\u001b[39m.\u001b[39;49mmse_loss(\u001b[39minput\u001b[39;49m, target, reduction\u001b[39m=\u001b[39;49m\u001b[39mself\u001b[39;49m\u001b[39m.\u001b[39;49mreduction)\n",
      "File \u001b[0;32m~/anaconda3/envs/go_gnn/lib/python3.10/site-packages/torch/nn/functional.py:3279\u001b[0m, in \u001b[0;36mmse_loss\u001b[0;34m(input, target, size_average, reduce, reduction)\u001b[0m\n\u001b[1;32m   3276\u001b[0m \u001b[39mif\u001b[39;00m size_average \u001b[39mis\u001b[39;00m \u001b[39mnot\u001b[39;00m \u001b[39mNone\u001b[39;00m \u001b[39mor\u001b[39;00m reduce \u001b[39mis\u001b[39;00m \u001b[39mnot\u001b[39;00m \u001b[39mNone\u001b[39;00m:\n\u001b[1;32m   3277\u001b[0m     reduction \u001b[39m=\u001b[39m _Reduction\u001b[39m.\u001b[39mlegacy_get_string(size_average, reduce)\n\u001b[0;32m-> 3279\u001b[0m expanded_input, expanded_target \u001b[39m=\u001b[39m torch\u001b[39m.\u001b[39;49mbroadcast_tensors(\u001b[39minput\u001b[39;49m, target)\n\u001b[1;32m   3280\u001b[0m \u001b[39mreturn\u001b[39;00m torch\u001b[39m.\u001b[39m_C\u001b[39m.\u001b[39m_nn\u001b[39m.\u001b[39mmse_loss(expanded_input, expanded_target, _Reduction\u001b[39m.\u001b[39mget_enum(reduction))\n",
      "File \u001b[0;32m~/anaconda3/envs/go_gnn/lib/python3.10/site-packages/torch/functional.py:73\u001b[0m, in \u001b[0;36mbroadcast_tensors\u001b[0;34m(*tensors)\u001b[0m\n\u001b[1;32m     71\u001b[0m \u001b[39mif\u001b[39;00m has_torch_function(tensors):\n\u001b[1;32m     72\u001b[0m     \u001b[39mreturn\u001b[39;00m handle_torch_function(broadcast_tensors, tensors, \u001b[39m*\u001b[39mtensors)\n\u001b[0;32m---> 73\u001b[0m \u001b[39mreturn\u001b[39;00m _VF\u001b[39m.\u001b[39;49mbroadcast_tensors(tensors)\n",
      "\u001b[0;31mRuntimeError\u001b[0m: The size of tensor a (894) must match the size of tensor b (30) at non-singleton dimension 0"
     ]
    }
   ],
   "source": [
    "best_val_error = None\n",
    "train_losses = []\n",
    "val_losses = []\n",
    "\n",
    "for epoch in range(0, 300):\n",
    "\n",
    "    loss = train(epoch)\n",
    "\n",
    "    val_error = test(val_loader)\n",
    "    scheduler.step(val_error)\n",
    "    # scheduler.step(epoch)\n",
    "    train_losses.append(loss)\n",
    "    val_losses.append(val_error)\n",
    "\n",
    "    current_lr = optimizer.param_groups[0][\"lr\"]\n",
    "\n",
    "    if best_val_error is None or val_error <= best_val_error:\n",
    "\n",
    "        best_val_error = val_error\n",
    "\n",
    "    if epoch % 25 == 0:\n",
    "        print(f\"Epoch: {epoch:03d}, LR: {current_lr:7f}, TrainLoss: {loss:.7f}, ValLoss:{val_error:7f}, Best_ValLoss:{best_val_error:7f}\")"
   ]
  },
  {
   "cell_type": "code",
   "execution_count": null,
   "metadata": {},
   "outputs": [],
   "source": []
  },
  {
   "cell_type": "code",
   "execution_count": null,
   "metadata": {},
   "outputs": [],
   "source": []
  }
 ],
 "metadata": {
  "kernelspec": {
   "display_name": "go_gnn",
   "language": "python",
   "name": "python3"
  },
  "language_info": {
   "codemirror_mode": {
    "name": "ipython",
    "version": 3
   },
   "file_extension": ".py",
   "mimetype": "text/x-python",
   "name": "python",
   "nbconvert_exporter": "python",
   "pygments_lexer": "ipython3",
   "version": "3.10.12"
  },
  "orig_nbformat": 4
 },
 "nbformat": 4,
 "nbformat_minor": 2
}
