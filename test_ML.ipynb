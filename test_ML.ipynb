{
 "cells": [
  {
   "cell_type": "code",
   "execution_count": 71,
   "metadata": {},
   "outputs": [],
   "source": [
    "import torch\n",
    "import torch.nn.functional as F\n",
    "from torch_geometric.nn import GCNConv\n",
    "from torch_geometric.utils.convert import from_networkx\n",
    "import networkx as nx\n",
    "from rdkit import Chem\n",
    "from rdkit.Chem import Draw\n",
    "from rdkit.Chem.Draw import IPythonConsole\n",
    "from typing import List, Union\n",
    "%matplotlib inline\n",
    "import matplotlib.pyplot as plt"
   ]
  },
  {
   "cell_type": "code",
   "execution_count": 35,
   "metadata": {},
   "outputs": [
    {
     "data": {
      "image/png": "[encoded data removed]",
      "text/plain": [
       "<rdkit.Chem.rdchem.Mol at 0x7f2e4ef8ece0>"
      ]
     },
     "execution_count": 35,
     "metadata": {},
     "output_type": "execute_result"
    }
   ],
   "source": [
    "acetic_acid = 'CC(O)=O'\n",
    "\n",
    "temp = Chem.MolFromSmiles(acetic_acid)\n",
    "mol = Chem.AddHs(temp)\n",
    "mol"
   ]
  },
  {
   "cell_type": "code",
   "execution_count": 36,
   "metadata": {},
   "outputs": [],
   "source": [
    "ATOM_FEATURES = {\n",
    "    'atomic_num': [1, 6, 8]\n",
    "}\n",
    "ATOM_FDIM = sum(len(choices) for choices in ATOM_FEATURES)\n",
    "\n",
    "BOND_FDIM = 4"
   ]
  },
  {
   "cell_type": "code",
   "execution_count": 37,
   "metadata": {},
   "outputs": [],
   "source": [
    "def get_OneHotEncoding(value: int, choices: List[int]) -> List[int]:\n",
    "    encoding = [0] * (len(choices))\n",
    "    index = choices.index(value)\n",
    "    encoding[index] = 1\n",
    "\n",
    "    return encoding"
   ]
  },
  {
   "cell_type": "code",
   "execution_count": 38,
   "metadata": {},
   "outputs": [],
   "source": [
    "def get_atom_features(atom: Chem.rdchem.Atom, functional_groups: List[int] = None) -> List[Union[bool, int, float]]:\n",
    "    if atom is None:\n",
    "        features = [0] * ATOM_FDIM\n",
    "    else:\n",
    "        features = get_OneHotEncoding(atom.GetAtomicNum(), ATOM_FEATURES['atomic_num'])\n",
    "    \n",
    "    return features"
   ]
  },
  {
   "cell_type": "code",
   "execution_count": 39,
   "metadata": {},
   "outputs": [],
   "source": [
    "def get_bond_features(bond: Chem.rdchem.Bond) -> List[Union[bool, int, float]]:\n",
    "    if bond is None:\n",
    "        fbond = [1] + [0] * (BOND_FDIM - 1)\n",
    "    else:\n",
    "        bt = bond.GetBondType()\n",
    "        fbond = [0,\n",
    "                 int(bt == Chem.rdchem.BondType.SINGLE),\n",
    "                 int(bt == Chem.rdchem.BondType.DOUBLE),\n",
    "                 int(bt == Chem.rdchem.BondType.TRIPLE),\n",
    "                 int(bt == Chem.rdchem.BondType.AROMATIC),\n",
    "                 int(bond.GetIsConjugated() if bt is not None else 0),\n",
    "                 int(bond.IsInRing() if bt is not None else 0)\n",
    "                 ]\n",
    "\n",
    "    return fbond    "
   ]
  },
  {
   "cell_type": "code",
   "execution_count": 72,
   "metadata": {},
   "outputs": [],
   "source": [
    "# Create graph for acetic acid\n",
    "G = nx.Graph()\n",
    "\n",
    "for atom in mol.GetAtoms():\n",
    "    G.add_node(atom.GetIdx(), x=get_atom_features(atom))\n",
    "\n",
    "for bond in mol.GetBonds():\n",
    "    G.add_edge(bond.GetBeginAtomIdx(), bond.GetEndAtomIdx(),\n",
    "    edge_attrs=get_bond_features(bond))\n",
    "\n",
    "pyg_graph = from_networkx(G)\n"
   ]
  },
  {
   "cell_type": "code",
   "execution_count": 73,
   "metadata": {},
   "outputs": [
    {
     "data": {
      "image/png": "[encoded data removed]",
      "text/plain": [
       "<Figure size 300x300 with 1 Axes>"
      ]
     },
     "metadata": {},
     "output_type": "display_data"
    }
   ],
   "source": [
    "plt.figure(figsize=(3,3))\n",
    "\n",
    "nx.draw(G, with_labels=True)\n",
    "\n",
    "plt.show()"
   ]
  },
  {
   "cell_type": "code",
   "execution_count": 74,
   "metadata": {},
   "outputs": [
    {
     "data": {
      "text/plain": [
       "Data(x=[8, 3], edge_index=[2, 14], edge_attrs=[14, 7])"
      ]
     },
     "execution_count": 74,
     "metadata": {},
     "output_type": "execute_result"
    }
   ],
   "source": [
    "pyg_graph"
   ]
  },
  {
   "cell_type": "code",
   "execution_count": 75,
   "metadata": {},
   "outputs": [
    {
     "data": {
      "text/plain": [
       "tensor([[0, 1, 0],\n",
       "        [0, 1, 0],\n",
       "        [0, 0, 1],\n",
       "        [0, 0, 1],\n",
       "        [1, 0, 0],\n",
       "        [1, 0, 0],\n",
       "        [1, 0, 0],\n",
       "        [1, 0, 0]])"
      ]
     },
     "execution_count": 75,
     "metadata": {},
     "output_type": "execute_result"
    }
   ],
   "source": [
    "pyg_graph.x"
   ]
  },
  {
   "cell_type": "code",
   "execution_count": 76,
   "metadata": {},
   "outputs": [
    {
     "data": {
      "text/plain": [
       "tensor([[0, 0, 0, 0, 1, 1, 1, 2, 2, 3, 4, 5, 6, 7],\n",
       "        [1, 4, 5, 6, 0, 2, 3, 1, 7, 1, 0, 0, 0, 2]])"
      ]
     },
     "execution_count": 76,
     "metadata": {},
     "output_type": "execute_result"
    }
   ],
   "source": [
    "pyg_graph.edge_index"
   ]
  },
  {
   "cell_type": "code",
   "execution_count": 77,
   "metadata": {},
   "outputs": [
    {
     "data": {
      "text/plain": [
       "<bound method BaseData.edge_attrs of Data(x=[8, 3], edge_index=[2, 14], edge_attrs=[14, 7])>"
      ]
     },
     "execution_count": 77,
     "metadata": {},
     "output_type": "execute_result"
    }
   ],
   "source": [
    "pyg_graph.edge_attrs"
   ]
  },
  {
   "cell_type": "code",
   "execution_count": 78,
   "metadata": {},
   "outputs": [],
   "source": [
    "conv1 = GCNConv(3, 3)"
   ]
  },
  {
   "cell_type": "code",
   "execution_count": 79,
   "metadata": {},
   "outputs": [],
   "source": [
    "x = pyg_graph.x.float()\n",
    "edge_index = pyg_graph.edge_index\n",
    "edge_attrs = pyg_graph.edge_attrs"
   ]
  },
  {
   "cell_type": "code",
   "execution_count": 80,
   "metadata": {},
   "outputs": [
    {
     "name": "stdout",
     "output_type": "stream",
     "text": [
      "tensor([[ 0.8480,  0.5930, -1.0149],\n",
      "        [ 1.0088,  0.0613, -0.3960],\n",
      "        [ 0.7803,  0.1857, -0.5202],\n",
      "        [ 0.7736,  0.0367, -0.2950],\n",
      "        [ 0.5191,  0.3800, -0.6163],\n",
      "        [ 0.5191,  0.3800, -0.6163],\n",
      "        [ 0.5191,  0.3800, -0.6163],\n",
      "        [ 0.6811, -0.0293, -0.3274]], grad_fn=<AddBackward0>)\n"
     ]
    }
   ],
   "source": [
    "h = conv1(x, edge_index)\n",
    "print(h)\n"
   ]
  },
  {
   "cell_type": "code",
   "execution_count": 81,
   "metadata": {},
   "outputs": [
    {
     "name": "stdout",
     "output_type": "stream",
     "text": [
      "tensor([[0.8480, 0.5930, 0.0000],\n",
      "        [1.0088, 0.0613, 0.0000],\n",
      "        [0.7803, 0.1857, 0.0000],\n",
      "        [0.7736, 0.0367, 0.0000],\n",
      "        [0.5191, 0.3800, 0.0000],\n",
      "        [0.5191, 0.3800, 0.0000],\n",
      "        [0.5191, 0.3800, 0.0000],\n",
      "        [0.6811, 0.0000, 0.0000]], grad_fn=<ReluBackward0>)\n"
     ]
    }
   ],
   "source": [
    "h = F.relu(h)\n",
    "print(h)"
   ]
  },
  {
   "cell_type": "code",
   "execution_count": null,
   "metadata": {},
   "outputs": [],
   "source": [
    "h = "
   ]
  }
 ],
 "metadata": {
  "kernelspec": {
   "display_name": "go_gnn",
   "language": "python",
   "name": "python3"
  },
  "language_info": {
   "codemirror_mode": {
    "name": "ipython",
    "version": 3
   },
   "file_extension": ".py",
   "mimetype": "text/x-python",
   "name": "python",
   "nbconvert_exporter": "python",
   "pygments_lexer": "ipython3",
   "version": "3.10.12"
  },
  "orig_nbformat": 4
 },
 "nbformat": 4,
 "nbformat_minor": 2
}
