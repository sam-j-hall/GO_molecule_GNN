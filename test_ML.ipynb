{
 "cells": [
  {
   "attachments": {},
   "cell_type": "markdown",
   "metadata": {},
   "source": [
    "### Acetic Acid Test"
   ]
  },
  {
   "cell_type": "code",
   "execution_count": 1,
   "metadata": {},
   "outputs": [
    {
     "data": {
      "image/png": "[encoded data removed]",
      "text/plain": [
       "<rdkit.Chem.rdchem.Mol at 0x7f3a8f194b80>"
      ]
     },
     "execution_count": 1,
     "metadata": {},
     "output_type": "execute_result"
    }
   ],
   "source": [
    "from rdkit import Chem\n",
    "\n",
    "# Create test molecule of acetic acid\n",
    "acetic_acid = 'CC(O)=O'\n",
    "\n",
    "temp = Chem.MolFromSmiles(acetic_acid)\n",
    "mol = Chem.AddHs(temp)\n",
    "mol"
   ]
  },
  {
   "cell_type": "code",
   "execution_count": 2,
   "metadata": {},
   "outputs": [],
   "source": [
    "# Define the node and edge features to be used\n",
    "ATOM_FEATURES = {\n",
    "    'atomic_num': [1, 6, 8]\n",
    "}\n",
    "ATOM_FDIM = sum(len(choices) for choices in ATOM_FEATURES)\n",
    "\n",
    "BOND_FDIM = 4"
   ]
  },
  {
   "cell_type": "code",
   "execution_count": 3,
   "metadata": {},
   "outputs": [],
   "source": [
    "from typing import List, Union\n",
    "\n",
    "# Functions to get node and edge features\n",
    "def get_OneHotEncoding(value: int, choices: List[int]) -> List[int]:\n",
    "    encoding = [0] * (len(choices))\n",
    "    index = choices.index(value)\n",
    "    encoding[index] = 1\n",
    "\n",
    "    return encoding\n",
    "\n",
    "def get_atom_features(atom: Chem.rdchem.Atom, functional_groups: List[int] = None) -> List[Union[bool, int, float]]:\n",
    "    if atom is None:\n",
    "        features = [0] * ATOM_FDIM\n",
    "    else:\n",
    "        features = get_OneHotEncoding(atom.GetAtomicNum(), ATOM_FEATURES['atomic_num'])\n",
    "    \n",
    "    return features\n",
    "\n",
    "def get_bond_features(bond: Chem.rdchem.Bond) -> List[Union[bool, int, float]]:\n",
    "    if bond is None:\n",
    "        fbond = [1] + [0] * (BOND_FDIM - 1)\n",
    "    else:\n",
    "        bt = bond.GetBondType()\n",
    "        fbond = [0,\n",
    "                 int(bt == Chem.rdchem.BondType.SINGLE),\n",
    "                 int(bt == Chem.rdchem.BondType.DOUBLE),\n",
    "                 int(bt == Chem.rdchem.BondType.AROMATIC),\n",
    "                 int(bond.GetIsConjugated() if bt is not None else 0),\n",
    "                 int(bond.IsInRing() if bt is not None else 0)\n",
    "                 ]\n",
    "\n",
    "    return fbond    "
   ]
  },
  {
   "cell_type": "code",
   "execution_count": 4,
   "metadata": {},
   "outputs": [
    {
     "name": "stderr",
     "output_type": "stream",
     "text": [
      "/home/a3782/anaconda3/envs/go_gnn/lib/python3.10/site-packages/tqdm/auto.py:21: TqdmWarning: IProgress not found. Please update jupyter and ipywidgets. See https://ipywidgets.readthedocs.io/en/stable/user_install.html\n",
      "  from .autonotebook import tqdm as notebook_tqdm\n"
     ]
    }
   ],
   "source": [
    "import networkx as nx\n",
    "from torch_geometric.utils.convert import from_networkx\n",
    "\n",
    "# Create graph for acetic acid\n",
    "G = nx.Graph()\n",
    "\n",
    "# Create feature vectors\n",
    "for atom in mol.GetAtoms():\n",
    "    G.add_node(atom.GetIdx(), x=get_atom_features(atom))\n",
    "\n",
    "for bond in mol.GetBonds():\n",
    "    G.add_edge(bond.GetBeginAtomIdx(), bond.GetEndAtomIdx(),\n",
    "    edge_attrs=get_bond_features(bond))\n",
    "\n",
    "pyg_graph = from_networkx(G)\n"
   ]
  },
  {
   "cell_type": "code",
   "execution_count": 5,
   "metadata": {},
   "outputs": [
    {
     "data": {
      "image/png": "[encoded data removed]",
      "text/plain": [
       "<Figure size 300x300 with 1 Axes>"
      ]
     },
     "metadata": {},
     "output_type": "display_data"
    }
   ],
   "source": [
    "%matplotlib inline\n",
    "import matplotlib.pyplot as plt\n",
    "\n",
    "# Plot the graph\n",
    "plt.figure(figsize=(3,3))\n",
    "\n",
    "nx.draw(G, with_labels=True)\n",
    "\n",
    "plt.show()"
   ]
  },
  {
   "cell_type": "code",
   "execution_count": 6,
   "metadata": {},
   "outputs": [
    {
     "name": "stdout",
     "output_type": "stream",
     "text": [
      "Data(x=[8, 3], edge_index=[2, 14], edge_attrs=[14, 6])\n",
      "---\n",
      "tensor([[0, 1, 0],\n",
      "        [0, 1, 0],\n",
      "        [0, 0, 1],\n",
      "        [0, 0, 1],\n",
      "        [1, 0, 0],\n",
      "        [1, 0, 0],\n",
      "        [1, 0, 0],\n",
      "        [1, 0, 0]])\n",
      "---\n",
      "tensor([[0, 0, 0, 0, 1, 1, 1, 2, 2, 3, 4, 5, 6, 7],\n",
      "        [1, 4, 5, 6, 0, 2, 3, 1, 7, 1, 0, 0, 0, 2]])\n",
      "---\n",
      "<bound method BaseData.edge_attrs of Data(x=[8, 3], edge_index=[2, 14], edge_attrs=[14, 6])>\n"
     ]
    }
   ],
   "source": [
    "# Print graph details\n",
    "print(pyg_graph)\n",
    "print('---')\n",
    "print(pyg_graph.x)\n",
    "print('---')\n",
    "print(pyg_graph.edge_index)\n",
    "print('---')\n",
    "print(pyg_graph.edge_attrs)"
   ]
  },
  {
   "cell_type": "code",
   "execution_count": 7,
   "metadata": {},
   "outputs": [],
   "source": [
    "from torch_geometric.nn import GCNConv\n",
    "\n",
    "# Set up GCN layer\n",
    "conv1 = GCNConv(3, 3)\n",
    "# Ready data for GCN\n",
    "x = pyg_graph.x.float()\n",
    "edge_index = pyg_graph.edge_index\n",
    "edge_attrs = pyg_graph.edge_attrs"
   ]
  },
  {
   "cell_type": "code",
   "execution_count": 8,
   "metadata": {},
   "outputs": [
    {
     "name": "stdout",
     "output_type": "stream",
     "text": [
      "tensor([[-0.2757,  0.5450, -0.7764],\n",
      "        [-0.4016, -0.9790, -0.8574],\n",
      "        [-0.3111, -0.1622, -0.7048],\n",
      "        [-0.3109, -0.7500, -0.6594],\n",
      "        [-0.1559,  0.2129, -0.4587],\n",
      "        [-0.1559,  0.2129, -0.4587],\n",
      "        [-0.1559,  0.2129, -0.4587],\n",
      "        [-0.3407,  0.0839, -0.6749]], grad_fn=<AddBackward0>)\n"
     ]
    }
   ],
   "source": [
    "# Pass data through GCN layer\n",
    "out = conv1(x, edge_index)\n",
    "print(out)\n"
   ]
  },
  {
   "cell_type": "code",
   "execution_count": 9,
   "metadata": {},
   "outputs": [
    {
     "name": "stdout",
     "output_type": "stream",
     "text": [
      "tensor([[0.0000, 0.5450, 0.0000],\n",
      "        [0.0000, 0.0000, 0.0000],\n",
      "        [0.0000, 0.0000, 0.0000],\n",
      "        [0.0000, 0.0000, 0.0000],\n",
      "        [0.0000, 0.2129, 0.0000],\n",
      "        [0.0000, 0.2129, 0.0000],\n",
      "        [0.0000, 0.2129, 0.0000],\n",
      "        [0.0000, 0.0839, 0.0000]], grad_fn=<ReluBackward0>)\n"
     ]
    }
   ],
   "source": [
    "import torch.nn.functional as F\n",
    "\n",
    "# Pass through ReLU\n",
    "out = F.relu(out)\n",
    "print(out)"
   ]
  },
  {
   "cell_type": "code",
   "execution_count": 10,
   "metadata": {},
   "outputs": [],
   "source": [
    "import torch.nn as nn\n",
    "\n",
    "BN = nn.BatchNorm1d(3)"
   ]
  },
  {
   "cell_type": "code",
   "execution_count": 11,
   "metadata": {},
   "outputs": [
    {
     "name": "stdout",
     "output_type": "stream",
     "text": [
      "tensor([[ 0.0000,  2.2349,  0.0000],\n",
      "        [ 0.0000, -0.9162,  0.0000],\n",
      "        [ 0.0000, -0.9162,  0.0000],\n",
      "        [ 0.0000, -0.9162,  0.0000],\n",
      "        [ 0.0000,  0.3151,  0.0000],\n",
      "        [ 0.0000,  0.3151,  0.0000],\n",
      "        [ 0.0000,  0.3151,  0.0000],\n",
      "        [ 0.0000, -0.4314,  0.0000]], grad_fn=<NativeBatchNormBackward0>)\n"
     ]
    }
   ],
   "source": [
    "#  Pass through batch normalisation\n",
    "out = BN(out)\n",
    "print(out)"
   ]
  },
  {
   "attachments": {},
   "cell_type": "markdown",
   "metadata": {},
   "source": [
    "### GO Test"
   ]
  },
  {
   "cell_type": "code",
   "execution_count": 1,
   "metadata": {},
   "outputs": [
    {
     "name": "stderr",
     "output_type": "stream",
     "text": [
      "/home/a3782/anaconda3/envs/go_gnn/lib/python3.10/site-packages/tqdm/auto.py:21: TqdmWarning: IProgress not found. Please update jupyter and ipywidgets. See https://ipywidgets.readthedocs.io/en/stable/user_install.html\n",
      "  from .autonotebook import tqdm as notebook_tqdm\n"
     ]
    }
   ],
   "source": [
    "from Dataset import XASDataset\n",
    "from icecream import ic\n",
    "\n",
    "# Path raw directory containing the data\n",
    "path = \"./\"\n",
    "# Load and create the dataset\n",
    "dataset = XASDataset(path)"
   ]
  },
  {
   "cell_type": "code",
   "execution_count": 2,
   "metadata": {},
   "outputs": [
    {
     "name": "stdout",
     "output_type": "stream",
     "text": [
      "XASDataset(7946)\n",
      "------------\n",
      "Number of graphs: 7946\n",
      "Number of features: 10\n",
      "Number of classes: 1536450\n",
      "------------\n",
      "Data(x=[32, 10], edge_index=[2, 78], y=[200], weight=[78, 6], vector=[10], smiles='[c:0]12[c:4]3[c:8]4[c:10]5[c:11]([CH:25]=[O:29])[cH:13][c:14]6[c:12]4[c:17]4[c:19]([c:18]([CH:26]=[O:31])[c:15]6[OH:16])=[CH:20][CH:22]6[C:23]([c:21]14)([CH:24]=[CH:1][C:2]2=[CH:3][CH2:5][C:6]3([CH:27]=[O:30])[CH:7]=[CH:9]5)[O:28]6', atom_num=[1], neighbors=[3])\n",
      "------------\n",
      "Number of nodes: 32\n",
      "Number of edges: 78\n",
      "Average node degree: 2.44\n",
      "Has isolated nodes: False\n",
      "Has self loops: False\n",
      "Is undirected: True\n"
     ]
    }
   ],
   "source": [
    "# Show detail of the dataset\n",
    "print(dataset)\n",
    "print('------------')\n",
    "print(f'Number of graphs: {len(dataset)}')\n",
    "print(f'Number of features: {dataset.num_features}')\n",
    "print(f'Number of classes: {dataset.num_classes}')\n",
    "print('------------')\n",
    "# Show details of the first molecule/graph in dataset\n",
    "data = dataset[0]\n",
    "\n",
    "print(data)\n",
    "print('------------')\n",
    "print(f'Number of nodes: {data.num_nodes}')\n",
    "print(f'Number of edges: {data.num_edges}')\n",
    "print(f'Average node degree: {data.num_edges / data.num_nodes:.2f}')\n",
    "print(f'Has isolated nodes: {data.has_isolated_nodes()}')\n",
    "print(f'Has self loops: {data.has_self_loops()}')\n",
    "print(f'Is undirected: {data.is_undirected()}')"
   ]
  },
  {
   "cell_type": "code",
   "execution_count": 17,
   "metadata": {},
   "outputs": [
    {
     "name": "stdout",
     "output_type": "stream",
     "text": [
      "Length of training data loader: 10\n",
      "Length of validation data loader: 28\n",
      "Length of testing data loader: 7666\n"
     ]
    }
   ],
   "source": [
    "from torch_geometric.loader import DataLoader\n",
    "\n",
    "train_dataset = dataset[0:10]\n",
    "val_dataset = dataset[252:280]\n",
    "test_dataset = dataset[280:]\n",
    "\n",
    "test_loader = DataLoader(test_dataset, batch_size=30, shuffle=False)\n",
    "val_loader = DataLoader(val_dataset, batch_size=30, shuffle=False)\n",
    "train_loader = DataLoader(train_dataset, batch_size=30, shuffle=True)\n",
    "\n",
    "print(f'Length of training data loader: {len(train_loader.dataset)}')\n",
    "print(f'Length of validation data loader: {len(val_loader.dataset)}')\n",
    "print(f'Length of testing data loader: {len(test_loader.dataset)}')"
   ]
  },
  {
   "cell_type": "code",
   "execution_count": 18,
   "metadata": {},
   "outputs": [
    {
     "data": {
      "image/png": "[encoded data removed]",
      "text/plain": [
       "<rdkit.Chem.rdchem.Mol at 0x7ffb29efb450>"
      ]
     },
     "execution_count": 18,
     "metadata": {},
     "output_type": "execute_result"
    }
   ],
   "source": [
    "from rdkit import Chem\n",
    "from rdkit.Chem.Draw import IPythonConsole\n",
    "IPythonConsole.molSize = 300,300\n",
    "IPythonConsole.drawOptions.addAtomIndices=True\n",
    "IPythonConsole.drawOptions.annotationFontScale=0.6\n",
    "\n",
    "data = train_loader.dataset[0]\n",
    "\n",
    "mol = Chem.MolFromSmiles(data.smiles)\n",
    "mol"
   ]
  },
  {
   "cell_type": "code",
   "execution_count": 19,
   "metadata": {},
   "outputs": [
    {
     "data": {
      "image/png": "[encoded data removed]",
      "text/plain": [
       "<Figure size 300x300 with 1 Axes>"
      ]
     },
     "metadata": {},
     "output_type": "display_data"
    },
    {
     "name": "stdout",
     "output_type": "stream",
     "text": [
      "Atom: tensor([18])\n",
      "Neighbours: [17, 19, 31]\n"
     ]
    },
    {
     "data": {
      "image/png": "[encoded data removed]",
      "text/plain": [
       "<Figure size 400x400 with 1 Axes>"
      ]
     },
     "metadata": {},
     "output_type": "display_data"
    }
   ],
   "source": [
    "%matplotlib inline\n",
    "import matplotlib.pyplot as plt\n",
    "from torch_geometric.utils import to_networkx\n",
    "import networkx as nx\n",
    "\n",
    "# Show graph representation of molecule\n",
    "mol_graph = to_networkx(data, to_undirected=True)\n",
    "\n",
    "plt.figure(figsize=(3,3))\n",
    "\n",
    "nx.draw(mol_graph, with_labels=True, node_size=150, font_size=8)\n",
    "\n",
    "plt.show()\n",
    "\n",
    "print(f'Atom: {data.atom_num}')\n",
    "print(f'Neighbours: {data.neighbors}')\n",
    "\n",
    "# Show molecule spectrum\n",
    "plt.figure(figsize=(4,4))\n",
    "\n",
    "plt.plot(data.y)\n",
    "\n",
    "plt.show()"
   ]
  },
  {
   "cell_type": "code",
   "execution_count": 20,
   "metadata": {},
   "outputs": [
    {
     "data": {
      "text/plain": [
       "tensor([0, 1, 0, 0, 1, 0, 0, 0, 1, 0])"
      ]
     },
     "execution_count": 20,
     "metadata": {},
     "output_type": "execute_result"
    }
   ],
   "source": [
    "data.x[18]"
   ]
  },
  {
   "cell_type": "code",
   "execution_count": 21,
   "metadata": {},
   "outputs": [
    {
     "name": "stdout",
     "output_type": "stream",
     "text": [
      "DataBatch(x=[303, 10], edge_index=[2, 762], y=[2000], weight=[762, 6], vector=[100], smiles=[10], atom_num=[10], neighbors=[10], batch=[303], ptr=[11])\n"
     ]
    }
   ],
   "source": [
    "for i in train_loader:\n",
    "    print(i)"
   ]
  },
  {
   "cell_type": "code",
   "execution_count": 22,
   "metadata": {},
   "outputs": [
    {
     "name": "stdout",
     "output_type": "stream",
     "text": [
      "tensor([18])\n",
      "tensor([21])\n"
     ]
    }
   ],
   "source": [
    "print(train_loader.dataset[0].atom_num)\n",
    "print(train_loader.dataset[1].atom_num)\n"
   ]
  },
  {
   "cell_type": "code",
   "execution_count": 23,
   "metadata": {},
   "outputs": [],
   "source": [
    "from torch_geometric.nn import GCNConv\n",
    "import torch.nn.functional as F\n",
    "import torch\n",
    "import torch.nn as nn\n",
    "from torch_geometric.nn import global_mean_pool\n",
    "import imageio\n",
    "import matplotlib.animation as animation\n"
   ]
  },
  {
   "cell_type": "code",
   "execution_count": 24,
   "metadata": {},
   "outputs": [],
   "source": [
    "class GNN(torch.nn.Module):\n",
    "\n",
    "    def __init__(self):\n",
    "\n",
    "        super(GNN, self).__init__()\n",
    "\n",
    "        self.conv1 = GCNConv(10, 100)\n",
    "        self.conv2 = GCNConv(100, 250)\n",
    "        self.conv3 = GCNConv(250, 400)\n",
    "\n",
    "        self.lin = torch.nn.Linear(400, 200)\n",
    "\n",
    "        self.pool = global_mean_pool\n",
    "\n",
    "    def forward(self, batched_data):\n",
    "        x = batched_data.x.float()\n",
    "        edge_index = batched_data.edge_index\n",
    "        edge_attrs = batched_data.weight.float()\n",
    "        \n",
    "        h = self.conv1(x, edge_index)\n",
    "        h = F.relu(h)\n",
    "\n",
    "        h = self.conv2(h, edge_index)\n",
    "        h = F. relu(h)\n",
    "\n",
    "        h = self.conv3(h, edge_index)\n",
    "        \n",
    "        h_graph = self.pool(h, batched_data.batch)\n",
    "\n",
    "        h_out = self.lin(h_graph)\n",
    "\n",
    "        return h_out\n",
    "\n"
   ]
  },
  {
   "cell_type": "code",
   "execution_count": 25,
   "metadata": {},
   "outputs": [
    {
     "name": "stdout",
     "output_type": "stream",
     "text": [
      "GNN(\n",
      "  (conv1): GCNConv(10, 100)\n",
      "  (conv2): GCNConv(100, 250)\n",
      "  (conv3): GCNConv(250, 400)\n",
      "  (lin): Linear(in_features=400, out_features=200, bias=True)\n",
      ")\n"
     ]
    }
   ],
   "source": [
    "model = GNN()\n",
    "print(model)"
   ]
  },
  {
   "cell_type": "code",
   "execution_count": 26,
   "metadata": {},
   "outputs": [],
   "source": [
    "device = torch.device(\"cuda\" if torch.cuda.is_available() else \"cpu\")\n",
    "model = model.to(device)\n",
    "\n",
    "optimizer = torch.optim.Adam(model.parameters(), lr=0.01, betas=(0.9, 0.999), eps=1e-08, amsgrad=True)\n",
    "scheduler = torch.optim.lr_scheduler.ReduceLROnPlateau(optimizer, mode='min', factor=0.5, patience=100, min_lr=0.000001)"
   ]
  },
  {
   "cell_type": "code",
   "execution_count": 27,
   "metadata": {},
   "outputs": [],
   "source": [
    "def train(loader):\n",
    "\n",
    "    loss_all = 0\n",
    "\n",
    "    model.train()\n",
    "\n",
    "    for batch in loader:\n",
    "        batch = batch.to(device)\n",
    "\n",
    "        optimizer.zero_grad()\n",
    "\n",
    "        pred = model(batch)\n",
    "\n",
    "        batch_size = batch.y.shape[0] // 200\n",
    "        batch.y = batch.y.view(batch_size, 200)\n",
    "\n",
    "        loss = nn.MSELoss()(pred.double(), batch.y.double())\n",
    "\n",
    "        loss.backward()\n",
    "\n",
    "        loss_all += loss.item() * batch.num_graphs\n",
    "\n",
    "        optimizer.step()\n",
    "\n",
    "        out = pred[0].detach().numpy()\n",
    "        true = batch.y[0].detach().numpy()\n",
    "\n",
    "\n",
    "    return loss, out, true"
   ]
  },
  {
   "cell_type": "code",
   "execution_count": 28,
   "metadata": {},
   "outputs": [
    {
     "name": "stdout",
     "output_type": "stream",
     "text": [
      "Epoch: 0\n",
      "Epoch: 25\n",
      "Epoch: 50\n",
      "Epoch: 75\n",
      "Epoch: 100\n",
      "Epoch: 125\n",
      "Epoch: 150\n",
      "Epoch: 175\n",
      "Epoch: 200\n",
      "Epoch: 225\n",
      "Epoch: 250\n",
      "Epoch: 275\n"
     ]
    }
   ],
   "source": [
    "num_epochs = 300\n",
    "\n",
    "ims = []\n",
    "\n",
    "for epoch in range(num_epochs):\n",
    "\n",
    "    loss, out, true = train(train_loader)\n",
    "\n",
    "    if epoch%25 == 0:\n",
    "        print(f'Epoch: {epoch}')\n",
    "\n",
    "    plt.plot(out)\n",
    "    plt.plot(true)\n",
    "    #plt.plot(train_loader.dataset[0].y)\n",
    "    #plt.plot(train_loader.dataset[1].y)\n",
    "    plt.ylim(-0.2, 1.2)\n",
    "    plt.xlim(0, 200)\n",
    "    plt.title(f'epoch: {epoch}')\n",
    "    plt.savefig(f'./images/graph_{epoch}.png')\n",
    "    plt.close()"
   ]
  },
  {
   "cell_type": "code",
   "execution_count": null,
   "metadata": {},
   "outputs": [],
   "source": [
    "frames = []\n",
    "\n",
    "for t in range(num_epochs):\n",
    "    image = imageio.v2.imread(f'./images/graph_{t}.png')\n",
    "    frames.append(image)"
   ]
  },
  {
   "cell_type": "code",
   "execution_count": null,
   "metadata": {},
   "outputs": [],
   "source": [
    "imageio.mimsave('./example.gif', frames, fps=4)"
   ]
  },
  {
   "cell_type": "code",
   "execution_count": null,
   "metadata": {},
   "outputs": [],
   "source": []
  }
 ],
 "metadata": {
  "kernelspec": {
   "display_name": "go_gnn",
   "language": "python",
   "name": "python3"
  },
  "language_info": {
   "codemirror_mode": {
    "name": "ipython",
    "version": 3
   },
   "file_extension": ".py",
   "mimetype": "text/x-python",
   "name": "python",
   "nbconvert_exporter": "python",
   "pygments_lexer": "ipython3",
   "version": "3.10.13"
  },
  "orig_nbformat": 4
 },
 "nbformat": 4,
 "nbformat_minor": 2
}
