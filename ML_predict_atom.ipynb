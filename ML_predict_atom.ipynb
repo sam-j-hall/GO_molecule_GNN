{
 "cells": [
  {
   "cell_type": "code",
   "execution_count": 79,
   "metadata": {},
   "outputs": [
    {
     "data": {
      "text/html": [
       "    <style>\n",
       "        .bk-notebook-logo {\n",
       "            display: block;\n",
       "            width: 20px;\n",
       "            height: 20px;\n",
       "            background-image: url(data:image/png;base64,iVBORw0KGgoAAAANSUhEUgAAABQAAAAUCAYAAACNiR0NAAAABHNCSVQICAgIfAhkiAAAAAlwSFlzAAALEgAACxIB0t1+/AAAABx0RVh0U29mdHdhcmUAQWRvYmUgRmlyZXdvcmtzIENTNui8sowAAAOkSURBVDiNjZRtaJVlGMd/1/08zzln5zjP1LWcU9N0NkN8m2CYjpgQYQXqSs0I84OLIC0hkEKoPtiH3gmKoiJDU7QpLgoLjLIQCpEsNJ1vqUOdO7ppbuec5+V+rj4ctwzd8IIbbi6u+8f1539dt3A78eXC7QizUF7gyV1fD1Yqg4JWz84yffhm0qkFqBogB9rM8tZdtwVsPUhWhGcFJngGeWrPzHm5oaMmkfEg1usvLFyc8jLRqDOMru7AyC8saQr7GG7f5fvDeH7Ej8CM66nIF+8yngt6HWaKh7k49Soy9nXurCi1o3qUbS3zWfrYeQDTB/Qj6kX6Ybhw4B+bOYoLKCC9H3Nu/leUTZ1JdRWkkn2ldcCamzrcf47KKXdAJllSlxAOkRgyHsGC/zRday5Qld9DyoM4/q/rUoy/CXh3jzOu3bHUVZeU+DEn8FInkPBFlu3+nW3Nw0mk6vCDiWg8CeJaxEwuHS3+z5RgY+YBR6V1Z1nxSOfoaPa4LASWxxdNp+VWTk7+4vzaou8v8PN+xo+KY2xsw6une2frhw05CTYOmQvsEhjhWjn0bmXPjpE1+kplmmkP3suftwTubK9Vq22qKmrBhpY4jvd5afdRA3wGjFAgcnTK2s4hY0/GPNIb0nErGMCRxWOOX64Z8RAC4oCXdklmEvcL8o0BfkNK4lUg9HTl+oPlQxdNo3Mg4Nv175e/1LDGzZen30MEjRUtmXSfiTVu1kK8W4txyV6BMKlbgk3lMwYCiusNy9fVfvvwMxv8Ynl6vxoByANLTWplvuj/nF9m2+PDtt1eiHPBr1oIfhCChQMBw6Aw0UulqTKZdfVvfG7VcfIqLG9bcldL/+pdWTLxLUy8Qq38heUIjh4XlzZxzQm19lLFlr8vdQ97rjZVOLf8nclzckbcD4wxXMidpX30sFd37Fv/GtwwhzhxGVAprjbg0gCAEeIgwCZyTV2Z1REEW8O4py0wsjeloKoMr6iCY6dP92H6Vw/oTyICIthibxjm/DfN9lVz8IqtqKYLUXfoKVMVQVVJOElGjrnnUt9T9wbgp8AyYKaGlqingHZU/uG2NTZSVqwHQTWkx9hxjkpWDaCg6Ckj5qebgBVbT3V3NNXMSiWSDdGV3hrtzla7J+duwPOToIg42ChPQOQjspnSlp1V+Gjdged7+8UN5CRAV7a5EdFNwCjEaBR27b3W890TE7g24NAP/mMDXRWrGoFPQI9ls/MWO2dWFAar/xcOIImbbpA3zgAAAABJRU5ErkJggg==);\n",
       "        }\n",
       "    </style>\n",
       "    <div>\n",
       "        <a href=\"https://bokeh.org\" target=\"_blank\" class=\"bk-notebook-logo\"></a>\n",
       "        <span id=\"aecabb8c-cb45-4aa7-89ad-ef88c5275fab\">Loading BokehJS ...</span>\n",
       "    </div>\n"
      ]
     },
     "metadata": {},
     "output_type": "display_data"
    },
    {
     "data": {
      "application/javascript": "'use strict';\n(function(root) {\n  function now() {\n    return new Date();\n  }\n\n  const force = true;\n\n  if (typeof root._bokeh_onload_callbacks === \"undefined\" || force === true) {\n    root._bokeh_onload_callbacks = [];\n    root._bokeh_is_loading = undefined;\n  }\n\nconst JS_MIME_TYPE = 'application/javascript';\n  const HTML_MIME_TYPE = 'text/html';\n  const EXEC_MIME_TYPE = 'application/vnd.bokehjs_exec.v0+json';\n  const CLASS_NAME = 'output_bokeh rendered_html';\n\n  /**\n   * Render data to the DOM node\n   */\n  function render(props, node) {\n    const script = document.createElement(\"script\");\n    node.appendChild(script);\n  }\n\n  /**\n   * Handle when an output is cleared or removed\n   */\n  function handleClearOutput(event, handle) {\n    function drop(id) {\n      const view = Bokeh.index.get_by_id(id)\n      if (view != null) {\n        view.model.document.clear()\n        Bokeh.index.delete(view)\n      }\n    }\n\n    const cell = handle.cell;\n\n    const id = cell.output_area._bokeh_element_id;\n    const server_id = cell.output_area._bokeh_server_id;\n\n    // Clean up Bokeh references\n    if (id != null) {\n      drop(id)\n    }\n\n    if (server_id !== undefined) {\n      // Clean up Bokeh references\n      const cmd_clean = \"from bokeh.io.state import curstate; print(curstate().uuid_to_server['\" + server_id + \"'].get_sessions()[0].document.roots[0]._id)\";\n      cell.notebook.kernel.execute(cmd_clean, {\n        iopub: {\n          output: function(msg) {\n            const id = msg.content.text.trim()\n            drop(id)\n          }\n        }\n      });\n      // Destroy server and session\n      const cmd_destroy = \"import bokeh.io.notebook as ion; ion.destroy_server('\" + server_id + \"')\";\n      cell.notebook.kernel.execute(cmd_destroy);\n    }\n  }\n\n  /**\n   * Handle when a new output is added\n   */\n  function handleAddOutput(event, handle) {\n    const output_area = handle.output_area;\n    const output = handle.output;\n\n    // limit handleAddOutput to display_data with EXEC_MIME_TYPE content only\n    if ((output.output_type != \"display_data\") || (!Object.prototype.hasOwnProperty.call(output.data, EXEC_MIME_TYPE))) {\n      return\n    }\n\n    const toinsert = output_area.element.find(\".\" + CLASS_NAME.split(' ')[0]);\n\n    if (output.metadata[EXEC_MIME_TYPE][\"id\"] !== undefined) {\n      toinsert[toinsert.length - 1].firstChild.textContent = output.data[JS_MIME_TYPE];\n      // store reference to embed id on output_area\n      output_area._bokeh_element_id = output.metadata[EXEC_MIME_TYPE][\"id\"];\n    }\n    if (output.metadata[EXEC_MIME_TYPE][\"server_id\"] !== undefined) {\n      const bk_div = document.createElement(\"div\");\n      bk_div.innerHTML = output.data[HTML_MIME_TYPE];\n      const script_attrs = bk_div.children[0].attributes;\n      for (let i = 0; i < script_attrs.length; i++) {\n        toinsert[toinsert.length - 1].firstChild.setAttribute(script_attrs[i].name, script_attrs[i].value);\n        toinsert[toinsert.length - 1].firstChild.textContent = bk_div.children[0].textContent\n      }\n      // store reference to server id on output_area\n      output_area._bokeh_server_id = output.metadata[EXEC_MIME_TYPE][\"server_id\"];\n    }\n  }\n\n  function register_renderer(events, OutputArea) {\n\n    function append_mime(data, metadata, element) {\n      // create a DOM node to render to\n      const toinsert = this.create_output_subarea(\n        metadata,\n        CLASS_NAME,\n        EXEC_MIME_TYPE\n      );\n      this.keyboard_manager.register_events(toinsert);\n      // Render to node\n      const props = {data: data, metadata: metadata[EXEC_MIME_TYPE]};\n      render(props, toinsert[toinsert.length - 1]);\n      element.append(toinsert);\n      return toinsert\n    }\n\n    /* Handle when an output is cleared or removed */\n    events.on('clear_output.CodeCell', handleClearOutput);\n    events.on('delete.Cell', handleClearOutput);\n\n    /* Handle when a new output is added */\n    events.on('output_added.OutputArea', handleAddOutput);\n\n    /**\n     * Register the mime type and append_mime function with output_area\n     */\n    OutputArea.prototype.register_mime_type(EXEC_MIME_TYPE, append_mime, {\n      /* Is output safe? */\n      safe: true,\n      /* Index of renderer in `output_area.display_order` */\n      index: 0\n    });\n  }\n\n  // register the mime type if in Jupyter Notebook environment and previously unregistered\n  if (root.Jupyter !== undefined) {\n    const events = require('base/js/events');\n    const OutputArea = require('notebook/js/outputarea').OutputArea;\n\n    if (OutputArea.prototype.mime_types().indexOf(EXEC_MIME_TYPE) == -1) {\n      register_renderer(events, OutputArea);\n    }\n  }\n  if (typeof (root._bokeh_timeout) === \"undefined\" || force === true) {\n    root._bokeh_timeout = Date.now() + 5000;\n    root._bokeh_failed_load = false;\n  }\n\n  const NB_LOAD_WARNING = {'data': {'text/html':\n     \"<div style='background-color: #fdd'>\\n\"+\n     \"<p>\\n\"+\n     \"BokehJS does not appear to have successfully loaded. If loading BokehJS from CDN, this \\n\"+\n     \"may be due to a slow or bad network connection. Possible fixes:\\n\"+\n     \"</p>\\n\"+\n     \"<ul>\\n\"+\n     \"<li>re-rerun `output_notebook()` to attempt to load from CDN again, or</li>\\n\"+\n     \"<li>use INLINE resources instead, as so:</li>\\n\"+\n     \"</ul>\\n\"+\n     \"<code>\\n\"+\n     \"from bokeh.resources import INLINE\\n\"+\n     \"output_notebook(resources=INLINE)\\n\"+\n     \"</code>\\n\"+\n     \"</div>\"}};\n\n  function display_loaded(error = null) {\n    const el = document.getElementById(\"aecabb8c-cb45-4aa7-89ad-ef88c5275fab\");\n    if (el != null) {\n      const html = (() => {\n        if (typeof root.Bokeh === \"undefined\") {\n          if (error == null) {\n            return \"BokehJS is loading ...\";\n          } else {\n            return \"BokehJS failed to load.\";\n          }\n        } else {\n          const prefix = `BokehJS ${root.Bokeh.version}`;\n          if (error == null) {\n            return `${prefix} successfully loaded.`;\n          } else {\n            return `${prefix} <b>encountered errors</b> while loading and may not function as expected.`;\n          }\n        }\n      })();\n      el.innerHTML = html;\n\n      if (error != null) {\n        const wrapper = document.createElement(\"div\");\n        wrapper.style.overflow = \"auto\";\n        wrapper.style.height = \"5em\";\n        wrapper.style.resize = \"vertical\";\n        const content = document.createElement(\"div\");\n        content.style.fontFamily = \"monospace\";\n        content.style.whiteSpace = \"pre-wrap\";\n        content.style.backgroundColor = \"rgb(255, 221, 221)\";\n        content.textContent = error.stack ?? error.toString();\n        wrapper.append(content);\n        el.append(wrapper);\n      }\n    } else if (Date.now() < root._bokeh_timeout) {\n      setTimeout(() => display_loaded(error), 100);\n    }\n  }\n\n  function run_callbacks() {\n    try {\n      root._bokeh_onload_callbacks.forEach(function(callback) {\n        if (callback != null)\n          callback();\n      });\n    } finally {\n      delete root._bokeh_onload_callbacks\n    }\n    console.debug(\"Bokeh: all callbacks have finished\");\n  }\n\n  function load_libs(css_urls, js_urls, callback) {\n    if (css_urls == null) css_urls = [];\n    if (js_urls == null) js_urls = [];\n\n    root._bokeh_onload_callbacks.push(callback);\n    if (root._bokeh_is_loading > 0) {\n      console.debug(\"Bokeh: BokehJS is being loaded, scheduling callback at\", now());\n      return null;\n    }\n    if (js_urls == null || js_urls.length === 0) {\n      run_callbacks();\n      return null;\n    }\n    console.debug(\"Bokeh: BokehJS not loaded, scheduling load and callback at\", now());\n    root._bokeh_is_loading = css_urls.length + js_urls.length;\n\n    function on_load() {\n      root._bokeh_is_loading--;\n      if (root._bokeh_is_loading === 0) {\n        console.debug(\"Bokeh: all BokehJS libraries/stylesheets loaded\");\n        run_callbacks()\n      }\n    }\n\n    function on_error(url) {\n      console.error(\"failed to load \" + url);\n    }\n\n    for (let i = 0; i < css_urls.length; i++) {\n      const url = css_urls[i];\n      const element = document.createElement(\"link\");\n      element.onload = on_load;\n      element.onerror = on_error.bind(null, url);\n      element.rel = \"stylesheet\";\n      element.type = \"text/css\";\n      element.href = url;\n      console.debug(\"Bokeh: injecting link tag for BokehJS stylesheet: \", url);\n      document.body.appendChild(element);\n    }\n\n    for (let i = 0; i < js_urls.length; i++) {\n      const url = js_urls[i];\n      const element = document.createElement('script');\n      element.onload = on_load;\n      element.onerror = on_error.bind(null, url);\n      element.async = false;\n      element.src = url;\n      console.debug(\"Bokeh: injecting script tag for BokehJS library: \", url);\n      document.head.appendChild(element);\n    }\n  };\n\n  function inject_raw_css(css) {\n    const element = document.createElement(\"style\");\n    element.appendChild(document.createTextNode(css));\n    document.body.appendChild(element);\n  }\n\n  const js_urls = [\"https://cdn.bokeh.org/bokeh/release/bokeh-3.4.0.min.js\", \"https://cdn.bokeh.org/bokeh/release/bokeh-gl-3.4.0.min.js\", \"https://cdn.bokeh.org/bokeh/release/bokeh-widgets-3.4.0.min.js\", \"https://cdn.bokeh.org/bokeh/release/bokeh-tables-3.4.0.min.js\", \"https://cdn.bokeh.org/bokeh/release/bokeh-mathjax-3.4.0.min.js\"];\n  const css_urls = [];\n\n  const inline_js = [    function(Bokeh) {\n      Bokeh.set_log_level(\"info\");\n    },\nfunction(Bokeh) {\n    }\n  ];\n\n  function run_inline_js() {\n    if (root.Bokeh !== undefined || force === true) {\n      try {\n            for (let i = 0; i < inline_js.length; i++) {\n      inline_js[i].call(root, root.Bokeh);\n    }\n\n      } catch (error) {display_loaded(error);throw error;\n      }if (force === true) {\n        display_loaded();\n      }} else if (Date.now() < root._bokeh_timeout) {\n      setTimeout(run_inline_js, 100);\n    } else if (!root._bokeh_failed_load) {\n      console.log(\"Bokeh: BokehJS failed to load within specified timeout.\");\n      root._bokeh_failed_load = true;\n    } else if (force !== true) {\n      const cell = $(document.getElementById(\"aecabb8c-cb45-4aa7-89ad-ef88c5275fab\")).parents('.cell').data().cell;\n      cell.output_area.append_execute_result(NB_LOAD_WARNING)\n    }\n  }\n\n  if (root._bokeh_is_loading === 0) {\n    console.debug(\"Bokeh: BokehJS loaded, going straight to plotting\");\n    run_inline_js();\n  } else {\n    load_libs(css_urls, js_urls, function() {\n      console.debug(\"Bokeh: BokehJS plotting callback run at\", now());\n      run_inline_js();\n    });\n  }\n}(window));",
      "application/vnd.bokehjs_load.v0+json": ""
     },
     "metadata": {},
     "output_type": "display_data"
    }
   ],
   "source": [
    "# --- Standard libraries\n",
    "import pickle as pkl\n",
    "import numpy as np\n",
    "import heapq as hq\n",
    "from icecream import ic\n",
    "# --- PyTorch\n",
    "import torch\n",
    "from torch_geometric.data import Batch\n",
    "# --- RDKit\n",
    "from rdkit import Chem\n",
    "from rdkit.Chem.Draw import IPythonConsole\n",
    "IPythonConsole.molSize = 300,300\n",
    "# --- Bokeh\n",
    "from bokeh.io import output_notebook, show, export_png\n",
    "from bokeh.layouts import row\n",
    "from bokeh.models import Label\n",
    "output_notebook()\n",
    "# --- Science python\n",
    "from sklearn.metrics import mean_squared_error\n",
    "from scipy.stats import wasserstein_distance, spearmanr\n",
    "# --- Modules from local files\n",
    "from GNN_atom import GNN\n",
    "from utils import bokeh_spectra, calculate_rse, count_funct_group, bokeh_hist"
   ]
  },
  {
   "cell_type": "code",
   "execution_count": 80,
   "metadata": {},
   "outputs": [],
   "source": [
    "def pred_spec(model, index, test_dataset):\n",
    "    # --- Set the model to evaluation mode\n",
    "    model.eval()\n",
    "\n",
    "    # --- Get a single graph from the test dataset\n",
    "    graph_index = index # Index of the graph you want to predict on\n",
    "    graph_data = test_dataset[graph_index].to(device)\n",
    "    batch = Batch.from_data_list([graph_data])\n",
    "    #print(batch.atom_num)\n",
    "\n",
    "    # --- Pass the graph through the model\n",
    "    with torch.no_grad():\n",
    "        pred = model(batch)\n",
    "    \n",
    "    # ---  the predicted output for the single graph\n",
    "    pred_graph = pred[0]\n",
    "    true_spectrum = graph_data.spectrum.cpu().numpy()\n",
    "    predicted_spectrum = pred.cpu().numpy()\n",
    "    predicted_spectrum = predicted_spectrum.reshape(-1)\n",
    "    \n",
    "    return predicted_spectrum, true_spectrum"
   ]
  },
  {
   "cell_type": "markdown",
   "metadata": {},
   "source": [
    "### Coronene"
   ]
  },
  {
   "cell_type": "markdown",
   "metadata": {},
   "source": [
    "#### Set model parameters"
   ]
  },
  {
   "cell_type": "code",
   "execution_count": 103,
   "metadata": {},
   "outputs": [],
   "source": [
    "num_tasks = 200\n",
    "num_layers = 3\n",
    "emb_dim = 15\n",
    "in_channels = [int(emb_dim), 64, 128]\n",
    "out_channels = [64, 128, 256]\n",
    "gnn_type = 'gcn'\n",
    "heads = int(1)\n",
    "drop_ratio = 0.2\n",
    "graph_pooling = 'mean'\n",
    "\n",
    "device = torch.device(\"cuda\" if torch.cuda.is_available() else \"cpu\")\n",
    "\n",
    "model_name = 'model_gnn_atom_1.pt'"
   ]
  },
  {
   "cell_type": "markdown",
   "metadata": {},
   "source": [
    "#### Load the saved model"
   ]
  },
  {
   "cell_type": "code",
   "execution_count": 104,
   "metadata": {},
   "outputs": [
    {
     "data": {
      "text/plain": [
       "<All keys matched successfully>"
      ]
     },
     "execution_count": 104,
     "metadata": {},
     "output_type": "execute_result"
    }
   ],
   "source": [
    "# --- Load the saved model\n",
    "num_tasks = 200\n",
    "\n",
    "model = GNN(\n",
    "    num_tasks,\n",
    "    num_layers,\n",
    "    emb_dim,\n",
    "    in_channels,\n",
    "    out_channels,\n",
    "    gnn_type,\n",
    "    heads,\n",
    "    drop_ratio,\n",
    "    graph_pooling,\n",
    ")\n",
    "model = model.to(device)\n",
    "model.load_state_dict(torch.load(\"ML_models/\" + model_name, map_location='cpu'))"
   ]
  },
  {
   "cell_type": "markdown",
   "metadata": {},
   "source": [
    "#### Load the test data"
   ]
  },
  {
   "cell_type": "code",
   "execution_count": 105,
   "metadata": {},
   "outputs": [
    {
     "name": "stdout",
     "output_type": "stream",
     "text": [
      "Length of test dataset: 895\n"
     ]
    }
   ],
   "source": [
    "test_dataset = torch.load(\"./processed/atom_test_dataset.pt\")\n",
    "print(f'Length of test dataset: {len(test_dataset)}')"
   ]
  },
  {
   "cell_type": "markdown",
   "metadata": {},
   "source": [
    "#### Use the model to predict the test data"
   ]
  },
  {
   "cell_type": "code",
   "execution_count": 106,
   "metadata": {},
   "outputs": [],
   "source": [
    "# --- Create empty dictionary to contain spectra\n",
    "predict = {}\n",
    "true = {}\n",
    "\n",
    "# --- Loop over all molecules in test dateset and assign to dictionary index\n",
    "for index in range(len(test_dataset)):\n",
    "    predict[index], true[index] = pred_spec(model, index, test_dataset)\n",
    "\n",
    "# --- Parse spectra into dictionary\n",
    "model_dict = [predict, true]\n",
    "\n",
    "name = 'spectra_ml_atom_test.pkl'\n",
    "\n",
    "with open('spectra_results/' + name, \"wb\") as file:\n",
    "    pkl.dump(model_dict, file)"
   ]
  },
  {
   "cell_type": "markdown",
   "metadata": {},
   "source": [
    "#### View predictions"
   ]
  },
  {
   "cell_type": "code",
   "execution_count": 107,
   "metadata": {},
   "outputs": [],
   "source": [
    "file = open('spectra_results/' + name, 'rb')\n",
    "data = pkl.load(file)\n",
    "\n",
    "predict = data[0]\n",
    "true = data[1]"
   ]
  },
  {
   "cell_type": "markdown",
   "metadata": {},
   "source": [
    "#### Perform analysis of predictions"
   ]
  },
  {
   "cell_type": "code",
   "execution_count": 108,
   "metadata": {},
   "outputs": [
    {
     "name": "stdout",
     "output_type": "stream",
     "text": [
      "Average Wasserstein distance = 0.07697039921227654\n",
      "Average MSE = 0.03160140264220955\n",
      "Average RSE = 0.1760771114243605\n"
     ]
    }
   ],
   "source": [
    "wasser = []\n",
    "mse = []\n",
    "rse = []\n",
    "\n",
    "for x in range(len(predict)):\n",
    "    # Wasserstein metric\n",
    "    wass_temp = wasserstein_distance(predict[x], true[x])\n",
    "    wasser.append(wass_temp)\n",
    "    # Mean squared error\n",
    "    mse_temp = mean_squared_error(predict[x], true[x])\n",
    "    mse.append(mse_temp)\n",
    "    # RSE\n",
    "    rse_temp = calculate_rse(predict[x], true[x])\n",
    "    rse.append(rse_temp)\n",
    "\n",
    "print(f\"Average Wasserstein distance = {sum(wasser) / len(wasser)}\")\n",
    "print(f\"Average MSE = {sum(mse) / len(mse)}\")\n",
    "print(f'Average RSE = {sum(rse) / len(rse)}')"
   ]
  },
  {
   "cell_type": "code",
   "execution_count": 109,
   "metadata": {},
   "outputs": [
    {
     "name": "stdout",
     "output_type": "stream",
     "text": [
      "The 5 best RSE values are:\n",
      "RSE = 0.074, graph number = 887\n",
      "RSE = 0.076, graph number = 350\n",
      "RSE = 0.077, graph number = 103\n",
      "RSE = 0.079, graph number = 1\n",
      "RSE = 0.086, graph number = 471\n",
      "\n",
      "The 5 worst RSE values are:\n",
      "RSE = 0.245, graph number = 829\n",
      "RSE = 0.242, graph number = 284\n",
      "RSE = 0.241, graph number = 88\n",
      "RSE = 0.241, graph number = 6\n",
      "RSE = 0.241, graph number = 852\n"
     ]
    }
   ],
   "source": [
    "rank_rse = hq.nsmallest(789, rse)\n",
    "\n",
    "rank_graph = []\n",
    "\n",
    "for x in range(789):\n",
    "    rank_idx = rse.index(rank_rse[x])\n",
    "    rank_graph.append(rank_idx)\n",
    "\n",
    "print('The 5 best RSE values are:')\n",
    "for x in range(5):\n",
    "    print(f'RSE = {rank_rse[x]:.3f}, graph number = {rank_graph[x]}')\n",
    "\n",
    "print('')\n",
    "print('The 5 worst RSE values are:')\n",
    "for x in range(-1, -6, -1):\n",
    "    print(f'RSE = {rank_rse[x]:.3f}, graph number = {rank_graph[x]}')"
   ]
  },
  {
   "cell_type": "code",
   "execution_count": 110,
   "metadata": {},
   "outputs": [
    {
     "data": {
      "text/plain": [
       "0.16213004111483556"
      ]
     },
     "execution_count": 110,
     "metadata": {},
     "output_type": "execute_result"
    }
   ],
   "source": [
    "rank_rse[450]"
   ]
  },
  {
   "cell_type": "markdown",
   "metadata": {},
   "source": [
    "#### View and compare predictions"
   ]
  },
  {
   "cell_type": "code",
   "execution_count": 121,
   "metadata": {},
   "outputs": [
    {
     "data": {
      "text/html": [
       "\n",
       "  <div id=\"f3bc2978-0bba-492a-81ce-d3e53de2d12a\" data-root-id=\"p6732\" style=\"display: contents;\"></div>\n"
      ]
     },
     "metadata": {},
     "output_type": "display_data"
    },
    {
     "data": {
      "application/javascript": "(function(root) {\n  function embed_document(root) {\n  const docs_json = {\"b2b5a802-de32-4849-a697-8899c40a9cab\":{\"version\":\"3.4.0\",\"title\":\"Bokeh Application\",\"roots\":[{\"type\":\"object\",\"name\":\"Figure\",\"id\":\"p6732\",\"attributes\":{\"width\":350,\"height\":350,\"x_range\":{\"type\":\"object\",\"name\":\"Range1d\",\"id\":\"p6741\",\"attributes\":{\"start\":280,\"end\":300}},\"y_range\":{\"type\":\"object\",\"name\":\"DataRange1d\",\"id\":\"p6734\"},\"x_scale\":{\"type\":\"object\",\"name\":\"LinearScale\",\"id\":\"p6742\"},\"y_scale\":{\"type\":\"object\",\"name\":\"LinearScale\",\"id\":\"p6743\"},\"title\":{\"type\":\"object\",\"name\":\"Title\",\"id\":\"p6739\"},\"outline_line_color\":\"black\",\"outline_line_width\":2,\"renderers\":[{\"type\":\"object\",\"name\":\"GlyphRenderer\",\"id\":\"p6771\",\"attributes\":{\"data_source\":{\"type\":\"object\",\"name\":\"ColumnDataSource\",\"id\":\"p6765\",\"attributes\":{\"selected\":{\"type\":\"object\",\"name\":\"Selection\",\"id\":\"p6766\",\"attributes\":{\"indices\":[],\"line_indices\":[]}},\"selection_policy\":{\"type\":\"object\",\"name\":\"UnionRenderers\",\"id\":\"p6767\"},\"data\":{\"type\":\"map\",\"entries\":[[\"x\",{\"type\":\"ndarray\",\"array\":{\"type\":\"bytes\",\"data\":\"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\"},\"shape\":[200],\"dtype\":\"float64\",\"order\":\"little\"}],[\"y\",{\"type\":\"ndarray\",\"array\":{\"type\":\"bytes\",\"data\":\"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\"},\"shape\":[200],\"dtype\":\"float64\",\"order\":\"little\"}]]}}},\"view\":{\"type\":\"object\",\"name\":\"CDSView\",\"id\":\"p6772\",\"attributes\":{\"filter\":{\"type\":\"object\",\"name\":\"AllIndices\",\"id\":\"p6773\"}}},\"glyph\":{\"type\":\"object\",\"name\":\"Line\",\"id\":\"p6768\",\"attributes\":{\"x\":{\"type\":\"field\",\"field\":\"x\"},\"y\":{\"type\":\"field\",\"field\":\"y\"},\"line_color\":\"#004488\",\"line_width\":3}},\"nonselection_glyph\":{\"type\":\"object\",\"name\":\"Line\",\"id\":\"p6769\",\"attributes\":{\"x\":{\"type\":\"field\",\"field\":\"x\"},\"y\":{\"type\":\"field\",\"field\":\"y\"},\"line_color\":\"#004488\",\"line_alpha\":0.1,\"line_width\":3}},\"muted_glyph\":{\"type\":\"object\",\"name\":\"Line\",\"id\":\"p6770\",\"attributes\":{\"x\":{\"type\":\"field\",\"field\":\"x\"},\"y\":{\"type\":\"field\",\"field\":\"y\"},\"line_color\":\"#004488\",\"line_alpha\":0.2,\"line_width\":3}}}},{\"type\":\"object\",\"name\":\"GlyphRenderer\",\"id\":\"p6782\",\"attributes\":{\"data_source\":{\"type\":\"object\",\"name\":\"ColumnDataSource\",\"id\":\"p6776\",\"attributes\":{\"selected\":{\"type\":\"object\",\"name\":\"Selection\",\"id\":\"p6777\",\"attributes\":{\"indices\":[],\"line_indices\":[]}},\"selection_policy\":{\"type\":\"object\",\"name\":\"UnionRenderers\",\"id\":\"p6778\"},\"data\":{\"type\":\"map\",\"entries\":[[\"x\",{\"type\":\"ndarray\",\"array\":{\"type\":\"bytes\",\"data\":\"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\"},\"shape\":[200],\"dtype\":\"float64\",\"order\":\"little\"}],[\"y\",{\"type\":\"ndarray\",\"array\":{\"type\":\"bytes\",\"data\":\"iOpotXrNHrYlube22NQLt8VhiLehK0C4Owi4uPlqBrl7Lmi5aOOTufAK7Llr8Rq6jZM3uoMGarqn45W6f5Kcuvc/6LqY4RS7mYg9u7qkcrvbxpq7bFy6u/956LsWFgS807YcvLpGK7zl7Du8hFA/vFseQrwH4UW85QZAvN/+Mry6WjC851YivITCC7ydmdO7dVyIu4DCXbq0JOI8dDiWPXzk+j3NWTE+f11qPrxYkz71YLA+DtLIPp1e3j6kLOw+85PyPpQi8j5yX+w+nFzmPoNz1z6i38k+mh27PsdzsD5DFqY+s26fPgbXmj5dqJk+VL+XPm5TmD4EfJk+7jaXPoWXkj5ffY0+98KFPpe9ej6kP2M+XudbPqGnQj6IBDA+jyIZPk3OCD42m/I9GUTmPbuU9j3kVOs9XYL3PWfcCj5nXhc+tAEuPiZ4Rj5DSmE+c0eAPlIOjz78npw+FRinPoPPrT5+YbU+5gG1PqJpqz7CoaI+TN2VPoxBiT4GsXc+rqphPiNJUT6U+Ec+ENZJPqB/Sz4nbFY+xipjPvbecD4UnXs+Cw2CPuQuhT6YaYU+8tSHPjxnhz7/eIY+Qv+EPtwrhD72k4E+4kZ9PkRzeD5KmXI+GCJuPjJvaj7AyGk+w0JrPqGEbj6m1nU+7kx/PsOohT4+Q40+WZ+UPkiNnT769aU+QNKtPlxLtT5Otbs+8FPBPl36xD5eYMk+5erKPo1izj79ls4+tQrQPmMq1D4DCNE+HUfSPvRS0j6qpNE+YD7TPkBF0D4GYs8+0lzNPg6ayj5sCMk+xFPDPuJzwT50/b0+iNK3Prjqsz62Ja8+JNKqPkiFpT7hVqM+VHydPvJemj5NEZc+IPGSPvXWkj4kt4k+UjKKPtg7hT4I6YA+N7B6PilBdT6K+HE+0h9vPlgHbT6ywWs+H/hrPtrBbT4MV3I+s/VzPgJRez4b6IA+UzuDPuuIhj7se4o+IZqMPhyNjT4NOY4+ePOPPhZ2jz4JsI4+dp+MPm5Liz5tFoo+wYuIPlQ7hz5CoYY+INuFPmXmhD6+uYM+zBuEPjpygj4=\"},\"shape\":[200],\"dtype\":\"float32\",\"order\":\"little\"}]]}}},\"view\":{\"type\":\"object\",\"name\":\"CDSView\",\"id\":\"p6783\",\"attributes\":{\"filter\":{\"type\":\"object\",\"name\":\"AllIndices\",\"id\":\"p6784\"}}},\"glyph\":{\"type\":\"object\",\"name\":\"Line\",\"id\":\"p6779\",\"attributes\":{\"x\":{\"type\":\"field\",\"field\":\"x\"},\"y\":{\"type\":\"field\",\"field\":\"y\"},\"line_color\":\"#DDAA33\",\"line_width\":3}},\"nonselection_glyph\":{\"type\":\"object\",\"name\":\"Line\",\"id\":\"p6780\",\"attributes\":{\"x\":{\"type\":\"field\",\"field\":\"x\"},\"y\":{\"type\":\"field\",\"field\":\"y\"},\"line_color\":\"#DDAA33\",\"line_alpha\":0.1,\"line_width\":3}},\"muted_glyph\":{\"type\":\"object\",\"name\":\"Line\",\"id\":\"p6781\",\"attributes\":{\"x\":{\"type\":\"field\",\"field\":\"x\"},\"y\":{\"type\":\"field\",\"field\":\"y\"},\"line_color\":\"#DDAA33\",\"line_alpha\":0.2,\"line_width\":3}}}}],\"toolbar\":{\"type\":\"object\",\"name\":\"Toolbar\",\"id\":\"p6740\",\"attributes\":{\"logo\":null,\"tools\":[{\"type\":\"object\",\"name\":\"PanTool\",\"id\":\"p6754\"},{\"type\":\"object\",\"name\":\"WheelZoomTool\",\"id\":\"p6755\",\"attributes\":{\"renderers\":\"auto\"}},{\"type\":\"object\",\"name\":\"BoxZoomTool\",\"id\":\"p6756\",\"attributes\":{\"overlay\":{\"type\":\"object\",\"name\":\"BoxAnnotation\",\"id\":\"p6757\",\"attributes\":{\"syncable\":false,\"level\":\"overlay\",\"visible\":false,\"left\":{\"type\":\"number\",\"value\":\"nan\"},\"right\":{\"type\":\"number\",\"value\":\"nan\"},\"top\":{\"type\":\"number\",\"value\":\"nan\"},\"bottom\":{\"type\":\"number\",\"value\":\"nan\"},\"left_units\":\"canvas\",\"right_units\":\"canvas\",\"top_units\":\"canvas\",\"bottom_units\":\"canvas\",\"line_color\":\"black\",\"line_alpha\":1.0,\"line_width\":2,\"line_dash\":[4,4],\"fill_color\":\"lightgrey\",\"fill_alpha\":0.5}}}},{\"type\":\"object\",\"name\":\"SaveTool\",\"id\":\"p6762\"},{\"type\":\"object\",\"name\":\"ResetTool\",\"id\":\"p6763\"},{\"type\":\"object\",\"name\":\"HelpTool\",\"id\":\"p6764\"}]}},\"toolbar_location\":null,\"left\":[{\"type\":\"object\",\"name\":\"LinearAxis\",\"id\":\"p6749\",\"attributes\":{\"ticker\":{\"type\":\"object\",\"name\":\"BasicTicker\",\"id\":\"p6750\",\"attributes\":{\"mantissas\":[1,2,5]}},\"formatter\":{\"type\":\"object\",\"name\":\"BasicTickFormatter\",\"id\":\"p6751\"},\"axis_label\":\"arb. units\",\"axis_label_text_font_size\":\"24px\",\"major_label_policy\":{\"type\":\"object\",\"name\":\"AllLabels\",\"id\":\"p6752\"},\"major_label_text_color\":null,\"major_tick_line_color\":null,\"minor_tick_line_color\":null}}],\"below\":[{\"type\":\"object\",\"name\":\"LinearAxis\",\"id\":\"p6744\",\"attributes\":{\"ticker\":{\"type\":\"object\",\"name\":\"BasicTicker\",\"id\":\"p6745\",\"attributes\":{\"desired_num_ticks\":3,\"mantissas\":[1,2,5]}},\"formatter\":{\"type\":\"object\",\"name\":\"BasicTickFormatter\",\"id\":\"p6746\"},\"axis_label\":\"Photon Energy (eV)\",\"axis_label_text_font_size\":\"24px\",\"major_label_policy\":{\"type\":\"object\",\"name\":\"AllLabels\",\"id\":\"p6747\"},\"major_label_text_font_size\":\"24px\",\"major_tick_line_width\":2,\"major_tick_in\":0,\"major_tick_out\":10,\"minor_tick_line_width\":2,\"minor_tick_out\":6}}],\"center\":[{\"type\":\"object\",\"name\":\"Grid\",\"id\":\"p6748\",\"attributes\":{\"axis\":{\"id\":\"p6744\"},\"grid_line_color\":\"grey\",\"grid_line_alpha\":0.3,\"grid_line_width\":1.5,\"grid_line_dash\":[6]}},{\"type\":\"object\",\"name\":\"Grid\",\"id\":\"p6753\",\"attributes\":{\"dimension\":1,\"axis\":{\"id\":\"p6749\"},\"grid_line_color\":\"grey\",\"grid_line_alpha\":0.3,\"grid_line_width\":1.5,\"grid_line_dash\":[6]}},{\"type\":\"object\",\"name\":\"Legend\",\"id\":\"p6774\",\"attributes\":{\"location\":\"top_right\",\"label_text_font_size\":\"20px\",\"items\":[{\"type\":\"object\",\"name\":\"LegendItem\",\"id\":\"p6775\",\"attributes\":{\"label\":{\"type\":\"value\",\"value\":\"True\"},\"renderers\":[{\"id\":\"p6771\"}]}},{\"type\":\"object\",\"name\":\"LegendItem\",\"id\":\"p6785\",\"attributes\":{\"label\":{\"type\":\"value\",\"value\":\"ML Model\"},\"renderers\":[{\"id\":\"p6782\"}]}}]}}],\"min_border\":25}}]}};\n  const render_items = [{\"docid\":\"b2b5a802-de32-4849-a697-8899c40a9cab\",\"roots\":{\"p6732\":\"f3bc2978-0bba-492a-81ce-d3e53de2d12a\"},\"root_ids\":[\"p6732\"]}];\n  void root.Bokeh.embed.embed_items_notebook(docs_json, render_items);\n  }\n  if (root.Bokeh !== undefined) {\n    embed_document(root);\n  } else {\n    let attempts = 0;\n    const timer = setInterval(function(root) {\n      if (root.Bokeh !== undefined) {\n        clearInterval(timer);\n        embed_document(root);\n      } else {\n        attempts++;\n        if (attempts > 100) {\n          clearInterval(timer);\n          console.log(\"Bokeh: ERROR: Unable to run BokehJS code because BokehJS library is missing\");\n        }\n      }\n    }, 10, root)\n  }\n})(window);",
      "application/vnd.bokehjs_exec.v0+json": ""
     },
     "metadata": {
      "application/vnd.bokehjs_exec.v0+json": {
       "id": "p6732"
      }
     },
     "output_type": "display_data"
    },
    {
     "data": {
      "text/plain": [
       "'/home/samjhall/github/GO_molecule_GNN/ave.png'"
      ]
     },
     "execution_count": 121,
     "metadata": {},
     "output_type": "execute_result"
    }
   ],
   "source": [
    "# --- Plot best spectra prediction\n",
    "p1 = bokeh_spectra(predict[rank_graph[0]], true[rank_graph[0]])\n",
    "p2 = bokeh_spectra(predict[rank_graph[443]], true[rank_graph[443]])\n",
    "p2.legend.location = 'top_right'\n",
    "p3 = bokeh_spectra(predict[rank_graph[2]], true[rank_graph[2]])\n",
    "p = row(p1, p2, p3)\n",
    "show(p2)\n",
    "export_png(p2, filename='ave.png')"
   ]
  },
  {
   "cell_type": "code",
   "execution_count": 102,
   "metadata": {},
   "outputs": [
    {
     "data": {
      "text/html": [
       "\n",
       "  <div id=\"bfeb320a-e00d-4898-932d-cc6347124bf1\" data-root-id=\"p4971\" style=\"display: contents;\"></div>\n"
      ]
     },
     "metadata": {},
     "output_type": "display_data"
    },
    {
     "data": {
      "application/javascript": "(function(root) {\n  function embed_document(root) {\n  const docs_json = {\"2aa7bc7e-557a-47e8-9656-f1f0209c8766\":{\"version\":\"3.4.0\",\"title\":\"Bokeh Application\",\"roots\":[{\"type\":\"object\",\"name\":\"Row\",\"id\":\"p4971\",\"attributes\":{\"children\":[{\"type\":\"object\",\"name\":\"Figure\",\"id\":\"p4809\",\"attributes\":{\"width\":350,\"height\":350,\"x_range\":{\"type\":\"object\",\"name\":\"Range1d\",\"id\":\"p4818\",\"attributes\":{\"start\":280,\"end\":300}},\"y_range\":{\"type\":\"object\",\"name\":\"DataRange1d\",\"id\":\"p4811\"},\"x_scale\":{\"type\":\"object\",\"name\":\"LinearScale\",\"id\":\"p4819\"},\"y_scale\":{\"type\":\"object\",\"name\":\"LinearScale\",\"id\":\"p4820\"},\"title\":{\"type\":\"object\",\"name\":\"Title\",\"id\":\"p4816\"},\"outline_line_color\":\"black\",\"outline_line_width\":2,\"renderers\":[{\"type\":\"object\",\"name\":\"GlyphRenderer\",\"id\":\"p4848\",\"attributes\":{\"data_source\":{\"type\":\"object\",\"name\":\"ColumnDataSource\",\"id\":\"p4842\",\"attributes\":{\"selected\":{\"type\":\"object\",\"name\":\"Selection\",\"id\":\"p4843\",\"attributes\":{\"indices\":[],\"line_indices\":[]}},\"selection_policy\":{\"type\":\"object\",\"name\":\"UnionRenderers\",\"id\":\"p4844\"},\"data\":{\"type\":\"map\",\"entries\":[[\"x\",{\"type\":\"ndarray\",\"array\":{\"type\":\"bytes\",\"data\":\"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\"},\"shape\":[200],\"dtype\":\"float64\",\"order\":\"little\"}],[\"y\",{\"type\":\"ndarray\",\"array\":{\"type\":\"bytes\",\"data\":\"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\"},\"shape\":[200],\"dtype\":\"float64\",\"order\":\"little\"}]]}}},\"view\":{\"type\":\"object\",\"name\":\"CDSView\",\"id\":\"p4849\",\"attributes\":{\"filter\":{\"type\":\"object\",\"name\":\"AllIndices\",\"id\":\"p4850\"}}},\"glyph\":{\"type\":\"object\",\"name\":\"Line\",\"id\":\"p4845\",\"attributes\":{\"x\":{\"type\":\"field\",\"field\":\"x\"},\"y\":{\"type\":\"field\",\"field\":\"y\"},\"line_color\":\"#004488\",\"line_width\":3}},\"nonselection_glyph\":{\"type\":\"object\",\"name\":\"Line\",\"id\":\"p4846\",\"attributes\":{\"x\":{\"type\":\"field\",\"field\":\"x\"},\"y\":{\"type\":\"field\",\"field\":\"y\"},\"line_color\":\"#004488\",\"line_alpha\":0.1,\"line_width\":3}},\"muted_glyph\":{\"type\":\"object\",\"name\":\"Line\",\"id\":\"p4847\",\"attributes\":{\"x\":{\"type\":\"field\",\"field\":\"x\"},\"y\":{\"type\":\"field\",\"field\":\"y\"},\"line_color\":\"#004488\",\"line_alpha\":0.2,\"line_width\":3}}}},{\"type\":\"object\",\"name\":\"GlyphRenderer\",\"id\":\"p4859\",\"attributes\":{\"data_source\":{\"type\":\"object\",\"name\":\"ColumnDataSource\",\"id\":\"p4853\",\"attributes\":{\"selected\":{\"type\":\"object\",\"name\":\"Selection\",\"id\":\"p4854\",\"attributes\":{\"indices\":[],\"line_indices\":[]}},\"selection_policy\":{\"type\":\"object\",\"name\":\"UnionRenderers\",\"id\":\"p4855\"},\"data\":{\"type\":\"map\",\"entries\":[[\"x\",{\"type\":\"ndarray\",\"array\":{\"type\":\"bytes\",\"data\":\"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\"},\"shape\":[200],\"dtype\":\"float64\",\"order\":\"little\"}],[\"y\",{\"type\":\"ndarray\",\"array\":{\"type\":\"bytes\",\"data\":\"k52ltSXLRbYNt8O2DcFwtvNWW7dDVTS4V24KuCc3Trjr8YW43YDYuPtq07iVNSa5yHBauSc+L7hqg+y4n7V1uUxzA7oo81m6kvCFuiHyqLqq+ea6uAgGu//VDLtb3gm7A3sHu7PQn7oAQ1M7neTtPEELZz2/P8M9FwL/Pbd6Gz4C8jE+kuhJPgmCYD7UXnU+3JWCPpo1iz5NWY8+lheXPtHgmz5YSKE+FjypPnKkrz7+CrU+DiC5Pq0vvD7uMbw+ZcG6PrS0tT6IIa4+VqOmPsr9mz50RJA+452HPqDLcj5vgVI+4RM4Pth9Gz7oTwI+VczQPcAMqD3Ww309gFtxPXBYHT3U+pw8fJMDPchw6Dy4x9I8iIW8PIAwEzyIFNQ8KInhPKzv6DyVYA09GMYaPcG0Jz38OTs9ylVOPd6OZz2ciWY9+MZYPbT2Pj1IwuA8ON+9PPghtjw4IJk8oAx4PPglvjyQzPQ8/AMvPayTdD28WKg92qfYPUzB/j0rKRQ+yLEiPqQxMT6IxTg+lzo/PkAYQz78WkY+8OdJPhZgTj7mQlY+oqFhPkxZbz5Z8oA+3ImLPtvnlz4YSKY++razPtIzwT5gb84+my7aPhhz5D7oEO0+AsjzPsGo+D6XS/s+Sq79PnMX/j4xrP0+5vP7Pvg7+j4movY+fnz0Pgyu7j5zT+g+EeriPpCS3D7dr9U+dXzOPkXSxz7cf8E+vAK7PmemtD7amq4+mVKqPi4FpD4j454+lUmaPmevlj7N6ZI+1uaPPoBpjj6irI4+9yONPh79jT44hI4+oeWOPilGkD56qJE+vVKSPkAukz6uZ5M+6L2TPpfXkz7FsZM+wJCTPvR5kz4QVpI+TImRPiffkj6Hz5I+fXKSPtHlkD7Iw5A+ITeRPuIxkT51CJE+yLWRPjcpkj7kfZI+2DGUPsSPlT4xlpU+SBeXPqT1lT7ZHpc++T+XPkFmlT6lGpU+mC6VPv/skz4WH5M+RwGTPqHekD4545E+isuPPirdkD6eaZA+wkWPPsYAjT7ImYw+Yj+KPo2nhz6vqIU+IiWFPg7mgz4=\"},\"shape\":[200],\"dtype\":\"float32\",\"order\":\"little\"}]]}}},\"view\":{\"type\":\"object\",\"name\":\"CDSView\",\"id\":\"p4860\",\"attributes\":{\"filter\":{\"type\":\"object\",\"name\":\"AllIndices\",\"id\":\"p4861\"}}},\"glyph\":{\"type\":\"object\",\"name\":\"Line\",\"id\":\"p4856\",\"attributes\":{\"x\":{\"type\":\"field\",\"field\":\"x\"},\"y\":{\"type\":\"field\",\"field\":\"y\"},\"line_color\":\"#DDAA33\",\"line_width\":3}},\"nonselection_glyph\":{\"type\":\"object\",\"name\":\"Line\",\"id\":\"p4857\",\"attributes\":{\"x\":{\"type\":\"field\",\"field\":\"x\"},\"y\":{\"type\":\"field\",\"field\":\"y\"},\"line_color\":\"#DDAA33\",\"line_alpha\":0.1,\"line_width\":3}},\"muted_glyph\":{\"type\":\"object\",\"name\":\"Line\",\"id\":\"p4858\",\"attributes\":{\"x\":{\"type\":\"field\",\"field\":\"x\"},\"y\":{\"type\":\"field\",\"field\":\"y\"},\"line_color\":\"#DDAA33\",\"line_alpha\":0.2,\"line_width\":3}}}}],\"toolbar\":{\"type\":\"object\",\"name\":\"Toolbar\",\"id\":\"p4817\",\"attributes\":{\"logo\":null,\"tools\":[{\"type\":\"object\",\"name\":\"PanTool\",\"id\":\"p4831\"},{\"type\":\"object\",\"name\":\"WheelZoomTool\",\"id\":\"p4832\",\"attributes\":{\"renderers\":\"auto\"}},{\"type\":\"object\",\"name\":\"BoxZoomTool\",\"id\":\"p4833\",\"attributes\":{\"overlay\":{\"type\":\"object\",\"name\":\"BoxAnnotation\",\"id\":\"p4834\",\"attributes\":{\"syncable\":false,\"level\":\"overlay\",\"visible\":false,\"left\":{\"type\":\"number\",\"value\":\"nan\"},\"right\":{\"type\":\"number\",\"value\":\"nan\"},\"top\":{\"type\":\"number\",\"value\":\"nan\"},\"bottom\":{\"type\":\"number\",\"value\":\"nan\"},\"left_units\":\"canvas\",\"right_units\":\"canvas\",\"top_units\":\"canvas\",\"bottom_units\":\"canvas\",\"line_color\":\"black\",\"line_alpha\":1.0,\"line_width\":2,\"line_dash\":[4,4],\"fill_color\":\"lightgrey\",\"fill_alpha\":0.5}}}},{\"type\":\"object\",\"name\":\"SaveTool\",\"id\":\"p4839\"},{\"type\":\"object\",\"name\":\"ResetTool\",\"id\":\"p4840\"},{\"type\":\"object\",\"name\":\"HelpTool\",\"id\":\"p4841\"}]}},\"toolbar_location\":null,\"left\":[{\"type\":\"object\",\"name\":\"LinearAxis\",\"id\":\"p4826\",\"attributes\":{\"ticker\":{\"type\":\"object\",\"name\":\"BasicTicker\",\"id\":\"p4827\",\"attributes\":{\"mantissas\":[1,2,5]}},\"formatter\":{\"type\":\"object\",\"name\":\"BasicTickFormatter\",\"id\":\"p4828\"},\"axis_label\":\"arb. units\",\"axis_label_text_font_size\":\"24px\",\"major_label_policy\":{\"type\":\"object\",\"name\":\"AllLabels\",\"id\":\"p4829\"},\"major_label_text_color\":null,\"major_tick_line_color\":null,\"minor_tick_line_color\":null}}],\"below\":[{\"type\":\"object\",\"name\":\"LinearAxis\",\"id\":\"p4821\",\"attributes\":{\"ticker\":{\"type\":\"object\",\"name\":\"BasicTicker\",\"id\":\"p4822\",\"attributes\":{\"desired_num_ticks\":3,\"mantissas\":[1,2,5]}},\"formatter\":{\"type\":\"object\",\"name\":\"BasicTickFormatter\",\"id\":\"p4823\"},\"axis_label\":\"Photon Energy (eV)\",\"axis_label_text_font_size\":\"24px\",\"major_label_policy\":{\"type\":\"object\",\"name\":\"AllLabels\",\"id\":\"p4824\"},\"major_label_text_font_size\":\"24px\",\"major_tick_line_width\":2,\"major_tick_in\":0,\"major_tick_out\":10,\"minor_tick_line_width\":2,\"minor_tick_out\":6}}],\"center\":[{\"type\":\"object\",\"name\":\"Grid\",\"id\":\"p4825\",\"attributes\":{\"axis\":{\"id\":\"p4821\"},\"grid_line_color\":\"grey\",\"grid_line_alpha\":0.3,\"grid_line_width\":1.5,\"grid_line_dash\":[6]}},{\"type\":\"object\",\"name\":\"Grid\",\"id\":\"p4830\",\"attributes\":{\"dimension\":1,\"axis\":{\"id\":\"p4826\"},\"grid_line_color\":\"grey\",\"grid_line_alpha\":0.3,\"grid_line_width\":1.5,\"grid_line_dash\":[6]}},{\"type\":\"object\",\"name\":\"Legend\",\"id\":\"p4851\",\"attributes\":{\"location\":\"bottom_right\",\"label_text_font_size\":\"20px\",\"items\":[{\"type\":\"object\",\"name\":\"LegendItem\",\"id\":\"p4852\",\"attributes\":{\"label\":{\"type\":\"value\",\"value\":\"True\"},\"renderers\":[{\"id\":\"p4848\"}]}},{\"type\":\"object\",\"name\":\"LegendItem\",\"id\":\"p4862\",\"attributes\":{\"label\":{\"type\":\"value\",\"value\":\"ML Model\"},\"renderers\":[{\"id\":\"p4859\"}]}}]}}],\"min_border\":25}},{\"type\":\"object\",\"name\":\"Figure\",\"id\":\"p4863\",\"attributes\":{\"width\":350,\"height\":350,\"x_range\":{\"type\":\"object\",\"name\":\"Range1d\",\"id\":\"p4872\",\"attributes\":{\"start\":280,\"end\":300}},\"y_range\":{\"type\":\"object\",\"name\":\"DataRange1d\",\"id\":\"p4865\"},\"x_scale\":{\"type\":\"object\",\"name\":\"LinearScale\",\"id\":\"p4873\"},\"y_scale\":{\"type\":\"object\",\"name\":\"LinearScale\",\"id\":\"p4874\"},\"title\":{\"type\":\"object\",\"name\":\"Title\",\"id\":\"p4870\"},\"outline_line_color\":\"black\",\"outline_line_width\":2,\"renderers\":[{\"type\":\"object\",\"name\":\"GlyphRenderer\",\"id\":\"p4902\",\"attributes\":{\"data_source\":{\"type\":\"object\",\"name\":\"ColumnDataSource\",\"id\":\"p4896\",\"attributes\":{\"selected\":{\"type\":\"object\",\"name\":\"Selection\",\"id\":\"p4897\",\"attributes\":{\"indices\":[],\"line_indices\":[]}},\"selection_policy\":{\"type\":\"object\",\"name\":\"UnionRenderers\",\"id\":\"p4898\"},\"data\":{\"type\":\"map\",\"entries\":[[\"x\",{\"type\":\"ndarray\",\"array\":{\"type\":\"bytes\",\"data\":\"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\"},\"shape\":[200],\"dtype\":\"float64\",\"order\":\"little\"}],[\"y\",{\"type\":\"ndarray\",\"array\":{\"type\":\"bytes\",\"data\":\"MQGuIuWzICafeSt8iPGhJj8FBEB6OSIn8GNaePd/oSc7FFrVKcYfKIpHFvuGRZsoB/uHcjohFilPjyHBPfqQKYA+FqzGoAgqNiz2LmXjgCrOfZmO0+X1Kh/kH4wC2GorEiEVg3oc3ysWiKsYdAtRLKEXOOFAqMEs+d1weidLMS3mKPXjWwOgLSO4dGFkCQwuDxqOaWo0dy62vkkMUyjiLlSe/qyT3UovVfiKwlHKsi+V+ZYArtkYMOK4j3I/En8wX15puGJd4jCTePcbRIZEMRFgLri4r6UxhWvwqOipBTJJ5u2Jx3VkMu0oYDTTRMIynS46FiLYHjNypb2z+514M+NTgxA1k9Iz61py+oyAKjQ28Lql2t+BNHaRMNGPy9Y0GmgPovJ7KzXmd2w+U1R/Naz6IujC4dA1M/8arWgzITZ8BfIHxJFwNo1nRU8pLr42p7LmC278CTeCbY/CWCdVN6WzqQHAR6A3xvA/TxSx5zd4KhMKQUwwOEPnQMEOM3U4uM2EUQUSujhrLDAinU/+OG6xhEa8qEA55zMJ1AlQgTmllMGTjwLBOY9XBn/tmf85c1qsYq3AOzr7cBz87gp3OhpbSnKLFrI6DwGzLA/Z6jrJ5aKhctYiOyz+7KMA/lg7Z38F0RpZjzsa5z7KWZbCO4uZjLzX1vQ7QJUGYMkWJjzcMuy31CJWPLXHtgEB+YQ8kVkV7D3JsjyQ1ETChdHfPL3fcMqyeQk9TNlVJaVIMz18UJ/B0ZlbPb5dS0y2rII9l4RZpTTkpz0O7cTixeXMPZbMtp3LhfA9WDnnD/XcET5/3QEhK0IyPllg/9PnpFE+w5HLaL0ecD5sUp3FENmLPjrGirvNvaY+a87z79COwT7+ofFy16HZPp0wou9WsPE+ZbZS5vcUBz97my7oxHkcP8wlw7Y8mzA/DsAV3uBPQj8ykB+ARhdTPzFoANgc0WI/6GJZGd2IcT/0FX43ceV+P3eMa+MHvIk/gpNCHvZDlD81JzeJDS2ePzTu2JOxPaU//8679s9FrD8SLWhehcqxP+LnEB9pLLU/dTzgWMzVtz8Fqr+1w2S5P4Z8i6W+ork/vnnVyLyWuD8tmS8mKYm2P5LSYQgo+LM/NEWgnzWAsT9ROYwQ3n+vP0NATGmre64/jMkRl6BUsD/H9hquBiizP91x5kU8orc/yQqVW7Z5vT+sTbeSHR/CP1NKBgZ8tcU/gJlYncQ8yT+7cKBofnjMP44WwnmkNs8/4uatGNin0D8dKn8XiVLRP3f2fsGMkNE/ibK9hR5d0T/NPlfxnrzQP1JyWeMof88/uvliJ10HzT+C7Lwu+mLKPzqS0Ra/7cc/Lpo82RX/xT972ZhHmdvEP2vae7Vrq8Q/3AddpGJ4xT/DSoXR1jTHP2+jJjVRyck/wdw2+PEkzT+tnoiJiaXQPxdQ0sV8LNM/5F/go0JA1j+CNTw0BvzZPx6F09Jfcd4/n4sEt8XN4T+BXacxYarkPysMUXpWqOc/8cFlyCmP6j9uxbd2fBntP3jfi67H/u4/AAAAAAAA8D+diW2xaPTvP+vQ8vIS0+4/gYHgjOm17D/dqISg7NTpPzzAe7vSeuY/V+qTBYX24j/bUF4GkxvfP39pPzAS6dg/OstxDQaU0z9UutYnHGzOP3FBQ3rXm8c/3eJcSKWUwj+OaDkvdEm+P6dxs4RIKro/IEg7StlbuD/8uPId/Gy4P0xdUO3q6Lk/SHIk3QBVvD923teOHjG/P9vK/MVN/sA/1hAoMDggwj9V2bslls7CP3PzqDh87MI/8bSPTFV0wj+d7DGg4nfBPwF5RBMaG8A/D9dfD2AWvT+9BQ2cDum5P8IZ1IES9bY/xr3luehmtD/n2TddCFGyP0z+KZyBsrA/xWSzCMf/rj8vPRtuaVWtP9iG7WQmS6w/ItaebV7Kqz+o3jkidL+rP7x87isMGaw/HOlQI2DJrD9gXXbz7MitP2d1365MGK8/7z/CbaJfsD81RhdGT2SxPy0xMCgOnrI//SFU4l0MtD9fViGXg6i1P6phpOUGZbc/dHFpqUcuuT/6xguE0eu6P66NM2JLgrw/ZD1VFyfWvT/u37MZMc++P2y2NGO6XL8/baD99Yd5vz9x87v6Xi6/Pw==\"},\"shape\":[200],\"dtype\":\"float64\",\"order\":\"little\"}]]}}},\"view\":{\"type\":\"object\",\"name\":\"CDSView\",\"id\":\"p4903\",\"attributes\":{\"filter\":{\"type\":\"object\",\"name\":\"AllIndices\",\"id\":\"p4904\"}}},\"glyph\":{\"type\":\"object\",\"name\":\"Line\",\"id\":\"p4899\",\"attributes\":{\"x\":{\"type\":\"field\",\"field\":\"x\"},\"y\":{\"type\":\"field\",\"field\":\"y\"},\"line_color\":\"#004488\",\"line_width\":3}},\"nonselection_glyph\":{\"type\":\"object\",\"name\":\"Line\",\"id\":\"p4900\",\"attributes\":{\"x\":{\"type\":\"field\",\"field\":\"x\"},\"y\":{\"type\":\"field\",\"field\":\"y\"},\"line_color\":\"#004488\",\"line_alpha\":0.1,\"line_width\":3}},\"muted_glyph\":{\"type\":\"object\",\"name\":\"Line\",\"id\":\"p4901\",\"attributes\":{\"x\":{\"type\":\"field\",\"field\":\"x\"},\"y\":{\"type\":\"field\",\"field\":\"y\"},\"line_color\":\"#004488\",\"line_alpha\":0.2,\"line_width\":3}}}},{\"type\":\"object\",\"name\":\"GlyphRenderer\",\"id\":\"p4913\",\"attributes\":{\"data_source\":{\"type\":\"object\",\"name\":\"ColumnDataSource\",\"id\":\"p4907\",\"attributes\":{\"selected\":{\"type\":\"object\",\"name\":\"Selection\",\"id\":\"p4908\",\"attributes\":{\"indices\":[],\"line_indices\":[]}},\"selection_policy\":{\"type\":\"object\",\"name\":\"UnionRenderers\",\"id\":\"p4909\"},\"data\":{\"type\":\"map\",\"entries\":[[\"x\",{\"type\":\"ndarray\",\"array\":{\"type\":\"bytes\",\"data\":\"AAAAAACAcUD4yYWom4FxQPGTC1E3g3FA6V2R+dKEcUDhJxeiboZxQNnxnEoKiHFA0rsi86WJcUDKhaibQYtxQMJPLkTdjHFAuxm07HiOcUCz4zmVFJBxQKutvz2wkXFAo3dF5kuTcUCcQcuO55RxQJQLUTeDlnFAjNXW3x6YcUCFn1yIuplxQH1p4jBWm3FAdTNo2fGccUBt/e2BjZ5xQGbHcyopoHFAXpH50sShcUBWW397YKNxQE4lBST8pHFAR++KzJemcUA/uRB1M6hxQDeDlh3PqXFAME0cxmqrcUAoF6JuBq1xQCDhJxeirnFAGKutvz2wcUARdTNo2bFxQAk/uRB1s3FAAQk/uRC1cUD60sRhrLZxQPKcSgpIuHFA6mbQsuO5cUDiMFZbf7txQNv62wMbvXFA08RhrLa+cUDLjudUUsBxQMRYbf3twXFAvCLzpYnDcUC07HhOJcVxQKy2/vbAxnFApYCEn1zIcUCdSgpI+MlxQJUUkPCTy3FAjt4VmS/NcUCGqJtBy85xQH5yIepm0HFAdjynkgLScUBvBi07ntNxQGfQsuM51XFAX5o4jNXWcUBXZL40cdhxQFAuRN0M2nFASPjJhajbcUBAwk8uRN1xQDmM1dbf3nFAMVZbf3vgcUApIOEnF+JxQCHqZtCy43FAGrTseE7lcUASfnIh6uZxQApI+MmF6HFAAxJ+ciHqcUD72wMbvetxQPOlicNY7XFA628PbPTucUDkOZUUkPBxQNwDG70r8nFA1M2gZcfzcUDNlyYOY/VxQMVhrLb+9nFAvSsyX5r4cUC19bcHNvpxQK6/PbDR+3FAponDWG39cUCeU0kBCf9xQJcdz6mkAHJAj+dUUkACckCHsdr62wNyQH97YKN3BXJAeEXmSxMHckBwD2z0rghyQGjZ8ZxKCnJAYKN3ReYLckBZbf3tgQ1yQFE3g5YdD3JASQEJP7kQckBCy47nVBJyQDqVFJDwE3JAMl+aOIwVckAqKSDhJxdyQCPzpYnDGHJAG70rMl8ackATh7Ha+htyQAxRN4OWHXJABBu9KzIfckD85ELUzSByQPSuyHxpInJA7XhOJQUkckDlQtTNoCVyQN0MWnY8J3JA1tbfHtgockDOoGXHcypyQMZq628PLHJAvjRxGKstckC3/vbARi9yQK/IfGniMHJAp5ICEn4yckCgXIi6GTRyQJgmDmO1NXJAkPCTC1E3ckCIuhm07DhyQIGEn1yIOnJAeU4lBSQ8ckBxGKutvz1yQGriMFZbP3JAYqy2/vZAckBadjynkkJyQFJAwk8uRHJASwpI+MlFckBD1M2gZUdyQDueU0kBSXJAM2jZ8ZxKckAsMl+aOExyQCT85ELUTXJAHMZq629PckAVkPCTC1FyQA1adjynUnJABST85EJUckD97YGN3lVyQPa3BzZ6V3JA7oGN3hVZckDmSxOHsVpyQN8VmS9NXHJA198e2OhdckDPqaSAhF9yQMdzKikgYXJAwD2w0btickC4BzZ6V2RyQLDRuyLzZXJAqZtBy45nckChZcdzKmlyQJkvTRzGanJAkfnSxGFsckCKw1ht/W1yQIKN3hWZb3JAeldkvjRxckByIepm0HJyQGvrbw9sdHJAY7X1twd2ckBbf3tgo3dyQFRJAQk/eXJATBOHsdp6ckBE3QxadnxyQDynkgISfnJANXEYq61/ckAtO55TSYFyQCUFJPzkgnJAHs+ppICEckAWmS9NHIZyQA5jtfW3h3JABi07nlOJckD/9sBG74pyQPfARu+KjHJA74rMlyaOckDoVFJAwo9yQOAe2OhdkXJA2OhdkfmSckDQsuM5lZRyQMl8aeIwlnJAwUbvisyXckC5EHUzaJlyQLLa+tsDm3JAqqSAhJ+cckCibgYtO55yQJo4jNXWn3JAkwISfnKhckCLzJcmDqNyQIOWHc+ppHJAfGCjd0WmckB0Kikg4adyQGz0rsh8qXJAZL40cRirckBdiLoZtKxyQFVSQMJPrnJATRzGauuvckBG5ksTh7FyQD6w0bsis3JANnpXZL60ckAuRN0MWrZyQCcOY7X1t3JAH9joXZG5ckAXom4GLbtyQA9s9K7IvHJACDZ6V2S+ckAAAAAAAMByQA==\"},\"shape\":[200],\"dtype\":\"float64\",\"order\":\"little\"}],[\"y\",{\"type\":\"ndarray\",\"array\":{\"type\":\"bytes\",\"data\":\"/a0ztsdx2rYN6lW3qzdMt3/uAbgg3u+4Fyd4uAPtkbh0Lbi4pb0Aufv4CLndnIW5zQmnuIbVITvhxg878INaO50InjtiNsI7CyMrPPY7aDza4V48TCWGPCTJ5jytxg89oaxMPRidgT3GEos9PKG1PeSlzT3r6uA9kQ3kPZ9H4z28t9k9TJzAPYSzrT0SOos9YU9UPd6NKz3ApjE7zSM2ugAcS7tKCZC7wGyxuzoD0bvaLuy7k3bgu3p6zLuN3Ki7x7mEu1oUHrsAoou5AN5APPDphTwAk4o8sPyFPIC2WzwYt6w8UBa0PKBCrzzIRPc8sLT8PDy/UD1oi3c9OPV1PbOLoD2MWKk9i3++Pfslyz0ONtI9XkLKPTfktj2gOsA98BK5PRJquT2Qnrc9hL21PdjitD20rr49JTfQPfSz6D3qg/Y90ev3PV35Bz7qzwY+VokSPpdDHj5/WyY+V5YqPmlINT4VAD0+RrBGPpB0UT4DpGE+bENzPixjfz4ndYo+qB6RPkvsmz66AqU+HvGvPtmYuD4ossU+upPSPo7B3z6sYu0+9nf6PjJ2Aj/2aQc/tioNP3y/ED+KgBQ/2qQWP8ruFz84vxg/DDcYPxDKFj/y4BQ/lmUSP/4XDz/QUgs/s6gHP1hkAz8gNP4+dWH2PofA7D7vy+Q+qf7XPpNJ0D6OIco+wti9PrDAsj6FVqs+UuuiPlGYmD62wI0+MS+HPp7agT6tpXg+VF9rPiRwXT5yL1M+EmFKPjgOPz7p7zU+tr8sPg0LJT6UVCE+/JQYPlEqFz7JoRU+z8IVPp32Fj6KmhY+vFgdPlzlIT4ocyU+U2YmPkL9KD5gGCo+1JwqPu6oKj6reCk+T0IpPnniLD60kSw+OG0sPgIwKz6q/Cw+3youPjoSLj48by8+9s4tPqSlLz6rgi8+4mowPnKGMD4mPi0+EFEsPokJLz5pYi0+7XYrPpCSKj4Ypig+j90oPutJJj5Syyc+GiYqPnrhJj6hVi4+VJ0sPtlcMD5ZPi8+pp0vPjgoLT6LISo+pqUmPqDnJT72dCI+lHQgPhCEHz4=\"},\"shape\":[200],\"dtype\":\"float32\",\"order\":\"little\"}]]}}},\"view\":{\"type\":\"object\",\"name\":\"CDSView\",\"id\":\"p4914\",\"attributes\":{\"filter\":{\"type\":\"object\",\"name\":\"AllIndices\",\"id\":\"p4915\"}}},\"glyph\":{\"type\":\"object\",\"name\":\"Line\",\"id\":\"p4910\",\"attributes\":{\"x\":{\"type\":\"field\",\"field\":\"x\"},\"y\":{\"type\":\"field\",\"field\":\"y\"},\"line_color\":\"#DDAA33\",\"line_width\":3}},\"nonselection_glyph\":{\"type\":\"object\",\"name\":\"Line\",\"id\":\"p4911\",\"attributes\":{\"x\":{\"type\":\"field\",\"field\":\"x\"},\"y\":{\"type\":\"field\",\"field\":\"y\"},\"line_color\":\"#DDAA33\",\"line_alpha\":0.1,\"line_width\":3}},\"muted_glyph\":{\"type\":\"object\",\"name\":\"Line\",\"id\":\"p4912\",\"attributes\":{\"x\":{\"type\":\"field\",\"field\":\"x\"},\"y\":{\"type\":\"field\",\"field\":\"y\"},\"line_color\":\"#DDAA33\",\"line_alpha\":0.2,\"line_width\":3}}}}],\"toolbar\":{\"type\":\"object\",\"name\":\"Toolbar\",\"id\":\"p4871\",\"attributes\":{\"logo\":null,\"tools\":[{\"type\":\"object\",\"name\":\"PanTool\",\"id\":\"p4885\"},{\"type\":\"object\",\"name\":\"WheelZoomTool\",\"id\":\"p4886\",\"attributes\":{\"renderers\":\"auto\"}},{\"type\":\"object\",\"name\":\"BoxZoomTool\",\"id\":\"p4887\",\"attributes\":{\"overlay\":{\"type\":\"object\",\"name\":\"BoxAnnotation\",\"id\":\"p4888\",\"attributes\":{\"syncable\":false,\"level\":\"overlay\",\"visible\":false,\"left\":{\"type\":\"number\",\"value\":\"nan\"},\"right\":{\"type\":\"number\",\"value\":\"nan\"},\"top\":{\"type\":\"number\",\"value\":\"nan\"},\"bottom\":{\"type\":\"number\",\"value\":\"nan\"},\"left_units\":\"canvas\",\"right_units\":\"canvas\",\"top_units\":\"canvas\",\"bottom_units\":\"canvas\",\"line_color\":\"black\",\"line_alpha\":1.0,\"line_width\":2,\"line_dash\":[4,4],\"fill_color\":\"lightgrey\",\"fill_alpha\":0.5}}}},{\"type\":\"object\",\"name\":\"SaveTool\",\"id\":\"p4893\"},{\"type\":\"object\",\"name\":\"ResetTool\",\"id\":\"p4894\"},{\"type\":\"object\",\"name\":\"HelpTool\",\"id\":\"p4895\"}]}},\"toolbar_location\":null,\"left\":[{\"type\":\"object\",\"name\":\"LinearAxis\",\"id\":\"p4880\",\"attributes\":{\"ticker\":{\"type\":\"object\",\"name\":\"BasicTicker\",\"id\":\"p4881\",\"attributes\":{\"mantissas\":[1,2,5]}},\"formatter\":{\"type\":\"object\",\"name\":\"BasicTickFormatter\",\"id\":\"p4882\"},\"axis_label\":\"arb. units\",\"axis_label_text_font_size\":\"24px\",\"major_label_policy\":{\"type\":\"object\",\"name\":\"AllLabels\",\"id\":\"p4883\"},\"major_label_text_color\":null,\"major_tick_line_color\":null,\"minor_tick_line_color\":null}}],\"below\":[{\"type\":\"object\",\"name\":\"LinearAxis\",\"id\":\"p4875\",\"attributes\":{\"ticker\":{\"type\":\"object\",\"name\":\"BasicTicker\",\"id\":\"p4876\",\"attributes\":{\"desired_num_ticks\":3,\"mantissas\":[1,2,5]}},\"formatter\":{\"type\":\"object\",\"name\":\"BasicTickFormatter\",\"id\":\"p4877\"},\"axis_label\":\"Photon Energy (eV)\",\"axis_label_text_font_size\":\"24px\",\"major_label_policy\":{\"type\":\"object\",\"name\":\"AllLabels\",\"id\":\"p4878\"},\"major_label_text_font_size\":\"24px\",\"major_tick_line_width\":2,\"major_tick_in\":0,\"major_tick_out\":10,\"minor_tick_line_width\":2,\"minor_tick_out\":6}}],\"center\":[{\"type\":\"object\",\"name\":\"Grid\",\"id\":\"p4879\",\"attributes\":{\"axis\":{\"id\":\"p4875\"},\"grid_line_color\":\"grey\",\"grid_line_alpha\":0.3,\"grid_line_width\":1.5,\"grid_line_dash\":[6]}},{\"type\":\"object\",\"name\":\"Grid\",\"id\":\"p4884\",\"attributes\":{\"dimension\":1,\"axis\":{\"id\":\"p4880\"},\"grid_line_color\":\"grey\",\"grid_line_alpha\":0.3,\"grid_line_width\":1.5,\"grid_line_dash\":[6]}},{\"type\":\"object\",\"name\":\"Legend\",\"id\":\"p4905\",\"attributes\":{\"location\":\"bottom_right\",\"label_text_font_size\":\"20px\",\"items\":[{\"type\":\"object\",\"name\":\"LegendItem\",\"id\":\"p4906\",\"attributes\":{\"label\":{\"type\":\"value\",\"value\":\"True\"},\"renderers\":[{\"id\":\"p4902\"}]}},{\"type\":\"object\",\"name\":\"LegendItem\",\"id\":\"p4916\",\"attributes\":{\"label\":{\"type\":\"value\",\"value\":\"ML Model\"},\"renderers\":[{\"id\":\"p4913\"}]}}]}}],\"min_border\":25}},{\"type\":\"object\",\"name\":\"Figure\",\"id\":\"p4917\",\"attributes\":{\"width\":350,\"height\":350,\"x_range\":{\"type\":\"object\",\"name\":\"Range1d\",\"id\":\"p4926\",\"attributes\":{\"start\":280,\"end\":300}},\"y_range\":{\"type\":\"object\",\"name\":\"DataRange1d\",\"id\":\"p4919\"},\"x_scale\":{\"type\":\"object\",\"name\":\"LinearScale\",\"id\":\"p4927\"},\"y_scale\":{\"type\":\"object\",\"name\":\"LinearScale\",\"id\":\"p4928\"},\"title\":{\"type\":\"object\",\"name\":\"Title\",\"id\":\"p4924\"},\"outline_line_color\":\"black\",\"outline_line_width\":2,\"renderers\":[{\"type\":\"object\",\"name\":\"GlyphRenderer\",\"id\":\"p4956\",\"attributes\":{\"data_source\":{\"type\":\"object\",\"name\":\"ColumnDataSource\",\"id\":\"p4950\",\"attributes\":{\"selected\":{\"type\":\"object\",\"name\":\"Selection\",\"id\":\"p4951\",\"attributes\":{\"indices\":[],\"line_indices\":[]}},\"selection_policy\":{\"type\":\"object\",\"name\":\"UnionRenderers\",\"id\":\"p4952\"},\"data\":{\"type\":\"map\",\"entries\":[[\"x\",{\"type\":\"ndarray\",\"array\":{\"type\":\"bytes\",\"data\":\"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\"},\"shape\":[200],\"dtype\":\"float64\",\"order\":\"little\"}],[\"y\",{\"type\":\"ndarray\",\"array\":{\"type\":\"bytes\",\"data\":\"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\"},\"shape\":[200],\"dtype\":\"float64\",\"order\":\"little\"}]]}}},\"view\":{\"type\":\"object\",\"name\":\"CDSView\",\"id\":\"p4957\",\"attributes\":{\"filter\":{\"type\":\"object\",\"name\":\"AllIndices\",\"id\":\"p4958\"}}},\"glyph\":{\"type\":\"object\",\"name\":\"Line\",\"id\":\"p4953\",\"attributes\":{\"x\":{\"type\":\"field\",\"field\":\"x\"},\"y\":{\"type\":\"field\",\"field\":\"y\"},\"line_color\":\"#004488\",\"line_width\":3}},\"nonselection_glyph\":{\"type\":\"object\",\"name\":\"Line\",\"id\":\"p4954\",\"attributes\":{\"x\":{\"type\":\"field\",\"field\":\"x\"},\"y\":{\"type\":\"field\",\"field\":\"y\"},\"line_color\":\"#004488\",\"line_alpha\":0.1,\"line_width\":3}},\"muted_glyph\":{\"type\":\"object\",\"name\":\"Line\",\"id\":\"p4955\",\"attributes\":{\"x\":{\"type\":\"field\",\"field\":\"x\"},\"y\":{\"type\":\"field\",\"field\":\"y\"},\"line_color\":\"#004488\",\"line_alpha\":0.2,\"line_width\":3}}}},{\"type\":\"object\",\"name\":\"GlyphRenderer\",\"id\":\"p4967\",\"attributes\":{\"data_source\":{\"type\":\"object\",\"name\":\"ColumnDataSource\",\"id\":\"p4961\",\"attributes\":{\"selected\":{\"type\":\"object\",\"name\":\"Selection\",\"id\":\"p4962\",\"attributes\":{\"indices\":[],\"line_indices\":[]}},\"selection_policy\":{\"type\":\"object\",\"name\":\"UnionRenderers\",\"id\":\"p4963\"},\"data\":{\"type\":\"map\",\"entries\":[[\"x\",{\"type\":\"ndarray\",\"array\":{\"type\":\"bytes\",\"data\":\"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\"},\"shape\":[200],\"dtype\":\"float64\",\"order\":\"little\"}],[\"y\",{\"type\":\"ndarray\",\"array\":{\"type\":\"bytes\",\"data\":\"IvMPtWoTgLU6q/a1xt4ZOGCTlDZwuJ63jFJtOSI9BjoKhkk6oshaOrA1jTrAJfQ5lGK/OpzmzDrafJm3cqCPueNr+LnQsFS6O1mHuiqbtrpr5AG70l0gu5nbLbvVEje7qk5Hu2WnIbsLuN66Iq85OwSv0jxYwk894D2VPSTYuz22Ods9zi4APpFmEj7iRx8+eVQoPhIuNz7XwUE+C6dJPiSVUD53610+DJZuPpZ3gD4ef4s+TR+ZPoxSqT7uI7w+pDvTPozJ5z4fcPg+ZRcEP9wYCT8pQwo/xroJP+KBAD+vDOg+RF3JPr18qj5W+4M+hX1JPr2nDT683rQ9ym6yPZLXJT1weC08FCTjPBBEtDxIrpU8iPyMPLhpBzxwy5w8wL+zPED3wjx4J+w8wAcHPZbKCz18bhw9kGEdPQKfFj38+eY8cGY8POdZh7qzo8G7txntu8XOA7wI6x+81/VBvLUmQ7yqY1G8xetGvJ0CMLxjGwq8Q5G7u42VYrua0Xe6QMVDPEgW3TxEbxM9gIwoPWA+MD0UCCw9ZAQlPVxSID2ASy09UEhKPQDIbj2An5k9mIjFPbKd/z1S6iA+C8JEPupCbz6X84w+T++gPmJnsz6mMMk++lHZPj7H7j4A8Pw+M84GP0T+Cz9j2BA/JNoTP6olFj9i3xU/ir0WP5AaEz+JBg4/0r4KPyqBBj/kGQE/7nn4Pl0T8D7eTOg+55nfPgPX1j5Las4+OqHHPqJEvT7MCbQ+kpmoPppqoj54x5Y+EN+QPtb8iz5vIog+yI2CPpdTgj7u9oE+aIuCPnHnhD5op4g+EHiKPnHbjT7ww5A+jOuTPoEilj6bXJg+cqWZPrzMmj7vJJs+hSCaPj7Bmz6SPZw+a0qbPtBKlz7JpJY+gIeXPja0lj5PspQ+qU6XPjuqlj42h5Y+BpuXPpo4mD7OyZc+wTaYPgvWlD612ZQ+p4qTPmHOjj4uBY0+rtKLPiC5iT5VS4c+fEyGPpzHhT7aMoQ+aCmCPlx9gj5g34E+TTaAPuv1eT7o+nk+AnFyPo4ZaT4gdGM+XSJiPodbWz4=\"},\"shape\":[200],\"dtype\":\"float32\",\"order\":\"little\"}]]}}},\"view\":{\"type\":\"object\",\"name\":\"CDSView\",\"id\":\"p4968\",\"attributes\":{\"filter\":{\"type\":\"object\",\"name\":\"AllIndices\",\"id\":\"p4969\"}}},\"glyph\":{\"type\":\"object\",\"name\":\"Line\",\"id\":\"p4964\",\"attributes\":{\"x\":{\"type\":\"field\",\"field\":\"x\"},\"y\":{\"type\":\"field\",\"field\":\"y\"},\"line_color\":\"#DDAA33\",\"line_width\":3}},\"nonselection_glyph\":{\"type\":\"object\",\"name\":\"Line\",\"id\":\"p4965\",\"attributes\":{\"x\":{\"type\":\"field\",\"field\":\"x\"},\"y\":{\"type\":\"field\",\"field\":\"y\"},\"line_color\":\"#DDAA33\",\"line_alpha\":0.1,\"line_width\":3}},\"muted_glyph\":{\"type\":\"object\",\"name\":\"Line\",\"id\":\"p4966\",\"attributes\":{\"x\":{\"type\":\"field\",\"field\":\"x\"},\"y\":{\"type\":\"field\",\"field\":\"y\"},\"line_color\":\"#DDAA33\",\"line_alpha\":0.2,\"line_width\":3}}}}],\"toolbar\":{\"type\":\"object\",\"name\":\"Toolbar\",\"id\":\"p4925\",\"attributes\":{\"logo\":null,\"tools\":[{\"type\":\"object\",\"name\":\"PanTool\",\"id\":\"p4939\"},{\"type\":\"object\",\"name\":\"WheelZoomTool\",\"id\":\"p4940\",\"attributes\":{\"renderers\":\"auto\"}},{\"type\":\"object\",\"name\":\"BoxZoomTool\",\"id\":\"p4941\",\"attributes\":{\"overlay\":{\"type\":\"object\",\"name\":\"BoxAnnotation\",\"id\":\"p4942\",\"attributes\":{\"syncable\":false,\"level\":\"overlay\",\"visible\":false,\"left\":{\"type\":\"number\",\"value\":\"nan\"},\"right\":{\"type\":\"number\",\"value\":\"nan\"},\"top\":{\"type\":\"number\",\"value\":\"nan\"},\"bottom\":{\"type\":\"number\",\"value\":\"nan\"},\"left_units\":\"canvas\",\"right_units\":\"canvas\",\"top_units\":\"canvas\",\"bottom_units\":\"canvas\",\"line_color\":\"black\",\"line_alpha\":1.0,\"line_width\":2,\"line_dash\":[4,4],\"fill_color\":\"lightgrey\",\"fill_alpha\":0.5}}}},{\"type\":\"object\",\"name\":\"SaveTool\",\"id\":\"p4947\"},{\"type\":\"object\",\"name\":\"ResetTool\",\"id\":\"p4948\"},{\"type\":\"object\",\"name\":\"HelpTool\",\"id\":\"p4949\"}]}},\"toolbar_location\":null,\"left\":[{\"type\":\"object\",\"name\":\"LinearAxis\",\"id\":\"p4934\",\"attributes\":{\"ticker\":{\"type\":\"object\",\"name\":\"BasicTicker\",\"id\":\"p4935\",\"attributes\":{\"mantissas\":[1,2,5]}},\"formatter\":{\"type\":\"object\",\"name\":\"BasicTickFormatter\",\"id\":\"p4936\"},\"axis_label\":\"arb. units\",\"axis_label_text_font_size\":\"24px\",\"major_label_policy\":{\"type\":\"object\",\"name\":\"AllLabels\",\"id\":\"p4937\"},\"major_label_text_color\":null,\"major_tick_line_color\":null,\"minor_tick_line_color\":null}}],\"below\":[{\"type\":\"object\",\"name\":\"LinearAxis\",\"id\":\"p4929\",\"attributes\":{\"ticker\":{\"type\":\"object\",\"name\":\"BasicTicker\",\"id\":\"p4930\",\"attributes\":{\"desired_num_ticks\":3,\"mantissas\":[1,2,5]}},\"formatter\":{\"type\":\"object\",\"name\":\"BasicTickFormatter\",\"id\":\"p4931\"},\"axis_label\":\"Photon Energy (eV)\",\"axis_label_text_font_size\":\"24px\",\"major_label_policy\":{\"type\":\"object\",\"name\":\"AllLabels\",\"id\":\"p4932\"},\"major_label_text_font_size\":\"24px\",\"major_tick_line_width\":2,\"major_tick_in\":0,\"major_tick_out\":10,\"minor_tick_line_width\":2,\"minor_tick_out\":6}}],\"center\":[{\"type\":\"object\",\"name\":\"Grid\",\"id\":\"p4933\",\"attributes\":{\"axis\":{\"id\":\"p4929\"},\"grid_line_color\":\"grey\",\"grid_line_alpha\":0.3,\"grid_line_width\":1.5,\"grid_line_dash\":[6]}},{\"type\":\"object\",\"name\":\"Grid\",\"id\":\"p4938\",\"attributes\":{\"dimension\":1,\"axis\":{\"id\":\"p4934\"},\"grid_line_color\":\"grey\",\"grid_line_alpha\":0.3,\"grid_line_width\":1.5,\"grid_line_dash\":[6]}},{\"type\":\"object\",\"name\":\"Legend\",\"id\":\"p4959\",\"attributes\":{\"location\":\"bottom_right\",\"label_text_font_size\":\"20px\",\"items\":[{\"type\":\"object\",\"name\":\"LegendItem\",\"id\":\"p4960\",\"attributes\":{\"label\":{\"type\":\"value\",\"value\":\"True\"},\"renderers\":[{\"id\":\"p4956\"}]}},{\"type\":\"object\",\"name\":\"LegendItem\",\"id\":\"p4970\",\"attributes\":{\"label\":{\"type\":\"value\",\"value\":\"ML Model\"},\"renderers\":[{\"id\":\"p4967\"}]}}]}}],\"min_border\":25}}]}}]}};\n  const render_items = [{\"docid\":\"2aa7bc7e-557a-47e8-9656-f1f0209c8766\",\"roots\":{\"p4971\":\"bfeb320a-e00d-4898-932d-cc6347124bf1\"},\"root_ids\":[\"p4971\"]}];\n  void root.Bokeh.embed.embed_items_notebook(docs_json, render_items);\n  }\n  if (root.Bokeh !== undefined) {\n    embed_document(root);\n  } else {\n    let attempts = 0;\n    const timer = setInterval(function(root) {\n      if (root.Bokeh !== undefined) {\n        clearInterval(timer);\n        embed_document(root);\n      } else {\n        attempts++;\n        if (attempts > 100) {\n          clearInterval(timer);\n          console.log(\"Bokeh: ERROR: Unable to run BokehJS code because BokehJS library is missing\");\n        }\n      }\n    }, 10, root)\n  }\n})(window);",
      "application/vnd.bokehjs_exec.v0+json": ""
     },
     "metadata": {
      "application/vnd.bokehjs_exec.v0+json": {
       "id": "p4971"
      }
     },
     "output_type": "display_data"
    }
   ],
   "source": [
    "# --- Plot worst spectra prediction\n",
    "p1 = bokeh_spectra(predict[rank_graph[-1]], true[rank_graph[-1]])\n",
    "p2 = bokeh_spectra(predict[rank_graph[-2]], true[rank_graph[-2]])\n",
    "p3 = bokeh_spectra(predict[rank_graph[-3]], true[rank_graph[-3]])\n",
    "p = row(p1, p2, p3)\n",
    "show(p)\n",
    "#export_png(p, filename='worst.png')"
   ]
  },
  {
   "cell_type": "code",
   "execution_count": 78,
   "metadata": {},
   "outputs": [
    {
     "data": {
      "text/html": [
       "\n",
       "  <div id=\"d0c2efa4-7db7-400c-b8fa-a9fb7b6832e3\" data-root-id=\"p4228\" style=\"display: contents;\"></div>\n"
      ]
     },
     "metadata": {},
     "output_type": "display_data"
    },
    {
     "data": {
      "application/javascript": "(function(root) {\n  function embed_document(root) {\n  const docs_json = {\"84f58137-48fc-4de9-86a9-5d19a9514dff\":{\"version\":\"3.4.0\",\"title\":\"Bokeh Application\",\"roots\":[{\"type\":\"object\",\"name\":\"Figure\",\"id\":\"p4228\",\"attributes\":{\"width\":500,\"height\":450,\"x_range\":{\"type\":\"object\",\"name\":\"Range1d\",\"id\":\"p4237\",\"attributes\":{\"start\":0.07,\"end\":0.5}},\"y_range\":{\"type\":\"object\",\"name\":\"Range1d\",\"id\":\"p4238\",\"attributes\":{\"end\":12.522592625342657}},\"x_scale\":{\"type\":\"object\",\"name\":\"LinearScale\",\"id\":\"p4239\"},\"y_scale\":{\"type\":\"object\",\"name\":\"LinearScale\",\"id\":\"p4240\"},\"title\":{\"type\":\"object\",\"name\":\"Title\",\"id\":\"p4235\"},\"outline_line_color\":\"black\",\"outline_line_width\":2,\"renderers\":[{\"type\":\"object\",\"name\":\"GlyphRenderer\",\"id\":\"p4273\",\"attributes\":{\"data_source\":{\"type\":\"object\",\"name\":\"ColumnDataSource\",\"id\":\"p4267\",\"attributes\":{\"selected\":{\"type\":\"object\",\"name\":\"Selection\",\"id\":\"p4268\",\"attributes\":{\"indices\":[],\"line_indices\":[]}},\"selection_policy\":{\"type\":\"object\",\"name\":\"UnionRenderers\",\"id\":\"p4269\"},\"data\":{\"type\":\"map\",\"entries\":[[\"top\",{\"type\":\"ndarray\",\"array\":{\"type\":\"bytes\",\"data\":\"TQqGhLOn2T9NCoaEs6fpPwpJ9RO9cgZAbMbTMtAIIEB69LVCkQslQKt7Wzx3CiNAECcca0ujIUCEXIPJYkQfQLCpPUw4DRhA8/s6keepDUCqGNF3f6UFQKDLFvWp3Pw/YldAB4lwAkATuIg/BAsEQFdXQAeJcAJAf+is20HY9D82CoaEs6f5P/tqzrwuQvs/oMsW9anc7D8KSfUTvXLmPzYKhoSzp9k/Ckn1E71y5j9VCoaEs6fZP8CHZKPGPdM/VQqGhLOnuT82CoaEs6fJP1UKhoSzp7k/VQqGhLOnuT9VCoaEs6fJPzYKhoSzp8k/AAAAAAAAAAAAAAAAAAAAAFUKhoSzp7k/AAAAAAAAAAA=\"},\"shape\":[34],\"dtype\":\"float64\",\"order\":\"little\"}],[\"left\",{\"type\":\"ndarray\",\"array\":{\"type\":\"bytes\",\"data\":\"7FG4HoXrsT8p9cGOWyi1P2aYy/4xZbg/ojvVbgiiuz/g3t7e3t6+Pw5BdKfaDcE/rBJ530Wswj9L5H0XsUrEP+q1gk8c6cU/iIeHh4eHxz8mWYy/8iXJP8UqkfddxMo/Y/yVL8lizD8CzppnNAHOP6Cfn5+fn88/oDjSawWf0D9uodQHO27RPz4K16NwPdI/DXPZP6YM0z/c29vb29vTP6tE3ncRq9Q/e63gE0d61T9KFuOvfEnWPxl/5UuyGNc/6Ofn5+fn1z+3UOqDHbfYP4e57B9Thtk/ViLvu4hV2j8li/FXviTbP/Tz8/Pz89s/xFz2jynD3D+TxfgrX5LdP2Iu+8eUYd4/MZf9Y8ow3z8=\"},\"shape\":[34],\"dtype\":\"float64\",\"order\":\"little\"}],[\"right\",{\"type\":\"ndarray\",\"array\":{\"type\":\"bytes\",\"data\":\"KfXBjlsotT9mmMv+MWW4P6I71W4Iors/4N7e3t7evj8OQXSn2g3BP6wSed9FrMI/S+R9F7FKxD/qtYJPHOnFP4iHh4eHh8c/JlmMv/IlyT/FKpH3XcTKP2P8lS/JYsw/As6aZzQBzj+gn5+fn5/PP6A40msFn9A/bqHUBztu0T8+CtejcD3SPw1z2T+mDNM/3Nvb29vb0z+rRN53EavUP3ut4BNHetU/Shbjr3xJ1j8Zf+VLshjXP+jn5+fn59c/t1Dqgx232D+HuewfU4bZP1Yi77uIVdo/JYvxV74k2z/08/Pz8/PbP8Rc9o8pw9w/k8X4K1+S3T9iLvvHlGHePzGX/WPKMN8/AAAAAAAA4D8=\"},\"shape\":[34],\"dtype\":\"float64\",\"order\":\"little\"}]]}}},\"view\":{\"type\":\"object\",\"name\":\"CDSView\",\"id\":\"p4274\",\"attributes\":{\"filter\":{\"type\":\"object\",\"name\":\"AllIndices\",\"id\":\"p4275\"}}},\"glyph\":{\"type\":\"object\",\"name\":\"Quad\",\"id\":\"p4270\",\"attributes\":{\"left\":{\"type\":\"field\",\"field\":\"left\"},\"right\":{\"type\":\"field\",\"field\":\"right\"},\"bottom\":{\"type\":\"value\",\"value\":0},\"top\":{\"type\":\"field\",\"field\":\"top\"},\"fill_color\":{\"type\":\"value\",\"value\":\"skyblue\"}}},\"nonselection_glyph\":{\"type\":\"object\",\"name\":\"Quad\",\"id\":\"p4271\",\"attributes\":{\"left\":{\"type\":\"field\",\"field\":\"left\"},\"right\":{\"type\":\"field\",\"field\":\"right\"},\"bottom\":{\"type\":\"value\",\"value\":0},\"top\":{\"type\":\"field\",\"field\":\"top\"},\"line_alpha\":{\"type\":\"value\",\"value\":0.1},\"fill_color\":{\"type\":\"value\",\"value\":\"skyblue\"},\"fill_alpha\":{\"type\":\"value\",\"value\":0.1},\"hatch_alpha\":{\"type\":\"value\",\"value\":0.1}}},\"muted_glyph\":{\"type\":\"object\",\"name\":\"Quad\",\"id\":\"p4272\",\"attributes\":{\"left\":{\"type\":\"field\",\"field\":\"left\"},\"right\":{\"type\":\"field\",\"field\":\"right\"},\"bottom\":{\"type\":\"value\",\"value\":0},\"top\":{\"type\":\"field\",\"field\":\"top\"},\"line_alpha\":{\"type\":\"value\",\"value\":0.2},\"fill_color\":{\"type\":\"value\",\"value\":\"skyblue\"},\"fill_alpha\":{\"type\":\"value\",\"value\":0.2},\"hatch_alpha\":{\"type\":\"value\",\"value\":0.2}}}}},{\"type\":\"object\",\"name\":\"Span\",\"id\":\"p4276\",\"attributes\":{\"location\":0.17512844971228192,\"dimension\":\"height\",\"line_width\":3,\"line_dash\":[6]}}],\"toolbar\":{\"type\":\"object\",\"name\":\"Toolbar\",\"id\":\"p4236\",\"attributes\":{\"logo\":null,\"tools\":[{\"type\":\"object\",\"name\":\"PanTool\",\"id\":\"p4251\"},{\"type\":\"object\",\"name\":\"WheelZoomTool\",\"id\":\"p4252\",\"attributes\":{\"renderers\":\"auto\"}},{\"type\":\"object\",\"name\":\"BoxZoomTool\",\"id\":\"p4253\",\"attributes\":{\"overlay\":{\"type\":\"object\",\"name\":\"BoxAnnotation\",\"id\":\"p4254\",\"attributes\":{\"syncable\":false,\"level\":\"overlay\",\"visible\":false,\"left\":{\"type\":\"number\",\"value\":\"nan\"},\"right\":{\"type\":\"number\",\"value\":\"nan\"},\"top\":{\"type\":\"number\",\"value\":\"nan\"},\"bottom\":{\"type\":\"number\",\"value\":\"nan\"},\"left_units\":\"canvas\",\"right_units\":\"canvas\",\"top_units\":\"canvas\",\"bottom_units\":\"canvas\",\"line_color\":\"black\",\"line_alpha\":1.0,\"line_width\":2,\"line_dash\":[4,4],\"fill_color\":\"lightgrey\",\"fill_alpha\":0.5}}}},{\"type\":\"object\",\"name\":\"SaveTool\",\"id\":\"p4259\"},{\"type\":\"object\",\"name\":\"ResetTool\",\"id\":\"p4260\"},{\"type\":\"object\",\"name\":\"HelpTool\",\"id\":\"p4261\"}]}},\"toolbar_location\":null,\"left\":[{\"type\":\"object\",\"name\":\"LinearAxis\",\"id\":\"p4246\",\"attributes\":{\"ticker\":{\"type\":\"object\",\"name\":\"BasicTicker\",\"id\":\"p4247\",\"attributes\":{\"mantissas\":[1,2,5]}},\"formatter\":{\"type\":\"object\",\"name\":\"BasicTickFormatter\",\"id\":\"p4248\"},\"axis_label\":\"Frequency\",\"axis_label_text_font_size\":\"24px\",\"major_label_policy\":{\"type\":\"object\",\"name\":\"AllLabels\",\"id\":\"p4249\"},\"major_label_text_color\":\"black\",\"major_label_text_font_size\":\"24px\",\"major_tick_line_width\":2,\"major_tick_in\":0,\"major_tick_out\":10,\"minor_tick_line_color\":null}}],\"below\":[{\"type\":\"object\",\"name\":\"LinearAxis\",\"id\":\"p4241\",\"attributes\":{\"ticker\":{\"type\":\"object\",\"name\":\"BasicTicker\",\"id\":\"p4242\",\"attributes\":{\"desired_num_ticks\":4,\"mantissas\":[1,2,5]}},\"formatter\":{\"type\":\"object\",\"name\":\"BasicTickFormatter\",\"id\":\"p4243\"},\"axis_label\":\"RSE value\",\"axis_label_text_font_size\":\"24px\",\"major_label_policy\":{\"type\":\"object\",\"name\":\"AllLabels\",\"id\":\"p4244\"},\"major_label_text_font_size\":\"24px\",\"major_tick_line_width\":2,\"major_tick_in\":0,\"major_tick_out\":10,\"minor_tick_line_width\":2,\"minor_tick_out\":6}},{\"type\":\"object\",\"name\":\"LinearAxis\",\"id\":\"p4263\",\"attributes\":{\"ticker\":{\"type\":\"object\",\"name\":\"SingleIntervalTicker\",\"id\":\"p4262\",\"attributes\":{\"interval\":20}},\"formatter\":{\"type\":\"object\",\"name\":\"BasicTickFormatter\",\"id\":\"p4265\"},\"major_label_policy\":{\"type\":\"object\",\"name\":\"AllLabels\",\"id\":\"p4266\"}}}],\"center\":[{\"type\":\"object\",\"name\":\"Grid\",\"id\":\"p4245\",\"attributes\":{\"axis\":{\"id\":\"p4241\"},\"grid_line_color\":\"grey\",\"grid_line_alpha\":0.3,\"grid_line_width\":1.5,\"grid_line_dash\":[6]}},{\"type\":\"object\",\"name\":\"Grid\",\"id\":\"p4250\",\"attributes\":{\"dimension\":1,\"axis\":{\"id\":\"p4246\"},\"grid_line_color\":\"grey\",\"grid_line_alpha\":0.3,\"grid_line_width\":1.5,\"grid_line_dash\":[6]}},{\"type\":\"object\",\"name\":\"Label\",\"id\":\"p4277\",\"attributes\":{\"text\":\"RSE = 0.166\",\"text_font_size\":\"24px\",\"x\":0.19,\"y\":11}}],\"min_border\":25}}]}};\n  const render_items = [{\"docid\":\"84f58137-48fc-4de9-86a9-5d19a9514dff\",\"roots\":{\"p4228\":\"d0c2efa4-7db7-400c-b8fa-a9fb7b6832e3\"},\"root_ids\":[\"p4228\"]}];\n  void root.Bokeh.embed.embed_items_notebook(docs_json, render_items);\n  }\n  if (root.Bokeh !== undefined) {\n    embed_document(root);\n  } else {\n    let attempts = 0;\n    const timer = setInterval(function(root) {\n      if (root.Bokeh !== undefined) {\n        clearInterval(timer);\n        embed_document(root);\n      } else {\n        attempts++;\n        if (attempts > 100) {\n          clearInterval(timer);\n          console.log(\"Bokeh: ERROR: Unable to run BokehJS code because BokehJS library is missing\");\n        }\n      }\n    }, 10, root)\n  }\n})(window);",
      "application/vnd.bokehjs_exec.v0+json": ""
     },
     "metadata": {
      "application/vnd.bokehjs_exec.v0+json": {
       "id": "p4228"
      }
     },
     "output_type": "display_data"
    },
    {
     "data": {
      "text/plain": [
       "'/home/samjhall/github/GO_molecule_GNN/GO_atom_hist.png'"
      ]
     },
     "execution_count": 78,
     "metadata": {},
     "output_type": "execute_result"
    }
   ],
   "source": [
    "bins = np.linspace(0.07, 0.5, 35)\n",
    "hist, edges = np.histogram(rank_rse, density=True, bins=bins)\n",
    "average_rse = sum(rse) / len(rse)\n",
    "p_hist = bokeh_hist(hist, edges, average_rse, 2)\n",
    "l1 = Label(x=0.19, y=11, x_units='data', y_units='data', text='RSE = 0.166', text_font_size='24px')\n",
    "p_hist.add_layout(l1)\n",
    "\n",
    "show(p_hist)\n",
    "export_png(p_hist, filename='GO_atom_hist.png')"
   ]
  },
  {
   "cell_type": "code",
   "execution_count": null,
   "metadata": {},
   "outputs": [],
   "source": []
  }
 ],
 "metadata": {
  "kernelspec": {
   "display_name": "pyg",
   "language": "python",
   "name": "python3"
  },
  "language_info": {
   "codemirror_mode": {
    "name": "ipython",
    "version": 3
   },
   "file_extension": ".py",
   "mimetype": "text/x-python",
   "name": "python",
   "nbconvert_exporter": "python",
   "pygments_lexer": "ipython3",
   "version": "3.10.13"
  }
 },
 "nbformat": 4,
 "nbformat_minor": 2
}
