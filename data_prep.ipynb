{
 "cells": [
  {
   "cell_type": "code",
   "execution_count": 2,
   "metadata": {},
   "outputs": [
    {
     "data": {
      "text/html": [
       "    <style>\n",
       "        .bk-notebook-logo {\n",
       "            display: block;\n",
       "            width: 20px;\n",
       "            height: 20px;\n",
       "            background-image: url(data:image/png;base64,iVBORw0KGgoAAAANSUhEUgAAABQAAAAUCAYAAACNiR0NAAAABHNCSVQICAgIfAhkiAAAAAlwSFlzAAALEgAACxIB0t1+/AAAABx0RVh0U29mdHdhcmUAQWRvYmUgRmlyZXdvcmtzIENTNui8sowAAAOkSURBVDiNjZRtaJVlGMd/1/08zzln5zjP1LWcU9N0NkN8m2CYjpgQYQXqSs0I84OLIC0hkEKoPtiH3gmKoiJDU7QpLgoLjLIQCpEsNJ1vqUOdO7ppbuec5+V+rj4ctwzd8IIbbi6u+8f1539dt3A78eXC7QizUF7gyV1fD1Yqg4JWz84yffhm0qkFqBogB9rM8tZdtwVsPUhWhGcFJngGeWrPzHm5oaMmkfEg1usvLFyc8jLRqDOMru7AyC8saQr7GG7f5fvDeH7Ej8CM66nIF+8yngt6HWaKh7k49Soy9nXurCi1o3qUbS3zWfrYeQDTB/Qj6kX6Ybhw4B+bOYoLKCC9H3Nu/leUTZ1JdRWkkn2ldcCamzrcf47KKXdAJllSlxAOkRgyHsGC/zRday5Qld9DyoM4/q/rUoy/CXh3jzOu3bHUVZeU+DEn8FInkPBFlu3+nW3Nw0mk6vCDiWg8CeJaxEwuHS3+z5RgY+YBR6V1Z1nxSOfoaPa4LASWxxdNp+VWTk7+4vzaou8v8PN+xo+KY2xsw6une2frhw05CTYOmQvsEhjhWjn0bmXPjpE1+kplmmkP3suftwTubK9Vq22qKmrBhpY4jvd5afdRA3wGjFAgcnTK2s4hY0/GPNIb0nErGMCRxWOOX64Z8RAC4oCXdklmEvcL8o0BfkNK4lUg9HTl+oPlQxdNo3Mg4Nv175e/1LDGzZen30MEjRUtmXSfiTVu1kK8W4txyV6BMKlbgk3lMwYCiusNy9fVfvvwMxv8Ynl6vxoByANLTWplvuj/nF9m2+PDtt1eiHPBr1oIfhCChQMBw6Aw0UulqTKZdfVvfG7VcfIqLG9bcldL/+pdWTLxLUy8Qq38heUIjh4XlzZxzQm19lLFlr8vdQ97rjZVOLf8nclzckbcD4wxXMidpX30sFd37Fv/GtwwhzhxGVAprjbg0gCAEeIgwCZyTV2Z1REEW8O4py0wsjeloKoMr6iCY6dP92H6Vw/oTyICIthibxjm/DfN9lVz8IqtqKYLUXfoKVMVQVVJOElGjrnnUt9T9wbgp8AyYKaGlqingHZU/uG2NTZSVqwHQTWkx9hxjkpWDaCg6Ckj5qebgBVbT3V3NNXMSiWSDdGV3hrtzla7J+duwPOToIg42ChPQOQjspnSlp1V+Gjdged7+8UN5CRAV7a5EdFNwCjEaBR27b3W890TE7g24NAP/mMDXRWrGoFPQI9ls/MWO2dWFAar/xcOIImbbpA3zgAAAABJRU5ErkJggg==);\n",
       "        }\n",
       "    </style>\n",
       "    <div>\n",
       "        <a href=\"https://bokeh.org\" target=\"_blank\" class=\"bk-notebook-logo\"></a>\n",
       "        <span id=\"f78a3593-b495-45f2-9826-9bbae46a677e\">Loading BokehJS ...</span>\n",
       "    </div>\n"
      ]
     },
     "metadata": {},
     "output_type": "display_data"
    },
    {
     "data": {
      "application/javascript": "(function(root) {\n  function now() {\n    return new Date();\n  }\n\n  const force = true;\n\n  if (typeof root._bokeh_onload_callbacks === \"undefined\" || force === true) {\n    root._bokeh_onload_callbacks = [];\n    root._bokeh_is_loading = undefined;\n  }\n\nconst JS_MIME_TYPE = 'application/javascript';\n  const HTML_MIME_TYPE = 'text/html';\n  const EXEC_MIME_TYPE = 'application/vnd.bokehjs_exec.v0+json';\n  const CLASS_NAME = 'output_bokeh rendered_html';\n\n  /**\n   * Render data to the DOM node\n   */\n  function render(props, node) {\n    const script = document.createElement(\"script\");\n    node.appendChild(script);\n  }\n\n  /**\n   * Handle when an output is cleared or removed\n   */\n  function handleClearOutput(event, handle) {\n    function drop(id) {\n      const view = Bokeh.index.get_by_id(id)\n      if (view != null) {\n        view.model.document.clear()\n        Bokeh.index.delete(view)\n      }\n    }\n\n    const cell = handle.cell;\n\n    const id = cell.output_area._bokeh_element_id;\n    const server_id = cell.output_area._bokeh_server_id;\n\n    // Clean up Bokeh references\n    if (id != null) {\n      drop(id)\n    }\n\n    if (server_id !== undefined) {\n      // Clean up Bokeh references\n      const cmd_clean = \"from bokeh.io.state import curstate; print(curstate().uuid_to_server['\" + server_id + \"'].get_sessions()[0].document.roots[0]._id)\";\n      cell.notebook.kernel.execute(cmd_clean, {\n        iopub: {\n          output: function(msg) {\n            const id = msg.content.text.trim()\n            drop(id)\n          }\n        }\n      });\n      // Destroy server and session\n      const cmd_destroy = \"import bokeh.io.notebook as ion; ion.destroy_server('\" + server_id + \"')\";\n      cell.notebook.kernel.execute(cmd_destroy);\n    }\n  }\n\n  /**\n   * Handle when a new output is added\n   */\n  function handleAddOutput(event, handle) {\n    const output_area = handle.output_area;\n    const output = handle.output;\n\n    // limit handleAddOutput to display_data with EXEC_MIME_TYPE content only\n    if ((output.output_type != \"display_data\") || (!Object.prototype.hasOwnProperty.call(output.data, EXEC_MIME_TYPE))) {\n      return\n    }\n\n    const toinsert = output_area.element.find(\".\" + CLASS_NAME.split(' ')[0]);\n\n    if (output.metadata[EXEC_MIME_TYPE][\"id\"] !== undefined) {\n      toinsert[toinsert.length - 1].firstChild.textContent = output.data[JS_MIME_TYPE];\n      // store reference to embed id on output_area\n      output_area._bokeh_element_id = output.metadata[EXEC_MIME_TYPE][\"id\"];\n    }\n    if (output.metadata[EXEC_MIME_TYPE][\"server_id\"] !== undefined) {\n      const bk_div = document.createElement(\"div\");\n      bk_div.innerHTML = output.data[HTML_MIME_TYPE];\n      const script_attrs = bk_div.children[0].attributes;\n      for (let i = 0; i < script_attrs.length; i++) {\n        toinsert[toinsert.length - 1].firstChild.setAttribute(script_attrs[i].name, script_attrs[i].value);\n        toinsert[toinsert.length - 1].firstChild.textContent = bk_div.children[0].textContent\n      }\n      // store reference to server id on output_area\n      output_area._bokeh_server_id = output.metadata[EXEC_MIME_TYPE][\"server_id\"];\n    }\n  }\n\n  function register_renderer(events, OutputArea) {\n\n    function append_mime(data, metadata, element) {\n      // create a DOM node to render to\n      const toinsert = this.create_output_subarea(\n        metadata,\n        CLASS_NAME,\n        EXEC_MIME_TYPE\n      );\n      this.keyboard_manager.register_events(toinsert);\n      // Render to node\n      const props = {data: data, metadata: metadata[EXEC_MIME_TYPE]};\n      render(props, toinsert[toinsert.length - 1]);\n      element.append(toinsert);\n      return toinsert\n    }\n\n    /* Handle when an output is cleared or removed */\n    events.on('clear_output.CodeCell', handleClearOutput);\n    events.on('delete.Cell', handleClearOutput);\n\n    /* Handle when a new output is added */\n    events.on('output_added.OutputArea', handleAddOutput);\n\n    /**\n     * Register the mime type and append_mime function with output_area\n     */\n    OutputArea.prototype.register_mime_type(EXEC_MIME_TYPE, append_mime, {\n      /* Is output safe? */\n      safe: true,\n      /* Index of renderer in `output_area.display_order` */\n      index: 0\n    });\n  }\n\n  // register the mime type if in Jupyter Notebook environment and previously unregistered\n  if (root.Jupyter !== undefined) {\n    const events = require('base/js/events');\n    const OutputArea = require('notebook/js/outputarea').OutputArea;\n\n    if (OutputArea.prototype.mime_types().indexOf(EXEC_MIME_TYPE) == -1) {\n      register_renderer(events, OutputArea);\n    }\n  }\n  if (typeof (root._bokeh_timeout) === \"undefined\" || force === true) {\n    root._bokeh_timeout = Date.now() + 5000;\n    root._bokeh_failed_load = false;\n  }\n\n  const NB_LOAD_WARNING = {'data': {'text/html':\n     \"<div style='background-color: #fdd'>\\n\"+\n     \"<p>\\n\"+\n     \"BokehJS does not appear to have successfully loaded. If loading BokehJS from CDN, this \\n\"+\n     \"may be due to a slow or bad network connection. Possible fixes:\\n\"+\n     \"</p>\\n\"+\n     \"<ul>\\n\"+\n     \"<li>re-rerun `output_notebook()` to attempt to load from CDN again, or</li>\\n\"+\n     \"<li>use INLINE resources instead, as so:</li>\\n\"+\n     \"</ul>\\n\"+\n     \"<code>\\n\"+\n     \"from bokeh.resources import INLINE\\n\"+\n     \"output_notebook(resources=INLINE)\\n\"+\n     \"</code>\\n\"+\n     \"</div>\"}};\n\n  function display_loaded() {\n    const el = document.getElementById(\"f78a3593-b495-45f2-9826-9bbae46a677e\");\n    if (el != null) {\n      el.textContent = \"BokehJS is loading...\";\n    }\n    if (root.Bokeh !== undefined) {\n      if (el != null) {\n        el.textContent = \"BokehJS \" + root.Bokeh.version + \" successfully loaded.\";\n      }\n    } else if (Date.now() < root._bokeh_timeout) {\n      setTimeout(display_loaded, 100)\n    }\n  }\n\n  function run_callbacks() {\n    try {\n      root._bokeh_onload_callbacks.forEach(function(callback) {\n        if (callback != null)\n          callback();\n      });\n    } finally {\n      delete root._bokeh_onload_callbacks\n    }\n    console.debug(\"Bokeh: all callbacks have finished\");\n  }\n\n  function load_libs(css_urls, js_urls, callback) {\n    if (css_urls == null) css_urls = [];\n    if (js_urls == null) js_urls = [];\n\n    root._bokeh_onload_callbacks.push(callback);\n    if (root._bokeh_is_loading > 0) {\n      console.debug(\"Bokeh: BokehJS is being loaded, scheduling callback at\", now());\n      return null;\n    }\n    if (js_urls == null || js_urls.length === 0) {\n      run_callbacks();\n      return null;\n    }\n    console.debug(\"Bokeh: BokehJS not loaded, scheduling load and callback at\", now());\n    root._bokeh_is_loading = css_urls.length + js_urls.length;\n\n    function on_load() {\n      root._bokeh_is_loading--;\n      if (root._bokeh_is_loading === 0) {\n        console.debug(\"Bokeh: all BokehJS libraries/stylesheets loaded\");\n        run_callbacks()\n      }\n    }\n\n    function on_error(url) {\n      console.error(\"failed to load \" + url);\n    }\n\n    for (let i = 0; i < css_urls.length; i++) {\n      const url = css_urls[i];\n      const element = document.createElement(\"link\");\n      element.onload = on_load;\n      element.onerror = on_error.bind(null, url);\n      element.rel = \"stylesheet\";\n      element.type = \"text/css\";\n      element.href = url;\n      console.debug(\"Bokeh: injecting link tag for BokehJS stylesheet: \", url);\n      document.body.appendChild(element);\n    }\n\n    for (let i = 0; i < js_urls.length; i++) {\n      const url = js_urls[i];\n      const element = document.createElement('script');\n      element.onload = on_load;\n      element.onerror = on_error.bind(null, url);\n      element.async = false;\n      element.src = url;\n      console.debug(\"Bokeh: injecting script tag for BokehJS library: \", url);\n      document.head.appendChild(element);\n    }\n  };\n\n  function inject_raw_css(css) {\n    const element = document.createElement(\"style\");\n    element.appendChild(document.createTextNode(css));\n    document.body.appendChild(element);\n  }\n\n  const js_urls = [\"https://cdn.bokeh.org/bokeh/release/bokeh-3.3.4.min.js\", \"https://cdn.bokeh.org/bokeh/release/bokeh-gl-3.3.4.min.js\", \"https://cdn.bokeh.org/bokeh/release/bokeh-widgets-3.3.4.min.js\", \"https://cdn.bokeh.org/bokeh/release/bokeh-tables-3.3.4.min.js\", \"https://cdn.bokeh.org/bokeh/release/bokeh-mathjax-3.3.4.min.js\"];\n  const css_urls = [];\n\n  const inline_js = [    function(Bokeh) {\n      Bokeh.set_log_level(\"info\");\n    },\nfunction(Bokeh) {\n    }\n  ];\n\n  function run_inline_js() {\n    if (root.Bokeh !== undefined || force === true) {\n          for (let i = 0; i < inline_js.length; i++) {\n      inline_js[i].call(root, root.Bokeh);\n    }\nif (force === true) {\n        display_loaded();\n      }} else if (Date.now() < root._bokeh_timeout) {\n      setTimeout(run_inline_js, 100);\n    } else if (!root._bokeh_failed_load) {\n      console.log(\"Bokeh: BokehJS failed to load within specified timeout.\");\n      root._bokeh_failed_load = true;\n    } else if (force !== true) {\n      const cell = $(document.getElementById(\"f78a3593-b495-45f2-9826-9bbae46a677e\")).parents('.cell').data().cell;\n      cell.output_area.append_execute_result(NB_LOAD_WARNING)\n    }\n  }\n\n  if (root._bokeh_is_loading === 0) {\n    console.debug(\"Bokeh: BokehJS loaded, going straight to plotting\");\n    run_inline_js();\n  } else {\n    load_libs(css_urls, js_urls, function() {\n      console.debug(\"Bokeh: BokehJS plotting callback run at\", now());\n      run_inline_js();\n    });\n  }\n}(window));",
      "application/vnd.bokehjs_load.v0+json": ""
     },
     "metadata": {},
     "output_type": "display_data"
    },
    {
     "data": {
      "text/plain": [
       "'2023.09.5'"
      ]
     },
     "execution_count": 2,
     "metadata": {},
     "output_type": "execute_result"
    }
   ],
   "source": [
    "# --- Standard libraries\n",
    "import os\n",
    "import copy\n",
    "import re\n",
    "import json\n",
    "import numpy as np\n",
    "import pandas as pd\n",
    "from natsort import natsorted\n",
    "# --- Bokeh\n",
    "from bokeh.io import output_notebook, show, export_png, export_svg\n",
    "from bokeh.plotting import figure\n",
    "output_notebook()\n",
    "# --- RDKit\n",
    "import rdkit\n",
    "from rdkit import Chem\n",
    "from rdkit.Chem.rdmolfiles import MolFromXYZFile\n",
    "from rdkit.Chem import rdDetermineBonds\n",
    "from rdkit.Chem.Draw import IPythonConsole\n",
    "IPythonConsole.drawOptions.addAtomIndices=True\n",
    "IPythonConsole.drawOptions.annotationFontScale=0.8\n",
    "IPythonConsole.molSize = 400,400\n",
    "rdkit.__version__"
   ]
  },
  {
   "cell_type": "markdown",
   "metadata": {},
   "source": [
    "### Code functions"
   ]
  },
  {
   "cell_type": "code",
   "execution_count": 4,
   "metadata": {},
   "outputs": [],
   "source": [
    "def rearrange_xyz(path, filename):\n",
    "\n",
    "    '''\n",
    "    Function that rearranges the given .xyz file to move all the\n",
    "    oxygen and hydrogen atoms to the bottom of the file\n",
    "    '''\n",
    "\n",
    "    # --- Open the original .xyz file and parse the lines with\n",
    "    # --- O and H coordinates to lists\n",
    "    with open(os.path.join(path, filename), 'r') as fr:\n",
    "        lines = fr.readlines()\n",
    "        o_lines = []\n",
    "        h_lines = []\n",
    "\n",
    "        for line in lines:\n",
    "            if line.startswith('  O'):\n",
    "                o_lines.append(line)\n",
    "            elif line.startswith('  H'):\n",
    "                h_lines.append(line)\n",
    "\n",
    "        # --- Open the .xyz file to write\n",
    "        with open(os.path.join(path, filename), 'w') as fw:\n",
    "\n",
    "            # --- Write all lines that are not O or H coordinates\n",
    "            for line in lines:\n",
    "                if line.startswith('  H'):\n",
    "                    pass\n",
    "                elif line.startswith('  O'):\n",
    "                    pass\n",
    "                else:\n",
    "                    fw.write(line)\n",
    "        \n",
    "            # --- Write O coordinates\n",
    "            for x in o_lines:\n",
    "                fw.write(x)\n",
    "\n",
    "            # --- Write H coordinates\n",
    "            for y in h_lines:\n",
    "                fw.write(y)"
   ]
  },
  {
   "cell_type": "code",
   "execution_count": 5,
   "metadata": {},
   "outputs": [],
   "source": [
    "def create_mol_from_xyz(path):\n",
    "\n",
    "    '''\n",
    "    Take in the path of a .xyz file and use\n",
    "    RDKit to create a mol object and SMILES string\n",
    "    '''\n",
    "\n",
    "    # --- Read in and create RDkit mol variable\n",
    "    raw_mol = MolFromXYZFile(path)\n",
    "    rdDetermineBonds.DetermineBonds(raw_mol)\n",
    "    mol = Chem.RemoveAllHs(raw_mol)\n",
    "    Chem.RemoveStereochemistry(mol)\n",
    "\n",
    "    # --- RDKit index given by the order in the XYZ file but\n",
    "    # --- this changes when reading the SMILES string to a new atom\n",
    "    # --- indexing.\n",
    "    for i, atom in enumerate(mol.GetAtoms()):\n",
    "        atom.SetAtomMapNum(atom.GetIdx())\n",
    "\n",
    "    # --- Create SMILES and SMARTS strings\n",
    "    smi = Chem.MolToSmiles(mol)\n",
    "\n",
    "    # --- Load a new RDKit mol to get new RDKit atom indexes\n",
    "    new_mol = Chem.MolFromSmiles(smi)\n",
    "    # --- Create dictionaries to store information\n",
    "    idx_dict = {}\n",
    "    map_num = {}\n",
    "\n",
    "    # --- Loop over all atoms in the molecule\n",
    "    for atom in new_mol.GetAtoms():\n",
    "        # --- Create dictionary linking mapnum to atom index\n",
    "        map_num[atom.GetAtomMapNum()] = atom\n",
    "\n",
    "    # --- Sort the dictionary in numerical order\n",
    "    sort_map = sorted(map_num)\n",
    "\n",
    "    # --- Loop over all atoms in the molecule with respect to map number\n",
    "    for num in sort_map:\n",
    "        # --- If atom is a carbon\n",
    "        if map_num[num].GetAtomicNum() == 6:\n",
    "            # --- Get the RDkit atom index and store into new dictionary\n",
    "            rd_idx = map_num[num].GetIdx()\n",
    "            idx_dict[num] = rd_idx\n",
    "\n",
    "    return mol, smi, idx_dict"
   ]
  },
  {
   "cell_type": "code",
   "execution_count": 6,
   "metadata": {},
   "outputs": [],
   "source": [
    "def broaden_spectrum(E, osc, x, sigma):\n",
    "\n",
    "    '''\n",
    "    Take the delta peaks of a XAS spectrum and applies\n",
    "    a Gaussian broadening scheme\n",
    "    '''\n",
    "\n",
    "    gE = []\n",
    "\n",
    "    # --- Apply Gaussian broadening\n",
    "    for Ei in x:\n",
    "        tot = 0\n",
    "        for Ej, os in zip(E, osc):\n",
    "            tot += os * np.exp(-((((Ej - Ei) / sigma) ** 2)))\n",
    "        gE.append(tot)\n",
    "    \n",
    "    return gE"
   ]
  },
  {
   "cell_type": "code",
   "execution_count": 7,
   "metadata": {},
   "outputs": [],
   "source": [
    "def count_atoms(mol, atomic_num):\n",
    "\n",
    "    '''\n",
    "    Count the number of a specific atom in \n",
    "    a molecule using RDKit\n",
    "    '''\n",
    "\n",
    "    num_atoms = 0\n",
    "    for atom in mol.GetAtoms():\n",
    "        if atom.GetAtomicNum() == atomic_num:\n",
    "            num_atoms += 1\n",
    "    \n",
    "    return num_atoms"
   ]
  },
  {
   "cell_type": "code",
   "execution_count": 8,
   "metadata": {},
   "outputs": [],
   "source": [
    "def create_spec_dict(main_dir):\n",
    "\n",
    "    '''\n",
    "    Create a python dictionary for a molecule with atom indexes\n",
    "    as keys and the individual spectrum as the value\n",
    "    '''\n",
    "\n",
    "    # --- Create x-axis array to plot data with\n",
    "    x = np.linspace(280, 300, num=200, endpoint=True)\n",
    "    sigma = 0.6\n",
    "\n",
    "    # --- List all the possible xyz files\n",
    "    xyz_files = [f for f in os.listdir(main_dir) if os.path.isfile(os.path.join(main_dir, f))]\n",
    "\n",
    "    # --- Search for correct optimised XYZ file\n",
    "    pattern = r'OPT_[\\w]+\\.xyz$'\n",
    "\n",
    "    for filename in xyz_files:\n",
    "        if re.match(pattern, filename):\n",
    "            xyz_name = filename\n",
    "            break\n",
    "\n",
    "    # --- Set a variable for the chosen xyz file\n",
    "    xyz_path = main_dir + '/' + xyz_name\n",
    "\n",
    "    # --- Call function to rearrange xyz file atom order\n",
    "    rearrange_xyz(main_dir, xyz_name)\n",
    "\n",
    "    # --- Call function to create RDKit mol variable\n",
    "    mol, smiles, idx_dict = create_mol_from_xyz(xyz_path)\n",
    "\n",
    "    # --- Get all individual atom directories for molecule\n",
    "    loc_dirs = [os.path.join(main_dir, d) for d in os.listdir(main_dir) if os.path.isdir(os.path.join(main_dir, d))]\n",
    "\n",
    "    # --- Sort directories in numerical order\n",
    "    sort_dirs = natsorted(loc_dirs)\n",
    "\n",
    "    spec_dict = {}\n",
    "\n",
    "    # --- Loop through all atom directories\n",
    "    for i in range(len(loc_dirs)):\n",
    "        loc_dir = sort_dirs[i]\n",
    "        # --- Loop through and get all files in atom directory\n",
    "        loc_files = [f for f in os.listdir(loc_dir) if os.path.isfile(os.path.join(loc_dir, f))]\n",
    "\n",
    "        # --- Loop through all files in directory\n",
    "        for filename in loc_files:\n",
    "            # --- Find spectrum .abs.stk file and read data\n",
    "            if filename.endswith('.abs.stk'):\n",
    "                spec_df = pd.read_csv(loc_dir + '/' + filename, sep='\\s+', header=None, names=['Peaks', 'Strength'])\n",
    "                # --- Extract the photon energy and oscilator strength\n",
    "                energies = spec_df['Peaks']\n",
    "                osc = spec_df['Strength']\n",
    "                # --- Call function to broaden spectrum\n",
    "                gE = broaden_spectrum(energies, osc, x, sigma)\n",
    "                # --- Add to dictionary with RDKit index\n",
    "                spec_dict[idx_dict[i]] = gE\n",
    "\n",
    "    return mol, spec_dict, smiles"
   ]
  },
  {
   "cell_type": "markdown",
   "metadata": {},
   "source": [
    "### Start code"
   ]
  },
  {
   "cell_type": "code",
   "execution_count": 9,
   "metadata": {},
   "outputs": [
    {
     "name": "stdout",
     "output_type": "stream",
     "text": [
      "91\n",
      "['../GNN_XAS_Node/raw_data/OPT_output\\\\cir_R_eOH_0_eCOOH__0_eEPOXY_0_eCHO_0_eKETO_0_iOH_0_iEPOXY_3_ieEPOXY_0_2', '../GNN_XAS_Node/raw_data/OPT_output\\\\cir_R_eOH_0_eCOOH__0_eEPOXY_0_eCHO_0_eKETO_0_iOH_0_iEPOXY_4_ieEPOXY_0_1', '../GNN_XAS_Node/raw_data/OPT_output\\\\cir_R_eOH_0_eCOOH__0_eEPOXY_0_eCHO_0_eKETO_0_iOH_1_iEPOXY_1_ieEPOXY_1_0', '../GNN_XAS_Node/raw_data/OPT_output\\\\cir_R_eOH_0_eCOOH__0_eEPOXY_0_eCHO_0_eKETO_0_iOH_1_iEPOXY_1_ieEPOXY_3_0', '../GNN_XAS_Node/raw_data/OPT_output\\\\cir_R_eOH_0_eCOOH__0_eEPOXY_0_eCHO_0_eKETO_1_iOH_0_iEPOXY_0_ieEPOXY_2_1', '../GNN_XAS_Node/raw_data/OPT_output\\\\cir_R_eOH_0_eCOOH__0_eEPOXY_0_eCHO_0_eKETO_1_iOH_0_iEPOXY_2_ieEPOXY_1_0', '../GNN_XAS_Node/raw_data/OPT_output\\\\cir_R_eOH_0_eCOOH__0_eEPOXY_0_eCHO_0_eKETO_1_iOH_0_iEPOXY_3_ieEPOXY_0_0', '../GNN_XAS_Node/raw_data/OPT_output\\\\cir_R_eOH_0_eCOOH__0_eEPOXY_0_eCHO_0_eKETO_1_iOH_0_iEPOXY_3_ieEPOXY_1_2', '../GNN_XAS_Node/raw_data/OPT_output\\\\cir_R_eOH_0_eCOOH__0_eEPOXY_0_eCHO_0_eKETO_1_iOH_2_iEPOXY_1_ieEPOXY_0_0', '../GNN_XAS_Node/raw_data/OPT_output\\\\cir_R_eOH_0_eCOOH__0_eEPOXY_0_eCHO_0_eKETO_2_iOH_0_iEPOXY_0_ieEPOXY_3_1', '../GNN_XAS_Node/raw_data/OPT_output\\\\cir_R_eOH_0_eCOOH__0_eEPOXY_0_eCHO_0_eKETO_2_iOH_1_iEPOXY_1_ieEPOXY_1_2', '../GNN_XAS_Node/raw_data/OPT_output\\\\cir_R_eOH_0_eCOOH__0_eEPOXY_0_eCHO_0_eKETO_2_iOH_1_iEPOXY_2_ieEPOXY_0_2', '../GNN_XAS_Node/raw_data/OPT_output\\\\cir_R_eOH_0_eCOOH__0_eEPOXY_0_eCHO_0_eKETO_3_iOH_0_iEPOXY_0_ieEPOXY_0_1', '../GNN_XAS_Node/raw_data/OPT_output\\\\cir_R_eOH_0_eCOOH__0_eEPOXY_0_eCHO_0_eKETO_3_iOH_0_iEPOXY_2_ieEPOXY_0_0', '../GNN_XAS_Node/raw_data/OPT_output\\\\cir_R_eOH_0_eCOOH__0_eEPOXY_0_eCHO_0_eKETO_3_iOH_1_iEPOXY_0_ieEPOXY_1_1', '../GNN_XAS_Node/raw_data/OPT_output\\\\cir_R_eOH_0_eCOOH__0_eEPOXY_0_eCHO_1_eKETO_0_iOH_3_iEPOXY_1_ieEPOXY_0_2', '../GNN_XAS_Node/raw_data/OPT_output\\\\cir_R_eOH_0_eCOOH__0_eEPOXY_0_eCHO_1_eKETO_1_iOH_0_iEPOXY_1_ieEPOXY_1_2', '../GNN_XAS_Node/raw_data/OPT_output\\\\cir_R_eOH_0_eCOOH__0_eEPOXY_0_eCHO_1_eKETO_1_iOH_1_iEPOXY_2_ieEPOXY_0_0', '../GNN_XAS_Node/raw_data/OPT_output\\\\cir_R_eOH_0_eCOOH__0_eEPOXY_0_eCHO_1_eKETO_2_iOH_0_iEPOXY_0_ieEPOXY_2_2', '../GNN_XAS_Node/raw_data/OPT_output\\\\cir_R_eOH_0_eCOOH__0_eEPOXY_0_eCHO_1_eKETO_3_iOH_0_iEPOXY_0_ieEPOXY_0_2', '../GNN_XAS_Node/raw_data/OPT_output\\\\cir_R_eOH_0_eCOOH__0_eEPOXY_0_eCHO_2_eKETO_0_iOH_1_iEPOXY_0_ieEPOXY_2_2', '../GNN_XAS_Node/raw_data/OPT_output\\\\cir_R_eOH_0_eCOOH__0_eEPOXY_0_eCHO_3_eKETO_1_iOH_0_iEPOXY_0_ieEPOXY_0_1', '../GNN_XAS_Node/raw_data/OPT_output\\\\cir_R_eOH_0_eCOOH__0_eEPOXY_0_eCHO_3_eKETO_2_iOH_0_iEPOXY_0_ieEPOXY_0_0', '../GNN_XAS_Node/raw_data/OPT_output\\\\cir_R_eOH_0_eCOOH__0_eEPOXY_1_eCHO_0_eKETO_0_iOH_0_iEPOXY_0_ieEPOXY_1_2', '../GNN_XAS_Node/raw_data/OPT_output\\\\cir_R_eOH_0_eCOOH__0_eEPOXY_1_eCHO_0_eKETO_0_iOH_0_iEPOXY_1_ieEPOXY_3_0', '../GNN_XAS_Node/raw_data/OPT_output\\\\cir_R_eOH_0_eCOOH__0_eEPOXY_1_eCHO_0_eKETO_0_iOH_0_iEPOXY_2_ieEPOXY_0_1', '../GNN_XAS_Node/raw_data/OPT_output\\\\cir_R_eOH_0_eCOOH__0_eEPOXY_1_eCHO_0_eKETO_0_iOH_1_iEPOXY_0_ieEPOXY_1_0', '../GNN_XAS_Node/raw_data/OPT_output\\\\cir_R_eOH_0_eCOOH__0_eEPOXY_1_eCHO_0_eKETO_0_iOH_2_iEPOXY_0_ieEPOXY_2_2', '../GNN_XAS_Node/raw_data/OPT_output\\\\cir_R_eOH_0_eCOOH__0_eEPOXY_1_eCHO_0_eKETO_0_iOH_3_iEPOXY_1_ieEPOXY_0_0', '../GNN_XAS_Node/raw_data/OPT_output\\\\cir_R_eOH_0_eCOOH__0_eEPOXY_1_eCHO_0_eKETO_1_iOH_3_iEPOXY_0_ieEPOXY_0_0', '../GNN_XAS_Node/raw_data/OPT_output\\\\cir_R_eOH_0_eCOOH__0_eEPOXY_1_eCHO_0_eKETO_2_iOH_0_iEPOXY_1_ieEPOXY_1_1', '../GNN_XAS_Node/raw_data/OPT_output\\\\cir_R_eOH_0_eCOOH__0_eEPOXY_1_eCHO_1_eKETO_0_iOH_0_iEPOXY_1_ieEPOXY_2_2', '../GNN_XAS_Node/raw_data/OPT_output\\\\cir_R_eOH_0_eCOOH__0_eEPOXY_1_eCHO_1_eKETO_0_iOH_1_iEPOXY_0_ieEPOXY_0_1', '../GNN_XAS_Node/raw_data/OPT_output\\\\cir_R_eOH_0_eCOOH__0_eEPOXY_1_eCHO_1_eKETO_0_iOH_1_iEPOXY_1_ieEPOXY_1_2', '../GNN_XAS_Node/raw_data/OPT_output\\\\cir_R_eOH_0_eCOOH__0_eEPOXY_1_eCHO_1_eKETO_1_iOH_0_iEPOXY_0_ieEPOXY_2_2', '../GNN_XAS_Node/raw_data/OPT_output\\\\cir_R_eOH_0_eCOOH__0_eEPOXY_1_eCHO_2_eKETO_0_iOH_0_iEPOXY_0_ieEPOXY_0_1', '../GNN_XAS_Node/raw_data/OPT_output\\\\cir_R_eOH_0_eCOOH__0_eEPOXY_1_eCHO_2_eKETO_0_iOH_0_iEPOXY_0_ieEPOXY_1_1', '../GNN_XAS_Node/raw_data/OPT_output\\\\cir_R_eOH_0_eCOOH__0_eEPOXY_1_eCHO_2_eKETO_0_iOH_0_iEPOXY_0_ieEPOXY_2_2', '../GNN_XAS_Node/raw_data/OPT_output\\\\cir_R_eOH_0_eCOOH__0_eEPOXY_1_eCHO_2_eKETO_0_iOH_1_iEPOXY_1_ieEPOXY_0_1', '../GNN_XAS_Node/raw_data/OPT_output\\\\cir_R_eOH_0_eCOOH__0_eEPOXY_2_eCHO_0_eKETO_1_iOH_0_iEPOXY_0_ieEPOXY_0_2', '../GNN_XAS_Node/raw_data/OPT_output\\\\cir_R_eOH_0_eCOOH__0_eEPOXY_3_eCHO_1_eKETO_0_iOH_0_iEPOXY_1_ieEPOXY_0_2', '../GNN_XAS_Node/raw_data/OPT_output\\\\cir_R_eOH_0_eCOOH__0_eEPOXY_4_eCHO_0_eKETO_0_iOH_0_iEPOXY_0_ieEPOXY_1_1', '../GNN_XAS_Node/raw_data/OPT_output\\\\cir_R_eOH_0_eCOOH__1_eEPOXY_0_eCHO_0_eKETO_0_iOH_0_iEPOXY_2_ieEPOXY_1_1', '../GNN_XAS_Node/raw_data/OPT_output\\\\cir_R_eOH_0_eCOOH__1_eEPOXY_0_eCHO_0_eKETO_0_iOH_3_iEPOXY_0_ieEPOXY_0_2', '../GNN_XAS_Node/raw_data/OPT_output\\\\cir_R_eOH_0_eCOOH__1_eEPOXY_0_eCHO_0_eKETO_0_iOH_3_iEPOXY_1_ieEPOXY_0_2', '../GNN_XAS_Node/raw_data/OPT_output\\\\cir_R_eOH_0_eCOOH__1_eEPOXY_0_eCHO_0_eKETO_1_iOH_1_iEPOXY_2_ieEPOXY_0_0', '../GNN_XAS_Node/raw_data/OPT_output\\\\cir_R_eOH_0_eCOOH__1_eEPOXY_0_eCHO_1_eKETO_1_iOH_1_iEPOXY_0_ieEPOXY_0_1', '../GNN_XAS_Node/raw_data/OPT_output\\\\cir_R_eOH_0_eCOOH__1_eEPOXY_0_eCHO_1_eKETO_3_iOH_0_iEPOXY_0_ieEPOXY_0_2', '../GNN_XAS_Node/raw_data/OPT_output\\\\cir_R_eOH_0_eCOOH__1_eEPOXY_0_eCHO_2_eKETO_0_iOH_0_iEPOXY_0_ieEPOXY_0_2', '../GNN_XAS_Node/raw_data/OPT_output\\\\cir_R_eOH_0_eCOOH__1_eEPOXY_0_eCHO_2_eKETO_0_iOH_1_iEPOXY_1_ieEPOXY_0_0', '../GNN_XAS_Node/raw_data/OPT_output\\\\cir_R_eOH_0_eCOOH__1_eEPOXY_0_eCHO_2_eKETO_0_iOH_1_iEPOXY_1_ieEPOXY_0_1', '../GNN_XAS_Node/raw_data/OPT_output\\\\cir_R_eOH_0_eCOOH__1_eEPOXY_1_eCHO_0_eKETO_0_iOH_0_iEPOXY_0_ieEPOXY_1_0', '../GNN_XAS_Node/raw_data/OPT_output\\\\cir_R_eOH_0_eCOOH__1_eEPOXY_1_eCHO_0_eKETO_0_iOH_0_iEPOXY_2_ieEPOXY_0_1', '../GNN_XAS_Node/raw_data/OPT_output\\\\cir_R_eOH_0_eCOOH__1_eEPOXY_1_eCHO_0_eKETO_0_iOH_1_iEPOXY_0_ieEPOXY_2_0', '../GNN_XAS_Node/raw_data/OPT_output\\\\cir_R_eOH_0_eCOOH__1_eEPOXY_1_eCHO_0_eKETO_0_iOH_1_iEPOXY_0_ieEPOXY_2_1', '../GNN_XAS_Node/raw_data/OPT_output\\\\cir_R_eOH_0_eCOOH__1_eEPOXY_1_eCHO_1_eKETO_0_iOH_0_iEPOXY_1_ieEPOXY_0_0', '../GNN_XAS_Node/raw_data/OPT_output\\\\cir_R_eOH_0_eCOOH__1_eEPOXY_1_eCHO_2_eKETO_0_iOH_0_iEPOXY_0_ieEPOXY_0_0', '../GNN_XAS_Node/raw_data/OPT_output\\\\cir_R_eOH_0_eCOOH__1_eEPOXY_2_eCHO_0_eKETO_1_iOH_0_iEPOXY_0_ieEPOXY_0_1', '../GNN_XAS_Node/raw_data/OPT_output\\\\cir_R_eOH_0_eCOOH__1_eEPOXY_2_eCHO_0_eKETO_1_iOH_0_iEPOXY_0_ieEPOXY_1_2', '../GNN_XAS_Node/raw_data/OPT_output\\\\cir_R_eOH_0_eCOOH__1_eEPOXY_2_eCHO_0_eKETO_2_iOH_0_iEPOXY_0_ieEPOXY_0_0', '../GNN_XAS_Node/raw_data/OPT_output\\\\cir_R_eOH_0_eCOOH__1_eEPOXY_2_eCHO_1_eKETO_1_iOH_0_iEPOXY_0_ieEPOXY_0_0', '../GNN_XAS_Node/raw_data/OPT_output\\\\cir_R_eOH_0_eCOOH__2_eEPOXY_0_eCHO_0_eKETO_0_iOH_0_iEPOXY_1_ieEPOXY_2_2', '../GNN_XAS_Node/raw_data/OPT_output\\\\cir_R_eOH_0_eCOOH__2_eEPOXY_0_eCHO_0_eKETO_0_iOH_3_iEPOXY_0_ieEPOXY_0_1', '../GNN_XAS_Node/raw_data/OPT_output\\\\cir_R_eOH_0_eCOOH__2_eEPOXY_0_eCHO_0_eKETO_1_iOH_0_iEPOXY_1_ieEPOXY_0_1', '../GNN_XAS_Node/raw_data/OPT_output\\\\cir_R_eOH_0_eCOOH__2_eEPOXY_0_eCHO_0_eKETO_1_iOH_0_iEPOXY_1_ieEPOXY_1_2', '../GNN_XAS_Node/raw_data/OPT_output\\\\cir_R_eOH_0_eCOOH__2_eEPOXY_0_eCHO_1_eKETO_0_iOH_0_iEPOXY_0_ieEPOXY_2_2', '../GNN_XAS_Node/raw_data/OPT_output\\\\cir_R_eOH_0_eCOOH__2_eEPOXY_0_eCHO_1_eKETO_0_iOH_0_iEPOXY_1_ieEPOXY_0_1', '../GNN_XAS_Node/raw_data/OPT_output\\\\cir_R_eOH_0_eCOOH__2_eEPOXY_0_eCHO_1_eKETO_0_iOH_1_iEPOXY_0_ieEPOXY_0_2', '../GNN_XAS_Node/raw_data/OPT_output\\\\cir_R_eOH_0_eCOOH__2_eEPOXY_0_eCHO_1_eKETO_0_iOH_1_iEPOXY_1_ieEPOXY_0_1', '../GNN_XAS_Node/raw_data/OPT_output\\\\cir_R_eOH_0_eCOOH__2_eEPOXY_0_eCHO_1_eKETO_1_iOH_0_iEPOXY_0_ieEPOXY_0_2', '../GNN_XAS_Node/raw_data/OPT_output\\\\cir_R_eOH_0_eCOOH__2_eEPOXY_1_eCHO_1_eKETO_0_iOH_0_iEPOXY_0_ieEPOXY_1_0', '../GNN_XAS_Node/raw_data/OPT_output\\\\cir_R_eOH_0_eCOOH__2_eEPOXY_1_eCHO_1_eKETO_0_iOH_0_iEPOXY_1_ieEPOXY_0_2', '../GNN_XAS_Node/raw_data/OPT_output\\\\cir_R_eOH_0_eCOOH__3_eEPOXY_0_eCHO_1_eKETO_0_iOH_1_iEPOXY_0_ieEPOXY_0_1', '../GNN_XAS_Node/raw_data/OPT_output\\\\cir_R_eOH_0_eCOOH__3_eEPOXY_0_eCHO_2_eKETO_0_iOH_0_iEPOXY_0_ieEPOXY_0_2', '../GNN_XAS_Node/raw_data/OPT_output\\\\cir_R_eOH_1_eCOOH__1_eEPOXY_0_eCHO_0_eKETO_0_iOH_0_iEPOXY_0_ieEPOXY_0_1', '../GNN_XAS_Node/raw_data/OPT_output\\\\cir_R_eOH_1_eCOOH__1_eEPOXY_0_eCHO_0_eKETO_0_iOH_1_iEPOXY_0_ieEPOXY_1_2', '../GNN_XAS_Node/raw_data/OPT_output\\\\cir_R_eOH_1_eCOOH__1_eEPOXY_0_eCHO_0_eKETO_1_iOH_0_iEPOXY_0_ieEPOXY_1_2', '../GNN_XAS_Node/raw_data/OPT_output\\\\cir_R_eOH_1_eCOOH__1_eEPOXY_0_eCHO_0_eKETO_1_iOH_0_iEPOXY_1_ieEPOXY_1_2', '../GNN_XAS_Node/raw_data/OPT_output\\\\cir_R_eOH_1_eCOOH__1_eEPOXY_0_eCHO_1_eKETO_0_iOH_0_iEPOXY_1_ieEPOXY_0_0', '../GNN_XAS_Node/raw_data/OPT_output\\\\cir_R_eOH_1_eCOOH__1_eEPOXY_1_eCHO_0_eKETO_1_iOH_0_iEPOXY_0_ieEPOXY_0_2', '../GNN_XAS_Node/raw_data/OPT_output\\\\cir_R_eOH_1_eCOOH__1_eEPOXY_1_eCHO_0_eKETO_1_iOH_0_iEPOXY_1_ieEPOXY_0_2', '../GNN_XAS_Node/raw_data/OPT_output\\\\cir_R_eOH_1_eCOOH__1_eEPOXY_2_eCHO_0_eKETO_0_iOH_0_iEPOXY_0_ieEPOXY_0_2', '../GNN_XAS_Node/raw_data/OPT_output\\\\cir_R_eOH_1_eCOOH__2_eEPOXY_0_eCHO_0_eKETO_0_iOH_1_iEPOXY_0_ieEPOXY_1_1', '../GNN_XAS_Node/raw_data/OPT_output\\\\cir_R_eOH_1_eCOOH__2_eEPOXY_0_eCHO_0_eKETO_0_iOH_1_iEPOXY_1_ieEPOXY_0_2', '../GNN_XAS_Node/raw_data/OPT_output\\\\cir_R_eOH_1_eCOOH__2_eEPOXY_1_eCHO_0_eKETO_0_iOH_0_iEPOXY_0_ieEPOXY_0_2', '../GNN_XAS_Node/raw_data/OPT_output\\\\cir_R_eOH_1_eCOOH__4_eEPOXY_0_eCHO_0_eKETO_0_iOH_0_iEPOXY_0_ieEPOXY_0_0', '../GNN_XAS_Node/raw_data/OPT_output\\\\cir_R_eOH_2_eCOOH__1_eEPOXY_0_eCHO_0_eKETO_0_iOH_2_iEPOXY_0_ieEPOXY_0_2', '../GNN_XAS_Node/raw_data/OPT_output\\\\cir_R_eOH_2_eCOOH__1_eEPOXY_0_eCHO_0_eKETO_2_iOH_0_iEPOXY_0_ieEPOXY_0_2', '../GNN_XAS_Node/raw_data/OPT_output\\\\cir_R_eOH_2_eCOOH__1_eEPOXY_0_eCHO_1_eKETO_1_iOH_0_iEPOXY_0_ieEPOXY_0_1', '../GNN_XAS_Node/raw_data/OPT_output\\\\cir_R_eOH_2_eCOOH__1_eEPOXY_1_eCHO_0_eKETO_1_iOH_0_iEPOXY_0_ieEPOXY_0_0', '../GNN_XAS_Node/raw_data/OPT_output\\\\cir_R_eOH_2_eCOOH__1_eEPOXY_1_eCHO_1_eKETO_0_iOH_0_iEPOXY_0_ieEPOXY_0_2']\n"
     ]
    }
   ],
   "source": [
    "# --- Path to main folder where all the data is\n",
    "data_path = '../GNN_XAS_Node/raw_data/OPT_output'\n",
    "#data_path = '../GNN_XAS_Node/raw_data/set_tot/OPT_output'\n",
    "# --- Create a list with the path of all the different molecule folders\n",
    "subdirs = [os.path.join(data_path, d) for d in os.listdir(data_path) if os.path.isdir(os.path.join(data_path, d))]\n",
    "\n",
    "# --- Number of molecules in the data set\n",
    "print(len(subdirs))\n",
    "# --- List of paths to all the different molecules\n",
    "print(subdirs)"
   ]
  },
  {
   "cell_type": "code",
   "execution_count": 10,
   "metadata": {},
   "outputs": [
    {
     "name": "stdout",
     "output_type": "stream",
     "text": [
      "91\n",
      "['cir_R_eOH_0_eCOOH__0_eEPOXY_0_eCHO_0_eKETO_0_iOH_0_iEPOXY_3_ieEPOXY_0_2', 'cir_R_eOH_0_eCOOH__0_eEPOXY_0_eCHO_0_eKETO_0_iOH_0_iEPOXY_4_ieEPOXY_0_1', 'cir_R_eOH_0_eCOOH__0_eEPOXY_0_eCHO_0_eKETO_0_iOH_1_iEPOXY_1_ieEPOXY_1_0', 'cir_R_eOH_0_eCOOH__0_eEPOXY_0_eCHO_0_eKETO_0_iOH_1_iEPOXY_1_ieEPOXY_3_0', 'cir_R_eOH_0_eCOOH__0_eEPOXY_0_eCHO_0_eKETO_1_iOH_0_iEPOXY_0_ieEPOXY_2_1', 'cir_R_eOH_0_eCOOH__0_eEPOXY_0_eCHO_0_eKETO_1_iOH_0_iEPOXY_2_ieEPOXY_1_0', 'cir_R_eOH_0_eCOOH__0_eEPOXY_0_eCHO_0_eKETO_1_iOH_0_iEPOXY_3_ieEPOXY_0_0', 'cir_R_eOH_0_eCOOH__0_eEPOXY_0_eCHO_0_eKETO_1_iOH_0_iEPOXY_3_ieEPOXY_1_2', 'cir_R_eOH_0_eCOOH__0_eEPOXY_0_eCHO_0_eKETO_1_iOH_2_iEPOXY_1_ieEPOXY_0_0', 'cir_R_eOH_0_eCOOH__0_eEPOXY_0_eCHO_0_eKETO_2_iOH_0_iEPOXY_0_ieEPOXY_3_1', 'cir_R_eOH_0_eCOOH__0_eEPOXY_0_eCHO_0_eKETO_2_iOH_1_iEPOXY_1_ieEPOXY_1_2', 'cir_R_eOH_0_eCOOH__0_eEPOXY_0_eCHO_0_eKETO_2_iOH_1_iEPOXY_2_ieEPOXY_0_2', 'cir_R_eOH_0_eCOOH__0_eEPOXY_0_eCHO_0_eKETO_3_iOH_0_iEPOXY_0_ieEPOXY_0_1', 'cir_R_eOH_0_eCOOH__0_eEPOXY_0_eCHO_0_eKETO_3_iOH_0_iEPOXY_2_ieEPOXY_0_0', 'cir_R_eOH_0_eCOOH__0_eEPOXY_0_eCHO_0_eKETO_3_iOH_1_iEPOXY_0_ieEPOXY_1_1', 'cir_R_eOH_0_eCOOH__0_eEPOXY_0_eCHO_1_eKETO_0_iOH_3_iEPOXY_1_ieEPOXY_0_2', 'cir_R_eOH_0_eCOOH__0_eEPOXY_0_eCHO_1_eKETO_1_iOH_0_iEPOXY_1_ieEPOXY_1_2', 'cir_R_eOH_0_eCOOH__0_eEPOXY_0_eCHO_1_eKETO_1_iOH_1_iEPOXY_2_ieEPOXY_0_0', 'cir_R_eOH_0_eCOOH__0_eEPOXY_0_eCHO_1_eKETO_2_iOH_0_iEPOXY_0_ieEPOXY_2_2', 'cir_R_eOH_0_eCOOH__0_eEPOXY_0_eCHO_1_eKETO_3_iOH_0_iEPOXY_0_ieEPOXY_0_2', 'cir_R_eOH_0_eCOOH__0_eEPOXY_0_eCHO_2_eKETO_0_iOH_1_iEPOXY_0_ieEPOXY_2_2', 'cir_R_eOH_0_eCOOH__0_eEPOXY_0_eCHO_3_eKETO_1_iOH_0_iEPOXY_0_ieEPOXY_0_1', 'cir_R_eOH_0_eCOOH__0_eEPOXY_0_eCHO_3_eKETO_2_iOH_0_iEPOXY_0_ieEPOXY_0_0', 'cir_R_eOH_0_eCOOH__0_eEPOXY_1_eCHO_0_eKETO_0_iOH_0_iEPOXY_0_ieEPOXY_1_2', 'cir_R_eOH_0_eCOOH__0_eEPOXY_1_eCHO_0_eKETO_0_iOH_0_iEPOXY_1_ieEPOXY_3_0', 'cir_R_eOH_0_eCOOH__0_eEPOXY_1_eCHO_0_eKETO_0_iOH_0_iEPOXY_2_ieEPOXY_0_1', 'cir_R_eOH_0_eCOOH__0_eEPOXY_1_eCHO_0_eKETO_0_iOH_1_iEPOXY_0_ieEPOXY_1_0', 'cir_R_eOH_0_eCOOH__0_eEPOXY_1_eCHO_0_eKETO_0_iOH_2_iEPOXY_0_ieEPOXY_2_2', 'cir_R_eOH_0_eCOOH__0_eEPOXY_1_eCHO_0_eKETO_0_iOH_3_iEPOXY_1_ieEPOXY_0_0', 'cir_R_eOH_0_eCOOH__0_eEPOXY_1_eCHO_0_eKETO_1_iOH_3_iEPOXY_0_ieEPOXY_0_0', 'cir_R_eOH_0_eCOOH__0_eEPOXY_1_eCHO_0_eKETO_2_iOH_0_iEPOXY_1_ieEPOXY_1_1', 'cir_R_eOH_0_eCOOH__0_eEPOXY_1_eCHO_1_eKETO_0_iOH_0_iEPOXY_1_ieEPOXY_2_2', 'cir_R_eOH_0_eCOOH__0_eEPOXY_1_eCHO_1_eKETO_0_iOH_1_iEPOXY_0_ieEPOXY_0_1', 'cir_R_eOH_0_eCOOH__0_eEPOXY_1_eCHO_1_eKETO_0_iOH_1_iEPOXY_1_ieEPOXY_1_2', 'cir_R_eOH_0_eCOOH__0_eEPOXY_1_eCHO_1_eKETO_1_iOH_0_iEPOXY_0_ieEPOXY_2_2', 'cir_R_eOH_0_eCOOH__0_eEPOXY_1_eCHO_2_eKETO_0_iOH_0_iEPOXY_0_ieEPOXY_0_1', 'cir_R_eOH_0_eCOOH__0_eEPOXY_1_eCHO_2_eKETO_0_iOH_0_iEPOXY_0_ieEPOXY_1_1', 'cir_R_eOH_0_eCOOH__0_eEPOXY_1_eCHO_2_eKETO_0_iOH_0_iEPOXY_0_ieEPOXY_2_2', 'cir_R_eOH_0_eCOOH__0_eEPOXY_1_eCHO_2_eKETO_0_iOH_1_iEPOXY_1_ieEPOXY_0_1', 'cir_R_eOH_0_eCOOH__0_eEPOXY_2_eCHO_0_eKETO_1_iOH_0_iEPOXY_0_ieEPOXY_0_2', 'cir_R_eOH_0_eCOOH__0_eEPOXY_3_eCHO_1_eKETO_0_iOH_0_iEPOXY_1_ieEPOXY_0_2', 'cir_R_eOH_0_eCOOH__0_eEPOXY_4_eCHO_0_eKETO_0_iOH_0_iEPOXY_0_ieEPOXY_1_1', 'cir_R_eOH_0_eCOOH__1_eEPOXY_0_eCHO_0_eKETO_0_iOH_0_iEPOXY_2_ieEPOXY_1_1', 'cir_R_eOH_0_eCOOH__1_eEPOXY_0_eCHO_0_eKETO_0_iOH_3_iEPOXY_0_ieEPOXY_0_2', 'cir_R_eOH_0_eCOOH__1_eEPOXY_0_eCHO_0_eKETO_0_iOH_3_iEPOXY_1_ieEPOXY_0_2', 'cir_R_eOH_0_eCOOH__1_eEPOXY_0_eCHO_0_eKETO_1_iOH_1_iEPOXY_2_ieEPOXY_0_0', 'cir_R_eOH_0_eCOOH__1_eEPOXY_0_eCHO_1_eKETO_1_iOH_1_iEPOXY_0_ieEPOXY_0_1', 'cir_R_eOH_0_eCOOH__1_eEPOXY_0_eCHO_1_eKETO_3_iOH_0_iEPOXY_0_ieEPOXY_0_2', 'cir_R_eOH_0_eCOOH__1_eEPOXY_0_eCHO_2_eKETO_0_iOH_0_iEPOXY_0_ieEPOXY_0_2', 'cir_R_eOH_0_eCOOH__1_eEPOXY_0_eCHO_2_eKETO_0_iOH_1_iEPOXY_1_ieEPOXY_0_0', 'cir_R_eOH_0_eCOOH__1_eEPOXY_0_eCHO_2_eKETO_0_iOH_1_iEPOXY_1_ieEPOXY_0_1', 'cir_R_eOH_0_eCOOH__1_eEPOXY_1_eCHO_0_eKETO_0_iOH_0_iEPOXY_0_ieEPOXY_1_0', 'cir_R_eOH_0_eCOOH__1_eEPOXY_1_eCHO_0_eKETO_0_iOH_0_iEPOXY_2_ieEPOXY_0_1', 'cir_R_eOH_0_eCOOH__1_eEPOXY_1_eCHO_0_eKETO_0_iOH_1_iEPOXY_0_ieEPOXY_2_0', 'cir_R_eOH_0_eCOOH__1_eEPOXY_1_eCHO_0_eKETO_0_iOH_1_iEPOXY_0_ieEPOXY_2_1', 'cir_R_eOH_0_eCOOH__1_eEPOXY_1_eCHO_1_eKETO_0_iOH_0_iEPOXY_1_ieEPOXY_0_0', 'cir_R_eOH_0_eCOOH__1_eEPOXY_1_eCHO_2_eKETO_0_iOH_0_iEPOXY_0_ieEPOXY_0_0', 'cir_R_eOH_0_eCOOH__1_eEPOXY_2_eCHO_0_eKETO_1_iOH_0_iEPOXY_0_ieEPOXY_0_1', 'cir_R_eOH_0_eCOOH__1_eEPOXY_2_eCHO_0_eKETO_1_iOH_0_iEPOXY_0_ieEPOXY_1_2', 'cir_R_eOH_0_eCOOH__1_eEPOXY_2_eCHO_0_eKETO_2_iOH_0_iEPOXY_0_ieEPOXY_0_0', 'cir_R_eOH_0_eCOOH__1_eEPOXY_2_eCHO_1_eKETO_1_iOH_0_iEPOXY_0_ieEPOXY_0_0', 'cir_R_eOH_0_eCOOH__2_eEPOXY_0_eCHO_0_eKETO_0_iOH_0_iEPOXY_1_ieEPOXY_2_2', 'cir_R_eOH_0_eCOOH__2_eEPOXY_0_eCHO_0_eKETO_0_iOH_3_iEPOXY_0_ieEPOXY_0_1', 'cir_R_eOH_0_eCOOH__2_eEPOXY_0_eCHO_0_eKETO_1_iOH_0_iEPOXY_1_ieEPOXY_0_1', 'cir_R_eOH_0_eCOOH__2_eEPOXY_0_eCHO_0_eKETO_1_iOH_0_iEPOXY_1_ieEPOXY_1_2', 'cir_R_eOH_0_eCOOH__2_eEPOXY_0_eCHO_1_eKETO_0_iOH_0_iEPOXY_0_ieEPOXY_2_2', 'cir_R_eOH_0_eCOOH__2_eEPOXY_0_eCHO_1_eKETO_0_iOH_0_iEPOXY_1_ieEPOXY_0_1', 'cir_R_eOH_0_eCOOH__2_eEPOXY_0_eCHO_1_eKETO_0_iOH_1_iEPOXY_0_ieEPOXY_0_2', 'cir_R_eOH_0_eCOOH__2_eEPOXY_0_eCHO_1_eKETO_0_iOH_1_iEPOXY_1_ieEPOXY_0_1', 'cir_R_eOH_0_eCOOH__2_eEPOXY_0_eCHO_1_eKETO_1_iOH_0_iEPOXY_0_ieEPOXY_0_2', 'cir_R_eOH_0_eCOOH__2_eEPOXY_1_eCHO_1_eKETO_0_iOH_0_iEPOXY_0_ieEPOXY_1_0', 'cir_R_eOH_0_eCOOH__2_eEPOXY_1_eCHO_1_eKETO_0_iOH_0_iEPOXY_1_ieEPOXY_0_2', 'cir_R_eOH_0_eCOOH__3_eEPOXY_0_eCHO_1_eKETO_0_iOH_1_iEPOXY_0_ieEPOXY_0_1', 'cir_R_eOH_0_eCOOH__3_eEPOXY_0_eCHO_2_eKETO_0_iOH_0_iEPOXY_0_ieEPOXY_0_2', 'cir_R_eOH_1_eCOOH__1_eEPOXY_0_eCHO_0_eKETO_0_iOH_0_iEPOXY_0_ieEPOXY_0_1', 'cir_R_eOH_1_eCOOH__1_eEPOXY_0_eCHO_0_eKETO_0_iOH_1_iEPOXY_0_ieEPOXY_1_2', 'cir_R_eOH_1_eCOOH__1_eEPOXY_0_eCHO_0_eKETO_1_iOH_0_iEPOXY_0_ieEPOXY_1_2', 'cir_R_eOH_1_eCOOH__1_eEPOXY_0_eCHO_0_eKETO_1_iOH_0_iEPOXY_1_ieEPOXY_1_2', 'cir_R_eOH_1_eCOOH__1_eEPOXY_0_eCHO_1_eKETO_0_iOH_0_iEPOXY_1_ieEPOXY_0_0', 'cir_R_eOH_1_eCOOH__1_eEPOXY_1_eCHO_0_eKETO_1_iOH_0_iEPOXY_0_ieEPOXY_0_2', 'cir_R_eOH_1_eCOOH__1_eEPOXY_1_eCHO_0_eKETO_1_iOH_0_iEPOXY_1_ieEPOXY_0_2', 'cir_R_eOH_1_eCOOH__1_eEPOXY_2_eCHO_0_eKETO_0_iOH_0_iEPOXY_0_ieEPOXY_0_2', 'cir_R_eOH_1_eCOOH__2_eEPOXY_0_eCHO_0_eKETO_0_iOH_1_iEPOXY_0_ieEPOXY_1_1', 'cir_R_eOH_1_eCOOH__2_eEPOXY_0_eCHO_0_eKETO_0_iOH_1_iEPOXY_1_ieEPOXY_0_2', 'cir_R_eOH_1_eCOOH__2_eEPOXY_1_eCHO_0_eKETO_0_iOH_0_iEPOXY_0_ieEPOXY_0_2', 'cir_R_eOH_1_eCOOH__4_eEPOXY_0_eCHO_0_eKETO_0_iOH_0_iEPOXY_0_ieEPOXY_0_0', 'cir_R_eOH_2_eCOOH__1_eEPOXY_0_eCHO_0_eKETO_0_iOH_2_iEPOXY_0_ieEPOXY_0_2', 'cir_R_eOH_2_eCOOH__1_eEPOXY_0_eCHO_0_eKETO_2_iOH_0_iEPOXY_0_ieEPOXY_0_2', 'cir_R_eOH_2_eCOOH__1_eEPOXY_0_eCHO_1_eKETO_1_iOH_0_iEPOXY_0_ieEPOXY_0_1', 'cir_R_eOH_2_eCOOH__1_eEPOXY_1_eCHO_0_eKETO_1_iOH_0_iEPOXY_0_ieEPOXY_0_0', 'cir_R_eOH_2_eCOOH__1_eEPOXY_1_eCHO_1_eKETO_0_iOH_0_iEPOXY_0_ieEPOXY_0_2']\n"
     ]
    }
   ],
   "source": [
    "mol_name = []\n",
    "# --- Split up into the directory path and list of all the folder/molecule names\n",
    "for subdir in subdirs:\n",
    "    dir_path, path = os.path.split(subdir)\n",
    "    mol_name.append(path)\n",
    "\n",
    "print(len(mol_name))\n",
    "# --- List of all the molecule names\n",
    "print(mol_name)"
   ]
  },
  {
   "cell_type": "code",
   "execution_count": 10,
   "metadata": {},
   "outputs": [
    {
     "name": "stdout",
     "output_type": "stream",
     "text": [
      "Current mol no 1: R_eOH_0_eCOOH__1_eEPOXY_2_eCHO_0_eKETO_0_iOH_0_iEPOXY_0_ieEPOXY_1_0\n",
      "Current mol no 2: R_eOH_0_eCOOH__0_eEPOXY_1_eCHO_0_eKETO_1_iOH_0_iEPOXY_1_ieEPOXY_2_0\n",
      "Current mol no 3: R_eOH_2_eCOOH__0_eEPOXY_0_eCHO_1_eKETO_0_iOH_0_iEPOXY_0_ieEPOXY_2_1\n",
      "Current mol no 4: R_eOH_0_eCOOH__0_eEPOXY_1_eCHO_0_eKETO_1_iOH_1_iEPOXY_1_ieEPOXY_1_0\n",
      "Current mol no 5: R_eOH_1_eCOOH__0_eEPOXY_1_eCHO_0_eKETO_0_iOH_0_iEPOXY_1_ieEPOXY_2_0\n",
      "Current mol no 6: R_eOH_1_eCOOH__0_eEPOXY_0_eCHO_3_eKETO_0_iOH_0_iEPOXY_0_ieEPOXY_1_2\n",
      "Current mol no 7: R_eOH_1_eCOOH__0_eEPOXY_0_eCHO_2_eKETO_1_iOH_0_iEPOXY_1_ieEPOXY_0_1\n",
      "Current mol no 8: R_eOH_1_eCOOH__1_eEPOXY_0_eCHO_0_eKETO_0_iOH_2_iEPOXY_0_ieEPOXY_1_2\n",
      "Current mol no 9: R_eOH_2_eCOOH__0_eEPOXY_0_eCHO_0_eKETO_0_iOH_2_iEPOXY_0_ieEPOXY_0_2\n",
      "Current mol no 10: R_eOH_1_eCOOH__0_eEPOXY_1_eCHO_2_eKETO_0_iOH_1_iEPOXY_0_ieEPOXY_0_2\n",
      "Current mol no 11: R_eOH_0_eCOOH__2_eEPOXY_0_eCHO_0_eKETO_1_iOH_0_iEPOXY_0_ieEPOXY_0_1\n",
      "Current mol no 12: R_eOH_0_eCOOH__0_eEPOXY_0_eCHO_0_eKETO_0_iOH_1_iEPOXY_2_ieEPOXY_0_0\n",
      "Current mol no 13: R_eOH_0_eCOOH__1_eEPOXY_0_eCHO_2_eKETO_0_iOH_1_iEPOXY_1_ieEPOXY_0_1\n",
      "Current mol no 14: R_eOH_2_eCOOH__0_eEPOXY_1_eCHO_0_eKETO_0_iOH_0_iEPOXY_0_ieEPOXY_1_0\n",
      "Current mol no 15: R_eOH_2_eCOOH__0_eEPOXY_0_eCHO_0_eKETO_1_iOH_1_iEPOXY_1_ieEPOXY_0_2\n",
      "Current mol no 16: R_eOH_1_eCOOH__0_eEPOXY_0_eCHO_1_eKETO_0_iOH_0_iEPOXY_1_ieEPOXY_2_2\n",
      "Current mol no 17: R_eOH_1_eCOOH__3_eEPOXY_1_eCHO_0_eKETO_0_iOH_0_iEPOXY_0_ieEPOXY_0_2\n",
      "Current mol no 18: R_eOH_2_eCOOH__0_eEPOXY_0_eCHO_1_eKETO_0_iOH_1_iEPOXY_0_ieEPOXY_1_2\n",
      "Current mol no 19: R_eOH_1_eCOOH__0_eEPOXY_1_eCHO_0_eKETO_2_iOH_0_iEPOXY_0_ieEPOXY_1_1\n",
      "Current mol no 20: R_eOH_2_eCOOH__1_eEPOXY_0_eCHO_0_eKETO_0_iOH_2_iEPOXY_0_ieEPOXY_0_0\n",
      "Current mol no 21: R_eOH_0_eCOOH__0_eEPOXY_0_eCHO_0_eKETO_0_iOH_1_iEPOXY_2_ieEPOXY_1_2\n",
      "Current mol no 22: R_eOH_1_eCOOH__0_eEPOXY_1_eCHO_0_eKETO_1_iOH_1_iEPOXY_1_ieEPOXY_0_2\n",
      "Current mol no 23: R_eOH_1_eCOOH__0_eEPOXY_0_eCHO_0_eKETO_2_iOH_0_iEPOXY_0_ieEPOXY_2_1\n",
      "Current mol no 24: R_eOH_0_eCOOH__1_eEPOXY_0_eCHO_0_eKETO_1_iOH_3_iEPOXY_0_ieEPOXY_0_1\n",
      "Current mol no 25: R_eOH_2_eCOOH__0_eEPOXY_1_eCHO_0_eKETO_0_iOH_0_iEPOXY_0_ieEPOXY_2_2\n",
      "Current mol no 26: R_eOH_0_eCOOH__2_eEPOXY_0_eCHO_0_eKETO_0_iOH_3_iEPOXY_0_ieEPOXY_0_2\n",
      "Current mol no 27: R_eOH_3_eCOOH__0_eEPOXY_0_eCHO_1_eKETO_0_iOH_0_iEPOXY_0_ieEPOXY_0_1\n",
      "Current mol no 28: R_eOH_1_eCOOH__2_eEPOXY_0_eCHO_0_eKETO_0_iOH_0_iEPOXY_2_ieEPOXY_0_0\n",
      "Current mol no 29: R_eOH_0_eCOOH__0_eEPOXY_1_eCHO_0_eKETO_0_iOH_1_iEPOXY_2_ieEPOXY_0_0\n",
      "Current mol no 30: R_eOH_0_eCOOH__1_eEPOXY_0_eCHO_0_eKETO_2_iOH_1_iEPOXY_0_ieEPOXY_0_2\n",
      "Current mol no 31: R_eOH_0_eCOOH__1_eEPOXY_0_eCHO_0_eKETO_2_iOH_0_iEPOXY_1_ieEPOXY_1_0\n",
      "Current mol no 32: R_eOH_0_eCOOH__0_eEPOXY_0_eCHO_0_eKETO_0_iOH_3_iEPOXY_1_ieEPOXY_0_1\n",
      "Current mol no 33: R_eOH_0_eCOOH__2_eEPOXY_0_eCHO_0_eKETO_0_iOH_2_iEPOXY_0_ieEPOXY_0_2\n",
      "Current mol no 34: R_eOH_1_eCOOH__0_eEPOXY_0_eCHO_0_eKETO_1_iOH_0_iEPOXY_0_ieEPOXY_2_1\n",
      "Current mol no 35: R_eOH_0_eCOOH__0_eEPOXY_0_eCHO_0_eKETO_0_iOH_3_iEPOXY_1_ieEPOXY_1_2\n",
      "Current mol no 36: R_eOH_2_eCOOH__2_eEPOXY_0_eCHO_0_eKETO_0_iOH_0_iEPOXY_0_ieEPOXY_1_0\n",
      "Current mol no 37: R_eOH_1_eCOOH__0_eEPOXY_0_eCHO_1_eKETO_1_iOH_0_iEPOXY_1_ieEPOXY_1_0\n",
      "Current mol no 38: R_eOH_0_eCOOH__2_eEPOXY_0_eCHO_0_eKETO_1_iOH_0_iEPOXY_0_ieEPOXY_0_2\n",
      "Current mol no 39: R_eOH_1_eCOOH__0_eEPOXY_0_eCHO_1_eKETO_2_iOH_0_iEPOXY_0_ieEPOXY_0_1\n",
      "Current mol no 40: R_eOH_0_eCOOH__2_eEPOXY_0_eCHO_0_eKETO_0_iOH_1_iEPOXY_0_ieEPOXY_0_2\n",
      "Current mol no 41: R_eOH_0_eCOOH__0_eEPOXY_0_eCHO_0_eKETO_2_iOH_0_iEPOXY_0_ieEPOXY_1_2\n",
      "Current mol no 42: R_eOH_1_eCOOH__0_eEPOXY_1_eCHO_1_eKETO_0_iOH_0_iEPOXY_1_ieEPOXY_1_1\n",
      "Current mol no 43: R_eOH_0_eCOOH__2_eEPOXY_0_eCHO_1_eKETO_0_iOH_0_iEPOXY_1_ieEPOXY_1_0\n",
      "Current mol no 44: R_eOH_1_eCOOH__0_eEPOXY_1_eCHO_1_eKETO_0_iOH_0_iEPOXY_2_ieEPOXY_0_0\n",
      "Current mol no 45: R_eOH_2_eCOOH__1_eEPOXY_0_eCHO_0_eKETO_1_iOH_0_iEPOXY_0_ieEPOXY_0_2\n",
      "Current mol no 46: R_eOH_0_eCOOH__1_eEPOXY_0_eCHO_0_eKETO_1_iOH_2_iEPOXY_0_ieEPOXY_0_1\n",
      "Current mol no 47: R_eOH_0_eCOOH__0_eEPOXY_1_eCHO_0_eKETO_0_iOH_0_iEPOXY_0_ieEPOXY_3_0\n",
      "Current mol no 48: R_eOH_0_eCOOH__1_eEPOXY_0_eCHO_3_eKETO_0_iOH_0_iEPOXY_1_ieEPOXY_0_0\n",
      "Current mol no 49: R_eOH_3_eCOOH__1_eEPOXY_0_eCHO_0_eKETO_0_iOH_0_iEPOXY_0_ieEPOXY_0_2\n",
      "Current mol no 50: R_eOH_0_eCOOH__0_eEPOXY_0_eCHO_0_eKETO_4_iOH_0_iEPOXY_1_ieEPOXY_0_1\n",
      "Current mol no 51: R_eOH_0_eCOOH__0_eEPOXY_3_eCHO_0_eKETO_0_iOH_0_iEPOXY_1_ieEPOXY_1_2\n",
      "Current mol no 52: R_eOH_2_eCOOH__1_eEPOXY_0_eCHO_0_eKETO_0_iOH_0_iEPOXY_1_ieEPOXY_0_0\n",
      "Current mol no 53: R_eOH_0_eCOOH__0_eEPOXY_3_eCHO_0_eKETO_0_iOH_0_iEPOXY_0_ieEPOXY_2_0\n",
      "Current mol no 54: R_eOH_4_eCOOH__0_eEPOXY_0_eCHO_0_eKETO_0_iOH_0_iEPOXY_1_ieEPOXY_0_1\n",
      "Current mol no 55: R_eOH_0_eCOOH__0_eEPOXY_0_eCHO_0_eKETO_2_iOH_0_iEPOXY_2_ieEPOXY_1_1\n",
      "Current mol no 56: R_eOH_2_eCOOH__0_eEPOXY_0_eCHO_1_eKETO_0_iOH_0_iEPOXY_2_ieEPOXY_0_2\n",
      "Current mol no 57: R_eOH_0_eCOOH__1_eEPOXY_1_eCHO_0_eKETO_2_iOH_0_iEPOXY_1_ieEPOXY_0_0\n",
      "Current mol no 58: R_eOH_3_eCOOH__2_eEPOXY_0_eCHO_0_eKETO_0_iOH_0_iEPOXY_0_ieEPOXY_0_1\n",
      "Current mol no 59: R_eOH_3_eCOOH__0_eEPOXY_0_eCHO_0_eKETO_0_iOH_0_iEPOXY_0_ieEPOXY_2_0\n",
      "Current mol no 60: R_eOH_0_eCOOH__0_eEPOXY_2_eCHO_0_eKETO_1_iOH_1_iEPOXY_0_ieEPOXY_0_2\n",
      "Current mol no 61: R_eOH_1_eCOOH__0_eEPOXY_2_eCHO_1_eKETO_0_iOH_0_iEPOXY_0_ieEPOXY_1_2\n",
      "Current mol no 62: R_eOH_1_eCOOH__1_eEPOXY_0_eCHO_0_eKETO_0_iOH_0_iEPOXY_1_ieEPOXY_1_1\n",
      "Current mol no 63: R_eOH_0_eCOOH__1_eEPOXY_0_eCHO_3_eKETO_1_iOH_0_iEPOXY_0_ieEPOXY_0_0\n",
      "Current mol no 64: R_eOH_1_eCOOH__0_eEPOXY_0_eCHO_2_eKETO_2_iOH_0_iEPOXY_0_ieEPOXY_0_2\n",
      "Current mol no 65: R_eOH_0_eCOOH__1_eEPOXY_0_eCHO_1_eKETO_0_iOH_2_iEPOXY_0_ieEPOXY_0_2\n",
      "Current mol no 66: R_eOH_0_eCOOH__0_eEPOXY_0_eCHO_0_eKETO_0_iOH_0_iEPOXY_1_ieEPOXY_1_1\n",
      "Current mol no 67: R_eOH_1_eCOOH__0_eEPOXY_1_eCHO_3_eKETO_0_iOH_0_iEPOXY_0_ieEPOXY_0_0\n",
      "Current mol no 68: R_eOH_1_eCOOH__0_eEPOXY_0_eCHO_2_eKETO_0_iOH_0_iEPOXY_0_ieEPOXY_2_1\n",
      "Current mol no 69: R_eOH_0_eCOOH__1_eEPOXY_0_eCHO_1_eKETO_0_iOH_0_iEPOXY_1_ieEPOXY_0_1\n",
      "Current mol no 70: R_eOH_0_eCOOH__1_eEPOXY_0_eCHO_1_eKETO_1_iOH_1_iEPOXY_0_ieEPOXY_1_1\n",
      "Current mol no 71: R_eOH_1_eCOOH__0_eEPOXY_0_eCHO_0_eKETO_0_iOH_0_iEPOXY_2_ieEPOXY_2_2\n",
      "Current mol no 72: R_eOH_0_eCOOH__1_eEPOXY_1_eCHO_1_eKETO_1_iOH_1_iEPOXY_0_ieEPOXY_0_2\n",
      "Current mol no 73: R_eOH_0_eCOOH__0_eEPOXY_1_eCHO_0_eKETO_1_iOH_1_iEPOXY_0_ieEPOXY_2_2\n",
      "Current mol no 74: R_eOH_0_eCOOH__2_eEPOXY_0_eCHO_0_eKETO_1_iOH_0_iEPOXY_0_ieEPOXY_0_0\n",
      "Current mol no 75: R_eOH_0_eCOOH__0_eEPOXY_0_eCHO_0_eKETO_0_iOH_1_iEPOXY_0_ieEPOXY_4_0\n",
      "Current mol no 76: R_eOH_2_eCOOH__0_eEPOXY_0_eCHO_0_eKETO_0_iOH_0_iEPOXY_1_ieEPOXY_0_2\n",
      "Current mol no 77: R_eOH_1_eCOOH__1_eEPOXY_0_eCHO_1_eKETO_0_iOH_1_iEPOXY_0_ieEPOXY_1_0\n",
      "Current mol no 78: R_eOH_0_eCOOH__0_eEPOXY_2_eCHO_0_eKETO_2_iOH_0_iEPOXY_0_ieEPOXY_1_2\n",
      "Current mol no 79: R_eOH_0_eCOOH__1_eEPOXY_0_eCHO_2_eKETO_0_iOH_1_iEPOXY_1_ieEPOXY_0_0\n",
      "Current mol no 80: R_eOH_1_eCOOH__0_eEPOXY_0_eCHO_1_eKETO_1_iOH_1_iEPOXY_1_ieEPOXY_0_0\n",
      "Current mol no 81: R_eOH_0_eCOOH__0_eEPOXY_0_eCHO_0_eKETO_0_iOH_0_iEPOXY_3_ieEPOXY_1_2\n",
      "Current mol no 82: R_eOH_0_eCOOH__0_eEPOXY_2_eCHO_0_eKETO_0_iOH_0_iEPOXY_0_ieEPOXY_0_2\n",
      "Current mol no 83: R_eOH_1_eCOOH__0_eEPOXY_1_eCHO_0_eKETO_2_iOH_0_iEPOXY_0_ieEPOXY_0_0\n",
      "Current mol no 84: R_eOH_0_eCOOH__0_eEPOXY_3_eCHO_0_eKETO_0_iOH_0_iEPOXY_0_ieEPOXY_2_2\n",
      "Current mol no 85: R_eOH_0_eCOOH__0_eEPOXY_0_eCHO_0_eKETO_2_iOH_1_iEPOXY_2_ieEPOXY_0_0\n",
      "Current mol no 86: R_eOH_0_eCOOH__0_eEPOXY_3_eCHO_0_eKETO_0_iOH_0_iEPOXY_1_ieEPOXY_0_2\n",
      "Current mol no 87: R_eOH_0_eCOOH__3_eEPOXY_0_eCHO_1_eKETO_0_iOH_0_iEPOXY_1_ieEPOXY_0_0\n",
      "Current mol no 88: R_eOH_0_eCOOH__0_eEPOXY_1_eCHO_0_eKETO_0_iOH_3_iEPOXY_0_ieEPOXY_0_1\n",
      "Current mol no 89: R_eOH_1_eCOOH__0_eEPOXY_0_eCHO_2_eKETO_0_iOH_1_iEPOXY_0_ieEPOXY_1_1\n",
      "Current mol no 90: R_eOH_2_eCOOH__0_eEPOXY_0_eCHO_2_eKETO_0_iOH_0_iEPOXY_0_ieEPOXY_0_0\n",
      "Current mol no 91: R_eOH_0_eCOOH__0_eEPOXY_1_eCHO_0_eKETO_0_iOH_0_iEPOXY_0_ieEPOXY_2_2\n",
      "Current mol no 92: R_eOH_2_eCOOH__0_eEPOXY_0_eCHO_0_eKETO_1_iOH_0_iEPOXY_2_ieEPOXY_0_2\n",
      "Current mol no 93: R_eOH_2_eCOOH__0_eEPOXY_0_eCHO_3_eKETO_0_iOH_0_iEPOXY_0_ieEPOXY_0_0\n",
      "Current mol no 94: R_eOH_1_eCOOH__0_eEPOXY_0_eCHO_0_eKETO_1_iOH_2_iEPOXY_0_ieEPOXY_1_0\n",
      "Current mol no 95: R_eOH_1_eCOOH__1_eEPOXY_0_eCHO_1_eKETO_0_iOH_2_iEPOXY_0_ieEPOXY_0_1\n",
      "Current mol no 96: R_eOH_0_eCOOH__1_eEPOXY_1_eCHO_0_eKETO_0_iOH_1_iEPOXY_0_ieEPOXY_2_2\n",
      "Current mol no 97: R_eOH_0_eCOOH__1_eEPOXY_0_eCHO_1_eKETO_0_iOH_3_iEPOXY_0_ieEPOXY_0_0\n",
      "Current mol no 98: R_eOH_2_eCOOH__0_eEPOXY_1_eCHO_0_eKETO_1_iOH_0_iEPOXY_1_ieEPOXY_0_2\n",
      "Current mol no 99: R_eOH_1_eCOOH__0_eEPOXY_0_eCHO_0_eKETO_0_iOH_0_iEPOXY_0_ieEPOXY_4_0\n",
      "Current mol no 100: R_eOH_0_eCOOH__3_eEPOXY_0_eCHO_0_eKETO_0_iOH_0_iEPOXY_0_ieEPOXY_1_1\n",
      "Current mol no 101: R_eOH_1_eCOOH__0_eEPOXY_2_eCHO_1_eKETO_0_iOH_0_iEPOXY_0_ieEPOXY_1_0\n",
      "Current mol no 102: R_eOH_1_eCOOH__0_eEPOXY_1_eCHO_0_eKETO_0_iOH_0_iEPOXY_2_ieEPOXY_1_1\n",
      "Current mol no 103: R_eOH_1_eCOOH__1_eEPOXY_2_eCHO_0_eKETO_0_iOH_0_iEPOXY_0_ieEPOXY_0_1\n",
      "Current mol no 104: R_eOH_2_eCOOH__0_eEPOXY_0_eCHO_0_eKETO_0_iOH_2_iEPOXY_0_ieEPOXY_1_2\n",
      "Current mol no 105: R_eOH_2_eCOOH__0_eEPOXY_0_eCHO_0_eKETO_0_iOH_0_iEPOXY_0_ieEPOXY_3_2\n",
      "Current mol no 106: R_eOH_0_eCOOH__1_eEPOXY_0_eCHO_2_eKETO_0_iOH_0_iEPOXY_0_ieEPOXY_0_2\n",
      "Current mol no 107: R_eOH_2_eCOOH__0_eEPOXY_2_eCHO_0_eKETO_0_iOH_0_iEPOXY_1_ieEPOXY_0_0\n",
      "Current mol no 108: R_eOH_0_eCOOH__0_eEPOXY_1_eCHO_0_eKETO_2_iOH_2_iEPOXY_0_ieEPOXY_0_0\n",
      "Current mol no 109: R_eOH_0_eCOOH__0_eEPOXY_0_eCHO_0_eKETO_1_iOH_1_iEPOXY_2_ieEPOXY_1_2\n",
      "Current mol no 110: R_eOH_0_eCOOH__1_eEPOXY_2_eCHO_0_eKETO_0_iOH_0_iEPOXY_0_ieEPOXY_0_1\n",
      "Current mol no 111: R_eOH_1_eCOOH__0_eEPOXY_2_eCHO_0_eKETO_0_iOH_0_iEPOXY_0_ieEPOXY_0_0\n",
      "Current mol no 112: R_eOH_0_eCOOH__1_eEPOXY_2_eCHO_0_eKETO_0_iOH_0_iEPOXY_1_ieEPOXY_1_2\n",
      "Current mol no 113: R_eOH_0_eCOOH__0_eEPOXY_0_eCHO_0_eKETO_3_iOH_1_iEPOXY_0_ieEPOXY_0_1\n",
      "Current mol no 114: R_eOH_0_eCOOH__1_eEPOXY_1_eCHO_1_eKETO_1_iOH_1_iEPOXY_0_ieEPOXY_0_0\n",
      "Current mol no 115: R_eOH_0_eCOOH__1_eEPOXY_1_eCHO_0_eKETO_0_iOH_2_iEPOXY_0_ieEPOXY_0_2\n",
      "Current mol no 116: R_eOH_0_eCOOH__1_eEPOXY_0_eCHO_1_eKETO_1_iOH_0_iEPOXY_0_ieEPOXY_0_0\n",
      "Current mol no 117: R_eOH_0_eCOOH__0_eEPOXY_0_eCHO_0_eKETO_2_iOH_0_iEPOXY_2_ieEPOXY_0_2\n",
      "Current mol no 118: R_eOH_0_eCOOH__0_eEPOXY_2_eCHO_0_eKETO_0_iOH_2_iEPOXY_1_ieEPOXY_0_2\n",
      "Current mol no 119: R_eOH_0_eCOOH__0_eEPOXY_1_eCHO_0_eKETO_0_iOH_0_iEPOXY_0_ieEPOXY_2_1\n",
      "Current mol no 120: R_eOH_0_eCOOH__1_eEPOXY_2_eCHO_0_eKETO_2_iOH_0_iEPOXY_0_ieEPOXY_0_2\n",
      "Current mol no 121: R_eOH_0_eCOOH__0_eEPOXY_0_eCHO_0_eKETO_1_iOH_1_iEPOXY_1_ieEPOXY_2_2\n",
      "Current mol no 122: R_eOH_0_eCOOH__0_eEPOXY_0_eCHO_0_eKETO_2_iOH_0_iEPOXY_0_ieEPOXY_1_0\n",
      "Current mol no 123: R_eOH_1_eCOOH__0_eEPOXY_0_eCHO_3_eKETO_0_iOH_0_iEPOXY_0_ieEPOXY_1_1\n",
      "Current mol no 124: R_eOH_0_eCOOH__0_eEPOXY_2_eCHO_0_eKETO_0_iOH_0_iEPOXY_1_ieEPOXY_2_1\n",
      "Current mol no 125: R_eOH_1_eCOOH__0_eEPOXY_1_eCHO_0_eKETO_0_iOH_0_iEPOXY_0_ieEPOXY_2_1\n",
      "Current mol no 126: R_eOH_0_eCOOH__1_eEPOXY_1_eCHO_0_eKETO_1_iOH_2_iEPOXY_0_ieEPOXY_0_2\n",
      "Current mol no 127: R_eOH_1_eCOOH__1_eEPOXY_1_eCHO_0_eKETO_0_iOH_0_iEPOXY_1_ieEPOXY_1_2\n",
      "Current mol no 128: R_eOH_0_eCOOH__2_eEPOXY_0_eCHO_0_eKETO_0_iOH_1_iEPOXY_0_ieEPOXY_2_0\n",
      "Current mol no 129: R_eOH_2_eCOOH__2_eEPOXY_1_eCHO_0_eKETO_0_iOH_0_iEPOXY_0_ieEPOXY_0_1\n",
      "Current mol no 130: R_eOH_1_eCOOH__1_eEPOXY_1_eCHO_0_eKETO_0_iOH_2_iEPOXY_0_ieEPOXY_0_0\n",
      "Current mol no 131: R_eOH_0_eCOOH__1_eEPOXY_1_eCHO_0_eKETO_0_iOH_0_iEPOXY_1_ieEPOXY_1_1\n",
      "Current mol no 132: R_eOH_3_eCOOH__0_eEPOXY_0_eCHO_0_eKETO_0_iOH_2_iEPOXY_0_ieEPOXY_0_1\n",
      "Current mol no 133: R_eOH_1_eCOOH__1_eEPOXY_0_eCHO_0_eKETO_1_iOH_2_iEPOXY_0_ieEPOXY_0_0\n",
      "Current mol no 134: R_eOH_3_eCOOH__1_eEPOXY_1_eCHO_0_eKETO_0_iOH_0_iEPOXY_0_ieEPOXY_0_1\n",
      "Current mol no 135: R_eOH_0_eCOOH__0_eEPOXY_1_eCHO_0_eKETO_1_iOH_0_iEPOXY_0_ieEPOXY_1_0\n",
      "Current mol no 136: R_eOH_0_eCOOH__3_eEPOXY_0_eCHO_0_eKETO_0_iOH_1_iEPOXY_0_ieEPOXY_1_2\n",
      "Current mol no 137: R_eOH_2_eCOOH__0_eEPOXY_1_eCHO_1_eKETO_0_iOH_1_iEPOXY_0_ieEPOXY_0_2\n",
      "Current mol no 138: R_eOH_2_eCOOH__0_eEPOXY_0_eCHO_0_eKETO_0_iOH_0_iEPOXY_3_ieEPOXY_0_1\n",
      "Current mol no 139: R_eOH_0_eCOOH__2_eEPOXY_0_eCHO_0_eKETO_0_iOH_2_iEPOXY_1_ieEPOXY_0_2\n",
      "Current mol no 140: R_eOH_1_eCOOH__0_eEPOXY_0_eCHO_1_eKETO_0_iOH_0_iEPOXY_1_ieEPOXY_2_1\n",
      "Current mol no 141: R_eOH_2_eCOOH__0_eEPOXY_1_eCHO_0_eKETO_0_iOH_0_iEPOXY_1_ieEPOXY_0_2\n",
      "Current mol no 142: R_eOH_0_eCOOH__0_eEPOXY_1_eCHO_0_eKETO_0_iOH_1_iEPOXY_0_ieEPOXY_1_2\n",
      "Current mol no 143: R_eOH_0_eCOOH__0_eEPOXY_0_eCHO_0_eKETO_0_iOH_4_iEPOXY_0_ieEPOXY_1_2\n",
      "Current mol no 144: R_eOH_2_eCOOH__0_eEPOXY_3_eCHO_0_eKETO_0_iOH_0_iEPOXY_0_ieEPOXY_0_0\n",
      "Current mol no 145: R_eOH_0_eCOOH__0_eEPOXY_0_eCHO_0_eKETO_3_iOH_1_iEPOXY_0_ieEPOXY_1_2\n",
      "Current mol no 146: R_eOH_2_eCOOH__0_eEPOXY_1_eCHO_0_eKETO_0_iOH_0_iEPOXY_2_ieEPOXY_0_0\n",
      "Current mol no 147: R_eOH_0_eCOOH__1_eEPOXY_1_eCHO_0_eKETO_0_iOH_1_iEPOXY_1_ieEPOXY_0_0\n",
      "Current mol no 148: R_eOH_0_eCOOH__0_eEPOXY_0_eCHO_0_eKETO_0_iOH_0_iEPOXY_1_ieEPOXY_4_1\n",
      "Current mol no 149: R_eOH_0_eCOOH__1_eEPOXY_1_eCHO_2_eKETO_0_iOH_0_iEPOXY_0_ieEPOXY_0_0\n",
      "Current mol no 150: R_eOH_0_eCOOH__1_eEPOXY_0_eCHO_1_eKETO_0_iOH_1_iEPOXY_2_ieEPOXY_0_2\n",
      "Current mol no 151: R_eOH_1_eCOOH__1_eEPOXY_0_eCHO_0_eKETO_0_iOH_2_iEPOXY_1_ieEPOXY_0_0\n",
      "Current mol no 152: R_eOH_0_eCOOH__0_eEPOXY_1_eCHO_0_eKETO_0_iOH_1_iEPOXY_2_ieEPOXY_1_1\n",
      "Current mol no 153: R_eOH_2_eCOOH__0_eEPOXY_0_eCHO_0_eKETO_0_iOH_0_iEPOXY_0_ieEPOXY_1_0\n",
      "Current mol no 154: R_eOH_1_eCOOH__0_eEPOXY_0_eCHO_0_eKETO_0_iOH_1_iEPOXY_0_ieEPOXY_0_1\n",
      "Current mol no 155: R_eOH_1_eCOOH__1_eEPOXY_0_eCHO_1_eKETO_0_iOH_1_iEPOXY_1_ieEPOXY_0_0\n",
      "Current mol no 156: R_eOH_1_eCOOH__1_eEPOXY_0_eCHO_0_eKETO_0_iOH_0_iEPOXY_3_ieEPOXY_0_2\n",
      "Current mol no 157: R_eOH_1_eCOOH__0_eEPOXY_0_eCHO_2_eKETO_0_iOH_0_iEPOXY_1_ieEPOXY_1_0\n",
      "Current mol no 158: R_eOH_1_eCOOH__2_eEPOXY_0_eCHO_0_eKETO_0_iOH_1_iEPOXY_0_ieEPOXY_0_2\n",
      "Current mol no 159: R_eOH_0_eCOOH__2_eEPOXY_0_eCHO_1_eKETO_0_iOH_0_iEPOXY_0_ieEPOXY_0_1\n",
      "Current mol no 160: R_eOH_3_eCOOH__0_eEPOXY_2_eCHO_0_eKETO_0_iOH_0_iEPOXY_0_ieEPOXY_0_1\n",
      "Current mol no 161: R_eOH_0_eCOOH__0_eEPOXY_0_eCHO_0_eKETO_2_iOH_0_iEPOXY_1_ieEPOXY_0_1\n",
      "Current mol no 162: R_eOH_1_eCOOH__0_eEPOXY_0_eCHO_0_eKETO_0_iOH_4_iEPOXY_0_ieEPOXY_0_2\n",
      "Current mol no 163: R_eOH_1_eCOOH__0_eEPOXY_0_eCHO_0_eKETO_0_iOH_1_iEPOXY_1_ieEPOXY_2_2\n",
      "Current mol no 164: R_eOH_1_eCOOH__0_eEPOXY_1_eCHO_1_eKETO_0_iOH_0_iEPOXY_0_ieEPOXY_2_0\n",
      "Current mol no 165: R_eOH_0_eCOOH__0_eEPOXY_1_eCHO_0_eKETO_0_iOH_0_iEPOXY_1_ieEPOXY_0_1\n",
      "Current mol no 166: R_eOH_3_eCOOH__0_eEPOXY_0_eCHO_0_eKETO_0_iOH_2_iEPOXY_0_ieEPOXY_0_2\n",
      "Current mol no 167: R_eOH_1_eCOOH__1_eEPOXY_1_eCHO_0_eKETO_2_iOH_0_iEPOXY_0_ieEPOXY_0_0\n",
      "Current mol no 168: R_eOH_0_eCOOH__1_eEPOXY_0_eCHO_2_eKETO_0_iOH_0_iEPOXY_1_ieEPOXY_1_0\n",
      "Current mol no 169: R_eOH_0_eCOOH__0_eEPOXY_2_eCHO_0_eKETO_0_iOH_0_iEPOXY_2_ieEPOXY_1_1\n",
      "Current mol no 170: R_eOH_0_eCOOH__0_eEPOXY_1_eCHO_0_eKETO_0_iOH_2_iEPOXY_0_ieEPOXY_1_0\n",
      "Current mol no 171: R_eOH_0_eCOOH__1_eEPOXY_1_eCHO_3_eKETO_0_iOH_0_iEPOXY_0_ieEPOXY_0_2\n",
      "Current mol no 172: R_eOH_0_eCOOH__0_eEPOXY_0_eCHO_0_eKETO_2_iOH_2_iEPOXY_0_ieEPOXY_1_1\n",
      "Current mol no 173: R_eOH_1_eCOOH__0_eEPOXY_0_eCHO_3_eKETO_1_iOH_0_iEPOXY_0_ieEPOXY_0_2\n",
      "Current mol no 174: R_eOH_0_eCOOH__1_eEPOXY_1_eCHO_0_eKETO_0_iOH_1_iEPOXY_0_ieEPOXY_2_1\n",
      "Current mol no 175: R_eOH_0_eCOOH__3_eEPOXY_0_eCHO_0_eKETO_0_iOH_0_iEPOXY_0_ieEPOXY_1_0\n",
      "Current mol no 176: R_eOH_1_eCOOH__1_eEPOXY_1_eCHO_0_eKETO_0_iOH_1_iEPOXY_0_ieEPOXY_1_1\n",
      "Current mol no 177: R_eOH_0_eCOOH__0_eEPOXY_0_eCHO_0_eKETO_1_iOH_1_iEPOXY_3_ieEPOXY_0_1\n",
      "Current mol no 178: R_eOH_0_eCOOH__1_eEPOXY_1_eCHO_1_eKETO_1_iOH_0_iEPOXY_0_ieEPOXY_0_0\n",
      "Current mol no 179: R_eOH_0_eCOOH__1_eEPOXY_0_eCHO_2_eKETO_0_iOH_0_iEPOXY_1_ieEPOXY_0_2\n",
      "Current mol no 180: R_eOH_1_eCOOH__0_eEPOXY_0_eCHO_0_eKETO_0_iOH_1_iEPOXY_0_ieEPOXY_2_0\n",
      "Current mol no 181: R_eOH_0_eCOOH__2_eEPOXY_3_eCHO_0_eKETO_0_iOH_0_iEPOXY_0_ieEPOXY_0_0\n",
      "Current mol no 182: R_eOH_0_eCOOH__1_eEPOXY_3_eCHO_1_eKETO_0_iOH_0_iEPOXY_0_ieEPOXY_0_1\n",
      "Current mol no 183: R_eOH_1_eCOOH__0_eEPOXY_0_eCHO_1_eKETO_2_iOH_1_iEPOXY_0_ieEPOXY_0_1\n",
      "Current mol no 184: R_eOH_0_eCOOH__1_eEPOXY_0_eCHO_3_eKETO_0_iOH_1_iEPOXY_0_ieEPOXY_0_1\n",
      "Current mol no 185: R_eOH_0_eCOOH__0_eEPOXY_0_eCHO_0_eKETO_1_iOH_1_iEPOXY_2_ieEPOXY_0_2\n",
      "Current mol no 186: R_eOH_0_eCOOH__0_eEPOXY_1_eCHO_0_eKETO_0_iOH_2_iEPOXY_1_ieEPOXY_0_1\n",
      "Current mol no 187: R_eOH_0_eCOOH__1_eEPOXY_0_eCHO_0_eKETO_1_iOH_1_iEPOXY_0_ieEPOXY_2_2\n",
      "Current mol no 188: R_eOH_1_eCOOH__0_eEPOXY_0_eCHO_0_eKETO_0_iOH_0_iEPOXY_1_ieEPOXY_2_0\n",
      "Current mol no 189: R_eOH_2_eCOOH__0_eEPOXY_1_eCHO_2_eKETO_0_iOH_0_iEPOXY_0_ieEPOXY_0_0\n",
      "Current mol no 190: R_eOH_1_eCOOH__0_eEPOXY_0_eCHO_2_eKETO_0_iOH_0_iEPOXY_1_ieEPOXY_1_1\n",
      "Current mol no 191: R_eOH_0_eCOOH__2_eEPOXY_0_eCHO_0_eKETO_0_iOH_1_iEPOXY_0_ieEPOXY_2_1\n",
      "Current mol no 192: R_eOH_0_eCOOH__0_eEPOXY_2_eCHO_0_eKETO_1_iOH_0_iEPOXY_0_ieEPOXY_0_2\n",
      "Current mol no 193: R_eOH_0_eCOOH__2_eEPOXY_1_eCHO_1_eKETO_0_iOH_0_iEPOXY_0_ieEPOXY_0_0\n",
      "Current mol no 194: R_eOH_3_eCOOH__0_eEPOXY_1_eCHO_0_eKETO_0_iOH_1_iEPOXY_0_ieEPOXY_0_1\n",
      "Current mol no 195: R_eOH_0_eCOOH__0_eEPOXY_1_eCHO_0_eKETO_3_iOH_1_iEPOXY_0_ieEPOXY_0_2\n",
      "Current mol no 196: R_eOH_0_eCOOH__1_eEPOXY_0_eCHO_0_eKETO_2_iOH_0_iEPOXY_0_ieEPOXY_0_2\n",
      "Current mol no 197: R_eOH_2_eCOOH__1_eEPOXY_0_eCHO_0_eKETO_1_iOH_0_iEPOXY_0_ieEPOXY_1_2\n",
      "Current mol no 198: R_eOH_1_eCOOH__0_eEPOXY_0_eCHO_0_eKETO_1_iOH_1_iEPOXY_0_ieEPOXY_1_1\n",
      "Current mol no 199: R_eOH_1_eCOOH__0_eEPOXY_2_eCHO_1_eKETO_0_iOH_1_iEPOXY_0_ieEPOXY_0_0\n",
      "Current mol no 200: R_eOH_2_eCOOH__0_eEPOXY_1_eCHO_0_eKETO_2_iOH_0_iEPOXY_0_ieEPOXY_0_0\n",
      "Current mol no 201: R_eOH_1_eCOOH__0_eEPOXY_0_eCHO_0_eKETO_0_iOH_1_iEPOXY_0_ieEPOXY_1_1\n",
      "Current mol no 202: R_eOH_1_eCOOH__0_eEPOXY_1_eCHO_0_eKETO_0_iOH_1_iEPOXY_0_ieEPOXY_1_1\n",
      "Current mol no 203: R_eOH_1_eCOOH__0_eEPOXY_0_eCHO_2_eKETO_2_iOH_0_iEPOXY_0_ieEPOXY_0_0\n",
      "Current mol no 204: R_eOH_0_eCOOH__1_eEPOXY_0_eCHO_2_eKETO_0_iOH_1_iEPOXY_0_ieEPOXY_1_1\n",
      "Current mol no 205: R_eOH_0_eCOOH__4_eEPOXY_0_eCHO_0_eKETO_0_iOH_1_iEPOXY_0_ieEPOXY_0_2\n",
      "Current mol no 206: R_eOH_0_eCOOH__0_eEPOXY_2_eCHO_0_eKETO_1_iOH_0_iEPOXY_0_ieEPOXY_1_2\n",
      "Current mol no 207: R_eOH_0_eCOOH__2_eEPOXY_0_eCHO_1_eKETO_1_iOH_1_iEPOXY_0_ieEPOXY_0_2\n",
      "Current mol no 208: R_eOH_0_eCOOH__0_eEPOXY_0_eCHO_0_eKETO_3_iOH_2_iEPOXY_0_ieEPOXY_0_2\n",
      "Current mol no 209: R_eOH_1_eCOOH__0_eEPOXY_0_eCHO_1_eKETO_0_iOH_1_iEPOXY_0_ieEPOXY_1_2\n",
      "Current mol no 210: R_eOH_1_eCOOH__1_eEPOXY_1_eCHO_0_eKETO_0_iOH_0_iEPOXY_1_ieEPOXY_0_0\n",
      "Current mol no 211: R_eOH_1_eCOOH__0_eEPOXY_2_eCHO_1_eKETO_0_iOH_0_iEPOXY_1_ieEPOXY_0_1\n",
      "Current mol no 212: R_eOH_1_eCOOH__0_eEPOXY_1_eCHO_1_eKETO_0_iOH_2_iEPOXY_0_ieEPOXY_0_1\n",
      "Current mol no 213: R_eOH_0_eCOOH__0_eEPOXY_0_eCHO_0_eKETO_4_iOH_0_iEPOXY_1_ieEPOXY_0_2\n",
      "Current mol no 214: R_eOH_3_eCOOH__0_eEPOXY_0_eCHO_0_eKETO_1_iOH_1_iEPOXY_0_ieEPOXY_0_2\n",
      "Current mol no 215: R_eOH_0_eCOOH__0_eEPOXY_1_eCHO_0_eKETO_2_iOH_1_iEPOXY_0_ieEPOXY_1_1\n",
      "Current mol no 216: R_eOH_0_eCOOH__0_eEPOXY_3_eCHO_0_eKETO_0_iOH_2_iEPOXY_0_ieEPOXY_0_0\n",
      "Current mol no 217: R_eOH_1_eCOOH__0_eEPOXY_0_eCHO_0_eKETO_1_iOH_1_iEPOXY_0_ieEPOXY_2_0\n",
      "Current mol no 218: R_eOH_1_eCOOH__2_eEPOXY_0_eCHO_0_eKETO_0_iOH_0_iEPOXY_1_ieEPOXY_0_1\n",
      "Current mol no 219: R_eOH_0_eCOOH__0_eEPOXY_0_eCHO_0_eKETO_1_iOH_0_iEPOXY_3_ieEPOXY_1_2\n",
      "Current mol no 220: R_eOH_0_eCOOH__0_eEPOXY_1_eCHO_0_eKETO_1_iOH_1_iEPOXY_0_ieEPOXY_2_1\n",
      "Current mol no 221: R_eOH_0_eCOOH__1_eEPOXY_0_eCHO_1_eKETO_1_iOH_1_iEPOXY_1_ieEPOXY_0_0\n",
      "Current mol no 222: R_eOH_0_eCOOH__0_eEPOXY_0_eCHO_0_eKETO_2_iOH_1_iEPOXY_0_ieEPOXY_0_0\n",
      "Current mol no 223: R_eOH_0_eCOOH__1_eEPOXY_0_eCHO_0_eKETO_2_iOH_2_iEPOXY_0_ieEPOXY_0_0\n",
      "Current mol no 224: R_eOH_0_eCOOH__0_eEPOXY_1_eCHO_0_eKETO_0_iOH_2_iEPOXY_1_ieEPOXY_0_2\n",
      "Current mol no 225: R_eOH_3_eCOOH__0_eEPOXY_0_eCHO_2_eKETO_0_iOH_0_iEPOXY_0_ieEPOXY_0_2\n",
      "Current mol no 226: R_eOH_1_eCOOH__1_eEPOXY_1_eCHO_0_eKETO_0_iOH_0_iEPOXY_0_ieEPOXY_1_2\n",
      "Current mol no 227: R_eOH_2_eCOOH__0_eEPOXY_0_eCHO_0_eKETO_0_iOH_0_iEPOXY_0_ieEPOXY_2_2\n",
      "Current mol no 228: R_eOH_1_eCOOH__0_eEPOXY_1_eCHO_0_eKETO_0_iOH_1_iEPOXY_1_ieEPOXY_0_0\n",
      "Current mol no 229: R_eOH_2_eCOOH__0_eEPOXY_0_eCHO_0_eKETO_0_iOH_1_iEPOXY_0_ieEPOXY_2_2\n",
      "Current mol no 230: R_eOH_0_eCOOH__1_eEPOXY_1_eCHO_0_eKETO_1_iOH_0_iEPOXY_0_ieEPOXY_1_0\n",
      "Current mol no 231: R_eOH_2_eCOOH__0_eEPOXY_0_eCHO_1_eKETO_0_iOH_0_iEPOXY_1_ieEPOXY_1_1\n",
      "Current mol no 232: R_eOH_0_eCOOH__1_eEPOXY_0_eCHO_2_eKETO_1_iOH_0_iEPOXY_0_ieEPOXY_1_2\n",
      "Current mol no 233: R_eOH_1_eCOOH__1_eEPOXY_1_eCHO_0_eKETO_0_iOH_0_iEPOXY_1_ieEPOXY_0_1\n",
      "Current mol no 234: R_eOH_0_eCOOH__0_eEPOXY_1_eCHO_0_eKETO_0_iOH_2_iEPOXY_1_ieEPOXY_0_0\n",
      "Current mol no 235: R_eOH_1_eCOOH__0_eEPOXY_0_eCHO_1_eKETO_2_iOH_0_iEPOXY_1_ieEPOXY_0_2\n",
      "Current mol no 236: R_eOH_1_eCOOH__2_eEPOXY_0_eCHO_0_eKETO_0_iOH_0_iEPOXY_1_ieEPOXY_1_1\n",
      "Current mol no 237: R_eOH_1_eCOOH__0_eEPOXY_1_eCHO_1_eKETO_1_iOH_0_iEPOXY_0_ieEPOXY_0_2\n",
      "Current mol no 238: R_eOH_1_eCOOH__1_eEPOXY_0_eCHO_0_eKETO_0_iOH_0_iEPOXY_0_ieEPOXY_2_1\n",
      "Current mol no 239: R_eOH_1_eCOOH__0_eEPOXY_1_eCHO_0_eKETO_0_iOH_1_iEPOXY_1_ieEPOXY_1_0\n",
      "Current mol no 240: R_eOH_0_eCOOH__0_eEPOXY_0_eCHO_0_eKETO_4_iOH_0_iEPOXY_0_ieEPOXY_0_0\n",
      "Current mol no 241: R_eOH_0_eCOOH__0_eEPOXY_3_eCHO_0_eKETO_0_iOH_1_iEPOXY_1_ieEPOXY_0_2\n",
      "Current mol no 242: R_eOH_0_eCOOH__1_eEPOXY_0_eCHO_1_eKETO_0_iOH_2_iEPOXY_1_ieEPOXY_0_0\n",
      "Current mol no 243: R_eOH_0_eCOOH__0_eEPOXY_0_eCHO_0_eKETO_0_iOH_3_iEPOXY_0_ieEPOXY_1_1\n",
      "Current mol no 244: R_eOH_1_eCOOH__0_eEPOXY_1_eCHO_0_eKETO_1_iOH_0_iEPOXY_0_ieEPOXY_1_0\n",
      "Current mol no 245: R_eOH_0_eCOOH__0_eEPOXY_1_eCHO_0_eKETO_2_iOH_0_iEPOXY_2_ieEPOXY_0_2\n",
      "Current mol no 246: R_eOH_2_eCOOH__0_eEPOXY_0_eCHO_1_eKETO_0_iOH_0_iEPOXY_0_ieEPOXY_0_0\n",
      "Current mol no 247: R_eOH_0_eCOOH__0_eEPOXY_0_eCHO_0_eKETO_1_iOH_0_iEPOXY_0_ieEPOXY_4_2\n",
      "Current mol no 248: R_eOH_0_eCOOH__1_eEPOXY_3_eCHO_0_eKETO_0_iOH_0_iEPOXY_1_ieEPOXY_0_0\n",
      "Current mol no 249: R_eOH_0_eCOOH__0_eEPOXY_0_eCHO_0_eKETO_0_iOH_0_iEPOXY_2_ieEPOXY_1_0\n",
      "Current mol no 250: R_eOH_0_eCOOH__1_eEPOXY_0_eCHO_1_eKETO_2_iOH_0_iEPOXY_0_ieEPOXY_0_0\n",
      "Current mol no 251: R_eOH_0_eCOOH__1_eEPOXY_0_eCHO_0_eKETO_1_iOH_1_iEPOXY_1_ieEPOXY_0_2\n",
      "Current mol no 252: R_eOH_0_eCOOH__0_eEPOXY_2_eCHO_0_eKETO_0_iOH_1_iEPOXY_1_ieEPOXY_1_2\n",
      "Current mol no 253: R_eOH_1_eCOOH__0_eEPOXY_0_eCHO_1_eKETO_0_iOH_0_iEPOXY_2_ieEPOXY_0_1\n",
      "Current mol no 254: R_eOH_1_eCOOH__0_eEPOXY_0_eCHO_1_eKETO_0_iOH_0_iEPOXY_1_ieEPOXY_0_0\n",
      "Current mol no 255: R_eOH_1_eCOOH__0_eEPOXY_0_eCHO_2_eKETO_0_iOH_1_iEPOXY_0_ieEPOXY_0_2\n",
      "Current mol no 256: R_eOH_2_eCOOH__0_eEPOXY_3_eCHO_0_eKETO_0_iOH_0_iEPOXY_0_ieEPOXY_0_2\n",
      "Current mol no 257: R_eOH_2_eCOOH__0_eEPOXY_0_eCHO_0_eKETO_0_iOH_1_iEPOXY_0_ieEPOXY_1_1\n",
      "Current mol no 258: R_eOH_0_eCOOH__1_eEPOXY_2_eCHO_0_eKETO_0_iOH_0_iEPOXY_1_ieEPOXY_1_0\n",
      "Current mol no 259: R_eOH_3_eCOOH__0_eEPOXY_0_eCHO_0_eKETO_0_iOH_0_iEPOXY_0_ieEPOXY_1_0\n",
      "Current mol no 260: R_eOH_0_eCOOH__2_eEPOXY_0_eCHO_0_eKETO_3_iOH_0_iEPOXY_0_ieEPOXY_0_0\n",
      "Current mol no 261: R_eOH_1_eCOOH__0_eEPOXY_0_eCHO_0_eKETO_1_iOH_3_iEPOXY_0_ieEPOXY_0_2\n",
      "Current mol no 262: R_eOH_0_eCOOH__0_eEPOXY_1_eCHO_0_eKETO_2_iOH_0_iEPOXY_1_ieEPOXY_0_2\n",
      "Current mol no 263: R_eOH_0_eCOOH__1_eEPOXY_0_eCHO_2_eKETO_0_iOH_0_iEPOXY_0_ieEPOXY_1_1\n",
      "Current mol no 264: R_eOH_1_eCOOH__0_eEPOXY_0_eCHO_4_eKETO_0_iOH_0_iEPOXY_0_ieEPOXY_0_2\n",
      "Current mol no 265: R_eOH_1_eCOOH__1_eEPOXY_0_eCHO_0_eKETO_0_iOH_1_iEPOXY_0_ieEPOXY_0_1\n",
      "Current mol no 266: R_eOH_0_eCOOH__1_eEPOXY_3_eCHO_1_eKETO_0_iOH_0_iEPOXY_0_ieEPOXY_0_0\n",
      "Current mol no 267: R_eOH_1_eCOOH__1_eEPOXY_0_eCHO_1_eKETO_1_iOH_0_iEPOXY_0_ieEPOXY_0_1\n",
      "Current mol no 268: R_eOH_3_eCOOH__0_eEPOXY_0_eCHO_0_eKETO_0_iOH_1_iEPOXY_0_ieEPOXY_1_1\n",
      "Current mol no 269: R_eOH_2_eCOOH__0_eEPOXY_0_eCHO_0_eKETO_2_iOH_0_iEPOXY_1_ieEPOXY_0_2\n",
      "Current mol no 270: R_eOH_2_eCOOH__0_eEPOXY_2_eCHO_1_eKETO_0_iOH_0_iEPOXY_0_ieEPOXY_0_0\n",
      "Current mol no 271: R_eOH_1_eCOOH__2_eEPOXY_0_eCHO_0_eKETO_2_iOH_0_iEPOXY_0_ieEPOXY_0_0\n",
      "Current mol no 272: R_eOH_0_eCOOH__0_eEPOXY_0_eCHO_0_eKETO_1_iOH_1_iEPOXY_0_ieEPOXY_1_1\n",
      "Current mol no 273: R_eOH_0_eCOOH__2_eEPOXY_0_eCHO_0_eKETO_0_iOH_1_iEPOXY_0_ieEPOXY_0_1\n",
      "Current mol no 274: R_eOH_0_eCOOH__0_eEPOXY_3_eCHO_0_eKETO_0_iOH_1_iEPOXY_0_ieEPOXY_0_1\n",
      "Current mol no 275: R_eOH_0_eCOOH__1_eEPOXY_3_eCHO_0_eKETO_1_iOH_0_iEPOXY_0_ieEPOXY_0_1\n",
      "Current mol no 276: R_eOH_0_eCOOH__0_eEPOXY_0_eCHO_0_eKETO_3_iOH_0_iEPOXY_0_ieEPOXY_1_0\n",
      "Current mol no 277: R_eOH_1_eCOOH__0_eEPOXY_0_eCHO_0_eKETO_2_iOH_1_iEPOXY_0_ieEPOXY_1_1\n",
      "Current mol no 278: R_eOH_0_eCOOH__1_eEPOXY_3_eCHO_0_eKETO_0_iOH_0_iEPOXY_0_ieEPOXY_0_1\n",
      "Current mol no 279: R_eOH_2_eCOOH__0_eEPOXY_1_eCHO_0_eKETO_1_iOH_0_iEPOXY_1_ieEPOXY_0_0\n",
      "Current mol no 280: R_eOH_0_eCOOH__1_eEPOXY_1_eCHO_1_eKETO_0_iOH_1_iEPOXY_0_ieEPOXY_0_1\n",
      "Current mol no 281: R_eOH_1_eCOOH__1_eEPOXY_0_eCHO_2_eKETO_0_iOH_1_iEPOXY_0_ieEPOXY_0_2\n",
      "Current mol no 282: R_eOH_3_eCOOH__0_eEPOXY_1_eCHO_1_eKETO_0_iOH_0_iEPOXY_0_ieEPOXY_0_2\n",
      "Current mol no 283: R_eOH_2_eCOOH__0_eEPOXY_0_eCHO_0_eKETO_0_iOH_0_iEPOXY_2_ieEPOXY_1_2\n",
      "Current mol no 284: R_eOH_0_eCOOH__0_eEPOXY_0_eCHO_0_eKETO_0_iOH_3_iEPOXY_1_ieEPOXY_0_0\n",
      "Current mol no 285: R_eOH_1_eCOOH__0_eEPOXY_0_eCHO_1_eKETO_2_iOH_1_iEPOXY_0_ieEPOXY_0_0\n",
      "Current mol no 286: R_eOH_4_eCOOH__0_eEPOXY_0_eCHO_0_eKETO_1_iOH_0_iEPOXY_0_ieEPOXY_0_1\n",
      "Current mol no 287: R_eOH_0_eCOOH__0_eEPOXY_0_eCHO_0_eKETO_0_iOH_1_iEPOXY_0_ieEPOXY_1_2\n",
      "Current mol no 288: R_eOH_0_eCOOH__2_eEPOXY_1_eCHO_1_eKETO_0_iOH_0_iEPOXY_0_ieEPOXY_0_2\n",
      "Current mol no 289: R_eOH_1_eCOOH__0_eEPOXY_0_eCHO_0_eKETO_0_iOH_2_iEPOXY_0_ieEPOXY_2_2\n",
      "Current mol no 290: R_eOH_1_eCOOH__1_eEPOXY_1_eCHO_1_eKETO_0_iOH_0_iEPOXY_0_ieEPOXY_1_0\n",
      "Current mol no 291: R_eOH_0_eCOOH__1_eEPOXY_0_eCHO_2_eKETO_1_iOH_0_iEPOXY_0_ieEPOXY_0_1\n",
      "Current mol no 292: R_eOH_1_eCOOH__0_eEPOXY_0_eCHO_0_eKETO_0_iOH_1_iEPOXY_2_ieEPOXY_0_2\n",
      "Current mol no 293: R_eOH_0_eCOOH__0_eEPOXY_0_eCHO_0_eKETO_0_iOH_2_iEPOXY_3_ieEPOXY_0_2\n",
      "Current mol no 294: R_eOH_1_eCOOH__0_eEPOXY_1_eCHO_1_eKETO_0_iOH_2_iEPOXY_0_ieEPOXY_0_2\n",
      "Current mol no 295: R_eOH_1_eCOOH__1_eEPOXY_0_eCHO_0_eKETO_0_iOH_0_iEPOXY_2_ieEPOXY_0_1\n",
      "Current mol no 296: R_eOH_1_eCOOH__2_eEPOXY_2_eCHO_0_eKETO_0_iOH_0_iEPOXY_0_ieEPOXY_0_2\n",
      "Current mol no 297: R_eOH_0_eCOOH__0_eEPOXY_0_eCHO_0_eKETO_0_iOH_0_iEPOXY_0_ieEPOXY_3_2\n",
      "Current mol no 298: R_eOH_0_eCOOH__2_eEPOXY_1_eCHO_0_eKETO_0_iOH_1_iEPOXY_1_ieEPOXY_0_1\n",
      "Current mol no 299: R_eOH_2_eCOOH__1_eEPOXY_2_eCHO_0_eKETO_0_iOH_0_iEPOXY_0_ieEPOXY_0_2\n",
      "Current mol no 300: R_eOH_0_eCOOH__3_eEPOXY_0_eCHO_0_eKETO_0_iOH_0_iEPOXY_0_ieEPOXY_0_1\n",
      "Current mol no 301: R_eOH_0_eCOOH__1_eEPOXY_0_eCHO_1_eKETO_0_iOH_1_iEPOXY_0_ieEPOXY_0_1\n",
      "Current mol no 302: R_eOH_0_eCOOH__2_eEPOXY_0_eCHO_0_eKETO_0_iOH_2_iEPOXY_0_ieEPOXY_0_0\n",
      "Current mol no 303: R_eOH_0_eCOOH__1_eEPOXY_1_eCHO_1_eKETO_1_iOH_1_iEPOXY_0_ieEPOXY_0_1\n",
      "Current mol no 304: R_eOH_1_eCOOH__0_eEPOXY_2_eCHO_0_eKETO_1_iOH_0_iEPOXY_0_ieEPOXY_0_2\n",
      "Current mol no 305: R_eOH_2_eCOOH__1_eEPOXY_1_eCHO_0_eKETO_1_iOH_0_iEPOXY_0_ieEPOXY_0_2\n",
      "Current mol no 306: R_eOH_0_eCOOH__0_eEPOXY_1_eCHO_0_eKETO_0_iOH_1_iEPOXY_1_ieEPOXY_1_0\n",
      "Current mol no 307: R_eOH_1_eCOOH__0_eEPOXY_0_eCHO_0_eKETO_0_iOH_1_iEPOXY_0_ieEPOXY_0_0\n",
      "Current mol no 308: R_eOH_1_eCOOH__2_eEPOXY_0_eCHO_1_eKETO_0_iOH_1_iEPOXY_0_ieEPOXY_0_2\n",
      "Current mol no 309: R_eOH_2_eCOOH__0_eEPOXY_0_eCHO_0_eKETO_0_iOH_0_iEPOXY_1_ieEPOXY_0_1\n",
      "Current mol no 310: R_eOH_0_eCOOH__1_eEPOXY_0_eCHO_1_eKETO_0_iOH_0_iEPOXY_1_ieEPOXY_2_1\n",
      "Current mol no 311: R_eOH_0_eCOOH__0_eEPOXY_1_eCHO_0_eKETO_0_iOH_2_iEPOXY_0_ieEPOXY_2_1\n",
      "Current mol no 312: R_eOH_0_eCOOH__0_eEPOXY_2_eCHO_0_eKETO_1_iOH_0_iEPOXY_1_ieEPOXY_0_2\n",
      "Current mol no 313: R_eOH_2_eCOOH__1_eEPOXY_1_eCHO_0_eKETO_0_iOH_0_iEPOXY_0_ieEPOXY_0_1\n",
      "Current mol no 314: R_eOH_3_eCOOH__0_eEPOXY_0_eCHO_2_eKETO_0_iOH_0_iEPOXY_0_ieEPOXY_0_0\n",
      "Current mol no 315: R_eOH_0_eCOOH__2_eEPOXY_2_eCHO_0_eKETO_0_iOH_0_iEPOXY_1_ieEPOXY_0_1\n",
      "Current mol no 316: R_eOH_2_eCOOH__0_eEPOXY_0_eCHO_0_eKETO_1_iOH_0_iEPOXY_0_ieEPOXY_1_2\n",
      "Current mol no 317: R_eOH_2_eCOOH__2_eEPOXY_0_eCHO_0_eKETO_1_iOH_0_iEPOXY_0_ieEPOXY_0_0\n",
      "Current mol no 318: R_eOH_0_eCOOH__1_eEPOXY_2_eCHO_0_eKETO_0_iOH_0_iEPOXY_0_ieEPOXY_0_0\n",
      "Current mol no 319: R_eOH_1_eCOOH__0_eEPOXY_1_eCHO_0_eKETO_0_iOH_0_iEPOXY_3_ieEPOXY_0_2\n"
     ]
    }
   ],
   "source": [
    "# --- Create python dictionaries\n",
    "spec_dict = {}\n",
    "mol_dict = {}\n",
    "smiles_dict = {}\n",
    "\n",
    "# --- Molecule counter\n",
    "mol_num = 1\n",
    "\n",
    "# --- Loop through all the molecule directories\n",
    "for subdir in subdirs:\n",
    "    dir_path, mol_name = os.path.split(subdir)\n",
    "    print(f'Current mol no {mol_num}: {mol_name}')\n",
    "    mol_num += 1\n",
    "    # --- Call function to create spectrum dictionary\n",
    "    mol, spec_list, smiles = create_spec_dict(subdir)\n",
    "    num_carbons = count_atoms(mol, 6)\n",
    "\n",
    "    # --- Sanity check number of carbons in mol matches\n",
    "    # --- the number of spectra, if so create dictionaries\n",
    "    if len(spec_list.keys()) == num_carbons:\n",
    "        spec_dict[mol_name] = spec_list\n",
    "        mol_dict[mol_name] = smiles\n",
    "    else:\n",
    "        print('Molecule invalid:', subdir)\n"
   ]
  },
  {
   "cell_type": "code",
   "execution_count": 13,
   "metadata": {},
   "outputs": [],
   "source": [
    "# Combine the mol and spectra dictionaries into one variable\n",
    "data = []\n",
    "\n",
    "data.append(mol_dict)\n",
    "data.append(spec_dict)"
   ]
  },
  {
   "cell_type": "code",
   "execution_count": 11,
   "metadata": {},
   "outputs": [
    {
     "ename": "NameError",
     "evalue": "name 'data' is not defined",
     "output_type": "error",
     "traceback": [
      "\u001b[1;31m---------------------------------------------------------------------------\u001b[0m",
      "\u001b[1;31mNameError\u001b[0m                                 Traceback (most recent call last)",
      "Cell \u001b[1;32mIn[11], line 3\u001b[0m\n\u001b[0;32m      1\u001b[0m \u001b[38;5;66;03m# --- Save the data into a json file\u001b[39;00m\n\u001b[0;32m      2\u001b[0m \u001b[38;5;28;01mwith\u001b[39;00m \u001b[38;5;28mopen\u001b[39m(\u001b[38;5;124m'\u001b[39m\u001b[38;5;124mraw/data_coronene.json\u001b[39m\u001b[38;5;124m'\u001b[39m, \u001b[38;5;124m'\u001b[39m\u001b[38;5;124mw\u001b[39m\u001b[38;5;124m'\u001b[39m) \u001b[38;5;28;01mas\u001b[39;00m j_file:\n\u001b[1;32m----> 3\u001b[0m     json\u001b[38;5;241m.\u001b[39mdump(\u001b[43mdata\u001b[49m, j_file)\n",
      "\u001b[1;31mNameError\u001b[0m: name 'data' is not defined"
     ]
    }
   ],
   "source": [
    "# --- Save the data into a json file\n",
    "with open('raw/data_coronene.json', 'w') as j_file:\n",
    "    json.dump(data, j_file)"
   ]
  },
  {
   "cell_type": "markdown",
   "metadata": {},
   "source": [
    "### Check saved data"
   ]
  },
  {
   "cell_type": "code",
   "execution_count": 3,
   "metadata": {},
   "outputs": [],
   "source": [
    "with open('raw/data_coronene.json', 'r') as j_file:\n",
    "    data = json.load(j_file)"
   ]
  },
  {
   "cell_type": "code",
   "execution_count": 4,
   "metadata": {},
   "outputs": [
    {
     "name": "stdout",
     "output_type": "stream",
     "text": [
      "['R_eOH_0_eCOOH__1_eEPOXY_2_eCHO_0_eKETO_0_iOH_0_iEPOXY_0_ieEPOXY_1_0', 'R_eOH_0_eCOOH__0_eEPOXY_1_eCHO_0_eKETO_1_iOH_0_iEPOXY_1_ieEPOXY_2_0', 'R_eOH_2_eCOOH__0_eEPOXY_0_eCHO_1_eKETO_0_iOH_0_iEPOXY_0_ieEPOXY_2_1', 'R_eOH_0_eCOOH__0_eEPOXY_1_eCHO_0_eKETO_1_iOH_1_iEPOXY_1_ieEPOXY_1_0', 'R_eOH_1_eCOOH__0_eEPOXY_1_eCHO_0_eKETO_0_iOH_0_iEPOXY_1_ieEPOXY_2_0', 'R_eOH_1_eCOOH__0_eEPOXY_0_eCHO_3_eKETO_0_iOH_0_iEPOXY_0_ieEPOXY_1_2', 'R_eOH_1_eCOOH__0_eEPOXY_0_eCHO_2_eKETO_1_iOH_0_iEPOXY_1_ieEPOXY_0_1', 'R_eOH_1_eCOOH__1_eEPOXY_0_eCHO_0_eKETO_0_iOH_2_iEPOXY_0_ieEPOXY_1_2', 'R_eOH_2_eCOOH__0_eEPOXY_0_eCHO_0_eKETO_0_iOH_2_iEPOXY_0_ieEPOXY_0_2', 'R_eOH_1_eCOOH__0_eEPOXY_1_eCHO_2_eKETO_0_iOH_1_iEPOXY_0_ieEPOXY_0_2', 'R_eOH_0_eCOOH__2_eEPOXY_0_eCHO_0_eKETO_1_iOH_0_iEPOXY_0_ieEPOXY_0_1', 'R_eOH_0_eCOOH__0_eEPOXY_0_eCHO_0_eKETO_0_iOH_1_iEPOXY_2_ieEPOXY_0_0', 'R_eOH_0_eCOOH__1_eEPOXY_0_eCHO_2_eKETO_0_iOH_1_iEPOXY_1_ieEPOXY_0_1', 'R_eOH_2_eCOOH__0_eEPOXY_1_eCHO_0_eKETO_0_iOH_0_iEPOXY_0_ieEPOXY_1_0', 'R_eOH_2_eCOOH__0_eEPOXY_0_eCHO_0_eKETO_1_iOH_1_iEPOXY_1_ieEPOXY_0_2', 'R_eOH_1_eCOOH__0_eEPOXY_0_eCHO_1_eKETO_0_iOH_0_iEPOXY_1_ieEPOXY_2_2', 'R_eOH_1_eCOOH__3_eEPOXY_1_eCHO_0_eKETO_0_iOH_0_iEPOXY_0_ieEPOXY_0_2', 'R_eOH_2_eCOOH__0_eEPOXY_0_eCHO_1_eKETO_0_iOH_1_iEPOXY_0_ieEPOXY_1_2', 'R_eOH_1_eCOOH__0_eEPOXY_1_eCHO_0_eKETO_2_iOH_0_iEPOXY_0_ieEPOXY_1_1', 'R_eOH_2_eCOOH__1_eEPOXY_0_eCHO_0_eKETO_0_iOH_2_iEPOXY_0_ieEPOXY_0_0', 'R_eOH_0_eCOOH__0_eEPOXY_0_eCHO_0_eKETO_0_iOH_1_iEPOXY_2_ieEPOXY_1_2', 'R_eOH_1_eCOOH__0_eEPOXY_1_eCHO_0_eKETO_1_iOH_1_iEPOXY_1_ieEPOXY_0_2', 'R_eOH_1_eCOOH__0_eEPOXY_0_eCHO_0_eKETO_2_iOH_0_iEPOXY_0_ieEPOXY_2_1', 'R_eOH_0_eCOOH__1_eEPOXY_0_eCHO_0_eKETO_1_iOH_3_iEPOXY_0_ieEPOXY_0_1', 'R_eOH_2_eCOOH__0_eEPOXY_1_eCHO_0_eKETO_0_iOH_0_iEPOXY_0_ieEPOXY_2_2', 'R_eOH_0_eCOOH__2_eEPOXY_0_eCHO_0_eKETO_0_iOH_3_iEPOXY_0_ieEPOXY_0_2', 'R_eOH_3_eCOOH__0_eEPOXY_0_eCHO_1_eKETO_0_iOH_0_iEPOXY_0_ieEPOXY_0_1', 'R_eOH_1_eCOOH__2_eEPOXY_0_eCHO_0_eKETO_0_iOH_0_iEPOXY_2_ieEPOXY_0_0', 'R_eOH_0_eCOOH__0_eEPOXY_1_eCHO_0_eKETO_0_iOH_1_iEPOXY_2_ieEPOXY_0_0', 'R_eOH_0_eCOOH__1_eEPOXY_0_eCHO_0_eKETO_2_iOH_1_iEPOXY_0_ieEPOXY_0_2', 'R_eOH_0_eCOOH__1_eEPOXY_0_eCHO_0_eKETO_2_iOH_0_iEPOXY_1_ieEPOXY_1_0', 'R_eOH_0_eCOOH__0_eEPOXY_0_eCHO_0_eKETO_0_iOH_3_iEPOXY_1_ieEPOXY_0_1', 'R_eOH_0_eCOOH__2_eEPOXY_0_eCHO_0_eKETO_0_iOH_2_iEPOXY_0_ieEPOXY_0_2', 'R_eOH_1_eCOOH__0_eEPOXY_0_eCHO_0_eKETO_1_iOH_0_iEPOXY_0_ieEPOXY_2_1', 'R_eOH_0_eCOOH__0_eEPOXY_0_eCHO_0_eKETO_0_iOH_3_iEPOXY_1_ieEPOXY_1_2', 'R_eOH_2_eCOOH__2_eEPOXY_0_eCHO_0_eKETO_0_iOH_0_iEPOXY_0_ieEPOXY_1_0', 'R_eOH_1_eCOOH__0_eEPOXY_0_eCHO_1_eKETO_1_iOH_0_iEPOXY_1_ieEPOXY_1_0', 'R_eOH_0_eCOOH__2_eEPOXY_0_eCHO_0_eKETO_1_iOH_0_iEPOXY_0_ieEPOXY_0_2', 'R_eOH_1_eCOOH__0_eEPOXY_0_eCHO_1_eKETO_2_iOH_0_iEPOXY_0_ieEPOXY_0_1', 'R_eOH_0_eCOOH__2_eEPOXY_0_eCHO_0_eKETO_0_iOH_1_iEPOXY_0_ieEPOXY_0_2', 'R_eOH_0_eCOOH__0_eEPOXY_0_eCHO_0_eKETO_2_iOH_0_iEPOXY_0_ieEPOXY_1_2', 'R_eOH_1_eCOOH__0_eEPOXY_1_eCHO_1_eKETO_0_iOH_0_iEPOXY_1_ieEPOXY_1_1', 'R_eOH_0_eCOOH__2_eEPOXY_0_eCHO_1_eKETO_0_iOH_0_iEPOXY_1_ieEPOXY_1_0', 'R_eOH_1_eCOOH__0_eEPOXY_1_eCHO_1_eKETO_0_iOH_0_iEPOXY_2_ieEPOXY_0_0', 'R_eOH_2_eCOOH__1_eEPOXY_0_eCHO_0_eKETO_1_iOH_0_iEPOXY_0_ieEPOXY_0_2', 'R_eOH_0_eCOOH__1_eEPOXY_0_eCHO_0_eKETO_1_iOH_2_iEPOXY_0_ieEPOXY_0_1', 'R_eOH_0_eCOOH__0_eEPOXY_1_eCHO_0_eKETO_0_iOH_0_iEPOXY_0_ieEPOXY_3_0', 'R_eOH_0_eCOOH__1_eEPOXY_0_eCHO_3_eKETO_0_iOH_0_iEPOXY_1_ieEPOXY_0_0', 'R_eOH_3_eCOOH__1_eEPOXY_0_eCHO_0_eKETO_0_iOH_0_iEPOXY_0_ieEPOXY_0_2', 'R_eOH_0_eCOOH__0_eEPOXY_0_eCHO_0_eKETO_4_iOH_0_iEPOXY_1_ieEPOXY_0_1', 'R_eOH_0_eCOOH__0_eEPOXY_3_eCHO_0_eKETO_0_iOH_0_iEPOXY_1_ieEPOXY_1_2', 'R_eOH_2_eCOOH__1_eEPOXY_0_eCHO_0_eKETO_0_iOH_0_iEPOXY_1_ieEPOXY_0_0', 'R_eOH_0_eCOOH__0_eEPOXY_3_eCHO_0_eKETO_0_iOH_0_iEPOXY_0_ieEPOXY_2_0', 'R_eOH_4_eCOOH__0_eEPOXY_0_eCHO_0_eKETO_0_iOH_0_iEPOXY_1_ieEPOXY_0_1', 'R_eOH_0_eCOOH__0_eEPOXY_0_eCHO_0_eKETO_2_iOH_0_iEPOXY_2_ieEPOXY_1_1', 'R_eOH_2_eCOOH__0_eEPOXY_0_eCHO_1_eKETO_0_iOH_0_iEPOXY_2_ieEPOXY_0_2', 'R_eOH_0_eCOOH__1_eEPOXY_1_eCHO_0_eKETO_2_iOH_0_iEPOXY_1_ieEPOXY_0_0', 'R_eOH_3_eCOOH__2_eEPOXY_0_eCHO_0_eKETO_0_iOH_0_iEPOXY_0_ieEPOXY_0_1', 'R_eOH_3_eCOOH__0_eEPOXY_0_eCHO_0_eKETO_0_iOH_0_iEPOXY_0_ieEPOXY_2_0', 'R_eOH_0_eCOOH__0_eEPOXY_2_eCHO_0_eKETO_1_iOH_1_iEPOXY_0_ieEPOXY_0_2', 'R_eOH_1_eCOOH__0_eEPOXY_2_eCHO_1_eKETO_0_iOH_0_iEPOXY_0_ieEPOXY_1_2', 'R_eOH_1_eCOOH__1_eEPOXY_0_eCHO_0_eKETO_0_iOH_0_iEPOXY_1_ieEPOXY_1_1', 'R_eOH_0_eCOOH__1_eEPOXY_0_eCHO_3_eKETO_1_iOH_0_iEPOXY_0_ieEPOXY_0_0', 'R_eOH_1_eCOOH__0_eEPOXY_0_eCHO_2_eKETO_2_iOH_0_iEPOXY_0_ieEPOXY_0_2', 'R_eOH_0_eCOOH__1_eEPOXY_0_eCHO_1_eKETO_0_iOH_2_iEPOXY_0_ieEPOXY_0_2', 'R_eOH_0_eCOOH__0_eEPOXY_0_eCHO_0_eKETO_0_iOH_0_iEPOXY_1_ieEPOXY_1_1', 'R_eOH_1_eCOOH__0_eEPOXY_1_eCHO_3_eKETO_0_iOH_0_iEPOXY_0_ieEPOXY_0_0', 'R_eOH_1_eCOOH__0_eEPOXY_0_eCHO_2_eKETO_0_iOH_0_iEPOXY_0_ieEPOXY_2_1', 'R_eOH_0_eCOOH__1_eEPOXY_0_eCHO_1_eKETO_0_iOH_0_iEPOXY_1_ieEPOXY_0_1', 'R_eOH_0_eCOOH__1_eEPOXY_0_eCHO_1_eKETO_1_iOH_1_iEPOXY_0_ieEPOXY_1_1', 'R_eOH_1_eCOOH__0_eEPOXY_0_eCHO_0_eKETO_0_iOH_0_iEPOXY_2_ieEPOXY_2_2', 'R_eOH_0_eCOOH__1_eEPOXY_1_eCHO_1_eKETO_1_iOH_1_iEPOXY_0_ieEPOXY_0_2', 'R_eOH_0_eCOOH__0_eEPOXY_1_eCHO_0_eKETO_1_iOH_1_iEPOXY_0_ieEPOXY_2_2', 'R_eOH_0_eCOOH__2_eEPOXY_0_eCHO_0_eKETO_1_iOH_0_iEPOXY_0_ieEPOXY_0_0', 'R_eOH_0_eCOOH__0_eEPOXY_0_eCHO_0_eKETO_0_iOH_1_iEPOXY_0_ieEPOXY_4_0', 'R_eOH_2_eCOOH__0_eEPOXY_0_eCHO_0_eKETO_0_iOH_0_iEPOXY_1_ieEPOXY_0_2', 'R_eOH_1_eCOOH__1_eEPOXY_0_eCHO_1_eKETO_0_iOH_1_iEPOXY_0_ieEPOXY_1_0', 'R_eOH_0_eCOOH__0_eEPOXY_2_eCHO_0_eKETO_2_iOH_0_iEPOXY_0_ieEPOXY_1_2', 'R_eOH_0_eCOOH__1_eEPOXY_0_eCHO_2_eKETO_0_iOH_1_iEPOXY_1_ieEPOXY_0_0', 'R_eOH_1_eCOOH__0_eEPOXY_0_eCHO_1_eKETO_1_iOH_1_iEPOXY_1_ieEPOXY_0_0', 'R_eOH_0_eCOOH__0_eEPOXY_0_eCHO_0_eKETO_0_iOH_0_iEPOXY_3_ieEPOXY_1_2', 'R_eOH_0_eCOOH__0_eEPOXY_2_eCHO_0_eKETO_0_iOH_0_iEPOXY_0_ieEPOXY_0_2', 'R_eOH_1_eCOOH__0_eEPOXY_1_eCHO_0_eKETO_2_iOH_0_iEPOXY_0_ieEPOXY_0_0', 'R_eOH_0_eCOOH__0_eEPOXY_3_eCHO_0_eKETO_0_iOH_0_iEPOXY_0_ieEPOXY_2_2', 'R_eOH_0_eCOOH__0_eEPOXY_0_eCHO_0_eKETO_2_iOH_1_iEPOXY_2_ieEPOXY_0_0', 'R_eOH_0_eCOOH__0_eEPOXY_3_eCHO_0_eKETO_0_iOH_0_iEPOXY_1_ieEPOXY_0_2', 'R_eOH_0_eCOOH__3_eEPOXY_0_eCHO_1_eKETO_0_iOH_0_iEPOXY_1_ieEPOXY_0_0', 'R_eOH_0_eCOOH__0_eEPOXY_1_eCHO_0_eKETO_0_iOH_3_iEPOXY_0_ieEPOXY_0_1', 'R_eOH_1_eCOOH__0_eEPOXY_0_eCHO_2_eKETO_0_iOH_1_iEPOXY_0_ieEPOXY_1_1', 'R_eOH_2_eCOOH__0_eEPOXY_0_eCHO_2_eKETO_0_iOH_0_iEPOXY_0_ieEPOXY_0_0', 'R_eOH_0_eCOOH__0_eEPOXY_1_eCHO_0_eKETO_0_iOH_0_iEPOXY_0_ieEPOXY_2_2', 'R_eOH_2_eCOOH__0_eEPOXY_0_eCHO_0_eKETO_1_iOH_0_iEPOXY_2_ieEPOXY_0_2', 'R_eOH_2_eCOOH__0_eEPOXY_0_eCHO_3_eKETO_0_iOH_0_iEPOXY_0_ieEPOXY_0_0', 'R_eOH_1_eCOOH__0_eEPOXY_0_eCHO_0_eKETO_1_iOH_2_iEPOXY_0_ieEPOXY_1_0', 'R_eOH_1_eCOOH__1_eEPOXY_0_eCHO_1_eKETO_0_iOH_2_iEPOXY_0_ieEPOXY_0_1', 'R_eOH_0_eCOOH__1_eEPOXY_1_eCHO_0_eKETO_0_iOH_1_iEPOXY_0_ieEPOXY_2_2', 'R_eOH_0_eCOOH__1_eEPOXY_0_eCHO_1_eKETO_0_iOH_3_iEPOXY_0_ieEPOXY_0_0', 'R_eOH_2_eCOOH__0_eEPOXY_1_eCHO_0_eKETO_1_iOH_0_iEPOXY_1_ieEPOXY_0_2', 'R_eOH_1_eCOOH__0_eEPOXY_0_eCHO_0_eKETO_0_iOH_0_iEPOXY_0_ieEPOXY_4_0', 'R_eOH_0_eCOOH__3_eEPOXY_0_eCHO_0_eKETO_0_iOH_0_iEPOXY_0_ieEPOXY_1_1', 'R_eOH_1_eCOOH__0_eEPOXY_2_eCHO_1_eKETO_0_iOH_0_iEPOXY_0_ieEPOXY_1_0', 'R_eOH_1_eCOOH__0_eEPOXY_1_eCHO_0_eKETO_0_iOH_0_iEPOXY_2_ieEPOXY_1_1', 'R_eOH_1_eCOOH__1_eEPOXY_2_eCHO_0_eKETO_0_iOH_0_iEPOXY_0_ieEPOXY_0_1', 'R_eOH_2_eCOOH__0_eEPOXY_0_eCHO_0_eKETO_0_iOH_2_iEPOXY_0_ieEPOXY_1_2', 'R_eOH_2_eCOOH__0_eEPOXY_0_eCHO_0_eKETO_0_iOH_0_iEPOXY_0_ieEPOXY_3_2', 'R_eOH_0_eCOOH__1_eEPOXY_0_eCHO_2_eKETO_0_iOH_0_iEPOXY_0_ieEPOXY_0_2', 'R_eOH_2_eCOOH__0_eEPOXY_2_eCHO_0_eKETO_0_iOH_0_iEPOXY_1_ieEPOXY_0_0', 'R_eOH_0_eCOOH__0_eEPOXY_1_eCHO_0_eKETO_2_iOH_2_iEPOXY_0_ieEPOXY_0_0', 'R_eOH_0_eCOOH__0_eEPOXY_0_eCHO_0_eKETO_1_iOH_1_iEPOXY_2_ieEPOXY_1_2', 'R_eOH_0_eCOOH__1_eEPOXY_2_eCHO_0_eKETO_0_iOH_0_iEPOXY_0_ieEPOXY_0_1', 'R_eOH_1_eCOOH__0_eEPOXY_2_eCHO_0_eKETO_0_iOH_0_iEPOXY_0_ieEPOXY_0_0', 'R_eOH_0_eCOOH__1_eEPOXY_2_eCHO_0_eKETO_0_iOH_0_iEPOXY_1_ieEPOXY_1_2', 'R_eOH_0_eCOOH__0_eEPOXY_0_eCHO_0_eKETO_3_iOH_1_iEPOXY_0_ieEPOXY_0_1', 'R_eOH_0_eCOOH__1_eEPOXY_1_eCHO_1_eKETO_1_iOH_1_iEPOXY_0_ieEPOXY_0_0', 'R_eOH_0_eCOOH__1_eEPOXY_1_eCHO_0_eKETO_0_iOH_2_iEPOXY_0_ieEPOXY_0_2', 'R_eOH_0_eCOOH__1_eEPOXY_0_eCHO_1_eKETO_1_iOH_0_iEPOXY_0_ieEPOXY_0_0', 'R_eOH_0_eCOOH__0_eEPOXY_0_eCHO_0_eKETO_2_iOH_0_iEPOXY_2_ieEPOXY_0_2', 'R_eOH_0_eCOOH__0_eEPOXY_2_eCHO_0_eKETO_0_iOH_2_iEPOXY_1_ieEPOXY_0_2', 'R_eOH_0_eCOOH__0_eEPOXY_1_eCHO_0_eKETO_0_iOH_0_iEPOXY_0_ieEPOXY_2_1', 'R_eOH_0_eCOOH__1_eEPOXY_2_eCHO_0_eKETO_2_iOH_0_iEPOXY_0_ieEPOXY_0_2', 'R_eOH_0_eCOOH__0_eEPOXY_0_eCHO_0_eKETO_1_iOH_1_iEPOXY_1_ieEPOXY_2_2', 'R_eOH_0_eCOOH__0_eEPOXY_0_eCHO_0_eKETO_2_iOH_0_iEPOXY_0_ieEPOXY_1_0', 'R_eOH_1_eCOOH__0_eEPOXY_0_eCHO_3_eKETO_0_iOH_0_iEPOXY_0_ieEPOXY_1_1', 'R_eOH_0_eCOOH__0_eEPOXY_2_eCHO_0_eKETO_0_iOH_0_iEPOXY_1_ieEPOXY_2_1', 'R_eOH_1_eCOOH__0_eEPOXY_1_eCHO_0_eKETO_0_iOH_0_iEPOXY_0_ieEPOXY_2_1', 'R_eOH_0_eCOOH__1_eEPOXY_1_eCHO_0_eKETO_1_iOH_2_iEPOXY_0_ieEPOXY_0_2', 'R_eOH_1_eCOOH__1_eEPOXY_1_eCHO_0_eKETO_0_iOH_0_iEPOXY_1_ieEPOXY_1_2', 'R_eOH_0_eCOOH__2_eEPOXY_0_eCHO_0_eKETO_0_iOH_1_iEPOXY_0_ieEPOXY_2_0', 'R_eOH_2_eCOOH__2_eEPOXY_1_eCHO_0_eKETO_0_iOH_0_iEPOXY_0_ieEPOXY_0_1', 'R_eOH_1_eCOOH__1_eEPOXY_1_eCHO_0_eKETO_0_iOH_2_iEPOXY_0_ieEPOXY_0_0', 'R_eOH_0_eCOOH__1_eEPOXY_1_eCHO_0_eKETO_0_iOH_0_iEPOXY_1_ieEPOXY_1_1', 'R_eOH_3_eCOOH__0_eEPOXY_0_eCHO_0_eKETO_0_iOH_2_iEPOXY_0_ieEPOXY_0_1', 'R_eOH_1_eCOOH__1_eEPOXY_0_eCHO_0_eKETO_1_iOH_2_iEPOXY_0_ieEPOXY_0_0', 'R_eOH_3_eCOOH__1_eEPOXY_1_eCHO_0_eKETO_0_iOH_0_iEPOXY_0_ieEPOXY_0_1', 'R_eOH_0_eCOOH__0_eEPOXY_1_eCHO_0_eKETO_1_iOH_0_iEPOXY_0_ieEPOXY_1_0', 'R_eOH_0_eCOOH__3_eEPOXY_0_eCHO_0_eKETO_0_iOH_1_iEPOXY_0_ieEPOXY_1_2', 'R_eOH_2_eCOOH__0_eEPOXY_1_eCHO_1_eKETO_0_iOH_1_iEPOXY_0_ieEPOXY_0_2', 'R_eOH_2_eCOOH__0_eEPOXY_0_eCHO_0_eKETO_0_iOH_0_iEPOXY_3_ieEPOXY_0_1', 'R_eOH_0_eCOOH__2_eEPOXY_0_eCHO_0_eKETO_0_iOH_2_iEPOXY_1_ieEPOXY_0_2', 'R_eOH_1_eCOOH__0_eEPOXY_0_eCHO_1_eKETO_0_iOH_0_iEPOXY_1_ieEPOXY_2_1', 'R_eOH_2_eCOOH__0_eEPOXY_1_eCHO_0_eKETO_0_iOH_0_iEPOXY_1_ieEPOXY_0_2', 'R_eOH_0_eCOOH__0_eEPOXY_1_eCHO_0_eKETO_0_iOH_1_iEPOXY_0_ieEPOXY_1_2', 'R_eOH_0_eCOOH__0_eEPOXY_0_eCHO_0_eKETO_0_iOH_4_iEPOXY_0_ieEPOXY_1_2', 'R_eOH_2_eCOOH__0_eEPOXY_3_eCHO_0_eKETO_0_iOH_0_iEPOXY_0_ieEPOXY_0_0', 'R_eOH_0_eCOOH__0_eEPOXY_0_eCHO_0_eKETO_3_iOH_1_iEPOXY_0_ieEPOXY_1_2', 'R_eOH_2_eCOOH__0_eEPOXY_1_eCHO_0_eKETO_0_iOH_0_iEPOXY_2_ieEPOXY_0_0', 'R_eOH_0_eCOOH__1_eEPOXY_1_eCHO_0_eKETO_0_iOH_1_iEPOXY_1_ieEPOXY_0_0', 'R_eOH_0_eCOOH__0_eEPOXY_0_eCHO_0_eKETO_0_iOH_0_iEPOXY_1_ieEPOXY_4_1', 'R_eOH_0_eCOOH__1_eEPOXY_1_eCHO_2_eKETO_0_iOH_0_iEPOXY_0_ieEPOXY_0_0', 'R_eOH_0_eCOOH__1_eEPOXY_0_eCHO_1_eKETO_0_iOH_1_iEPOXY_2_ieEPOXY_0_2', 'R_eOH_1_eCOOH__1_eEPOXY_0_eCHO_0_eKETO_0_iOH_2_iEPOXY_1_ieEPOXY_0_0', 'R_eOH_0_eCOOH__0_eEPOXY_1_eCHO_0_eKETO_0_iOH_1_iEPOXY_2_ieEPOXY_1_1', 'R_eOH_2_eCOOH__0_eEPOXY_0_eCHO_0_eKETO_0_iOH_0_iEPOXY_0_ieEPOXY_1_0', 'R_eOH_1_eCOOH__0_eEPOXY_0_eCHO_0_eKETO_0_iOH_1_iEPOXY_0_ieEPOXY_0_1', 'R_eOH_1_eCOOH__1_eEPOXY_0_eCHO_1_eKETO_0_iOH_1_iEPOXY_1_ieEPOXY_0_0', 'R_eOH_1_eCOOH__1_eEPOXY_0_eCHO_0_eKETO_0_iOH_0_iEPOXY_3_ieEPOXY_0_2', 'R_eOH_1_eCOOH__0_eEPOXY_0_eCHO_2_eKETO_0_iOH_0_iEPOXY_1_ieEPOXY_1_0', 'R_eOH_1_eCOOH__2_eEPOXY_0_eCHO_0_eKETO_0_iOH_1_iEPOXY_0_ieEPOXY_0_2', 'R_eOH_0_eCOOH__2_eEPOXY_0_eCHO_1_eKETO_0_iOH_0_iEPOXY_0_ieEPOXY_0_1', 'R_eOH_3_eCOOH__0_eEPOXY_2_eCHO_0_eKETO_0_iOH_0_iEPOXY_0_ieEPOXY_0_1', 'R_eOH_0_eCOOH__0_eEPOXY_0_eCHO_0_eKETO_2_iOH_0_iEPOXY_1_ieEPOXY_0_1', 'R_eOH_1_eCOOH__0_eEPOXY_0_eCHO_0_eKETO_0_iOH_4_iEPOXY_0_ieEPOXY_0_2', 'R_eOH_1_eCOOH__0_eEPOXY_0_eCHO_0_eKETO_0_iOH_1_iEPOXY_1_ieEPOXY_2_2', 'R_eOH_1_eCOOH__0_eEPOXY_1_eCHO_1_eKETO_0_iOH_0_iEPOXY_0_ieEPOXY_2_0', 'R_eOH_0_eCOOH__0_eEPOXY_1_eCHO_0_eKETO_0_iOH_0_iEPOXY_1_ieEPOXY_0_1', 'R_eOH_3_eCOOH__0_eEPOXY_0_eCHO_0_eKETO_0_iOH_2_iEPOXY_0_ieEPOXY_0_2', 'R_eOH_1_eCOOH__1_eEPOXY_1_eCHO_0_eKETO_2_iOH_0_iEPOXY_0_ieEPOXY_0_0', 'R_eOH_0_eCOOH__1_eEPOXY_0_eCHO_2_eKETO_0_iOH_0_iEPOXY_1_ieEPOXY_1_0', 'R_eOH_0_eCOOH__0_eEPOXY_2_eCHO_0_eKETO_0_iOH_0_iEPOXY_2_ieEPOXY_1_1', 'R_eOH_0_eCOOH__0_eEPOXY_1_eCHO_0_eKETO_0_iOH_2_iEPOXY_0_ieEPOXY_1_0', 'R_eOH_0_eCOOH__1_eEPOXY_1_eCHO_3_eKETO_0_iOH_0_iEPOXY_0_ieEPOXY_0_2', 'R_eOH_0_eCOOH__0_eEPOXY_0_eCHO_0_eKETO_2_iOH_2_iEPOXY_0_ieEPOXY_1_1', 'R_eOH_1_eCOOH__0_eEPOXY_0_eCHO_3_eKETO_1_iOH_0_iEPOXY_0_ieEPOXY_0_2', 'R_eOH_0_eCOOH__1_eEPOXY_1_eCHO_0_eKETO_0_iOH_1_iEPOXY_0_ieEPOXY_2_1', 'R_eOH_0_eCOOH__3_eEPOXY_0_eCHO_0_eKETO_0_iOH_0_iEPOXY_0_ieEPOXY_1_0', 'R_eOH_1_eCOOH__1_eEPOXY_1_eCHO_0_eKETO_0_iOH_1_iEPOXY_0_ieEPOXY_1_1', 'R_eOH_0_eCOOH__0_eEPOXY_0_eCHO_0_eKETO_1_iOH_1_iEPOXY_3_ieEPOXY_0_1', 'R_eOH_0_eCOOH__1_eEPOXY_1_eCHO_1_eKETO_1_iOH_0_iEPOXY_0_ieEPOXY_0_0', 'R_eOH_0_eCOOH__1_eEPOXY_0_eCHO_2_eKETO_0_iOH_0_iEPOXY_1_ieEPOXY_0_2', 'R_eOH_1_eCOOH__0_eEPOXY_0_eCHO_0_eKETO_0_iOH_1_iEPOXY_0_ieEPOXY_2_0', 'R_eOH_0_eCOOH__2_eEPOXY_3_eCHO_0_eKETO_0_iOH_0_iEPOXY_0_ieEPOXY_0_0', 'R_eOH_0_eCOOH__1_eEPOXY_3_eCHO_1_eKETO_0_iOH_0_iEPOXY_0_ieEPOXY_0_1', 'R_eOH_1_eCOOH__0_eEPOXY_0_eCHO_1_eKETO_2_iOH_1_iEPOXY_0_ieEPOXY_0_1', 'R_eOH_0_eCOOH__1_eEPOXY_0_eCHO_3_eKETO_0_iOH_1_iEPOXY_0_ieEPOXY_0_1', 'R_eOH_0_eCOOH__0_eEPOXY_0_eCHO_0_eKETO_1_iOH_1_iEPOXY_2_ieEPOXY_0_2', 'R_eOH_0_eCOOH__0_eEPOXY_1_eCHO_0_eKETO_0_iOH_2_iEPOXY_1_ieEPOXY_0_1', 'R_eOH_0_eCOOH__1_eEPOXY_0_eCHO_0_eKETO_1_iOH_1_iEPOXY_0_ieEPOXY_2_2', 'R_eOH_1_eCOOH__0_eEPOXY_0_eCHO_0_eKETO_0_iOH_0_iEPOXY_1_ieEPOXY_2_0', 'R_eOH_2_eCOOH__0_eEPOXY_1_eCHO_2_eKETO_0_iOH_0_iEPOXY_0_ieEPOXY_0_0', 'R_eOH_1_eCOOH__0_eEPOXY_0_eCHO_2_eKETO_0_iOH_0_iEPOXY_1_ieEPOXY_1_1', 'R_eOH_0_eCOOH__2_eEPOXY_0_eCHO_0_eKETO_0_iOH_1_iEPOXY_0_ieEPOXY_2_1', 'R_eOH_0_eCOOH__0_eEPOXY_2_eCHO_0_eKETO_1_iOH_0_iEPOXY_0_ieEPOXY_0_2', 'R_eOH_0_eCOOH__2_eEPOXY_1_eCHO_1_eKETO_0_iOH_0_iEPOXY_0_ieEPOXY_0_0', 'R_eOH_3_eCOOH__0_eEPOXY_1_eCHO_0_eKETO_0_iOH_1_iEPOXY_0_ieEPOXY_0_1', 'R_eOH_0_eCOOH__0_eEPOXY_1_eCHO_0_eKETO_3_iOH_1_iEPOXY_0_ieEPOXY_0_2', 'R_eOH_0_eCOOH__1_eEPOXY_0_eCHO_0_eKETO_2_iOH_0_iEPOXY_0_ieEPOXY_0_2', 'R_eOH_2_eCOOH__1_eEPOXY_0_eCHO_0_eKETO_1_iOH_0_iEPOXY_0_ieEPOXY_1_2', 'R_eOH_1_eCOOH__0_eEPOXY_0_eCHO_0_eKETO_1_iOH_1_iEPOXY_0_ieEPOXY_1_1', 'R_eOH_1_eCOOH__0_eEPOXY_2_eCHO_1_eKETO_0_iOH_1_iEPOXY_0_ieEPOXY_0_0', 'R_eOH_2_eCOOH__0_eEPOXY_1_eCHO_0_eKETO_2_iOH_0_iEPOXY_0_ieEPOXY_0_0', 'R_eOH_1_eCOOH__0_eEPOXY_0_eCHO_0_eKETO_0_iOH_1_iEPOXY_0_ieEPOXY_1_1', 'R_eOH_1_eCOOH__0_eEPOXY_1_eCHO_0_eKETO_0_iOH_1_iEPOXY_0_ieEPOXY_1_1', 'R_eOH_1_eCOOH__0_eEPOXY_0_eCHO_2_eKETO_2_iOH_0_iEPOXY_0_ieEPOXY_0_0', 'R_eOH_0_eCOOH__1_eEPOXY_0_eCHO_2_eKETO_0_iOH_1_iEPOXY_0_ieEPOXY_1_1', 'R_eOH_0_eCOOH__4_eEPOXY_0_eCHO_0_eKETO_0_iOH_1_iEPOXY_0_ieEPOXY_0_2', 'R_eOH_0_eCOOH__0_eEPOXY_2_eCHO_0_eKETO_1_iOH_0_iEPOXY_0_ieEPOXY_1_2', 'R_eOH_0_eCOOH__2_eEPOXY_0_eCHO_1_eKETO_1_iOH_1_iEPOXY_0_ieEPOXY_0_2', 'R_eOH_0_eCOOH__0_eEPOXY_0_eCHO_0_eKETO_3_iOH_2_iEPOXY_0_ieEPOXY_0_2', 'R_eOH_1_eCOOH__0_eEPOXY_0_eCHO_1_eKETO_0_iOH_1_iEPOXY_0_ieEPOXY_1_2', 'R_eOH_1_eCOOH__1_eEPOXY_1_eCHO_0_eKETO_0_iOH_0_iEPOXY_1_ieEPOXY_0_0', 'R_eOH_1_eCOOH__0_eEPOXY_2_eCHO_1_eKETO_0_iOH_0_iEPOXY_1_ieEPOXY_0_1', 'R_eOH_1_eCOOH__0_eEPOXY_1_eCHO_1_eKETO_0_iOH_2_iEPOXY_0_ieEPOXY_0_1', 'R_eOH_0_eCOOH__0_eEPOXY_0_eCHO_0_eKETO_4_iOH_0_iEPOXY_1_ieEPOXY_0_2', 'R_eOH_3_eCOOH__0_eEPOXY_0_eCHO_0_eKETO_1_iOH_1_iEPOXY_0_ieEPOXY_0_2', 'R_eOH_0_eCOOH__0_eEPOXY_1_eCHO_0_eKETO_2_iOH_1_iEPOXY_0_ieEPOXY_1_1', 'R_eOH_0_eCOOH__0_eEPOXY_3_eCHO_0_eKETO_0_iOH_2_iEPOXY_0_ieEPOXY_0_0', 'R_eOH_1_eCOOH__0_eEPOXY_0_eCHO_0_eKETO_1_iOH_1_iEPOXY_0_ieEPOXY_2_0', 'R_eOH_1_eCOOH__2_eEPOXY_0_eCHO_0_eKETO_0_iOH_0_iEPOXY_1_ieEPOXY_0_1', 'R_eOH_0_eCOOH__0_eEPOXY_0_eCHO_0_eKETO_1_iOH_0_iEPOXY_3_ieEPOXY_1_2', 'R_eOH_0_eCOOH__0_eEPOXY_1_eCHO_0_eKETO_1_iOH_1_iEPOXY_0_ieEPOXY_2_1', 'R_eOH_0_eCOOH__1_eEPOXY_0_eCHO_1_eKETO_1_iOH_1_iEPOXY_1_ieEPOXY_0_0', 'R_eOH_0_eCOOH__0_eEPOXY_0_eCHO_0_eKETO_2_iOH_1_iEPOXY_0_ieEPOXY_0_0', 'R_eOH_0_eCOOH__1_eEPOXY_0_eCHO_0_eKETO_2_iOH_2_iEPOXY_0_ieEPOXY_0_0', 'R_eOH_0_eCOOH__0_eEPOXY_1_eCHO_0_eKETO_0_iOH_2_iEPOXY_1_ieEPOXY_0_2', 'R_eOH_3_eCOOH__0_eEPOXY_0_eCHO_2_eKETO_0_iOH_0_iEPOXY_0_ieEPOXY_0_2', 'R_eOH_1_eCOOH__1_eEPOXY_1_eCHO_0_eKETO_0_iOH_0_iEPOXY_0_ieEPOXY_1_2', 'R_eOH_2_eCOOH__0_eEPOXY_0_eCHO_0_eKETO_0_iOH_0_iEPOXY_0_ieEPOXY_2_2', 'R_eOH_1_eCOOH__0_eEPOXY_1_eCHO_0_eKETO_0_iOH_1_iEPOXY_1_ieEPOXY_0_0', 'R_eOH_2_eCOOH__0_eEPOXY_0_eCHO_0_eKETO_0_iOH_1_iEPOXY_0_ieEPOXY_2_2', 'R_eOH_0_eCOOH__1_eEPOXY_1_eCHO_0_eKETO_1_iOH_0_iEPOXY_0_ieEPOXY_1_0', 'R_eOH_2_eCOOH__0_eEPOXY_0_eCHO_1_eKETO_0_iOH_0_iEPOXY_1_ieEPOXY_1_1', 'R_eOH_0_eCOOH__1_eEPOXY_0_eCHO_2_eKETO_1_iOH_0_iEPOXY_0_ieEPOXY_1_2', 'R_eOH_1_eCOOH__1_eEPOXY_1_eCHO_0_eKETO_0_iOH_0_iEPOXY_1_ieEPOXY_0_1', 'R_eOH_0_eCOOH__0_eEPOXY_1_eCHO_0_eKETO_0_iOH_2_iEPOXY_1_ieEPOXY_0_0', 'R_eOH_1_eCOOH__0_eEPOXY_0_eCHO_1_eKETO_2_iOH_0_iEPOXY_1_ieEPOXY_0_2', 'R_eOH_1_eCOOH__2_eEPOXY_0_eCHO_0_eKETO_0_iOH_0_iEPOXY_1_ieEPOXY_1_1', 'R_eOH_1_eCOOH__0_eEPOXY_1_eCHO_1_eKETO_1_iOH_0_iEPOXY_0_ieEPOXY_0_2', 'R_eOH_1_eCOOH__1_eEPOXY_0_eCHO_0_eKETO_0_iOH_0_iEPOXY_0_ieEPOXY_2_1', 'R_eOH_1_eCOOH__0_eEPOXY_1_eCHO_0_eKETO_0_iOH_1_iEPOXY_1_ieEPOXY_1_0', 'R_eOH_0_eCOOH__0_eEPOXY_0_eCHO_0_eKETO_4_iOH_0_iEPOXY_0_ieEPOXY_0_0', 'R_eOH_0_eCOOH__0_eEPOXY_3_eCHO_0_eKETO_0_iOH_1_iEPOXY_1_ieEPOXY_0_2', 'R_eOH_0_eCOOH__1_eEPOXY_0_eCHO_1_eKETO_0_iOH_2_iEPOXY_1_ieEPOXY_0_0', 'R_eOH_0_eCOOH__0_eEPOXY_0_eCHO_0_eKETO_0_iOH_3_iEPOXY_0_ieEPOXY_1_1', 'R_eOH_1_eCOOH__0_eEPOXY_1_eCHO_0_eKETO_1_iOH_0_iEPOXY_0_ieEPOXY_1_0', 'R_eOH_0_eCOOH__0_eEPOXY_1_eCHO_0_eKETO_2_iOH_0_iEPOXY_2_ieEPOXY_0_2', 'R_eOH_2_eCOOH__0_eEPOXY_0_eCHO_1_eKETO_0_iOH_0_iEPOXY_0_ieEPOXY_0_0', 'R_eOH_0_eCOOH__0_eEPOXY_0_eCHO_0_eKETO_1_iOH_0_iEPOXY_0_ieEPOXY_4_2', 'R_eOH_0_eCOOH__1_eEPOXY_3_eCHO_0_eKETO_0_iOH_0_iEPOXY_1_ieEPOXY_0_0', 'R_eOH_0_eCOOH__0_eEPOXY_0_eCHO_0_eKETO_0_iOH_0_iEPOXY_2_ieEPOXY_1_0', 'R_eOH_0_eCOOH__1_eEPOXY_0_eCHO_1_eKETO_2_iOH_0_iEPOXY_0_ieEPOXY_0_0', 'R_eOH_0_eCOOH__1_eEPOXY_0_eCHO_0_eKETO_1_iOH_1_iEPOXY_1_ieEPOXY_0_2', 'R_eOH_0_eCOOH__0_eEPOXY_2_eCHO_0_eKETO_0_iOH_1_iEPOXY_1_ieEPOXY_1_2', 'R_eOH_1_eCOOH__0_eEPOXY_0_eCHO_1_eKETO_0_iOH_0_iEPOXY_2_ieEPOXY_0_1', 'R_eOH_1_eCOOH__0_eEPOXY_0_eCHO_1_eKETO_0_iOH_0_iEPOXY_1_ieEPOXY_0_0', 'R_eOH_1_eCOOH__0_eEPOXY_0_eCHO_2_eKETO_0_iOH_1_iEPOXY_0_ieEPOXY_0_2', 'R_eOH_2_eCOOH__0_eEPOXY_3_eCHO_0_eKETO_0_iOH_0_iEPOXY_0_ieEPOXY_0_2', 'R_eOH_2_eCOOH__0_eEPOXY_0_eCHO_0_eKETO_0_iOH_1_iEPOXY_0_ieEPOXY_1_1', 'R_eOH_0_eCOOH__1_eEPOXY_2_eCHO_0_eKETO_0_iOH_0_iEPOXY_1_ieEPOXY_1_0', 'R_eOH_3_eCOOH__0_eEPOXY_0_eCHO_0_eKETO_0_iOH_0_iEPOXY_0_ieEPOXY_1_0', 'R_eOH_0_eCOOH__2_eEPOXY_0_eCHO_0_eKETO_3_iOH_0_iEPOXY_0_ieEPOXY_0_0', 'R_eOH_1_eCOOH__0_eEPOXY_0_eCHO_0_eKETO_1_iOH_3_iEPOXY_0_ieEPOXY_0_2', 'R_eOH_0_eCOOH__0_eEPOXY_1_eCHO_0_eKETO_2_iOH_0_iEPOXY_1_ieEPOXY_0_2', 'R_eOH_0_eCOOH__1_eEPOXY_0_eCHO_2_eKETO_0_iOH_0_iEPOXY_0_ieEPOXY_1_1', 'R_eOH_1_eCOOH__0_eEPOXY_0_eCHO_4_eKETO_0_iOH_0_iEPOXY_0_ieEPOXY_0_2', 'R_eOH_1_eCOOH__1_eEPOXY_0_eCHO_0_eKETO_0_iOH_1_iEPOXY_0_ieEPOXY_0_1', 'R_eOH_0_eCOOH__1_eEPOXY_3_eCHO_1_eKETO_0_iOH_0_iEPOXY_0_ieEPOXY_0_0', 'R_eOH_1_eCOOH__1_eEPOXY_0_eCHO_1_eKETO_1_iOH_0_iEPOXY_0_ieEPOXY_0_1', 'R_eOH_3_eCOOH__0_eEPOXY_0_eCHO_0_eKETO_0_iOH_1_iEPOXY_0_ieEPOXY_1_1', 'R_eOH_2_eCOOH__0_eEPOXY_0_eCHO_0_eKETO_2_iOH_0_iEPOXY_1_ieEPOXY_0_2', 'R_eOH_2_eCOOH__0_eEPOXY_2_eCHO_1_eKETO_0_iOH_0_iEPOXY_0_ieEPOXY_0_0', 'R_eOH_1_eCOOH__2_eEPOXY_0_eCHO_0_eKETO_2_iOH_0_iEPOXY_0_ieEPOXY_0_0', 'R_eOH_0_eCOOH__0_eEPOXY_0_eCHO_0_eKETO_1_iOH_1_iEPOXY_0_ieEPOXY_1_1', 'R_eOH_0_eCOOH__2_eEPOXY_0_eCHO_0_eKETO_0_iOH_1_iEPOXY_0_ieEPOXY_0_1', 'R_eOH_0_eCOOH__0_eEPOXY_3_eCHO_0_eKETO_0_iOH_1_iEPOXY_0_ieEPOXY_0_1', 'R_eOH_0_eCOOH__1_eEPOXY_3_eCHO_0_eKETO_1_iOH_0_iEPOXY_0_ieEPOXY_0_1', 'R_eOH_0_eCOOH__0_eEPOXY_0_eCHO_0_eKETO_3_iOH_0_iEPOXY_0_ieEPOXY_1_0', 'R_eOH_1_eCOOH__0_eEPOXY_0_eCHO_0_eKETO_2_iOH_1_iEPOXY_0_ieEPOXY_1_1', 'R_eOH_0_eCOOH__1_eEPOXY_3_eCHO_0_eKETO_0_iOH_0_iEPOXY_0_ieEPOXY_0_1', 'R_eOH_2_eCOOH__0_eEPOXY_1_eCHO_0_eKETO_1_iOH_0_iEPOXY_1_ieEPOXY_0_0', 'R_eOH_0_eCOOH__1_eEPOXY_1_eCHO_1_eKETO_0_iOH_1_iEPOXY_0_ieEPOXY_0_1', 'R_eOH_1_eCOOH__1_eEPOXY_0_eCHO_2_eKETO_0_iOH_1_iEPOXY_0_ieEPOXY_0_2', 'R_eOH_3_eCOOH__0_eEPOXY_1_eCHO_1_eKETO_0_iOH_0_iEPOXY_0_ieEPOXY_0_2', 'R_eOH_2_eCOOH__0_eEPOXY_0_eCHO_0_eKETO_0_iOH_0_iEPOXY_2_ieEPOXY_1_2', 'R_eOH_0_eCOOH__0_eEPOXY_0_eCHO_0_eKETO_0_iOH_3_iEPOXY_1_ieEPOXY_0_0', 'R_eOH_1_eCOOH__0_eEPOXY_0_eCHO_1_eKETO_2_iOH_1_iEPOXY_0_ieEPOXY_0_0', 'R_eOH_4_eCOOH__0_eEPOXY_0_eCHO_0_eKETO_1_iOH_0_iEPOXY_0_ieEPOXY_0_1', 'R_eOH_0_eCOOH__0_eEPOXY_0_eCHO_0_eKETO_0_iOH_1_iEPOXY_0_ieEPOXY_1_2', 'R_eOH_0_eCOOH__2_eEPOXY_1_eCHO_1_eKETO_0_iOH_0_iEPOXY_0_ieEPOXY_0_2', 'R_eOH_1_eCOOH__0_eEPOXY_0_eCHO_0_eKETO_0_iOH_2_iEPOXY_0_ieEPOXY_2_2', 'R_eOH_1_eCOOH__1_eEPOXY_1_eCHO_1_eKETO_0_iOH_0_iEPOXY_0_ieEPOXY_1_0', 'R_eOH_0_eCOOH__1_eEPOXY_0_eCHO_2_eKETO_1_iOH_0_iEPOXY_0_ieEPOXY_0_1', 'R_eOH_1_eCOOH__0_eEPOXY_0_eCHO_0_eKETO_0_iOH_1_iEPOXY_2_ieEPOXY_0_2', 'R_eOH_0_eCOOH__0_eEPOXY_0_eCHO_0_eKETO_0_iOH_2_iEPOXY_3_ieEPOXY_0_2', 'R_eOH_1_eCOOH__0_eEPOXY_1_eCHO_1_eKETO_0_iOH_2_iEPOXY_0_ieEPOXY_0_2', 'R_eOH_1_eCOOH__1_eEPOXY_0_eCHO_0_eKETO_0_iOH_0_iEPOXY_2_ieEPOXY_0_1', 'R_eOH_1_eCOOH__2_eEPOXY_2_eCHO_0_eKETO_0_iOH_0_iEPOXY_0_ieEPOXY_0_2', 'R_eOH_0_eCOOH__0_eEPOXY_0_eCHO_0_eKETO_0_iOH_0_iEPOXY_0_ieEPOXY_3_2', 'R_eOH_0_eCOOH__2_eEPOXY_1_eCHO_0_eKETO_0_iOH_1_iEPOXY_1_ieEPOXY_0_1', 'R_eOH_2_eCOOH__1_eEPOXY_2_eCHO_0_eKETO_0_iOH_0_iEPOXY_0_ieEPOXY_0_2', 'R_eOH_0_eCOOH__3_eEPOXY_0_eCHO_0_eKETO_0_iOH_0_iEPOXY_0_ieEPOXY_0_1', 'R_eOH_0_eCOOH__1_eEPOXY_0_eCHO_1_eKETO_0_iOH_1_iEPOXY_0_ieEPOXY_0_1', 'R_eOH_0_eCOOH__2_eEPOXY_0_eCHO_0_eKETO_0_iOH_2_iEPOXY_0_ieEPOXY_0_0', 'R_eOH_0_eCOOH__1_eEPOXY_1_eCHO_1_eKETO_1_iOH_1_iEPOXY_0_ieEPOXY_0_1', 'R_eOH_1_eCOOH__0_eEPOXY_2_eCHO_0_eKETO_1_iOH_0_iEPOXY_0_ieEPOXY_0_2', 'R_eOH_2_eCOOH__1_eEPOXY_1_eCHO_0_eKETO_1_iOH_0_iEPOXY_0_ieEPOXY_0_2', 'R_eOH_0_eCOOH__0_eEPOXY_1_eCHO_0_eKETO_0_iOH_1_iEPOXY_1_ieEPOXY_1_0', 'R_eOH_1_eCOOH__0_eEPOXY_0_eCHO_0_eKETO_0_iOH_1_iEPOXY_0_ieEPOXY_0_0', 'R_eOH_1_eCOOH__2_eEPOXY_0_eCHO_1_eKETO_0_iOH_1_iEPOXY_0_ieEPOXY_0_2', 'R_eOH_2_eCOOH__0_eEPOXY_0_eCHO_0_eKETO_0_iOH_0_iEPOXY_1_ieEPOXY_0_1', 'R_eOH_0_eCOOH__1_eEPOXY_0_eCHO_1_eKETO_0_iOH_0_iEPOXY_1_ieEPOXY_2_1', 'R_eOH_0_eCOOH__0_eEPOXY_1_eCHO_0_eKETO_0_iOH_2_iEPOXY_0_ieEPOXY_2_1', 'R_eOH_0_eCOOH__0_eEPOXY_2_eCHO_0_eKETO_1_iOH_0_iEPOXY_1_ieEPOXY_0_2', 'R_eOH_2_eCOOH__1_eEPOXY_1_eCHO_0_eKETO_0_iOH_0_iEPOXY_0_ieEPOXY_0_1', 'R_eOH_3_eCOOH__0_eEPOXY_0_eCHO_2_eKETO_0_iOH_0_iEPOXY_0_ieEPOXY_0_0', 'R_eOH_0_eCOOH__2_eEPOXY_2_eCHO_0_eKETO_0_iOH_0_iEPOXY_1_ieEPOXY_0_1', 'R_eOH_2_eCOOH__0_eEPOXY_0_eCHO_0_eKETO_1_iOH_0_iEPOXY_0_ieEPOXY_1_2', 'R_eOH_2_eCOOH__2_eEPOXY_0_eCHO_0_eKETO_1_iOH_0_iEPOXY_0_ieEPOXY_0_0', 'R_eOH_0_eCOOH__1_eEPOXY_2_eCHO_0_eKETO_0_iOH_0_iEPOXY_0_ieEPOXY_0_0', 'R_eOH_1_eCOOH__0_eEPOXY_1_eCHO_0_eKETO_0_iOH_0_iEPOXY_3_ieEPOXY_0_2']\n"
     ]
    }
   ],
   "source": [
    "# --- Load all the molecule names from keys of first dictionary\n",
    "keys = []\n",
    "\n",
    "for i in data[0].keys():\n",
    "    keys.append(i)\n",
    "\n",
    "print(keys)"
   ]
  },
  {
   "cell_type": "code",
   "execution_count": 5,
   "metadata": {},
   "outputs": [
    {
     "name": "stdout",
     "output_type": "stream",
     "text": [
      "R_eOH_1_eCOOH__0_eEPOXY_2_eCHO_1_eKETO_0_iOH_0_iEPOXY_1_ieEPOXY_0_1\n",
      "24\n",
      "dict_keys(['0', '24', '1', '2', '5', '3', '4', '9', '6', '8', '7', '11', '14', '12', '13', '26', '15', '25', '16', '17', '20', '18', '19', '22'])\n"
     ]
    }
   ],
   "source": [
    "# --- View the data stored in the second dictionary for a given key\n",
    "mol_name = keys[210]\n",
    "#mol_name = 'cir_R_eOH_0_eCOOH__1_eEPOXY_0_eCHO_2_eKETO_0_iOH_0_iEPOXY_0_ieEPOXY_0_2'\n",
    "\n",
    "print(mol_name)\n",
    "print(len(data[1][mol_name].keys()))\n",
    "print(data[1][mol_name].keys())"
   ]
  },
  {
   "cell_type": "code",
   "execution_count": 6,
   "metadata": {},
   "outputs": [
    {
     "data": {
      "image/png": "[encoded data removed]",
      "text/plain": [
       "<rdkit.Chem.rdchem.Mol at 0x1d91df9adc0>"
      ]
     },
     "execution_count": 6,
     "metadata": {},
     "output_type": "execute_result"
    }
   ],
   "source": [
    "# --- Create RDKit mol from SMILES\n",
    "mol = Chem.MolFromSmiles(data[0][mol_name])\n",
    "mol"
   ]
  },
  {
   "cell_type": "code",
   "execution_count": 12,
   "metadata": {},
   "outputs": [],
   "source": [
    "# --- Set up Bokeh plot settings\n",
    "p = figure(\n",
    "    x_axis_label = 'Photon Energy (eV)',\n",
    "    y_axis_label = 'arb. units',\n",
    "    x_range = (280, 300),\n",
    "    width = 500, height = 500,\n",
    "    outline_line_color = 'black', outline_line_width = 2\n",
    ")\n",
    "\n",
    "p.toolbar.logo = None\n",
    "p.toolbar_location = None\n",
    "p.min_border = 25\n",
    "\n",
    "# --- x-axis settings\n",
    "p.xaxis.ticker.desired_num_ticks = 3\n",
    "p.xaxis.axis_label_text_font_size = '24px'\n",
    "p.xaxis.major_label_text_font_size = '24px'\n",
    "p.xaxis.major_tick_in = 0\n",
    "p.xaxis.major_tick_out = 10\n",
    "p.xaxis.minor_tick_out = 6\n",
    "p.xaxis.major_tick_line_width = 2\n",
    "p.xaxis.minor_tick_line_width = 2\n",
    "p.xaxis.major_tick_line_color = 'black'\n",
    "p.xaxis.minor_tick_line_color = 'black'\n",
    "# --- y-axis settings\n",
    "p.yaxis.axis_label_text_font_size = '24px'\n",
    "p.yaxis.major_tick_line_color = None\n",
    "p.yaxis.minor_tick_line_color = None\n",
    "p.yaxis.major_label_text_color = None\n",
    "# --- grid settings\n",
    "p.grid.grid_line_color = 'grey'\n",
    "p.grid.grid_line_alpha = 0.3\n",
    "p.grid.grid_line_width = 1.5\n",
    "p.grid.grid_line_dash = \"dashed\""
   ]
  },
  {
   "cell_type": "code",
   "execution_count": 13,
   "metadata": {},
   "outputs": [
    {
     "data": {
      "text/html": [
       "\n",
       "  <div id=\"c88126ca-8016-4d06-971e-a806bb10f49b\" data-root-id=\"p1050\" style=\"display: contents;\"></div>\n"
      ]
     },
     "metadata": {},
     "output_type": "display_data"
    },
    {
     "data": {
      "application/javascript": "(function(root) {\n  function embed_document(root) {\n  const docs_json = {\"3186de78-b85f-4945-b9e3-43d2cf9809bb\":{\"version\":\"3.3.4\",\"title\":\"Bokeh Application\",\"roots\":[{\"type\":\"object\",\"name\":\"Figure\",\"id\":\"p1050\",\"attributes\":{\"width\":500,\"height\":500,\"x_range\":{\"type\":\"object\",\"name\":\"Range1d\",\"id\":\"p1059\",\"attributes\":{\"start\":280,\"end\":300}},\"y_range\":{\"type\":\"object\",\"name\":\"DataRange1d\",\"id\":\"p1052\"},\"x_scale\":{\"type\":\"object\",\"name\":\"LinearScale\",\"id\":\"p1060\"},\"y_scale\":{\"type\":\"object\",\"name\":\"LinearScale\",\"id\":\"p1061\"},\"title\":{\"type\":\"object\",\"name\":\"Title\",\"id\":\"p1057\"},\"outline_line_color\":\"black\",\"outline_line_width\":2,\"renderers\":[{\"type\":\"object\",\"name\":\"GlyphRenderer\",\"id\":\"p1089\",\"attributes\":{\"data_source\":{\"type\":\"object\",\"name\":\"ColumnDataSource\",\"id\":\"p1083\",\"attributes\":{\"selected\":{\"type\":\"object\",\"name\":\"Selection\",\"id\":\"p1084\",\"attributes\":{\"indices\":[],\"line_indices\":[]}},\"selection_policy\":{\"type\":\"object\",\"name\":\"UnionRenderers\",\"id\":\"p1085\"},\"data\":{\"type\":\"map\",\"entries\":[[\"x\",{\"type\":\"ndarray\",\"array\":{\"type\":\"bytes\",\"data\":\"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\"},\"shape\":[200],\"dtype\":\"float64\",\"order\":\"little\"}],[\"y\",[8.2586667022619315e-53,3.5580528117915603e-51,1.449253216196269e-49,5.580917313125996e-48,2.0318719533707326e-46,6.993853253583034e-45,2.275967876039086e-43,7.002371899811922e-42,2.0368246851293695e-40,5.6013351524218585e-39,1.456326998964403e-37,3.5797745421762744e-36,8.319206063983659e-35,1.8278372374059067e-33,3.796842585846052e-32,7.456535600146201e-31,1.3844619737606034e-29,2.43026929648481e-28,4.03326911668106e-27,6.328334605903473e-26,9.387524849405401e-25,1.3165646727217358e-23,1.745672328661309e-22,2.188329376515471e-21,2.5935348342238123e-20,2.906035483433527e-19,3.0785001039902713e-18,3.083236685405371e-17,2.919469814162207e-16,2.6135483936127127e-15,2.212007195366569e-14,1.7699946634026258e-13,1.3390192203252861e-12,9.577035500653147e-12,6.475969818113297e-11,4.140072696932056e-10,2.5023067681405064e-09,1.4298897942396438e-08,7.72492042871295e-08,3.945616719244106e-07,1.9053080753884683e-06,8.698511730614984e-06,3.75451748478774e-05,0.00015321198568905142,0.0005910997609035107,0.0021560471718542586,0.007435071780031277,0.024240496181812156,0.07471835074001802,0.217742137249936,0.5999114045023576,1.5626480960028613,3.8482624981789004,8.959785699273585,19.722410251813866,41.044199224693905,80.75566873387642,150.21858995886438,264.1823364207573,439.2515520956127,690.4818466918848,1026.1731754955433,1441.8446920633494,1915.3393909200854,2405.4837661153847,2856.1995905132867,3206.2996465667516,3402.89927383204,3414.471668084921,3239.1224428333094,2905.097076434215,2463.3343671287957,1974.765428401524,1496.7080703722024,1072.477354814191,726.5552662801774,465.34911813288016,281.7863063447931,161.32305148691137,87.323463278842,44.70215034517532,21.66613399616978,9.99537041781388,4.497411094357872,2.1798098647582407,1.4752682712941572,1.6579688720601073,2.462093637098242,3.8571922131094825,5.927401032903666,8.818487320845884,12.742083207828918,18.051186342796154,25.417977984721002,36.14441961382713,52.60435283488405,78.7413671731793,120.43325648458506,185.41670692047006,282.4182960704102,419.2519009593652,599.9755336334906,821.7053832238115,1072.170757606974,1329.2719158815,1563.532005996958,1743.4033367325037,1842.2120787889603,1844.6481837102435,1750.6223883896218,1575.1570113620517,1344.4097742098022,1089.2937341537663,838.8429800624668,615.2487228971085,431.5812270696757,292.12642993779764,194.48304605282175,132.31348031550834,97.85262170309178,83.70979804927319,83.8998789499909,94.2649347066935,112.48481013020148,137.8008059131722,170.49487598116093,211.15228659154724,259.804932613643,315.16162475028364,374.2013832468583,432.3647161575502,484.4068844315146,525.7307212436731,553.8030454133502,569.1837602355228,575.8013343278376,580.3436219305657,590.8928503835747,615.1235347151236,658.4706567646523,722.6879769747037,805.1799041360791,899.38640169951,996.2786843676839,1086.6749682193747,1163.7104160014576,1224.5905367757148,1270.906243817763,1307.31958416969,1339.1453199020557,1369.9052853014784,1400.0027091889267,1427.1615621510678,1448.4156972716746,1462.6395893332988,1472.3009016218903,1483.459857883054,1503.876185316412,1539.9917646726813,1594.0873048123358,1662.8211737356835,1737.724377037628,1807.3816178927764,1860.3767815128672,1887.8905893877964,1885.1342583371475,1851.3918653829473,1789.031480206417,1702.1780694405552,1595.709083689284,1474.8984471166484,1345.5898845015731,1214.4573701866825,1088.8670094933598,976.0980668606766,882.0671115463206,810.0153926900216,759.7022616260981,727.4666425952444,707.1791777929255,691.7785326431282,674.9065961992197,652.1806614901907,621.8247043767676,584.6295168772309,543.4203917702216,502.3129314879838,466.01533660985746,439.32002009662307,426.7790963906275,432.44271941639306,459.5038050713189,509.75172384755314,582.8685968969658,675.7523839245125,782.1540098072695,892.9123285467392,996.935995098347,1082.8454471540742,1140.9364476883504]]]}}},\"view\":{\"type\":\"object\",\"name\":\"CDSView\",\"id\":\"p1090\",\"attributes\":{\"filter\":{\"type\":\"object\",\"name\":\"AllIndices\",\"id\":\"p1091\"}}},\"glyph\":{\"type\":\"object\",\"name\":\"Line\",\"id\":\"p1086\",\"attributes\":{\"x\":{\"type\":\"field\",\"field\":\"x\"},\"y\":{\"type\":\"field\",\"field\":\"y\"},\"line_color\":\"#1f77b4\",\"line_width\":3}},\"nonselection_glyph\":{\"type\":\"object\",\"name\":\"Line\",\"id\":\"p1087\",\"attributes\":{\"x\":{\"type\":\"field\",\"field\":\"x\"},\"y\":{\"type\":\"field\",\"field\":\"y\"},\"line_color\":\"#1f77b4\",\"line_alpha\":0.1,\"line_width\":3}},\"muted_glyph\":{\"type\":\"object\",\"name\":\"Line\",\"id\":\"p1088\",\"attributes\":{\"x\":{\"type\":\"field\",\"field\":\"x\"},\"y\":{\"type\":\"field\",\"field\":\"y\"},\"line_color\":\"#1f77b4\",\"line_alpha\":0.2,\"line_width\":3}}}}],\"toolbar\":{\"type\":\"object\",\"name\":\"Toolbar\",\"id\":\"p1058\",\"attributes\":{\"logo\":null,\"tools\":[{\"type\":\"object\",\"name\":\"PanTool\",\"id\":\"p1072\"},{\"type\":\"object\",\"name\":\"WheelZoomTool\",\"id\":\"p1073\",\"attributes\":{\"renderers\":\"auto\"}},{\"type\":\"object\",\"name\":\"BoxZoomTool\",\"id\":\"p1074\",\"attributes\":{\"overlay\":{\"type\":\"object\",\"name\":\"BoxAnnotation\",\"id\":\"p1075\",\"attributes\":{\"syncable\":false,\"level\":\"overlay\",\"visible\":false,\"left\":{\"type\":\"number\",\"value\":\"nan\"},\"right\":{\"type\":\"number\",\"value\":\"nan\"},\"top\":{\"type\":\"number\",\"value\":\"nan\"},\"bottom\":{\"type\":\"number\",\"value\":\"nan\"},\"left_units\":\"canvas\",\"right_units\":\"canvas\",\"top_units\":\"canvas\",\"bottom_units\":\"canvas\",\"line_color\":\"black\",\"line_alpha\":1.0,\"line_width\":2,\"line_dash\":[4,4],\"fill_color\":\"lightgrey\",\"fill_alpha\":0.5}}}},{\"type\":\"object\",\"name\":\"SaveTool\",\"id\":\"p1080\"},{\"type\":\"object\",\"name\":\"ResetTool\",\"id\":\"p1081\"},{\"type\":\"object\",\"name\":\"HelpTool\",\"id\":\"p1082\"}]}},\"toolbar_location\":null,\"left\":[{\"type\":\"object\",\"name\":\"LinearAxis\",\"id\":\"p1067\",\"attributes\":{\"ticker\":{\"type\":\"object\",\"name\":\"BasicTicker\",\"id\":\"p1068\",\"attributes\":{\"mantissas\":[1,2,5]}},\"formatter\":{\"type\":\"object\",\"name\":\"BasicTickFormatter\",\"id\":\"p1069\"},\"axis_label\":\"arb. units\",\"axis_label_text_font_size\":\"24px\",\"major_label_policy\":{\"type\":\"object\",\"name\":\"AllLabels\",\"id\":\"p1070\"},\"major_label_text_color\":null,\"major_tick_line_color\":null,\"minor_tick_line_color\":null}}],\"below\":[{\"type\":\"object\",\"name\":\"LinearAxis\",\"id\":\"p1062\",\"attributes\":{\"ticker\":{\"type\":\"object\",\"name\":\"BasicTicker\",\"id\":\"p1063\",\"attributes\":{\"desired_num_ticks\":3,\"mantissas\":[1,2,5]}},\"formatter\":{\"type\":\"object\",\"name\":\"BasicTickFormatter\",\"id\":\"p1064\"},\"axis_label\":\"Photon Energy (eV)\",\"axis_label_text_font_size\":\"24px\",\"major_label_policy\":{\"type\":\"object\",\"name\":\"AllLabels\",\"id\":\"p1065\"},\"major_label_text_font_size\":\"24px\",\"major_tick_line_width\":2,\"major_tick_in\":0,\"major_tick_out\":10,\"minor_tick_line_width\":2,\"minor_tick_out\":6}}],\"center\":[{\"type\":\"object\",\"name\":\"Grid\",\"id\":\"p1066\",\"attributes\":{\"axis\":{\"id\":\"p1062\"},\"grid_line_color\":\"grey\",\"grid_line_alpha\":0.3,\"grid_line_width\":1.5,\"grid_line_dash\":[6]}},{\"type\":\"object\",\"name\":\"Grid\",\"id\":\"p1071\",\"attributes\":{\"dimension\":1,\"axis\":{\"id\":\"p1067\"},\"grid_line_color\":\"grey\",\"grid_line_alpha\":0.3,\"grid_line_width\":1.5,\"grid_line_dash\":[6]}}],\"min_border\":25}}]}};\n  const render_items = [{\"docid\":\"3186de78-b85f-4945-b9e3-43d2cf9809bb\",\"roots\":{\"p1050\":\"c88126ca-8016-4d06-971e-a806bb10f49b\"},\"root_ids\":[\"p1050\"]}];\n  root.Bokeh.embed.embed_items_notebook(docs_json, render_items);\n  }\n  if (root.Bokeh !== undefined) {\n    embed_document(root);\n  } else {\n    let attempts = 0;\n    const timer = setInterval(function(root) {\n      if (root.Bokeh !== undefined) {\n        clearInterval(timer);\n        embed_document(root);\n      } else {\n        attempts++;\n        if (attempts > 100) {\n          clearInterval(timer);\n          console.log(\"Bokeh: ERROR: Unable to run BokehJS code because BokehJS library is missing\");\n        }\n      }\n    }, 10, root)\n  }\n})(window);",
      "application/vnd.bokehjs_exec.v0+json": ""
     },
     "metadata": {
      "application/vnd.bokehjs_exec.v0+json": {
       "id": "p1050"
      }
     },
     "output_type": "display_data"
    }
   ],
   "source": [
    "# --- Plot similar spectra of similar chemical environments\n",
    "# --- to check if dictionary is right\n",
    "x = np.linspace(280, 300, 200)\n",
    "p.line(x, data[1][mol_name]['2'], line_width=3)\n",
    "show(p)"
   ]
  },
  {
   "cell_type": "code",
   "execution_count": 14,
   "metadata": {},
   "outputs": [
    {
     "data": {
      "text/plain": [
       "'d:\\\\github\\\\GO_molecule_GNN\\\\atom_spectra.png'"
      ]
     },
     "execution_count": 14,
     "metadata": {},
     "output_type": "execute_result"
    }
   ],
   "source": [
    "export_png(p, filename='atom_spectra.png', width=500, height=500)"
   ]
  },
  {
   "cell_type": "code",
   "execution_count": 1,
   "metadata": {},
   "outputs": [
    {
     "name": "stdout",
     "output_type": "stream",
     "text": [
      "52\n"
     ]
    }
   ],
   "source": [
    "bad_mols = ['0','2','7','9','10','12','14','15','16','17','18','22','23','27','31','32','33','36',\n",
    "            '37','38','41','42','43','46','47','48','50','51','52','53','54','55','56','59','61',\n",
    "            '62','63','65','67','68','71','74','75','76','78','79','81','84','85','88','89','90']\n",
    "\n",
    "print(len(bad_mols))"
   ]
  },
  {
   "cell_type": "code",
   "execution_count": 156,
   "metadata": {},
   "outputs": [
    {
     "name": "stdout",
     "output_type": "stream",
     "text": [
      "39\n"
     ]
    }
   ],
   "source": [
    "good_mols = ['1','3','4','5','6','8','11','13','19','20','21','24','25','26','28','29','30','34',\n",
    "             '35','39','40','44','45','49','57','58','60','64','66','69','70','72','73','77',\n",
    "             '80','82','83','86','87']\n",
    "\n",
    "print(len(good_mols))"
   ]
  }
 ],
 "metadata": {
  "kernelspec": {
   "display_name": "data",
   "language": "python",
   "name": "python3"
  },
  "language_info": {
   "codemirror_mode": {
    "name": "ipython",
    "version": 3
   },
   "file_extension": ".py",
   "mimetype": "text/x-python",
   "name": "python",
   "nbconvert_exporter": "python",
   "pygments_lexer": "ipython3",
   "version": "3.10.13"
  },
  "orig_nbformat": 4
 },
 "nbformat": 4,
 "nbformat_minor": 2
}
