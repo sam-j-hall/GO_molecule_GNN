{
 "cells": [
  {
   "cell_type": "code",
   "execution_count": 1,
   "id": "6930d3d0-0423-439c-a4db-638195a81c0b",
   "metadata": {
    "tags": []
   },
   "outputs": [
    {
     "name": "stderr",
     "output_type": "stream",
     "text": [
      "/p/software/juwelsbooster/stages/2023/software/tqdm/4.64.0-GCCcore-11.3.0/lib/python3.10/site-packages/tqdm/auto.py:22: TqdmWarning: IProgress not found. Please update jupyter and ipywidgets. See https://ipywidgets.readthedocs.io/en/stable/user_install.html\n",
      "  from .autonotebook import tqdm as notebook_tqdm\n"
     ]
    }
   ],
   "source": [
    "import torch\n",
    "from torch_geometric.loader import DataLoader\n",
    "import torch.nn.functional as F\n",
    "from torch_geometric.data import Batch\n",
    "import torch.nn as nn\n",
    "from sklearn.manifold import TSNE\n",
    "from rdkit import Chem\n",
    "%matplotlib inline\n",
    "import matplotlib.pyplot as plt\n",
    "from GNN import GNN\n",
    "from Dataset import XASDataset\n",
    "from utils import plot_spectra,plot_learning_curve"
   ]
  },
  {
   "cell_type": "markdown",
   "id": "57073e38-7a74-4abd-875e-ce13788ae95c",
   "metadata": {
    "jp-MarkdownHeadingCollapsed": true,
    "tags": []
   },
   "source": [
    "#### Define routines to be used"
   ]
  },
  {
   "cell_type": "code",
   "execution_count": 2,
   "id": "ff22a8e4-1c65-455d-8ea3-796822cb27d4",
   "metadata": {
    "tags": []
   },
   "outputs": [],
   "source": [
    "def train(epoch):\n",
    "    model.train()\n",
    "    loss_all = 0\n",
    "    node_list=[]\n",
    "    select_list=[]\n",
    "    tot_list=[]\n",
    "    smiles_list=[]\n",
    "   # batch_size=128\n",
    "    for batch in train_loader:\n",
    "        \n",
    "        #print(batch.idx,batch.smiles)\n",
    "        batch = batch.to(device)\n",
    "        #x, edge_index,index = batch.x,batch.edge_index,batch.index\n",
    "       \n",
    "        #print(batch.idx,batch.atom_index)\n",
    "        # Add batch dimension to index\n",
    "        #batch_index = index.unsqueeze(1)\n",
    "\n",
    "        optimizer.zero_grad()\n",
    "        \n",
    "        pred= model(batch)\n",
    "        batch_size= batch.y.shape[0] // 200\n",
    "        batch.y = batch.y.view(batch_size, 200)\n",
    "        #pred = torch.clamp(pred, min=0.0)\n",
    "        #print(batch.y.shape)\n",
    "        #new_pred=pred.view(batch.y[:,0:99].shape)\n",
    "\n",
    "        #pred=ss[0]\n",
    "        #emb=ss[1]\n",
    "        alpha=10\n",
    "\n",
    "        #loss = nn.MSELoss()(pred.view(-1, 1).double(), \n",
    "        #                batch.y[:,:100].view(-1, 1).double()) \n",
    "        \n",
    "        loss = nn.MSELoss()(pred.double(), \n",
    "                       batch.y.double()) \n",
    "       # + alpha*F.mse_loss(torch.log(pred.view(-1, 1).double()+0.001), torch.log(batch.y.view(-1, 1).double()+0.001))\n",
    "        \n",
    "        #p_loss=nn.SmoothL1Loss()(new_pred.double(), \n",
    "        #                batch.y.double())\n",
    "        \n",
    "        #loss=nn.SmoothL1Loss()(pred.view(-1, 1).double(), \n",
    "        #                batch.y.view(-1, 1).double())\n",
    "        #print(loss)\n",
    "        #print(pred.view(-1, 1).double(), batch.y.view(-1, 1).double())\n",
    "       # pred_list.append(pred.view(-1, 1).double())\n",
    "        #y_list.append(batch.y.view(-1, 1).double())\n",
    "        \n",
    "        loss.backward()\n",
    "        #print(batch.num_graphs)\n",
    "        loss_all += loss.item() * batch.num_graphs\n",
    "        optimizer.step()\n",
    "        \n",
    "#        if epoch==999 :\n",
    "#            node_list.append(node)\n",
    "#            select_list.append(select)\n",
    "#            smiles_list.append(batch.smiles)\n",
    "#            tot_list.append(tot)\n",
    "#    a=0\n",
    "#    b=0\n",
    "#    c=0\n",
    "#    d=0\n",
    "#    if epoch==999:\n",
    "#        a=node_list\n",
    "#        b=select_list\n",
    "#        c=smiles_list\n",
    "#        d=tot_list\n",
    "    \n",
    "    #print(len(train_loader.dataset))\n",
    "        #emb_list.append(emb)\n",
    "    return loss_all / len(train_loader.dataset)"
   ]
  },
  {
   "cell_type": "code",
   "execution_count": 3,
   "id": "a54dd69a-3711-4d20-b1d4-cb88ff5f7463",
   "metadata": {
    "tags": []
   },
   "outputs": [],
   "source": [
    "def test(loader):\n",
    "    model.eval()\n",
    "    loss_all = 0\n",
    "\n",
    "    for batch in loader:\n",
    "        batch = batch.to(device)\n",
    "        #x, edge_index, index = batch.x, batch.edge_index, batch.index\n",
    "        \n",
    "        # Add batch dimension to index\n",
    "        #batch_index = index.unsqueeze(1)\n",
    "        batch_size=batch.y.shape[0] // 200\n",
    "        batch.y = batch.y.view(batch_size, 200)\n",
    "\n",
    "        with torch.no_grad():\n",
    "            pred = model(batch)\n",
    "        \n",
    "        \n",
    "        #print(pred)\n",
    "   #     alpha=10\n",
    "       # loss = nn.MSELoss()(pred.view(-1, 1).double(),\n",
    "        #                  batch.y.view(-1, 1).double()) \n",
    "        \n",
    "        loss = nn.MSELoss()(pred.double(),\n",
    "                          batch.y.double()) \n",
    "    #    +alpha*F.mse_loss(torch.log(pred.view(-1, 1).double()+0.001), torch.log(batch.y.view(-1, 1).double()+0.001))\n",
    "       # loss=nn.SmoothL1Loss()(pred.view(-1, 1).double(), \n",
    "       #                 batch.y.view(-1, 1).double())\n",
    "        loss_all += loss.item() * batch.num_graphs\n",
    "\n",
    "    return loss_all / len(loader.dataset)\n"
   ]
  },
  {
   "cell_type": "code",
   "execution_count": 4,
   "id": "945a32a8-7c43-4b96-8bd8-dd465ab3a45b",
   "metadata": {
    "tags": []
   },
   "outputs": [],
   "source": [
    "def pred_spec(model,index,test_dataset):\n",
    "    # Set the model to evaluation mode\n",
    "    model.eval()\n",
    "\n",
    "    # Get a single graph from the test dataset\n",
    "    graph_index = index # Index of the graph you want to predict on\n",
    "    graph_data = test_dataset[graph_index].to(device)\n",
    "    batch = Batch.from_data_list([graph_data])\n",
    "\n",
    "    # Pass the graph through the model\n",
    "    with torch.no_grad():\n",
    "        pred = model(batch)\n",
    "\n",
    "    # Access the predicted output for the single graph\n",
    "    pred_graph = pred[0]\n",
    "    true_spectrum = graph_data.y.cpu().numpy()\n",
    "    predicted_spectrum = pred.cpu().numpy()\n",
    "    predicted_spectrum = predicted_spectrum.reshape(-1)\n",
    "    \n",
    "    return predicted_spectrum,true_spectrum"
   ]
  },
  {
   "cell_type": "markdown",
   "id": "abc1767b-6124-4fdb-8f6d-8043508daf99",
   "metadata": {
    "jp-MarkdownHeadingCollapsed": true,
    "tags": []
   },
   "source": [
    "#### Load the data"
   ]
  },
  {
   "cell_type": "code",
   "execution_count": 5,
   "id": "4684f558-2b86-4120-b796-fd4159efd85d",
   "metadata": {
    "tags": []
   },
   "outputs": [
    {
     "name": "stderr",
     "output_type": "stream",
     "text": [
      "Processing...\n"
     ]
    },
    {
     "name": "stdout",
     "output_type": "stream",
     "text": [
      "Total number of molecules 319\n",
      "Number of atoms in each molecule  [24, 24, 24, 24, 24, 24, 24, 24, 24, 24, 24, 24, 24, 24, 24, 24, 24, 24, 24, 24, 24, 24, 26, 25, 26, 26, 24, 24, 24, 24, 25, 24, 25, 24, 24, 26, 25, 24, 24, 24, 24, 24, 24, 24, 24, 24, 24, 24, 24, 24, 24, 25, 25, 24, 25, 24, 24, 24, 26, 26, 24, 24, 24, 24, 24, 24, 24, 24, 24, 24, 25, 24, 24, 24, 24, 24, 24, 24, 25, 25, 25, 25, 27, 26, 25, 26, 26, 26, 26, 25, 26, 25, 25, 26, 26, 26, 26, 25, 25, 27, 27, 27, 25, 27, 25, 27, 28, 27, 28, 25, 25, 25, 25, 25, 25, 25, 25, 25, 26, 26, 26, 26, 25, 28, 25, 25, 25, 25, 25, 25, 25, 25, 25, 26, 26, 26, 26, 26, 26, 26, 26, 26, 26, 26, 26, 26, 26, 27, 27, 27, 26, 26, 26, 26, 26, 27, 27, 27, 27, 27, 28, 24, 24, 24, 24, 24, 24, 24, 24, 24, 24, 24, 25, 24, 24, 24, 24, 25, 24, 24, 24, 24, 25, 25, 24, 25, 25, 25, 25, 24, 24, 24, 26, 26, 26, 26, 26, 26, 27, 24, 27, 28, 24, 24, 24, 24, 24, 24, 24, 24, 24, 24, 24, 24, 24, 25, 25, 24, 25, 24, 27, 24, 24, 25, 24, 24, 26, 25, 25, 25, 25, 25, 25, 25, 25, 26, 26, 26, 25, 27, 25, 25, 25, 25, 25, 25, 26, 26, 25, 26, 26, 26, 26, 26, 26, 26, 27, 24, 24, 24, 24, 24, 24, 24, 24, 24, 24, 24, 24, 24, 24, 25, 25, 25, 24, 25, 24, 26, 24, 24, 24, 24, 24, 24, 24, 24, 24, 26, 24, 25, 24, 24, 25, 25, 25, 25, 25, 25, 25, 26, 26, 26, 24, 24, 24, 24, 24, 24, 24, 24, 24, 24, 25, 24, 25, 25, 26, 24, 24]\n"
     ]
    },
    {
     "name": "stderr",
     "output_type": "stream",
     "text": [
      "Done!\n"
     ]
    }
   ],
   "source": [
    "path='/p/project/hai_ml_xas/Sam_ML/GO_molecule_GNN'\n",
    "dataset = XASDataset(path)"
   ]
  },
  {
   "cell_type": "code",
   "execution_count": 6,
   "id": "5e65a852-149f-4ebd-9e6b-af1699e4179f",
   "metadata": {
    "tags": []
   },
   "outputs": [
    {
     "name": "stdout",
     "output_type": "stream",
     "text": [
      "Total number of data points in the dataset: 319\n"
     ]
    }
   ],
   "source": [
    "print('Total number of data points in the dataset:', len(dataset))"
   ]
  },
  {
   "cell_type": "markdown",
   "id": "c17491c3-906d-4c62-bc02-18e0550b0b4b",
   "metadata": {
    "tags": []
   },
   "source": [
    "#### Split into test, validation and test datasets"
   ]
  },
  {
   "cell_type": "code",
   "execution_count": 7,
   "id": "236b47e3-04a0-4e52-b636-55958e36a05c",
   "metadata": {
    "tags": []
   },
   "outputs": [],
   "source": [
    "train_dataset = dataset[0:240]\n",
    "val_dataset = dataset[240:280]\n",
    "test_dataset = dataset[280:]"
   ]
  },
  {
   "cell_type": "code",
   "execution_count": 8,
   "id": "3ecdf238-851a-4469-80d0-6055a9abcbc3",
   "metadata": {
    "tags": []
   },
   "outputs": [
    {
     "data": {
      "text/plain": [
       "Data(x=[30, 16], edge_index=[2, 76], y=[200], edge_attrs=[76, 7], idx=[1], smiles='[c:0]12[c:4]3[c:8]4[c:10]5[cH:11][cH:14][c:15]6[c:13]4[c:17]4[c:19]([cH:18][cH:16]6)[cH:20][c:22]([OH:25])[c:23]([c:21]14)[CH2:24][CH:1]1[C:2]2([CH:3]=[CH:5][C:6]32[CH:7]([CH:9]5[C:12](=[O:26])[OH:27])[O:29]2)[O:28]1')"
      ]
     },
     "execution_count": 8,
     "metadata": {},
     "output_type": "execute_result"
    }
   ],
   "source": [
    "train_dataset[0]"
   ]
  },
  {
   "cell_type": "code",
   "execution_count": 29,
   "id": "bc272b03-2c05-499c-bad3-ef9671bbaad4",
   "metadata": {
    "tags": []
   },
   "outputs": [],
   "source": [
    "test_loader = DataLoader(test_dataset, batch_size=15, shuffle=False)\n",
    "val_loader = DataLoader(val_dataset, batch_size=15, shuffle=False)\n",
    "train_loader = DataLoader(train_dataset, batch_size=15, shuffle=True)"
   ]
  },
  {
   "cell_type": "markdown",
   "id": "05102673-4d2e-4983-8bcf-cd702bb3544d",
   "metadata": {},
   "source": [
    "#### Set neural network properties"
   ]
  },
  {
   "cell_type": "code",
   "execution_count": 30,
   "id": "e310fdc5-2ccc-46f9-909c-3ebae2d0373d",
   "metadata": {
    "tags": []
   },
   "outputs": [
    {
     "name": "stdout",
     "output_type": "stream",
     "text": [
      "16\n",
      "[16, 100, 200, 300]\n"
     ]
    }
   ],
   "source": [
    "num_tasks = 200\n",
    "num_layers = 4\n",
    "emb_dim = dataset.num_features\n",
    "print(emb_dim)\n",
    "in_channels = [int(emb_dim),100,200,300]\n",
    "print(in_channels)\n",
    "out_channels = [100,200,300,300]\n",
    "gnn_type = 'gcn'\n",
    "heads = int(1)\n",
    "drop_ratio = 0.8\n",
    "graph_pooling = 'sum'"
   ]
  },
  {
   "cell_type": "code",
   "execution_count": 31,
   "id": "b29356b6-aa9c-4509-951a-20f564339ba1",
   "metadata": {
    "tags": []
   },
   "outputs": [],
   "source": [
    "device = torch.device('cuda' if torch.cuda.is_available() else 'cpu')\n",
    "model = GNN(num_tasks,num_layers,emb_dim,in_channels,out_channels,gnn_type,heads,drop_ratio,graph_pooling)\n",
    "model= model.to(device)"
   ]
  },
  {
   "cell_type": "code",
   "execution_count": 32,
   "id": "271c75a4-343d-4c98-a47f-3691febd63b4",
   "metadata": {
    "tags": []
   },
   "outputs": [
    {
     "data": {
      "text/plain": [
       "GNN(\n",
       "  (gnn_node): GNN_node(\n",
       "    (convs): ModuleList(\n",
       "      (0): GCNConv(16, 100)\n",
       "      (1): GCNConv(100, 200)\n",
       "      (2): GCNConv(200, 300)\n",
       "      (3): GCNConv(300, 300)\n",
       "    )\n",
       "    (batch_norms): ModuleList(\n",
       "      (0): BatchNorm1d(100, eps=1e-05, momentum=0.1, affine=True, track_running_stats=True)\n",
       "      (1): BatchNorm1d(200, eps=1e-05, momentum=0.1, affine=True, track_running_stats=True)\n",
       "      (2): BatchNorm1d(300, eps=1e-05, momentum=0.1, affine=True, track_running_stats=True)\n",
       "      (3): BatchNorm1d(300, eps=1e-05, momentum=0.1, affine=True, track_running_stats=True)\n",
       "    )\n",
       "  )\n",
       "  (graph_pred_linear): Linear(in_features=300, out_features=200, bias=True)\n",
       ")"
      ]
     },
     "execution_count": 32,
     "metadata": {},
     "output_type": "execute_result"
    }
   ],
   "source": [
    "model"
   ]
  },
  {
   "cell_type": "code",
   "execution_count": 33,
   "id": "1c8fa491-7a50-4af6-9a27-fc8fb21ee237",
   "metadata": {
    "tags": []
   },
   "outputs": [],
   "source": [
    "optimizer=torch.optim.Adam(model.parameters(), lr=0.01, betas=(0.9, 0.999), eps=1e-08, amsgrad=True)\n",
    "scheduler = torch.optim.lr_scheduler.ReduceLROnPlateau(optimizer, mode='min',\n",
    "                                                    factor=0.5, patience=100,\n",
    "                                                    min_lr=0.000001)\n",
    "#scheduler =torch.optim.lr_scheduler.MultiStepLR(optimizer, milestones=[100,300,500], gamma=0.5)"
   ]
  },
  {
   "cell_type": "markdown",
   "id": "97763228-6528-41b1-84db-e47380624f33",
   "metadata": {},
   "source": [
    "#### Run neural network training"
   ]
  },
  {
   "cell_type": "code",
   "execution_count": 34,
   "id": "daab36b5-a3fc-42a6-9e57-ff370db30933",
   "metadata": {
    "tags": []
   },
   "outputs": [
    {
     "name": "stdout",
     "output_type": "stream",
     "text": [
      "Epoch: 000, LR: 0.010000, TrainLoss: 18.1931704, ValLoss:2.974760, Best_ValLoss:2.974760\n",
      "Epoch: 010, LR: 0.010000, TrainLoss: 1.5951340, ValLoss:0.837459, Best_ValLoss:0.837459\n",
      "Epoch: 020, LR: 0.010000, TrainLoss: 0.4799183, ValLoss:0.281800, Best_ValLoss:0.281800\n",
      "Epoch: 030, LR: 0.010000, TrainLoss: 0.1651521, ValLoss:0.070675, Best_ValLoss:0.070675\n",
      "Epoch: 040, LR: 0.010000, TrainLoss: 0.0493471, ValLoss:0.022461, Best_ValLoss:0.022461\n",
      "Epoch: 050, LR: 0.010000, TrainLoss: 0.0281793, ValLoss:0.017487, Best_ValLoss:0.015709\n",
      "Epoch: 060, LR: 0.010000, TrainLoss: 0.0244492, ValLoss:0.016129, Best_ValLoss:0.015309\n",
      "Epoch: 070, LR: 0.010000, TrainLoss: 0.0221931, ValLoss:0.013950, Best_ValLoss:0.013950\n",
      "Epoch: 080, LR: 0.010000, TrainLoss: 0.0216345, ValLoss:0.017296, Best_ValLoss:0.013483\n",
      "Epoch: 090, LR: 0.010000, TrainLoss: 0.0195500, ValLoss:0.014674, Best_ValLoss:0.013483\n",
      "Epoch: 100, LR: 0.010000, TrainLoss: 0.0206180, ValLoss:0.022205, Best_ValLoss:0.013483\n",
      "Epoch: 110, LR: 0.010000, TrainLoss: 0.0169660, ValLoss:0.012025, Best_ValLoss:0.012025\n",
      "Epoch: 120, LR: 0.010000, TrainLoss: 0.0201949, ValLoss:0.020312, Best_ValLoss:0.012025\n",
      "Epoch: 130, LR: 0.010000, TrainLoss: 0.0158018, ValLoss:0.012826, Best_ValLoss:0.011956\n",
      "Epoch: 140, LR: 0.010000, TrainLoss: 0.0171041, ValLoss:0.016500, Best_ValLoss:0.011775\n",
      "Epoch: 150, LR: 0.010000, TrainLoss: 0.0151104, ValLoss:0.011928, Best_ValLoss:0.011775\n",
      "Epoch: 160, LR: 0.010000, TrainLoss: 0.0149076, ValLoss:0.012262, Best_ValLoss:0.011408\n",
      "Epoch: 170, LR: 0.010000, TrainLoss: 0.0155103, ValLoss:0.013043, Best_ValLoss:0.011408\n",
      "Epoch: 180, LR: 0.010000, TrainLoss: 0.0147913, ValLoss:0.012176, Best_ValLoss:0.011408\n",
      "Epoch: 190, LR: 0.010000, TrainLoss: 0.0141269, ValLoss:0.012358, Best_ValLoss:0.011283\n",
      "Epoch: 200, LR: 0.010000, TrainLoss: 0.0135219, ValLoss:0.011522, Best_ValLoss:0.011203\n",
      "Epoch: 210, LR: 0.010000, TrainLoss: 0.0136380, ValLoss:0.012008, Best_ValLoss:0.011203\n",
      "Epoch: 220, LR: 0.010000, TrainLoss: 0.0127868, ValLoss:0.011106, Best_ValLoss:0.010953\n",
      "Epoch: 230, LR: 0.010000, TrainLoss: 0.0130806, ValLoss:0.011598, Best_ValLoss:0.010953\n",
      "Epoch: 240, LR: 0.010000, TrainLoss: 0.0128027, ValLoss:0.011209, Best_ValLoss:0.010953\n",
      "Epoch: 250, LR: 0.010000, TrainLoss: 0.0133905, ValLoss:0.012342, Best_ValLoss:0.010953\n",
      "Epoch: 260, LR: 0.010000, TrainLoss: 0.0126898, ValLoss:0.012186, Best_ValLoss:0.010795\n",
      "Epoch: 270, LR: 0.010000, TrainLoss: 0.0124595, ValLoss:0.011151, Best_ValLoss:0.010795\n",
      "Epoch: 280, LR: 0.010000, TrainLoss: 0.0119455, ValLoss:0.011529, Best_ValLoss:0.010795\n",
      "Epoch: 290, LR: 0.010000, TrainLoss: 0.0121520, ValLoss:0.011669, Best_ValLoss:0.010795\n",
      "Epoch: 300, LR: 0.010000, TrainLoss: 0.0116029, ValLoss:0.011245, Best_ValLoss:0.010795\n",
      "Epoch: 310, LR: 0.010000, TrainLoss: 0.0116961, ValLoss:0.010786, Best_ValLoss:0.010719\n",
      "Epoch: 320, LR: 0.010000, TrainLoss: 0.0118574, ValLoss:0.011171, Best_ValLoss:0.010719\n",
      "Epoch: 330, LR: 0.010000, TrainLoss: 0.0117023, ValLoss:0.011761, Best_ValLoss:0.010719\n",
      "Epoch: 340, LR: 0.010000, TrainLoss: 0.0115079, ValLoss:0.012334, Best_ValLoss:0.010719\n",
      "Epoch: 350, LR: 0.010000, TrainLoss: 0.0115886, ValLoss:0.011182, Best_ValLoss:0.010719\n",
      "Epoch: 360, LR: 0.010000, TrainLoss: 0.0117585, ValLoss:0.011221, Best_ValLoss:0.010494\n",
      "Epoch: 370, LR: 0.010000, TrainLoss: 0.0109096, ValLoss:0.010997, Best_ValLoss:0.010494\n",
      "Epoch: 380, LR: 0.010000, TrainLoss: 0.0115127, ValLoss:0.011224, Best_ValLoss:0.010494\n",
      "Epoch: 390, LR: 0.010000, TrainLoss: 0.0113181, ValLoss:0.010933, Best_ValLoss:0.010494\n",
      "Epoch: 400, LR: 0.010000, TrainLoss: 0.0114243, ValLoss:0.011622, Best_ValLoss:0.010494\n",
      "Epoch: 410, LR: 0.010000, TrainLoss: 0.0111748, ValLoss:0.011034, Best_ValLoss:0.010494\n",
      "Epoch: 420, LR: 0.010000, TrainLoss: 0.0112712, ValLoss:0.011333, Best_ValLoss:0.010371\n",
      "Epoch: 430, LR: 0.010000, TrainLoss: 0.0111502, ValLoss:0.010644, Best_ValLoss:0.010371\n",
      "Epoch: 440, LR: 0.010000, TrainLoss: 0.0109844, ValLoss:0.011279, Best_ValLoss:0.010371\n",
      "Epoch: 450, LR: 0.010000, TrainLoss: 0.0108158, ValLoss:0.010951, Best_ValLoss:0.010371\n",
      "Epoch: 460, LR: 0.010000, TrainLoss: 0.0107580, ValLoss:0.010921, Best_ValLoss:0.010371\n",
      "Epoch: 470, LR: 0.010000, TrainLoss: 0.0106924, ValLoss:0.010694, Best_ValLoss:0.010371\n",
      "Epoch: 480, LR: 0.010000, TrainLoss: 0.0105486, ValLoss:0.011005, Best_ValLoss:0.010371\n",
      "Epoch: 490, LR: 0.010000, TrainLoss: 0.0109692, ValLoss:0.010582, Best_ValLoss:0.010371\n",
      "Epoch: 500, LR: 0.010000, TrainLoss: 0.0111697, ValLoss:0.011118, Best_ValLoss:0.010371\n",
      "Epoch: 510, LR: 0.010000, TrainLoss: 0.0107037, ValLoss:0.010544, Best_ValLoss:0.010371\n",
      "Epoch: 520, LR: 0.005000, TrainLoss: 0.0104591, ValLoss:0.010663, Best_ValLoss:0.010371\n",
      "Epoch: 530, LR: 0.005000, TrainLoss: 0.0104895, ValLoss:0.010531, Best_ValLoss:0.010371\n",
      "Epoch: 540, LR: 0.005000, TrainLoss: 0.0101143, ValLoss:0.010754, Best_ValLoss:0.010371\n",
      "Epoch: 550, LR: 0.005000, TrainLoss: 0.0105309, ValLoss:0.010452, Best_ValLoss:0.010371\n",
      "Epoch: 560, LR: 0.005000, TrainLoss: 0.0105962, ValLoss:0.011198, Best_ValLoss:0.010371\n",
      "Epoch: 570, LR: 0.005000, TrainLoss: 0.0102278, ValLoss:0.010502, Best_ValLoss:0.010371\n",
      "Epoch: 580, LR: 0.005000, TrainLoss: 0.0105528, ValLoss:0.010654, Best_ValLoss:0.010357\n",
      "Epoch: 590, LR: 0.005000, TrainLoss: 0.0104238, ValLoss:0.010571, Best_ValLoss:0.010357\n",
      "Epoch: 600, LR: 0.005000, TrainLoss: 0.0103125, ValLoss:0.010609, Best_ValLoss:0.010357\n",
      "Epoch: 610, LR: 0.005000, TrainLoss: 0.0100766, ValLoss:0.011013, Best_ValLoss:0.010357\n",
      "Epoch: 620, LR: 0.005000, TrainLoss: 0.0100090, ValLoss:0.010670, Best_ValLoss:0.010357\n",
      "Epoch: 630, LR: 0.005000, TrainLoss: 0.0101222, ValLoss:0.010804, Best_ValLoss:0.010357\n",
      "Epoch: 640, LR: 0.005000, TrainLoss: 0.0101253, ValLoss:0.010762, Best_ValLoss:0.010357\n",
      "Epoch: 650, LR: 0.005000, TrainLoss: 0.0101371, ValLoss:0.010547, Best_ValLoss:0.010357\n",
      "Epoch: 660, LR: 0.005000, TrainLoss: 0.0100999, ValLoss:0.010648, Best_ValLoss:0.010357\n",
      "Epoch: 670, LR: 0.005000, TrainLoss: 0.0105322, ValLoss:0.010682, Best_ValLoss:0.010357\n",
      "Epoch: 680, LR: 0.002500, TrainLoss: 0.0100036, ValLoss:0.010430, Best_ValLoss:0.010357\n",
      "Epoch: 690, LR: 0.002500, TrainLoss: 0.0099881, ValLoss:0.010647, Best_ValLoss:0.010357\n",
      "Epoch: 700, LR: 0.002500, TrainLoss: 0.0101761, ValLoss:0.010542, Best_ValLoss:0.010357\n",
      "Epoch: 710, LR: 0.002500, TrainLoss: 0.0100971, ValLoss:0.010603, Best_ValLoss:0.010357\n",
      "Epoch: 720, LR: 0.002500, TrainLoss: 0.0101873, ValLoss:0.010978, Best_ValLoss:0.010357\n",
      "Epoch: 730, LR: 0.002500, TrainLoss: 0.0099100, ValLoss:0.010534, Best_ValLoss:0.010357\n",
      "Epoch: 740, LR: 0.002500, TrainLoss: 0.0097628, ValLoss:0.010508, Best_ValLoss:0.010357\n",
      "Epoch: 750, LR: 0.002500, TrainLoss: 0.0101539, ValLoss:0.010412, Best_ValLoss:0.010357\n",
      "Epoch: 760, LR: 0.002500, TrainLoss: 0.0100378, ValLoss:0.010568, Best_ValLoss:0.010357\n",
      "Epoch: 770, LR: 0.002500, TrainLoss: 0.0100373, ValLoss:0.010814, Best_ValLoss:0.010357\n",
      "Epoch: 780, LR: 0.001250, TrainLoss: 0.0097355, ValLoss:0.010594, Best_ValLoss:0.010357\n",
      "Epoch: 790, LR: 0.001250, TrainLoss: 0.0098399, ValLoss:0.010740, Best_ValLoss:0.010357\n",
      "Epoch: 800, LR: 0.001250, TrainLoss: 0.0105013, ValLoss:0.010718, Best_ValLoss:0.010357\n",
      "Epoch: 810, LR: 0.001250, TrainLoss: 0.0101656, ValLoss:0.010484, Best_ValLoss:0.010357\n",
      "Epoch: 820, LR: 0.001250, TrainLoss: 0.0098387, ValLoss:0.010516, Best_ValLoss:0.010357\n",
      "Epoch: 830, LR: 0.001250, TrainLoss: 0.0102324, ValLoss:0.010579, Best_ValLoss:0.010357\n",
      "Epoch: 840, LR: 0.001250, TrainLoss: 0.0097264, ValLoss:0.010714, Best_ValLoss:0.010357\n",
      "Epoch: 850, LR: 0.001250, TrainLoss: 0.0099097, ValLoss:0.010708, Best_ValLoss:0.010357\n",
      "Epoch: 860, LR: 0.001250, TrainLoss: 0.0097738, ValLoss:0.010673, Best_ValLoss:0.010357\n",
      "Epoch: 870, LR: 0.001250, TrainLoss: 0.0099499, ValLoss:0.010728, Best_ValLoss:0.010357\n",
      "Epoch: 880, LR: 0.000625, TrainLoss: 0.0102516, ValLoss:0.010815, Best_ValLoss:0.010357\n",
      "Epoch: 890, LR: 0.000625, TrainLoss: 0.0099763, ValLoss:0.010546, Best_ValLoss:0.010357\n",
      "Epoch: 900, LR: 0.000625, TrainLoss: 0.0099018, ValLoss:0.010630, Best_ValLoss:0.010357\n",
      "Epoch: 910, LR: 0.000625, TrainLoss: 0.0101775, ValLoss:0.010509, Best_ValLoss:0.010357\n",
      "Epoch: 920, LR: 0.000625, TrainLoss: 0.0101141, ValLoss:0.010545, Best_ValLoss:0.010357\n",
      "Epoch: 930, LR: 0.000625, TrainLoss: 0.0102553, ValLoss:0.010469, Best_ValLoss:0.010357\n",
      "Epoch: 940, LR: 0.000625, TrainLoss: 0.0098078, ValLoss:0.010815, Best_ValLoss:0.010357\n",
      "Epoch: 950, LR: 0.000625, TrainLoss: 0.0098478, ValLoss:0.010647, Best_ValLoss:0.010357\n",
      "Epoch: 960, LR: 0.000625, TrainLoss: 0.0101204, ValLoss:0.010670, Best_ValLoss:0.010357\n",
      "Epoch: 970, LR: 0.000625, TrainLoss: 0.0100552, ValLoss:0.010674, Best_ValLoss:0.010357\n",
      "Epoch: 980, LR: 0.000313, TrainLoss: 0.0104140, ValLoss:0.010631, Best_ValLoss:0.010357\n",
      "Epoch: 990, LR: 0.000313, TrainLoss: 0.0098742, ValLoss:0.010594, Best_ValLoss:0.010357\n"
     ]
    }
   ],
   "source": [
    "best_val_error=None\n",
    "train_losses = []\n",
    "val_losses = []\n",
    "\n",
    "for epoch in range(0, 1000):\n",
    "    \n",
    "    loss = train(epoch)\n",
    "    \n",
    "    val_error = test(val_loader)\n",
    "    scheduler.step(val_error)\n",
    "    #scheduler.step(epoch)\n",
    "    train_losses.append(loss)\n",
    "    val_losses.append(val_error)\n",
    "    \n",
    "    current_lr = optimizer.param_groups[0]['lr']\n",
    "    \n",
    "\n",
    "\n",
    "    if best_val_error is None or val_error <= best_val_error:\n",
    "        \n",
    "        best_val_error = val_error\n",
    "    if epoch%10==0:\n",
    "        print(f'Epoch: {epoch:03d}, LR: {current_lr:7f}, TrainLoss: {loss:.7f}, ValLoss:{val_error:7f}, Best_ValLoss:{best_val_error:7f}')\n"
   ]
  },
  {
   "cell_type": "code",
   "execution_count": 35,
   "id": "d77c1419-42c2-431b-9626-43a91f7e4e46",
   "metadata": {
    "tags": []
   },
   "outputs": [],
   "source": [
    "torch.save(model.state_dict(), 'model_gnn.pt')"
   ]
  },
  {
   "cell_type": "markdown",
   "id": "4c3b8a51-f8b1-43a1-8c9d-15adff29eb07",
   "metadata": {},
   "source": [
    "#### View loss"
   ]
  },
  {
   "cell_type": "code",
   "execution_count": 36,
   "id": "878739f0-806a-4005-9b31-b95a105fe2e5",
   "metadata": {
    "tags": []
   },
   "outputs": [
    {
     "data": {
      "image/png": "[encoded data removed]",
      "text/plain": [
       "<Figure size 640x480 with 1 Axes>"
      ]
     },
     "metadata": {},
     "output_type": "display_data"
    }
   ],
   "source": [
    "num_e=1000\n",
    "\n",
    "plot_learning_curve(num_e,train_losses,val_losses)"
   ]
  },
  {
   "cell_type": "code",
   "execution_count": 37,
   "id": "f54d40e8-6409-4b02-a3f1-97478e6012f2",
   "metadata": {
    "tags": []
   },
   "outputs": [
    {
     "data": {
      "text/plain": [
       "<All keys matched successfully>"
      ]
     },
     "execution_count": 37,
     "metadata": {},
     "output_type": "execute_result"
    }
   ],
   "source": [
    "# Load the saved model\n",
    "model =GNN(num_tasks,num_layers,emb_dim,in_channels,out_channels,gnn_type,heads,drop_ratio,graph_pooling)\n",
    "model=model.to(device)\n",
    "model.load_state_dict(torch.load('model_gnn.pt'))\n"
   ]
  },
  {
   "cell_type": "markdown",
   "id": "5155f241-b727-4fd7-9e83-10e2671b7141",
   "metadata": {},
   "source": [
    "#### Plot predicted spectra"
   ]
  },
  {
   "cell_type": "code",
   "execution_count": 49,
   "id": "72ddca65-6ce3-435a-add5-8bbcd62d9d56",
   "metadata": {
    "tags": []
   },
   "outputs": [
    {
     "data": {
      "image/png": "[encoded data removed]",
      "text/plain": [
       "<Figure size 640x480 with 1 Axes>"
      ]
     },
     "metadata": {},
     "output_type": "display_data"
    }
   ],
   "source": [
    "save_var=1\n",
    "p1,t1=pred_spec(model,20,test_dataset)\n",
    "\n",
    "plot_spectra(p1, t1,save_var)"
   ]
  },
  {
   "cell_type": "code",
   "execution_count": 41,
   "id": "4730aff8-a120-4905-b5ab-33c633a9fb0a",
   "metadata": {
    "tags": []
   },
   "outputs": [
    {
     "data": {
      "image/png": "[encoded data removed]",
      "text/plain": [
       "<Figure size 640x480 with 1 Axes>"
      ]
     },
     "metadata": {},
     "output_type": "display_data"
    }
   ],
   "source": [
    "\n",
    "p2,t2=pred_spec(model,24,test_dataset)\n",
    "\n",
    "plot_spectra(p2, t2,save_var)"
   ]
  },
  {
   "cell_type": "code",
   "execution_count": null,
   "id": "cc6b30ae-e798-4d3c-9217-dfdcf400da13",
   "metadata": {},
   "outputs": [],
   "source": [
    "spec_examples={'p1':p1,'t1':t1,'p2':p2,'t2':t2}\n"
   ]
  },
  {
   "cell_type": "code",
   "execution_count": null,
   "id": "aab5fb65-a813-486d-b466-7cf85bc30226",
   "metadata": {
    "tags": []
   },
   "outputs": [],
   "source": [
    "import pickle \n",
    "\n",
    "with open(\"E:/hlrn_orca/ml_preds.pkl\", \"wb\") as file:\n",
    "    pickle.dump(spec_examples, file)"
   ]
  },
  {
   "cell_type": "code",
   "execution_count": null,
   "id": "2c864333-5ee1-40b8-b231-1ee3df1a79bb",
   "metadata": {},
   "outputs": [],
   "source": [
    "t0=train_dataset[30]"
   ]
  },
  {
   "cell_type": "code",
   "execution_count": null,
   "id": "1fcec9d7-1531-4f30-92e9-3aff8e43465d",
   "metadata": {
    "tags": []
   },
   "outputs": [],
   "source": [
    "t0.x"
   ]
  },
  {
   "cell_type": "code",
   "execution_count": null,
   "id": "cb57bc0c-08cf-44cb-b3b2-9254b251e8f5",
   "metadata": {},
   "outputs": [],
   "source": [
    "model.eval()\n",
    "for batch in train_loader:\n",
    "    batch=batch.to(device)\n",
    "    embeddings = model.forward(batch)"
   ]
  },
  {
   "cell_type": "code",
   "execution_count": null,
   "id": "73c69a46-5d96-4efb-a92a-57ff166d7653",
   "metadata": {
    "tags": []
   },
   "outputs": [],
   "source": [
    "embeddings[1][0]"
   ]
  },
  {
   "cell_type": "code",
   "execution_count": null,
   "id": "0cb1afb1-fdbd-436b-9a62-9c8cbd490436",
   "metadata": {
    "tags": []
   },
   "outputs": [],
   "source": [
    "embeddings[1][1]"
   ]
  },
  {
   "cell_type": "code",
   "execution_count": null,
   "id": "e15501c8-1a59-4b46-8cfe-f89316675ced",
   "metadata": {},
   "outputs": [],
   "source": []
  }
 ],
 "metadata": {
  "kernelspec": {
   "display_name": "ML_kernel",
   "language": "python",
   "name": "ml_kernel"
  },
  "language_info": {
   "codemirror_mode": {
    "name": "ipython",
    "version": 3
   },
   "file_extension": ".py",
   "mimetype": "text/x-python",
   "name": "python",
   "nbconvert_exporter": "python",
   "pygments_lexer": "ipython3",
   "version": "3.10.4"
  }
 },
 "nbformat": 4,
 "nbformat_minor": 5
}
