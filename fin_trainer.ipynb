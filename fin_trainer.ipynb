{
 "cells": [
  {
   "cell_type": "code",
   "execution_count": 1,
   "id": "6930d3d0-0423-439c-a4db-638195a81c0b",
   "metadata": {
    "tags": []
   },
   "outputs": [],
   "source": [
    "import torch\n",
    "from torch_geometric.loader import DataLoader\n",
    "import torch.nn.functional as F\n",
    "from torch_geometric.data import Batch"
   ]
  },
  {
   "cell_type": "code",
   "execution_count": 2,
   "id": "3f93574a-85f3-4b02-ae2a-6825f9a217af",
   "metadata": {
    "tags": []
   },
   "outputs": [],
   "source": [
    "from GNN import GNN\n",
    "from Dataset import XASDataset\n"
   ]
  },
  {
   "cell_type": "code",
   "execution_count": 3,
   "id": "ff22a8e4-1c65-455d-8ea3-796822cb27d4",
   "metadata": {
    "tags": []
   },
   "outputs": [],
   "source": [
    "def train(epoch):\n",
    "    model.train()\n",
    "    loss_all = 0\n",
    "\n",
    "    for batch in train_loader:\n",
    "        batch = batch.to(device)\n",
    "        #x, edge_index,index = batch.x,batch.edge_index,batch.index\n",
    "       \n",
    "        # Add batch dimension to index\n",
    "        #batch_index = index.unsqueeze(1)\n",
    "\n",
    "        optimizer.zero_grad()\n",
    "        \n",
    "        pred = model(batch)\n",
    "        \n",
    "\n",
    "        loss = F.mse_loss(pred.view(-1, 1).double(), \n",
    "                        batch.y.view(-1, 1).double())\n",
    "        loss.backward()\n",
    "       # print(loss)\n",
    "        loss_all += loss.item() * batch.num_graphs\n",
    "        optimizer.step()\n",
    "    return loss_all / len(train_loader.dataset)"
   ]
  },
  {
   "cell_type": "code",
   "execution_count": 4,
   "id": "a54dd69a-3711-4d20-b1d4-cb88ff5f7463",
   "metadata": {
    "tags": []
   },
   "outputs": [],
   "source": [
    "def test(loader):\n",
    "    model.eval()\n",
    "    loss_all = 0\n",
    "\n",
    "    for batch in loader:\n",
    "        batch = batch.to(device)\n",
    "        #x, edge_index, index = batch.x, batch.edge_index, batch.index\n",
    "        \n",
    "        # Add batch dimension to index\n",
    "        #batch_index = index.unsqueeze(1)\n",
    "\n",
    "        with torch.no_grad():\n",
    "            pred = model(batch)\n",
    "\n",
    "        loss = F.mse_loss(pred.view(-1, 1).double(),\n",
    "                          batch.y.view(-1, 1).double())\n",
    "        loss_all += loss.item() * batch.num_graphs\n",
    "\n",
    "    return loss_all / len(loader.dataset)\n"
   ]
  },
  {
   "cell_type": "code",
   "execution_count": 5,
   "id": "4684f558-2b86-4120-b796-fd4159efd85d",
   "metadata": {
    "tags": []
   },
   "outputs": [
    {
     "name": "stderr",
     "output_type": "stream",
     "text": [
      "Processing...\n"
     ]
    },
    {
     "name": "stdout",
     "output_type": "stream",
     "text": [
      "[54, 54, 54, 54, 54, 54, 54, 54, 54, 54, 54, 54, 54, 54, 54, 55, 55, 55, 55, 55, 56, 57, 57, 54, 54, 54, 54, 54, 54, 54, 54, 55, 55, 55, 55, 56, 56, 56, 56, 54, 55, 54, 55, 55, 55, 55, 56, 56, 57, 57, 57, 55, 55, 55, 55, 56, 57, 55, 55, 55, 56, 56, 56, 56, 56, 57, 57, 57, 57, 57, 57, 57, 58, 59, 55, 55, 55, 55, 56, 55, 55, 55, 56, 56, 56, 58, 55, 55, 56, 55, 56, 24, 24, 24, 24, 24, 24, 24, 24, 24, 24, 24, 24, 24, 24, 24, 25, 26, 26, 24, 25, 25, 24, 24, 26, 25, 24, 24, 24, 24, 24, 24, 24, 24, 24, 24, 25, 25, 24, 25, 24, 24, 24, 26, 24, 24, 24, 24, 24, 24, 24, 24, 25, 24, 24, 24, 24, 24, 24, 24, 25, 25, 25, 26, 26, 25, 25, 25, 26, 26, 25, 25, 27, 25, 25, 27, 28, 27, 25, 25, 25, 25, 25, 25, 25, 25, 26, 25, 25, 25, 25, 25, 25, 25, 26, 26, 26, 26, 26, 26, 26, 26, 27, 26, 26, 26, 26, 27, 27, 27, 27, 27, 24, 24, 24, 24, 24, 24, 24, 24, 25, 24, 24, 24, 25, 24, 24, 24, 24, 25, 24, 25, 25, 25, 24, 24, 24, 26, 26, 24, 28, 24, 24, 24, 24, 24, 24, 24, 25, 24, 24, 24, 24, 24, 24, 25, 25, 25, 25, 26, 25, 25, 25, 25, 25, 26, 26, 25, 26, 26, 26, 26, 26, 26, 27, 24, 24, 24, 24, 24, 24, 24, 24, 25, 25, 25, 24, 25, 24, 24, 24, 24, 24, 24, 24, 24, 26, 24, 24, 25, 25, 25, 25, 26, 26, 26, 24, 24, 24, 24, 24, 24, 24, 24, 24, 24, 25, 25, 25, 24]\n"
     ]
    },
    {
     "name": "stderr",
     "output_type": "stream",
     "text": [
      "Done!\n"
     ]
    }
   ],
   "source": [
    "path='E:/hlrn_orca/'\n",
    "dataset = XASDataset(path)"
   ]
  },
  {
   "cell_type": "code",
   "execution_count": null,
   "id": "9ea63443-1c9d-4c88-87a9-df1986465b8f",
   "metadata": {
    "tags": []
   },
   "outputs": [],
   "source": []
  },
  {
   "cell_type": "code",
   "execution_count": null,
   "id": "236b47e3-04a0-4e52-b636-55958e36a05c",
   "metadata": {
    "tags": []
   },
   "outputs": [],
   "source": [
    "\n",
    "train_dataset = dataset[0:9000]\n",
    "val_dataset = dataset[9000:9800]\n",
    "test_dataset = dataset[9000:]"
   ]
  },
  {
   "cell_type": "code",
   "execution_count": null,
   "id": "eff27144-19e4-41f3-9c9c-01001cc52c72",
   "metadata": {
    "tags": []
   },
   "outputs": [],
   "source": [
    "print(len(dataset))"
   ]
  },
  {
   "cell_type": "code",
   "execution_count": null,
   "id": "bc272b03-2c05-499c-bad3-ef9671bbaad4",
   "metadata": {
    "tags": []
   },
   "outputs": [],
   "source": [
    "\n",
    "test_loader = DataLoader(test_dataset, batch_size=30, shuffle=False)\n",
    "val_loader = DataLoader(val_dataset, batch_size=30, shuffle=False)\n",
    "train_loader = DataLoader(train_dataset, batch_size=30, shuffle=True)"
   ]
  },
  {
   "cell_type": "code",
   "execution_count": null,
   "id": "e310fdc5-2ccc-46f9-909c-3ebae2d0373d",
   "metadata": {
    "tags": []
   },
   "outputs": [],
   "source": [
    "num_tasks=200\n",
    "num_layers=4\n",
    "emb_dim=dataset.num_features\n",
    "print(emb_dim)\n",
    "in_channels=[int(emb_dim),100,100,100]\n",
    "print(in_channels)\n",
    "out_channels=[100,100,100,100]\n",
    "gnn_type='gat'\n",
    "heads=int(1)\n",
    "drop_ratio=0.25\n",
    "graph_pooling='sum'"
   ]
  },
  {
   "cell_type": "code",
   "execution_count": null,
   "id": "b29356b6-aa9c-4509-951a-20f564339ba1",
   "metadata": {
    "tags": []
   },
   "outputs": [],
   "source": [
    "device = torch.device('cuda' if torch.cuda.is_available() else 'cpu')\n",
    "model = GNN(num_tasks,num_layers,emb_dim,in_channels,out_channels,gnn_type,heads,drop_ratio,graph_pooling)\n",
    "model= model.to(device)"
   ]
  },
  {
   "cell_type": "code",
   "execution_count": null,
   "id": "271c75a4-343d-4c98-a47f-3691febd63b4",
   "metadata": {
    "tags": []
   },
   "outputs": [],
   "source": [
    "model"
   ]
  },
  {
   "cell_type": "code",
   "execution_count": null,
   "id": "1c8fa491-7a50-4af6-9a27-fc8fb21ee237",
   "metadata": {
    "tags": []
   },
   "outputs": [],
   "source": [
    "optimizer=torch.optim.Adam(model.parameters(), lr=0.001, betas=(0.9, 0.999), eps=1e-08, weight_decay=0, amsgrad=True)\n",
    "scheduler = torch.optim.lr_scheduler.ReduceLROnPlateau(optimizer, mode='min',\n",
    "                                                       factor=0.9, patience=20,\n",
    "                                                       min_lr=0.00001)\n"
   ]
  },
  {
   "cell_type": "code",
   "execution_count": null,
   "id": "daab36b5-a3fc-42a6-9e57-ff370db30933",
   "metadata": {
    "tags": []
   },
   "outputs": [],
   "source": [
    "\n",
    "best_val_error=None\n",
    "train_losses = []\n",
    "val_losses = []\n",
    "\n",
    "for epoch in range(0, 200):\n",
    "    \n",
    "    loss = train(epoch)\n",
    "    \n",
    "    val_error = test(val_loader)\n",
    "    scheduler.step(val_error)\n",
    "    \n",
    "    train_losses.append(loss)\n",
    "    val_losses.append(val_error)\n",
    "    \n",
    "    current_lr = optimizer.param_groups[0]['lr']\n",
    "    \n",
    "\n",
    "\n",
    "    if best_val_error is None or val_error <= best_val_error:\n",
    "        test_error = test(test_loader)\n",
    "        best_val_error = val_error\n",
    "    if epoch%10==0:\n",
    "        print(f'Epoch: {epoch:03d}, LR: {current_lr:7f}, TrainLoss: {loss:.7f}')"
   ]
  },
  {
   "cell_type": "code",
   "execution_count": null,
   "id": "549b02d7-57e4-4c64-b0af-73e6ddadc169",
   "metadata": {
    "tags": []
   },
   "outputs": [],
   "source": [
    "from utils import plot_spectra,plot_learning_curve"
   ]
  },
  {
   "cell_type": "code",
   "execution_count": null,
   "id": "d77c1419-42c2-431b-9626-43a91f7e4e46",
   "metadata": {
    "tags": []
   },
   "outputs": [],
   "source": [
    "torch.save(model.state_dict(), 'model_gnn.pt')"
   ]
  },
  {
   "cell_type": "code",
   "execution_count": null,
   "id": "878739f0-806a-4005-9b31-b95a105fe2e5",
   "metadata": {
    "tags": []
   },
   "outputs": [],
   "source": [
    "num_e=200\n",
    "\n",
    "plot_learning_curve(num_e,train_losses,val_losses)"
   ]
  },
  {
   "cell_type": "code",
   "execution_count": null,
   "id": "3bca2765-fd93-4c4c-b0d0-6677c522bd48",
   "metadata": {
    "tags": []
   },
   "outputs": [],
   "source": [
    "\n",
    "def pred_spec(model,index,test_dataset):\n",
    "    # Set the model to evaluation mode\n",
    "    model.eval()\n",
    "\n",
    "    # Get a single graph from the test dataset\n",
    "    graph_index = index # Index of the graph you want to predict on\n",
    "    graph_data = test_dataset[graph_index].to(device)\n",
    "    batch = Batch.from_data_list([graph_data])\n",
    "\n",
    "    # Pass the graph through the model\n",
    "    with torch.no_grad():\n",
    "        pred = model(batch)\n",
    "\n",
    "    # Access the predicted output for the single graph\n",
    "    pred_graph = pred[0]\n",
    "    true_spectrum = graph_data.y.cpu().numpy()\n",
    "    predicted_spectrum = pred.cpu().numpy()\n",
    "    predicted_spectrum = predicted_spectrum.reshape(-1)\n",
    "    \n",
    "    return predicted_spectrum,true_spectrum"
   ]
  },
  {
   "cell_type": "code",
   "execution_count": null,
   "id": "f54d40e8-6409-4b02-a3f1-97478e6012f2",
   "metadata": {
    "tags": []
   },
   "outputs": [],
   "source": [
    "# Load the saved model\n",
    "model =GNN(num_tasks,num_layers,emb_dim,in_channels,out_channels,gnn_type,heads,drop_ratio,graph_pooling)\n",
    "model=model.to(device)\n",
    "model.load_state_dict(torch.load('model_gnn.pt'))\n"
   ]
  },
  {
   "cell_type": "code",
   "execution_count": null,
   "id": "72ddca65-6ce3-435a-add5-8bbcd62d9d56",
   "metadata": {
    "tags": []
   },
   "outputs": [],
   "source": [
    "save_var=1\n",
    "p1,t1=pred_spec(model,200,test_dataset)\n",
    "\n",
    "plot_spectra(p1, t1,save_var)"
   ]
  },
  {
   "cell_type": "code",
   "execution_count": null,
   "id": "4730aff8-a120-4905-b5ab-33c633a9fb0a",
   "metadata": {
    "tags": []
   },
   "outputs": [],
   "source": [
    "\n",
    "p2,t2=pred_spec(model,22,test_dataset)\n",
    "\n",
    "plot_spectra(p2, t2,save_var)"
   ]
  },
  {
   "cell_type": "code",
   "execution_count": null,
   "id": "cc6b30ae-e798-4d3c-9217-dfdcf400da13",
   "metadata": {},
   "outputs": [],
   "source": [
    "spec_examples={'p1':p1,'t1':t1,'p2':p2,'t2':t2}\n"
   ]
  },
  {
   "cell_type": "code",
   "execution_count": null,
   "id": "aab5fb65-a813-486d-b466-7cf85bc30226",
   "metadata": {
    "tags": []
   },
   "outputs": [],
   "source": [
    "import pickle \n",
    "\n",
    "with open(\"E:/hlrn_orca/ml_preds.pkl\", \"wb\") as file:\n",
    "    pickle.dump(spec_examples, file)"
   ]
  },
  {
   "cell_type": "code",
   "execution_count": null,
   "id": "2c864333-5ee1-40b8-b231-1ee3df1a79bb",
   "metadata": {},
   "outputs": [],
   "source": [
    "t0=train_dataset[30]"
   ]
  },
  {
   "cell_type": "code",
   "execution_count": null,
   "id": "1fcec9d7-1531-4f30-92e9-3aff8e43465d",
   "metadata": {
    "tags": []
   },
   "outputs": [],
   "source": [
    "t0.x"
   ]
  },
  {
   "cell_type": "code",
   "execution_count": null,
   "id": "cb57bc0c-08cf-44cb-b3b2-9254b251e8f5",
   "metadata": {},
   "outputs": [],
   "source": [
    "model.eval()\n",
    "for batch in train_loader:\n",
    "    batch=batch.to(device)\n",
    "    embeddings = model.forward(batch)"
   ]
  },
  {
   "cell_type": "code",
   "execution_count": null,
   "id": "73c69a46-5d96-4efb-a92a-57ff166d7653",
   "metadata": {
    "tags": []
   },
   "outputs": [],
   "source": [
    "embeddings[1][0]"
   ]
  },
  {
   "cell_type": "code",
   "execution_count": null,
   "id": "0cb1afb1-fdbd-436b-9a62-9c8cbd490436",
   "metadata": {
    "tags": []
   },
   "outputs": [],
   "source": [
    "embeddings[1][1]"
   ]
  },
  {
   "cell_type": "code",
   "execution_count": null,
   "id": "e15501c8-1a59-4b46-8cfe-f89316675ced",
   "metadata": {},
   "outputs": [],
   "source": []
  }
 ],
 "metadata": {
  "kernelspec": {
   "display_name": "torch_geom",
   "language": "python",
   "name": "torch_geom"
  },
  "language_info": {
   "codemirror_mode": {
    "name": "ipython",
    "version": 3
   },
   "file_extension": ".py",
   "mimetype": "text/x-python",
   "name": "python",
   "nbconvert_exporter": "python",
   "pygments_lexer": "ipython3",
   "version": "3.11.3"
  }
 },
 "nbformat": 4,
 "nbformat_minor": 5
}
