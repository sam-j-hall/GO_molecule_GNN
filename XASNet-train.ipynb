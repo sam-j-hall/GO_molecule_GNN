{
 "cells": [
  {
   "cell_type": "code",
   "execution_count": 1,
   "metadata": {},
   "outputs": [],
   "source": [
    "# --- Set location of XASNet code\n",
    "import sys\n",
    "sys.path.append('/home/samjhall/github/XASNet-XAI/src')\n",
    "#sys.path.append('D:\\github\\XASNet-XAI\\src')\n",
    "# --- Standard libraries\n",
    "import os.path as osp\n",
    "import numpy as np\n",
    "import pickle as pkl\n",
    "import imageio\n",
    "# --- PyTorch and PyG\n",
    "import torch\n",
    "from torch_geometric.loader import DataLoader\n",
    "import torch_scatter\n",
    "# --- XASNet\n",
    "from XASNet.data import QM9_XAS\n",
    "from XASNet.data import save_split\n",
    "from XASNet.models import XASNet_GNN, XASNet_GAT, XASNet_GraphNet\n",
    "from XASNet.trainer import GNNTrainer"
   ]
  },
  {
   "cell_type": "code",
   "execution_count": 2,
   "metadata": {},
   "outputs": [],
   "source": [
    "# --- Load in the dataset\n",
    "root = './XASNet-data/atom_dataset.pt'\n",
    "go_spec = QM9_XAS(root=root,\n",
    "                  raw_dir='./XASNet-data/',\n",
    "                  spectra=[])"
   ]
  },
  {
   "cell_type": "code",
   "execution_count": 3,
   "metadata": {},
   "outputs": [
    {
     "name": "stdout",
     "output_type": "stream",
     "text": [
      "QM9_XAS(7946)\n",
      "------------\n",
      "Number of graphs: 7946\n",
      "Number of features: 15\n",
      "\n",
      "Data(x=[32, 15], edge_index=[2, 78], edge_attr=[78, 6], spectrum=[200], vector=[15], idx=[1], smiles='[c:0]12[c:4]3[c:8]4[c:10]5[c:11]([CH:25]=[O:29])[cH:13][c:14]6[c:12]4[c:17]4[c:19]([c:18]([CH:26]=[O:31])[c:15]6[OH:16])=[CH:20][CH:22]6[C:23]([c:21]14)([CH:24]=[CH:1][C:2]2=[CH:3][CH2:5][C:6]3([CH:27]=[O:30])[CH:7]=[CH:9]5)[O:28]6', atom_num=[1], neighbors=[3])\n",
      "------------\n",
      "Number of nodes: 32\n",
      "Number of edges: 78\n",
      "Average node degree: 2.44\n",
      "Has isolated nodes: False\n",
      "Has self loops: False\n",
      "Is undirected: True\n"
     ]
    }
   ],
   "source": [
    "# --- Print details of the dataset\n",
    "print(go_spec)\n",
    "print('------------')\n",
    "print(f'Number of graphs: {len(go_spec)}')\n",
    "print(f'Number of features: {go_spec.num_features}')\n",
    "print('')\n",
    "\n",
    "# --- Print details of the first molecule/graph in dataset\n",
    "data = go_spec[0]\n",
    "\n",
    "print(data)\n",
    "print('------------')\n",
    "print(f'Number of nodes: {data.num_nodes}')\n",
    "print(f'Number of edges: {data.num_edges}')\n",
    "print(f'Average node degree: {data.num_edges / data.num_nodes:.2f}')\n",
    "print(f'Has isolated nodes: {data.has_isolated_nodes()}')\n",
    "print(f'Has self loops: {data.has_self_loops()}')\n",
    "print(f'Is undirected: {data.is_undirected()}')"
   ]
  },
  {
   "cell_type": "code",
   "execution_count": 4,
   "metadata": {},
   "outputs": [],
   "source": [
    "# --- Create spilt file with the dataset\n",
    "# --- split into test, validation and test datasets\n",
    "idxs = save_split(\n",
    "    path='./raw/xasnet-atom-split.npz',\n",
    "    ndata=len(go_spec),\n",
    "    ntrain=1,\n",
    "    nval=5,\n",
    "    ntest=2,\n",
    "    save_split=True,\n",
    "    shuffle=True, \n",
    "    print_nsample=True\n",
    ")"
   ]
  },
  {
   "cell_type": "code",
   "execution_count": 5,
   "metadata": {},
   "outputs": [
    {
     "name": "stdout",
     "output_type": "stream",
     "text": [
      "Training dataset length: 1, compiled in 1 loaders\n",
      "Validation dataset length: 5, compiled in 1 loaders\n",
      "Test dataset length: 2, compiled in 1 loaders\n"
     ]
    }
   ],
   "source": [
    "# --- Create variables for each dataset split\n",
    "train_go = [go_spec[i] for i in idxs['train']]\n",
    "val_go = [go_spec[i] for i in idxs['val']]\n",
    "test_go = [go_spec[i] for i in idxs['test']]\n",
    "\n",
    "# --- Save datasets splits into dataloaders\n",
    "train_loader = DataLoader(train_go, batch_size=1, shuffle=True)\n",
    "val_loader = DataLoader(val_go, batch_size=5, shuffle=True)\n",
    "test_loader = DataLoader(test_go, batch_size=2, shuffle=False)\n",
    "\n",
    "print(f'Training dataset length: {len(train_go)}, compiled in {len(train_loader)} loaders')\n",
    "print(f'Validation dataset length: {len(val_go)}, compiled in {len(val_loader)} loaders')\n",
    "print(f'Test dataset length: {len(test_go)}, compiled in {len(test_loader)} loaders')"
   ]
  },
  {
   "cell_type": "code",
   "execution_count": 6,
   "metadata": {},
   "outputs": [],
   "source": [
    "# --- Save the dataloader to a file\n",
    "torch.save(test_go, './XASNet-data/test_atom_dataset.pt')"
   ]
  },
  {
   "cell_type": "code",
   "execution_count": 7,
   "metadata": {},
   "outputs": [],
   "source": [
    "# --- Define cost functions\n",
    "def RSE_loss(prediction, target):\n",
    "    dE = (300 - 280) / 200\n",
    "    nom = torch.sum(dE*torch.pow((target-prediction), 2))\n",
    "    denom = torch.sum(dE*target)\n",
    "    return torch.sqrt(nom) / denom \n",
    "\n",
    "def RMSE(prediction, target):\n",
    "    return torch.sqrt(torch.mean((target - prediction)**2))"
   ]
  },
  {
   "cell_type": "code",
   "execution_count": 8,
   "metadata": {},
   "outputs": [],
   "source": [
    "# --- Set name for ML model\n",
    "model_name = 'xasnet_model'\n",
    "# --- Set number of epochs to run\n",
    "num_epochs = 200\n",
    "# --- Set the learning rate \n",
    "lr = 0.01\n",
    "# --- Milestones to reduce learning rate in steps \n",
    "milestones = np.arange(10, 100, 10).tolist()"
   ]
  },
  {
   "cell_type": "markdown",
   "metadata": {},
   "source": [
    "##### XASNet_GNN"
   ]
  },
  {
   "cell_type": "code",
   "execution_count": 9,
   "metadata": {},
   "outputs": [
    {
     "name": "stdout",
     "output_type": "stream",
     "text": [
      "Model is not loaded.\n"
     ]
    }
   ],
   "source": [
    "# --- Set device for model to run on\n",
    "device = 'cuda' if torch.cuda.is_available() else 'cpu'\n",
    "\n",
    "# --- Create the type of ML model you want to run\n",
    "xasnet_gnn = XASNet_GNN(\n",
    "    gnn_name = 'gcn', # model type\n",
    "    in_channels = [15, 150, 100], # input nodes for each layer\n",
    "    out_channels = [150, 100, 50], # output nodes for each layer\n",
    "    num_targets = 200, # nodes for final output\n",
    "    num_layers = 3, # number of total layers\n",
    "    heads = 1\n",
    ").to(device)\n",
    "\n",
    "# --- Location to save model\n",
    "path_to_model = osp.join('./best_model,', model_name)\n",
    "\n",
    "# --- Check if there is an already existing model\n",
    "if osp.exists(path_to_model):\n",
    "    xasnet_gnn.load_state_dict(torch.load(path_to_model))\n",
    "else:\n",
    "    print('Model is not loaded.')"
   ]
  },
  {
   "cell_type": "code",
   "execution_count": 10,
   "metadata": {},
   "outputs": [
    {
     "data": {
      "text/plain": [
       "XASNet_GNN(\n",
       "  (interaction_layers): ModuleList(\n",
       "    (0): GCNConv(15, 150)\n",
       "    (1): ReLU(inplace=True)\n",
       "    (2): GCNConv(150, 100)\n",
       "    (3): ReLU(inplace=True)\n",
       "    (4): GCNConv(100, 50)\n",
       "  )\n",
       "  (dropout): Dropout(p=0.8, inplace=False)\n",
       "  (out): Linear(in_features=50, out_features=200, bias=True)\n",
       ")"
      ]
     },
     "execution_count": 10,
     "metadata": {},
     "output_type": "execute_result"
    }
   ],
   "source": [
    "# --- View the details of the created model\n",
    "xasnet_gnn"
   ]
  },
  {
   "cell_type": "markdown",
   "metadata": {},
   "source": [
    "#### XASNet_GAT"
   ]
  },
  {
   "cell_type": "code",
   "execution_count": 25,
   "metadata": {},
   "outputs": [
    {
     "name": "stdout",
     "output_type": "stream",
     "text": [
      "Model is not loaded.\n"
     ]
    }
   ],
   "source": [
    "# --- Set device for model to run on\n",
    "device = 'cuda' if torch.cuda.is_available() else 'cpu'\n",
    "\n",
    "# --- Create the type of ML model you want to run\n",
    "xasnet_gat = XASNet_GAT(\n",
    "    gat_type = 'gatv2_custom', # model type\n",
    "    node_features_dim = 15,\n",
    "    in_channels = [512, 512, 256, 128], # input nodes for each layer\n",
    "    out_channels = [512, 256, 128, 200], # output nodes for each layer\n",
    "    targets = 200, # nodes for final output\n",
    "    n_layers = 3, # number of total layers\n",
    "    n_heads = 1,\n",
    "    use_residuals = True,\n",
    "    use_jk = True\n",
    ").to(device)\n",
    "\n",
    "# --- Location to save model\n",
    "path_to_model = osp.join('./best_model,', model_name)\n",
    "\n",
    "# --- Check if there is an already existing model\n",
    "if osp.exists(path_to_model):\n",
    "    xasnet_gnn.load_state_dict(torch.load(path_to_model))\n",
    "else:\n",
    "    print('Model is not loaded.')"
   ]
  },
  {
   "cell_type": "code",
   "execution_count": 26,
   "metadata": {},
   "outputs": [
    {
     "data": {
      "text/plain": [
       "XASNet_GAT(\n",
       "  (pre_layer): LinearLayer(\n",
       "    (linear): Linear(in_features=15, out_features=512, bias=False)\n",
       "    (_activation): ReLU(inplace=True)\n",
       "  )\n",
       "  (res_block): Residual_block(\n",
       "    (res_layers): Sequential(\n",
       "      (0): LinearLayer(\n",
       "        (linear): Linear(in_features=512, out_features=512, bias=False)\n",
       "        (_activation): ReLU(inplace=True)\n",
       "      )\n",
       "      (1): LinearLayer(\n",
       "        (linear): Linear(in_features=512, out_features=512, bias=False)\n",
       "        (_activation): ReLU(inplace=True)\n",
       "      )\n",
       "      (2): LinearLayer(\n",
       "        (linear): Linear(in_features=512, out_features=512, bias=False)\n",
       "        (_activation): ReLU(inplace=True)\n",
       "      )\n",
       "      (3): LinearLayer(\n",
       "        (linear): Linear(in_features=512, out_features=512, bias=False)\n",
       "        (_activation): ReLU(inplace=True)\n",
       "      )\n",
       "    )\n",
       "  )\n",
       "  (gat_layers): ModuleList(\n",
       "    (0): GATv2LayerCus(512, 512)\n",
       "    (1): ReLU(inplace=True)\n",
       "    (2): GATv2LayerCus(512, 256)\n",
       "    (3): ReLU(inplace=True)\n",
       "    (4): GATv2LayerCus(256, 128)\n",
       "    (5): ReLU(inplace=True)\n",
       "    (6): GATv2LayerCus(128, 200)\n",
       "  )\n",
       "  (lstm): LSTM(128, 128, num_layers=3, batch_first=True, bidirectional=True)\n",
       "  (attn): Linear(in_features=256, out_features=1, bias=True)\n",
       "  (dropout): Dropout(p=0.3, inplace=False)\n",
       "  (linear_out): LinearLayer(\n",
       "    (linear): Linear(in_features=200, out_features=200, bias=False)\n",
       "    (_activation): Identity()\n",
       "  )\n",
       ")"
      ]
     },
     "execution_count": 26,
     "metadata": {},
     "output_type": "execute_result"
    }
   ],
   "source": [
    "xasnet_gat"
   ]
  },
  {
   "cell_type": "markdown",
   "metadata": {},
   "source": [
    "#### XASNet_GraphNet"
   ]
  },
  {
   "cell_type": "code",
   "execution_count": 27,
   "metadata": {},
   "outputs": [
    {
     "name": "stdout",
     "output_type": "stream",
     "text": [
      "Model is not loaded.\n"
     ]
    }
   ],
   "source": [
    "# --- Set device for model to run on\n",
    "device = 'cuda' if torch.cuda.is_available() else 'cpu'\n",
    "\n",
    "# --- Create the type of ML model you want to run\n",
    "xasnet_graphnet = XASNet_GraphNet(\n",
    "    node_dim = 15,\n",
    "    edge_dim = 6,\n",
    "    hidden_channels = 512,\n",
    "    out_channels = 200, # output nodes for each layer\n",
    "    gat_hidd = 512,\n",
    "    gat_out = 100,\n",
    "    n_targets = 200, # nodes for final output\n",
    "    n_layers = 3 # number of total layers\n",
    ").to(device)\n",
    "\n",
    "# --- Location to save model\n",
    "path_to_model = osp.join('./best_model,', model_name)\n",
    "\n",
    "# --- Check if there is an already existing model\n",
    "if osp.exists(path_to_model):\n",
    "    xasnet_gnn.load_state_dict(torch.load(path_to_model))\n",
    "else:\n",
    "    print('Model is not loaded.')"
   ]
  },
  {
   "cell_type": "code",
   "execution_count": 28,
   "metadata": {},
   "outputs": [
    {
     "data": {
      "text/plain": [
       "XASNet_GraphNet(\n",
       "  (graphnets): ModuleList(\n",
       "    (0): GraphNetwork(\n",
       "      (gatencoder): GATEncoder(\n",
       "        (gats): ModuleList(\n",
       "          (0): GATv2Conv(15, 512, heads=3)\n",
       "          (1): ReLU(inplace=True)\n",
       "          (2): GATv2Conv(1536, 512, heads=3)\n",
       "          (3): ReLU(inplace=True)\n",
       "          (4): GATv2Conv(1536, 512, heads=3)\n",
       "          (5): ReLU(inplace=True)\n",
       "          (6): GATv2Conv(1536, 100, heads=1)\n",
       "        )\n",
       "      )\n",
       "      (node_model): NodeModel(\n",
       "        (mlp): Sequential(\n",
       "          (0): Linear(in_features=127, out_features=512, bias=True)\n",
       "          (1): ReLU(inplace=True)\n",
       "          (2): Linear(in_features=512, out_features=200, bias=True)\n",
       "          (3): ReLU(inplace=True)\n",
       "          (4): LayerNorm((200,), eps=1e-05, elementwise_affine=True)\n",
       "        )\n",
       "      )\n",
       "      (edge_model): EdgeModel(\n",
       "        (mlp): Sequential(\n",
       "          (0): Linear(in_features=506, out_features=512, bias=True)\n",
       "          (1): ReLU(inplace=True)\n",
       "          (2): Linear(in_features=512, out_features=200, bias=True)\n",
       "          (3): ReLU(inplace=True)\n",
       "          (4): LayerNorm((200,), eps=1e-05, elementwise_affine=True)\n",
       "        )\n",
       "      )\n",
       "      (global_model): GlobalModel(\n",
       "        (mlp): Sequential(\n",
       "          (0): Linear(in_features=500, out_features=512, bias=True)\n",
       "          (1): ReLU(inplace=True)\n",
       "          (2): Linear(in_features=512, out_features=200, bias=True)\n",
       "          (3): ReLU(inplace=True)\n",
       "          (4): LayerNorm((200,), eps=1e-05, elementwise_affine=True)\n",
       "        )\n",
       "      )\n",
       "    )\n",
       "    (1-2): 2 x GraphNetwork(\n",
       "      (gatencoder): GATEncoder(\n",
       "        (gats): ModuleList(\n",
       "          (0): GATv2Conv(15, 512, heads=3)\n",
       "          (1): ReLU(inplace=True)\n",
       "          (2): GATv2Conv(1536, 512, heads=3)\n",
       "          (3): ReLU(inplace=True)\n",
       "          (4): GATv2Conv(1536, 512, heads=3)\n",
       "          (5): ReLU(inplace=True)\n",
       "          (6): GATv2Conv(1536, 100, heads=1)\n",
       "        )\n",
       "      )\n",
       "      (node_model): NodeModel(\n",
       "        (mlp): Sequential(\n",
       "          (0): Linear(in_features=800, out_features=512, bias=True)\n",
       "          (1): ReLU(inplace=True)\n",
       "          (2): Linear(in_features=512, out_features=200, bias=True)\n",
       "          (3): ReLU(inplace=True)\n",
       "          (4): LayerNorm((200,), eps=1e-05, elementwise_affine=True)\n",
       "        )\n",
       "      )\n",
       "      (edge_model): EdgeModel(\n",
       "        (mlp): Sequential(\n",
       "          (0): Linear(in_features=800, out_features=512, bias=True)\n",
       "          (1): ReLU(inplace=True)\n",
       "          (2): Linear(in_features=512, out_features=200, bias=True)\n",
       "          (3): ReLU(inplace=True)\n",
       "          (4): LayerNorm((200,), eps=1e-05, elementwise_affine=True)\n",
       "        )\n",
       "      )\n",
       "      (global_model): GlobalModel(\n",
       "        (mlp): Sequential(\n",
       "          (0): Linear(in_features=600, out_features=512, bias=True)\n",
       "          (1): ReLU(inplace=True)\n",
       "          (2): Linear(in_features=512, out_features=200, bias=True)\n",
       "          (3): ReLU(inplace=True)\n",
       "          (4): LayerNorm((200,), eps=1e-05, elementwise_affine=True)\n",
       "        )\n",
       "      )\n",
       "    )\n",
       "  )\n",
       "  (dropout): Dropout(p=0.3, inplace=False)\n",
       "  (output_dense): Linear(in_features=200, out_features=200, bias=True)\n",
       ")"
      ]
     },
     "execution_count": 28,
     "metadata": {},
     "output_type": "execute_result"
    }
   ],
   "source": [
    "xasnet_graphnet"
   ]
  },
  {
   "cell_type": "markdown",
   "metadata": {},
   "source": [
    "#### Train Model"
   ]
  },
  {
   "cell_type": "code",
   "execution_count": 11,
   "metadata": {},
   "outputs": [],
   "source": [
    "chosen_model = xasnet_gnn"
   ]
  },
  {
   "cell_type": "code",
   "execution_count": 12,
   "metadata": {},
   "outputs": [],
   "source": [
    "# --- Set additional ML parameters\n",
    "optimizer = torch.optim.AdamW(chosen_model.parameters(), lr=lr)\n",
    "loss_fn = torch.nn.L1Loss()\n",
    "loss_fn2 = torch.nn.MSELoss()\n",
    "scheduler = torch.optim.lr_scheduler.MultiStepLR(optimizer, \n",
    "                                                 milestones=milestones,\n",
    "                                                 gamma=0.8)"
   ]
  },
  {
   "cell_type": "code",
   "execution_count": 13,
   "metadata": {},
   "outputs": [],
   "source": [
    "# --- Create trainier\n",
    "trainer = GNNTrainer(model = chosen_model,\n",
    "                     model_name = model_name,\n",
    "                     device = device,\n",
    "                     metric_path = './metrics')"
   ]
  },
  {
   "cell_type": "code",
   "execution_count": 14,
   "metadata": {},
   "outputs": [
    {
     "name": "stderr",
     "output_type": "stream",
     "text": [
      "  0%|          | 0/200 [00:00<?, ?it/s]/home/samjhall/anaconda3/envs/xasnet-xai/lib/python3.9/site-packages/torch/optim/lr_scheduler.py:432: UserWarning: To get the last learning rate computed by the scheduler, please use `get_last_lr()`.\n",
      "  warnings.warn(\"To get the last learning rate computed by the scheduler, \"\n",
      "  2%|▏         | 3/200 [00:00<00:25,  7.68it/s]"
     ]
    },
    {
     "name": "stdout",
     "output_type": "stream",
     "text": [
      "time = 0.00 mins mins\n",
      "epoch 0 | average train loss = 0.35103  and average validation loss = 0.06806  |learning rate = 0.01000\n"
     ]
    },
    {
     "name": "stderr",
     "output_type": "stream",
     "text": [
      " 14%|█▎        | 27/200 [00:02<00:17, 10.15it/s]"
     ]
    },
    {
     "name": "stdout",
     "output_type": "stream",
     "text": [
      "time = 0.05 mins mins\n",
      "epoch 25 | average train loss = 0.16252  and average validation loss = 0.05628  |learning rate = 0.00640\n"
     ]
    },
    {
     "name": "stderr",
     "output_type": "stream",
     "text": [
      " 26%|██▋       | 53/200 [00:05<00:14, 10.15it/s]"
     ]
    },
    {
     "name": "stdout",
     "output_type": "stream",
     "text": [
      "time = 0.09 mins mins\n",
      "epoch 50 | average train loss = 0.13331  and average validation loss = 0.06303  |learning rate = 0.00328\n"
     ]
    },
    {
     "name": "stderr",
     "output_type": "stream",
     "text": [
      " 38%|███▊      | 77/200 [00:07<00:11, 10.59it/s]"
     ]
    },
    {
     "name": "stdout",
     "output_type": "stream",
     "text": [
      "time = 0.13 mins mins\n",
      "epoch 75 | average train loss = 0.06485  and average validation loss = 0.06005  |learning rate = 0.00210\n"
     ]
    },
    {
     "name": "stderr",
     "output_type": "stream",
     "text": [
      " 52%|█████▏    | 103/200 [00:10<00:09, 10.25it/s]"
     ]
    },
    {
     "name": "stdout",
     "output_type": "stream",
     "text": [
      "time = 0.17 mins mins\n",
      "epoch 100 | average train loss = 0.10147  and average validation loss = 0.06433  |learning rate = 0.00134\n"
     ]
    },
    {
     "name": "stderr",
     "output_type": "stream",
     "text": [
      " 64%|██████▎   | 127/200 [00:12<00:07, 10.19it/s]"
     ]
    },
    {
     "name": "stdout",
     "output_type": "stream",
     "text": [
      "time = 0.21 mins mins\n",
      "epoch 125 | average train loss = 0.07834  and average validation loss = 0.06382  |learning rate = 0.00134\n"
     ]
    },
    {
     "name": "stderr",
     "output_type": "stream",
     "text": [
      " 76%|███████▋  | 153/200 [00:15<00:04, 10.72it/s]"
     ]
    },
    {
     "name": "stdout",
     "output_type": "stream",
     "text": [
      "time = 0.25 mins mins\n",
      "epoch 150 | average train loss = 0.09003  and average validation loss = 0.06367  |learning rate = 0.00134\n"
     ]
    },
    {
     "name": "stderr",
     "output_type": "stream",
     "text": [
      " 88%|████████▊ | 177/200 [00:17<00:02, 10.40it/s]"
     ]
    },
    {
     "name": "stdout",
     "output_type": "stream",
     "text": [
      "time = 0.30 mins mins\n",
      "epoch 175 | average train loss = 0.05825  and average validation loss = 0.06384  |learning rate = 0.00134\n"
     ]
    },
    {
     "name": "stderr",
     "output_type": "stream",
     "text": [
      "100%|██████████| 200/200 [00:20<00:00,  9.99it/s]\n"
     ]
    }
   ],
   "source": [
    "# --- Train the ML model\n",
    "trainer.train_val(train_loader, val_loader, optimizer, RMSE,\n",
    "                  scheduler, num_epochs, write_every=25, train_graphnet=False)"
   ]
  },
  {
   "cell_type": "code",
   "execution_count": 15,
   "metadata": {},
   "outputs": [],
   "source": [
    "frames = []\n",
    "\n",
    "for t in range(num_epochs):\n",
    "    image = imageio.v2.imread(f'./images/training/graph_{t}.png')\n",
    "    frames.append(image)\n",
    "\n",
    "imageio.mimsave('./example.gif', frames, fps=6)"
   ]
  },
  {
   "cell_type": "code",
   "execution_count": null,
   "metadata": {},
   "outputs": [],
   "source": []
  }
 ],
 "metadata": {
  "kernelspec": {
   "display_name": "ml",
   "language": "python",
   "name": "python3"
  },
  "language_info": {
   "codemirror_mode": {
    "name": "ipython",
    "version": 3
   },
   "file_extension": ".py",
   "mimetype": "text/x-python",
   "name": "python",
   "nbconvert_exporter": "python",
   "pygments_lexer": "ipython3",
   "version": "3.9.18"
  }
 },
 "nbformat": 4,
 "nbformat_minor": 2
}
