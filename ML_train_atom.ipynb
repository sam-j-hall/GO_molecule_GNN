{
 "cells": [
  {
   "cell_type": "code",
   "execution_count": 1,
   "id": "6930d3d0-0423-439c-a4db-638195a81c0b",
   "metadata": {
    "tags": []
   },
   "outputs": [
    {
     "name": "stderr",
     "output_type": "stream",
     "text": [
      "/home/a3782/anaconda3/envs/go_gnn/lib/python3.10/site-packages/tqdm/auto.py:21: TqdmWarning: IProgress not found. Please update jupyter and ipywidgets. See https://ipywidgets.readthedocs.io/en/stable/user_install.html\n",
      "  from .autonotebook import tqdm as notebook_tqdm\n"
     ]
    },
    {
     "data": {
      "text/html": [
       "<style>\n",
       "        .bk-notebook-logo {\n",
       "            display: block;\n",
       "            width: 20px;\n",
       "            height: 20px;\n",
       "            background-image: url(data:image/png;base64,iVBORw0KGgoAAAANSUhEUgAAABQAAAAUCAYAAACNiR0NAAAABHNCSVQICAgIfAhkiAAAAAlwSFlzAAALEgAACxIB0t1+/AAAABx0RVh0U29mdHdhcmUAQWRvYmUgRmlyZXdvcmtzIENTNui8sowAAAOkSURBVDiNjZRtaJVlGMd/1/08zzln5zjP1LWcU9N0NkN8m2CYjpgQYQXqSs0I84OLIC0hkEKoPtiH3gmKoiJDU7QpLgoLjLIQCpEsNJ1vqUOdO7ppbuec5+V+rj4ctwzd8IIbbi6u+8f1539dt3A78eXC7QizUF7gyV1fD1Yqg4JWz84yffhm0qkFqBogB9rM8tZdtwVsPUhWhGcFJngGeWrPzHm5oaMmkfEg1usvLFyc8jLRqDOMru7AyC8saQr7GG7f5fvDeH7Ej8CM66nIF+8yngt6HWaKh7k49Soy9nXurCi1o3qUbS3zWfrYeQDTB/Qj6kX6Ybhw4B+bOYoLKCC9H3Nu/leUTZ1JdRWkkn2ldcCamzrcf47KKXdAJllSlxAOkRgyHsGC/zRday5Qld9DyoM4/q/rUoy/CXh3jzOu3bHUVZeU+DEn8FInkPBFlu3+nW3Nw0mk6vCDiWg8CeJaxEwuHS3+z5RgY+YBR6V1Z1nxSOfoaPa4LASWxxdNp+VWTk7+4vzaou8v8PN+xo+KY2xsw6une2frhw05CTYOmQvsEhjhWjn0bmXPjpE1+kplmmkP3suftwTubK9Vq22qKmrBhpY4jvd5afdRA3wGjFAgcnTK2s4hY0/GPNIb0nErGMCRxWOOX64Z8RAC4oCXdklmEvcL8o0BfkNK4lUg9HTl+oPlQxdNo3Mg4Nv175e/1LDGzZen30MEjRUtmXSfiTVu1kK8W4txyV6BMKlbgk3lMwYCiusNy9fVfvvwMxv8Ynl6vxoByANLTWplvuj/nF9m2+PDtt1eiHPBr1oIfhCChQMBw6Aw0UulqTKZdfVvfG7VcfIqLG9bcldL/+pdWTLxLUy8Qq38heUIjh4XlzZxzQm19lLFlr8vdQ97rjZVOLf8nclzckbcD4wxXMidpX30sFd37Fv/GtwwhzhxGVAprjbg0gCAEeIgwCZyTV2Z1REEW8O4py0wsjeloKoMr6iCY6dP92H6Vw/oTyICIthibxjm/DfN9lVz8IqtqKYLUXfoKVMVQVVJOElGjrnnUt9T9wbgp8AyYKaGlqingHZU/uG2NTZSVqwHQTWkx9hxjkpWDaCg6Ckj5qebgBVbT3V3NNXMSiWSDdGV3hrtzla7J+duwPOToIg42ChPQOQjspnSlp1V+Gjdged7+8UN5CRAV7a5EdFNwCjEaBR27b3W890TE7g24NAP/mMDXRWrGoFPQI9ls/MWO2dWFAar/xcOIImbbpA3zgAAAABJRU5ErkJggg==);\n",
       "        }\n",
       "    </style>\n",
       "    <div>\n",
       "        <a href=\"https://bokeh.org\" target=\"_blank\" class=\"bk-notebook-logo\"></a>\n",
       "        <span id=\"e18d32bb-6cac-4c36-bfb9-5103195f765f\">Loading BokehJS ...</span>\n",
       "    </div>\n"
      ]
     },
     "metadata": {},
     "output_type": "display_data"
    },
    {
     "data": {
      "application/javascript": "(function(root) {\n  function now() {\n    return new Date();\n  }\n\n  const force = true;\n\n  if (typeof root._bokeh_onload_callbacks === \"undefined\" || force === true) {\n    root._bokeh_onload_callbacks = [];\n    root._bokeh_is_loading = undefined;\n  }\n\nconst JS_MIME_TYPE = 'application/javascript';\n  const HTML_MIME_TYPE = 'text/html';\n  const EXEC_MIME_TYPE = 'application/vnd.bokehjs_exec.v0+json';\n  const CLASS_NAME = 'output_bokeh rendered_html';\n\n  /**\n   * Render data to the DOM node\n   */\n  function render(props, node) {\n    const script = document.createElement(\"script\");\n    node.appendChild(script);\n  }\n\n  /**\n   * Handle when an output is cleared or removed\n   */\n  function handleClearOutput(event, handle) {\n    const cell = handle.cell;\n\n    const id = cell.output_area._bokeh_element_id;\n    const server_id = cell.output_area._bokeh_server_id;\n    // Clean up Bokeh references\n    if (id != null && id in Bokeh.index) {\n      Bokeh.index[id].model.document.clear();\n      delete Bokeh.index[id];\n    }\n\n    if (server_id !== undefined) {\n      // Clean up Bokeh references\n      const cmd_clean = \"from bokeh.io.state import curstate; print(curstate().uuid_to_server['\" + server_id + \"'].get_sessions()[0].document.roots[0]._id)\";\n      cell.notebook.kernel.execute(cmd_clean, {\n        iopub: {\n          output: function(msg) {\n            const id = msg.content.text.trim();\n            if (id in Bokeh.index) {\n              Bokeh.index[id].model.document.clear();\n              delete Bokeh.index[id];\n            }\n          }\n        }\n      });\n      // Destroy server and session\n      const cmd_destroy = \"import bokeh.io.notebook as ion; ion.destroy_server('\" + server_id + \"')\";\n      cell.notebook.kernel.execute(cmd_destroy);\n    }\n  }\n\n  /**\n   * Handle when a new output is added\n   */\n  function handleAddOutput(event, handle) {\n    const output_area = handle.output_area;\n    const output = handle.output;\n\n    // limit handleAddOutput to display_data with EXEC_MIME_TYPE content only\n    if ((output.output_type != \"display_data\") || (!Object.prototype.hasOwnProperty.call(output.data, EXEC_MIME_TYPE))) {\n      return\n    }\n\n    const toinsert = output_area.element.find(\".\" + CLASS_NAME.split(' ')[0]);\n\n    if (output.metadata[EXEC_MIME_TYPE][\"id\"] !== undefined) {\n      toinsert[toinsert.length - 1].firstChild.textContent = output.data[JS_MIME_TYPE];\n      // store reference to embed id on output_area\n      output_area._bokeh_element_id = output.metadata[EXEC_MIME_TYPE][\"id\"];\n    }\n    if (output.metadata[EXEC_MIME_TYPE][\"server_id\"] !== undefined) {\n      const bk_div = document.createElement(\"div\");\n      bk_div.innerHTML = output.data[HTML_MIME_TYPE];\n      const script_attrs = bk_div.children[0].attributes;\n      for (let i = 0; i < script_attrs.length; i++) {\n        toinsert[toinsert.length - 1].firstChild.setAttribute(script_attrs[i].name, script_attrs[i].value);\n        toinsert[toinsert.length - 1].firstChild.textContent = bk_div.children[0].textContent\n      }\n      // store reference to server id on output_area\n      output_area._bokeh_server_id = output.metadata[EXEC_MIME_TYPE][\"server_id\"];\n    }\n  }\n\n  function register_renderer(events, OutputArea) {\n\n    function append_mime(data, metadata, element) {\n      // create a DOM node to render to\n      const toinsert = this.create_output_subarea(\n        metadata,\n        CLASS_NAME,\n        EXEC_MIME_TYPE\n      );\n      this.keyboard_manager.register_events(toinsert);\n      // Render to node\n      const props = {data: data, metadata: metadata[EXEC_MIME_TYPE]};\n      render(props, toinsert[toinsert.length - 1]);\n      element.append(toinsert);\n      return toinsert\n    }\n\n    /* Handle when an output is cleared or removed */\n    events.on('clear_output.CodeCell', handleClearOutput);\n    events.on('delete.Cell', handleClearOutput);\n\n    /* Handle when a new output is added */\n    events.on('output_added.OutputArea', handleAddOutput);\n\n    /**\n     * Register the mime type and append_mime function with output_area\n     */\n    OutputArea.prototype.register_mime_type(EXEC_MIME_TYPE, append_mime, {\n      /* Is output safe? */\n      safe: true,\n      /* Index of renderer in `output_area.display_order` */\n      index: 0\n    });\n  }\n\n  // register the mime type if in Jupyter Notebook environment and previously unregistered\n  if (root.Jupyter !== undefined) {\n    const events = require('base/js/events');\n    const OutputArea = require('notebook/js/outputarea').OutputArea;\n\n    if (OutputArea.prototype.mime_types().indexOf(EXEC_MIME_TYPE) == -1) {\n      register_renderer(events, OutputArea);\n    }\n  }\n  if (typeof (root._bokeh_timeout) === \"undefined\" || force === true) {\n    root._bokeh_timeout = Date.now() + 5000;\n    root._bokeh_failed_load = false;\n  }\n\n  const NB_LOAD_WARNING = {'data': {'text/html':\n     \"<div style='background-color: #fdd'>\\n\"+\n     \"<p>\\n\"+\n     \"BokehJS does not appear to have successfully loaded. If loading BokehJS from CDN, this \\n\"+\n     \"may be due to a slow or bad network connection. Possible fixes:\\n\"+\n     \"</p>\\n\"+\n     \"<ul>\\n\"+\n     \"<li>re-rerun `output_notebook()` to attempt to load from CDN again, or</li>\\n\"+\n     \"<li>use INLINE resources instead, as so:</li>\\n\"+\n     \"</ul>\\n\"+\n     \"<code>\\n\"+\n     \"from bokeh.resources import INLINE\\n\"+\n     \"output_notebook(resources=INLINE)\\n\"+\n     \"</code>\\n\"+\n     \"</div>\"}};\n\n  function display_loaded() {\n    const el = document.getElementById(\"e18d32bb-6cac-4c36-bfb9-5103195f765f\");\n    if (el != null) {\n      el.textContent = \"BokehJS is loading...\";\n    }\n    if (root.Bokeh !== undefined) {\n      if (el != null) {\n        el.textContent = \"BokehJS \" + root.Bokeh.version + \" successfully loaded.\";\n      }\n    } else if (Date.now() < root._bokeh_timeout) {\n      setTimeout(display_loaded, 100)\n    }\n  }\n\n  function run_callbacks() {\n    try {\n      root._bokeh_onload_callbacks.forEach(function(callback) {\n        if (callback != null)\n          callback();\n      });\n    } finally {\n      delete root._bokeh_onload_callbacks\n    }\n    console.debug(\"Bokeh: all callbacks have finished\");\n  }\n\n  function load_libs(css_urls, js_urls, callback) {\n    if (css_urls == null) css_urls = [];\n    if (js_urls == null) js_urls = [];\n\n    root._bokeh_onload_callbacks.push(callback);\n    if (root._bokeh_is_loading > 0) {\n      console.debug(\"Bokeh: BokehJS is being loaded, scheduling callback at\", now());\n      return null;\n    }\n    if (js_urls == null || js_urls.length === 0) {\n      run_callbacks();\n      return null;\n    }\n    console.debug(\"Bokeh: BokehJS not loaded, scheduling load and callback at\", now());\n    root._bokeh_is_loading = css_urls.length + js_urls.length;\n\n    function on_load() {\n      root._bokeh_is_loading--;\n      if (root._bokeh_is_loading === 0) {\n        console.debug(\"Bokeh: all BokehJS libraries/stylesheets loaded\");\n        run_callbacks()\n      }\n    }\n\n    function on_error(url) {\n      console.error(\"failed to load \" + url);\n    }\n\n    for (let i = 0; i < css_urls.length; i++) {\n      const url = css_urls[i];\n      const element = document.createElement(\"link\");\n      element.onload = on_load;\n      element.onerror = on_error.bind(null, url);\n      element.rel = \"stylesheet\";\n      element.type = \"text/css\";\n      element.href = url;\n      console.debug(\"Bokeh: injecting link tag for BokehJS stylesheet: \", url);\n      document.body.appendChild(element);\n    }\n\n    for (let i = 0; i < js_urls.length; i++) {\n      const url = js_urls[i];\n      const element = document.createElement('script');\n      element.onload = on_load;\n      element.onerror = on_error.bind(null, url);\n      element.async = false;\n      element.src = url;\n      console.debug(\"Bokeh: injecting script tag for BokehJS library: \", url);\n      document.head.appendChild(element);\n    }\n  };\n\n  function inject_raw_css(css) {\n    const element = document.createElement(\"style\");\n    element.appendChild(document.createTextNode(css));\n    document.body.appendChild(element);\n  }\n\n  const js_urls = [\"https://cdn.bokeh.org/bokeh/release/bokeh-3.2.2.min.js\", \"https://cdn.bokeh.org/bokeh/release/bokeh-gl-3.2.2.min.js\", \"https://cdn.bokeh.org/bokeh/release/bokeh-widgets-3.2.2.min.js\", \"https://cdn.bokeh.org/bokeh/release/bokeh-tables-3.2.2.min.js\", \"https://cdn.bokeh.org/bokeh/release/bokeh-mathjax-3.2.2.min.js\"];\n  const css_urls = [];\n\n  const inline_js = [    function(Bokeh) {\n      Bokeh.set_log_level(\"info\");\n    },\nfunction(Bokeh) {\n    }\n  ];\n\n  function run_inline_js() {\n    if (root.Bokeh !== undefined || force === true) {\n          for (let i = 0; i < inline_js.length; i++) {\n      inline_js[i].call(root, root.Bokeh);\n    }\nif (force === true) {\n        display_loaded();\n      }} else if (Date.now() < root._bokeh_timeout) {\n      setTimeout(run_inline_js, 100);\n    } else if (!root._bokeh_failed_load) {\n      console.log(\"Bokeh: BokehJS failed to load within specified timeout.\");\n      root._bokeh_failed_load = true;\n    } else if (force !== true) {\n      const cell = $(document.getElementById(\"e18d32bb-6cac-4c36-bfb9-5103195f765f\")).parents('.cell').data().cell;\n      cell.output_area.append_execute_result(NB_LOAD_WARNING)\n    }\n  }\n\n  if (root._bokeh_is_loading === 0) {\n    console.debug(\"Bokeh: BokehJS loaded, going straight to plotting\");\n    run_inline_js();\n  } else {\n    load_libs(css_urls, js_urls, function() {\n      console.debug(\"Bokeh: BokehJS plotting callback run at\", now());\n      run_inline_js();\n    });\n  }\n}(window));",
      "application/vnd.bokehjs_load.v0+json": ""
     },
     "metadata": {},
     "output_type": "display_data"
    }
   ],
   "source": [
    "# Standard modules\n",
    "import pickle as pkl\n",
    "import numpy as np\n",
    "import heapq as hq\n",
    "from icecream import ic\n",
    "# PyTorch\n",
    "import torch\n",
    "from torch_geometric.loader import DataLoader\n",
    "from torch_geometric.data import Batch\n",
    "from torch_geometric.utils import to_networkx\n",
    "# NetworkX\n",
    "import networkx as nx\n",
    "# RDKit\n",
    "from rdkit import Chem\n",
    "from rdkit.Chem import Draw\n",
    "from rdkit.Chem.Draw import IPythonConsole\n",
    "IPythonConsole.molSize = 300,300\n",
    "# Matplotlib\n",
    "%matplotlib inline\n",
    "import matplotlib.pyplot as plt\n",
    "# Bokeh\n",
    "from bokeh.io import output_notebook, show, export_svg\n",
    "output_notebook()\n",
    "# Science python\n",
    "from sklearn.metrics import mean_squared_error\n",
    "from scipy.stats import wasserstein_distance\n",
    "# Modules from local files\n",
    "from GNN_atom import GNN\n",
    "from Dataset import XASDataset\n",
    "from train import train_model\n",
    "from test import test_model\n",
    "from utils import plot_spectra, plot_learning_curve, bokeh_spectra, calculate_rse"
   ]
  },
  {
   "cell_type": "markdown",
   "id": "57073e38-7a74-4abd-875e-ce13788ae95c",
   "metadata": {
    "tags": []
   },
   "source": [
    "#### Define functions to be used"
   ]
  },
  {
   "cell_type": "code",
   "execution_count": 2,
   "id": "ff22a8e4-1c65-455d-8ea3-796822cb27d4",
   "metadata": {
    "tags": []
   },
   "outputs": [],
   "source": [
    "def train(epoch):\n",
    "    model.train()\n",
    "    loss_all = 0\n",
    "    node_list = []\n",
    "    select_list = []\n",
    "    tot_list = []\n",
    "    smiles_list = []\n",
    "   # batch_size = 128\n",
    "    for batch in train_loader:\n",
    "        \n",
    "        #print(batch.idx,batch.smiles)\n",
    "        batch = batch.to(device)\n",
    "        #x, edge_index,index = batch.x,batch.edge_index,batch.index\n",
    "       \n",
    "        #print(batch.idx,batch.atom_index)\n",
    "        # Add batch dimension to index\n",
    "        #batch_index = index.unsqueeze(1)\n",
    "\n",
    "        optimizer.zero_grad()\n",
    "        \n",
    "        #pred, node, select, tot = model(batch)\n",
    "        pred = model(batch)\n",
    "        batch_size = batch.y.shape[0] // 200\n",
    "        batch.y = batch.y.view(batch_size, 200)\n",
    "        #pred = torch.clamp(pred, min=0.0)\n",
    "        #print(batch.y.shape)\n",
    "        #new_pred=pred.view(batch.y[:,0:99].shape)\n",
    "\n",
    "        #pred=ss[0]\n",
    "        #emb=ss[1]\n",
    "        alpha = 10\n",
    "\n",
    "        #loss = nn.MSELoss()(pred.view(-1, 1).double(), \n",
    "        #                batch.y[:,:100].view(-1, 1).double()) \n",
    "        \n",
    "        loss = nn.MSELoss()(pred.double(), batch.y.double()) \n",
    "       # + alpha*F.mse_loss(torch.log(pred.view(-1, 1).double()+0.001), torch.log(batch.y.view(-1, 1).double()+0.001))\n",
    "        \n",
    "        #p_loss=nn.SmoothL1Loss()(new_pred.double(), \n",
    "        #                batch.y.double())\n",
    "        \n",
    "        #loss=nn.SmoothL1Loss()(pred.view(-1, 1).double(), \n",
    "        #                batch.y.view(-1, 1).double())\n",
    "        #print(loss)\n",
    "        #print(pred.view(-1, 1).double(), batch.y.view(-1, 1).double())\n",
    "       # pred_list.append(pred.view(-1, 1).double())\n",
    "        #y_list.append(batch.y.view(-1, 1).double())\n",
    "        \n",
    "        loss.backward()\n",
    "        #print(batch.num_graphs)\n",
    "        loss_all += loss.item() * batch.num_graphs\n",
    "        optimizer.step()\n",
    "        \n",
    "        #if epoch == 999 :\n",
    "        #    node_list.append(node)\n",
    "        #    select_list.append(select)\n",
    "        #    smiles_list.append(batch.smiles)\n",
    "        #    tot_list.append(tot)\n",
    "    a = 0\n",
    "    b = 0\n",
    "    c = 0\n",
    "    d = 0\n",
    "    if epoch == 999:\n",
    "        a = node_list\n",
    "        b = select_list\n",
    "        c = smiles_list\n",
    "        d = tot_list\n",
    "    \n",
    "    #print(len(train_loader.dataset))\n",
    "        #emb_list.append(emb)\n",
    "    return loss_all / len(train_loader.dataset)#, a ,b ,c ,d"
   ]
  },
  {
   "cell_type": "code",
   "execution_count": 3,
   "id": "a54dd69a-3711-4d20-b1d4-cb88ff5f7463",
   "metadata": {
    "tags": []
   },
   "outputs": [],
   "source": [
    "def test(loader):\n",
    "    model.eval()\n",
    "    loss_all = 0\n",
    "\n",
    "    for batch in loader:\n",
    "        batch = batch.to(device)\n",
    "        #x, edge_index, index = batch.x, batch.edge_index, batch.index\n",
    "        \n",
    "        # Add batch dimension to index\n",
    "        #batch_index = index.unsqueeze(1)\n",
    "        batch_size = batch.y.shape[0] // 200\n",
    "        batch.y = batch.y.view(batch_size, 200)\n",
    "\n",
    "        with torch.no_grad():\n",
    "            pred = model(batch)\n",
    "        \n",
    "        \n",
    "        #print(pred)\n",
    "   #     alpha=10\n",
    "       # loss = nn.MSELoss()(pred.view(-1, 1).double(),\n",
    "        #                  batch.y.view(-1, 1).double()) \n",
    "        \n",
    "        loss = nn.MSELoss()(pred.double(),\n",
    "                          batch.y.double()) \n",
    "    #    +alpha*F.mse_loss(torch.log(pred.view(-1, 1).double()+0.001), torch.log(batch.y.view(-1, 1).double()+0.001))\n",
    "       # loss=nn.SmoothL1Loss()(pred.view(-1, 1).double(), \n",
    "       #                 batch.y.view(-1, 1).double())\n",
    "        loss_all += loss.item() * batch.num_graphs\n",
    "\n",
    "    return loss_all / len(loader.dataset)"
   ]
  },
  {
   "cell_type": "code",
   "execution_count": 4,
   "id": "5104ab0c-11d6-4f90-9e2f-6fc4efc82fd0",
   "metadata": {
    "tags": []
   },
   "outputs": [],
   "source": [
    "def pred_spec(model, index, test_dataset):\n",
    "    # Set the model to evaluation mode\n",
    "    model.eval()\n",
    "\n",
    "    # Get a single graph from the test dataset\n",
    "    graph_index = index # Index of the graph you want to predict on\n",
    "    graph_data = test_dataset[graph_index].to(device)\n",
    "    batch = Batch.from_data_list([graph_data])\n",
    "\n",
    "    # Pass the graph through the model\n",
    "    with torch.no_grad():\n",
    "        pred = model(batch)\n",
    "\n",
    "    # Access the predicted output for the single graph\n",
    "    pred_graph = pred[0]\n",
    "    true_spectrum = graph_data.y.cpu().numpy()\n",
    "    predicted_spectrum = pred.cpu().numpy()\n",
    "    predicted_spectrum = predicted_spectrum.reshape(-1)\n",
    "    \n",
    "    return predicted_spectrum, true_spectrum"
   ]
  },
  {
   "cell_type": "markdown",
   "id": "abc1767b-6124-4fdb-8f6d-8043508daf99",
   "metadata": {
    "tags": []
   },
   "source": [
    "#### Load dataset"
   ]
  },
  {
   "cell_type": "code",
   "execution_count": 5,
   "id": "4684f558-2b86-4120-b796-fd4159efd85d",
   "metadata": {
    "tags": []
   },
   "outputs": [],
   "source": [
    "# Path raw directory containing the data\n",
    "path = \"./\"\n",
    "# Load and create the dataset\n",
    "dataset = XASDataset(path)"
   ]
  },
  {
   "cell_type": "code",
   "execution_count": 6,
   "id": "5e65a852-149f-4ebd-9e6b-af1699e4179f",
   "metadata": {
    "tags": []
   },
   "outputs": [
    {
     "name": "stdout",
     "output_type": "stream",
     "text": [
      "XASDataset(7946)\n",
      "------------\n",
      "Number of graphs: 7946\n",
      "Number of features: 10\n",
      "Number of classes: 1536450\n",
      "\n",
      "Data(x=[32, 10], edge_index=[2, 78], y=[200], edge_attrs=[78, 4], vector=[10], idx=[1], smiles='[c:0]12[c:4]3[c:8]4[c:10]5[c:11]([CH:25]=[O:29])[cH:13][c:14]6[c:12]4[c:17]4[c:19]([c:18]([CH:26]=[O:31])[c:15]6[OH:16])=[CH:20][CH:22]6[C:23]([c:21]14)([CH:24]=[CH:1][C:2]2=[CH:3][CH2:5][C:6]3([CH:27]=[O:30])[CH:7]=[CH:9]5)[O:28]6', atom_num=[1], neigbors=[3])\n",
      "------------\n",
      "Number of nodes: 32\n",
      "Number of edges: 78\n",
      "Average node degree: 2.44\n",
      "Has isolated nodes: False\n",
      "Has self loops: False\n",
      "Is undirected: True\n"
     ]
    }
   ],
   "source": [
    "# Show detail of the dataset\n",
    "print(dataset)\n",
    "print('------------')\n",
    "print(f'Number of graphs: {len(dataset)}')\n",
    "print(f'Number of features: {dataset.num_features}')\n",
    "print(f'Number of classes: {dataset.num_classes}')\n",
    "print('')\n",
    "\n",
    "# Show details of the first molecule/graph in dataset\n",
    "data = dataset[0]\n",
    "\n",
    "print(data)\n",
    "print('------------')\n",
    "print(f'Number of nodes: {data.num_nodes}')\n",
    "print(f'Number of edges: {data.num_edges}')\n",
    "print(f'Average node degree: {data.num_edges / data.num_nodes:.2f}')\n",
    "print(f'Has isolated nodes: {data.has_isolated_nodes()}')\n",
    "print(f'Has self loops: {data.has_self_loops()}')\n",
    "print(f'Is undirected: {data.is_undirected()}')"
   ]
  },
  {
   "cell_type": "markdown",
   "id": "4ca91ead-dd5c-41a6-ad62-a5e2665595dd",
   "metadata": {},
   "source": [
    "#### View data"
   ]
  },
  {
   "cell_type": "code",
   "execution_count": 7,
   "id": "0f59215c-c11a-413e-9bbd-b6296ca7b2c9",
   "metadata": {
    "tags": []
   },
   "outputs": [
    {
     "data": {
      "image/png": "[encoded data removed]",
      "text/plain": [
       "<rdkit.Chem.rdchem.Mol at 0x7f1e3fb7f640>"
      ]
     },
     "execution_count": 7,
     "metadata": {},
     "output_type": "execute_result"
    }
   ],
   "source": [
    "mol = Chem.MolFromSmiles(data.smiles)\n",
    "mol"
   ]
  },
  {
   "cell_type": "code",
   "execution_count": 8,
   "id": "10309421-c54b-47ca-987a-0dbf655d2016",
   "metadata": {
    "tags": []
   },
   "outputs": [
    {
     "data": {
      "image/png": "[encoded data removed]",
      "text/plain": [
       "<Figure size 300x300 with 1 Axes>"
      ]
     },
     "metadata": {},
     "output_type": "display_data"
    },
    {
     "data": {
      "image/png": "[encoded data removed]",
      "text/plain": [
       "<Figure size 400x400 with 1 Axes>"
      ]
     },
     "metadata": {},
     "output_type": "display_data"
    }
   ],
   "source": [
    "# Show graph representation of molecule\n",
    "mol_graph = to_networkx(data, to_undirected=True)\n",
    "\n",
    "plt.figure(figsize=(3,3))\n",
    "\n",
    "nx.draw(mol_graph, with_labels=True, node_size=150, font_size=8)\n",
    "\n",
    "plt.show()\n",
    "\n",
    "# Show an atomic spectrum from molecule\n",
    "plt.figure(figsize=(4,4))\n",
    "\n",
    "plt.plot(data.y)\n",
    "\n",
    "plt.show()"
   ]
  },
  {
   "cell_type": "markdown",
   "id": "c17491c3-906d-4c62-bc02-18e0550b0b4b",
   "metadata": {
    "tags": []
   },
   "source": [
    "#### Split up dataset"
   ]
  },
  {
   "cell_type": "code",
   "execution_count": 9,
   "id": "236b47e3-04a0-4e52-b636-55958e36a05c",
   "metadata": {
    "tags": []
   },
   "outputs": [
    {
     "name": "stdout",
     "output_type": "stream",
     "text": [
      "Length of training data loader: 300\n",
      "Length of validation data loader: 30\n",
      "Length of testing data loader: 45\n"
     ]
    }
   ],
   "source": [
    "# Split into test, validation and test\n",
    "train_dataset = dataset[0:300]\n",
    "val_dataset = dataset[300:330]\n",
    "test_dataset = dataset[330:375]\n",
    "\n",
    "# Pass into dataloader\n",
    "test_loader = DataLoader(test_dataset, batch_size=30, shuffle=False)\n",
    "val_loader = DataLoader(val_dataset, batch_size=30, shuffle=False)\n",
    "train_loader = DataLoader(train_dataset, batch_size=1, shuffle=True)\n",
    "\n",
    "print(f'Length of training data loader: {len(train_loader.dataset)}')\n",
    "print(f'Length of validation data loader: {len(val_loader.dataset)}')\n",
    "print(f'Length of testing data loader: {len(test_loader.dataset)}')"
   ]
  },
  {
   "cell_type": "code",
   "execution_count": 10,
   "id": "3ed12107",
   "metadata": {},
   "outputs": [
    {
     "name": "stdout",
     "output_type": "stream",
     "text": [
      "Data(x=[32, 10], edge_index=[2, 78], y=[200], edge_attrs=[78, 4], vector=[10], idx=[1], smiles='[c:0]12[c:4]3[c:8]4[c:10]5[c:11]([CH:25]=[O:29])[cH:13][c:14]6[c:12]4[c:17]4[c:19]([c:18]([CH:26]=[O:31])[c:15]6[OH:16])=[CH:20][CH:22]6[C:23]([c:21]14)([CH:24]=[CH:1][C:2]2=[CH:3][CH2:5][C:6]3([CH:27]=[O:30])[CH:7]=[CH:9]5)[O:28]6', atom_num=[1], neigbors=[3])\n",
      "tensor([0.0000, 1.0000, 0.0000, 1.0000, 0.0000, 0.0000, 0.0000, 1.0000, 0.0000,\n",
      "        0.5781])\n",
      "tensor([15])\n",
      "[12, 16, 8]\n"
     ]
    }
   ],
   "source": [
    "print(train_loader.dataset[0])\n",
    "print(train_loader.dataset[0].vector)\n",
    "print(train_loader.dataset[0].atom_num)\n",
    "print(train_loader.dataset[0].neigbors)"
   ]
  },
  {
   "cell_type": "code",
   "execution_count": 11,
   "id": "8162741c",
   "metadata": {},
   "outputs": [
    {
     "name": "stdout",
     "output_type": "stream",
     "text": [
      "Data(x=[29, 10], edge_index=[2, 76], y=[200], edge_attrs=[76, 4], vector=[10], idx=[1], smiles='[c:0]12[c:2]3[cH:1][cH:25][c:24]4[c:22]1[c:17]1[c:13]5[c:15]([cH:16][cH:18][c:19]1[c:20]([OH:21])[cH:23]4)[CH:14]1[CH:12]([C:11]4=[C:9]5[C:4]25[C:6]([C:5]([OH:8])=[CH:3]3)([CH:7]2[CH:10]4[O:26]2)[O:28]5)[O:27]1', atom_num=[1], neigbors=[4])\n",
      "tensor([0.0000, 1.0000, 0.0000, 0.5300, 0.4700, 0.0000, 0.0000, 0.5920, 0.4080,\n",
      "        0.5920])\n",
      "tensor([20])\n",
      "[19, 21, 24, 27]\n"
     ]
    }
   ],
   "source": [
    "print(train_loader.dataset[1])\n",
    "print(train_loader.dataset[1].vector)\n",
    "print(train_loader.dataset[1].atom_num)\n",
    "print(train_loader.dataset[1].neigbors)"
   ]
  },
  {
   "cell_type": "code",
   "execution_count": 12,
   "id": "ff641d88",
   "metadata": {},
   "outputs": [
    {
     "name": "stdout",
     "output_type": "stream",
     "text": [
      "torch.Size([32, 10])\n",
      "torch.Size([29, 10])\n",
      "torch.Size([29, 10])\n",
      "torch.Size([29, 10])\n",
      "torch.Size([28, 10])\n",
      "torch.Size([31, 10])\n",
      "torch.Size([28, 10])\n",
      "torch.Size([28, 10])\n",
      "torch.Size([31, 10])\n",
      "torch.Size([32, 10])\n",
      "torch.Size([29, 10])\n",
      "torch.Size([32, 10])\n",
      "torch.Size([29, 10])\n",
      "torch.Size([27, 10])\n",
      "torch.Size([28, 10])\n",
      "torch.Size([28, 10])\n",
      "torch.Size([29, 10])\n",
      "torch.Size([29, 10])\n",
      "torch.Size([29, 10])\n",
      "torch.Size([29, 10])\n",
      "torch.Size([29, 10])\n",
      "torch.Size([29, 10])\n",
      "torch.Size([34, 10])\n",
      "torch.Size([31, 10])\n",
      "torch.Size([33, 10])\n",
      "torch.Size([29, 10])\n",
      "torch.Size([28, 10])\n",
      "torch.Size([29, 10])\n",
      "torch.Size([33, 10])\n",
      "torch.Size([31, 10])\n",
      "torch.Size([33, 10])\n",
      "torch.Size([31, 10])\n",
      "torch.Size([30, 10])\n",
      "torch.Size([32, 10])\n",
      "torch.Size([28, 10])\n",
      "torch.Size([32, 10])\n",
      "torch.Size([32, 10])\n",
      "torch.Size([31, 10])\n",
      "torch.Size([37, 10])\n",
      "torch.Size([32, 10])\n",
      "torch.Size([29, 10])\n",
      "torch.Size([28, 10])\n",
      "torch.Size([31, 10])\n",
      "torch.Size([28, 10])\n",
      "torch.Size([32, 10])\n",
      "torch.Size([28, 10])\n",
      "torch.Size([29, 10])\n",
      "torch.Size([28, 10])\n",
      "torch.Size([26, 10])\n",
      "torch.Size([29, 10])\n",
      "torch.Size([29, 10])\n",
      "torch.Size([30, 10])\n",
      "torch.Size([31, 10])\n",
      "torch.Size([28, 10])\n",
      "torch.Size([26, 10])\n",
      "torch.Size([30, 10])\n",
      "torch.Size([31, 10])\n",
      "torch.Size([29, 10])\n",
      "torch.Size([28, 10])\n",
      "torch.Size([30, 10])\n",
      "torch.Size([33, 10])\n",
      "torch.Size([29, 10])\n",
      "torch.Size([30, 10])\n",
      "torch.Size([31, 10])\n",
      "torch.Size([29, 10])\n",
      "torch.Size([29, 10])\n",
      "torch.Size([27, 10])\n",
      "torch.Size([31, 10])\n",
      "torch.Size([31, 10])\n",
      "torch.Size([31, 10])\n",
      "torch.Size([29, 10])\n",
      "torch.Size([30, 10])\n",
      "torch.Size([28, 10])\n",
      "torch.Size([32, 10])\n",
      "torch.Size([33, 10])\n",
      "torch.Size([30, 10])\n",
      "torch.Size([28, 10])\n",
      "torch.Size([31, 10])\n",
      "torch.Size([30, 10])\n",
      "torch.Size([31, 10])\n",
      "torch.Size([28, 10])\n",
      "torch.Size([30, 10])\n",
      "torch.Size([29, 10])\n",
      "torch.Size([30, 10])\n",
      "torch.Size([29, 10])\n",
      "torch.Size([31, 10])\n",
      "torch.Size([33, 10])\n",
      "torch.Size([29, 10])\n",
      "torch.Size([31, 10])\n",
      "torch.Size([29, 10])\n",
      "torch.Size([30, 10])\n",
      "torch.Size([28, 10])\n",
      "torch.Size([29, 10])\n",
      "torch.Size([28, 10])\n",
      "torch.Size([30, 10])\n",
      "torch.Size([28, 10])\n",
      "torch.Size([27, 10])\n",
      "torch.Size([29, 10])\n",
      "torch.Size([31, 10])\n",
      "torch.Size([32, 10])\n",
      "torch.Size([30, 10])\n",
      "torch.Size([29, 10])\n",
      "torch.Size([29, 10])\n",
      "torch.Size([29, 10])\n",
      "torch.Size([29, 10])\n",
      "torch.Size([29, 10])\n",
      "torch.Size([28, 10])\n",
      "torch.Size([29, 10])\n",
      "torch.Size([33, 10])\n",
      "torch.Size([35, 10])\n",
      "torch.Size([31, 10])\n",
      "torch.Size([28, 10])\n",
      "torch.Size([33, 10])\n",
      "torch.Size([32, 10])\n",
      "torch.Size([29, 10])\n",
      "torch.Size([32, 10])\n",
      "torch.Size([29, 10])\n",
      "torch.Size([33, 10])\n",
      "torch.Size([28, 10])\n",
      "torch.Size([33, 10])\n",
      "torch.Size([31, 10])\n",
      "torch.Size([29, 10])\n",
      "torch.Size([30, 10])\n",
      "torch.Size([29, 10])\n",
      "torch.Size([30, 10])\n",
      "torch.Size([30, 10])\n",
      "torch.Size([33, 10])\n",
      "torch.Size([32, 10])\n",
      "torch.Size([26, 10])\n",
      "torch.Size([28, 10])\n",
      "torch.Size([30, 10])\n",
      "torch.Size([29, 10])\n",
      "torch.Size([26, 10])\n",
      "torch.Size([29, 10])\n",
      "torch.Size([30, 10])\n",
      "torch.Size([33, 10])\n",
      "torch.Size([29, 10])\n",
      "torch.Size([29, 10])\n",
      "torch.Size([33, 10])\n",
      "torch.Size([34, 10])\n",
      "torch.Size([32, 10])\n",
      "torch.Size([31, 10])\n",
      "torch.Size([29, 10])\n",
      "torch.Size([33, 10])\n",
      "torch.Size([29, 10])\n",
      "torch.Size([31, 10])\n",
      "torch.Size([30, 10])\n",
      "torch.Size([33, 10])\n",
      "torch.Size([29, 10])\n",
      "torch.Size([31, 10])\n",
      "torch.Size([27, 10])\n",
      "torch.Size([26, 10])\n",
      "torch.Size([29, 10])\n",
      "torch.Size([32, 10])\n",
      "torch.Size([31, 10])\n",
      "torch.Size([27, 10])\n",
      "torch.Size([29, 10])\n",
      "torch.Size([33, 10])\n",
      "torch.Size([30, 10])\n",
      "torch.Size([29, 10])\n",
      "torch.Size([32, 10])\n",
      "torch.Size([29, 10])\n",
      "torch.Size([28, 10])\n",
      "torch.Size([29, 10])\n",
      "torch.Size([29, 10])\n",
      "torch.Size([29, 10])\n",
      "torch.Size([28, 10])\n",
      "torch.Size([29, 10])\n",
      "torch.Size([32, 10])\n",
      "torch.Size([28, 10])\n",
      "torch.Size([31, 10])\n",
      "torch.Size([29, 10])\n",
      "torch.Size([31, 10])\n",
      "torch.Size([30, 10])\n",
      "torch.Size([31, 10])\n",
      "torch.Size([28, 10])\n",
      "torch.Size([30, 10])\n",
      "torch.Size([29, 10])\n",
      "torch.Size([29, 10])\n",
      "torch.Size([27, 10])\n",
      "torch.Size([29, 10])\n",
      "torch.Size([29, 10])\n",
      "torch.Size([30, 10])\n",
      "torch.Size([28, 10])\n",
      "torch.Size([29, 10])\n",
      "torch.Size([29, 10])\n",
      "torch.Size([29, 10])\n",
      "torch.Size([30, 10])\n",
      "torch.Size([30, 10])\n",
      "torch.Size([33, 10])\n",
      "torch.Size([37, 10])\n",
      "torch.Size([27, 10])\n",
      "torch.Size([27, 10])\n",
      "torch.Size([33, 10])\n",
      "torch.Size([33, 10])\n",
      "torch.Size([29, 10])\n",
      "torch.Size([35, 10])\n",
      "torch.Size([30, 10])\n",
      "torch.Size([30, 10])\n",
      "torch.Size([32, 10])\n",
      "torch.Size([31, 10])\n",
      "torch.Size([31, 10])\n",
      "torch.Size([32, 10])\n",
      "torch.Size([30, 10])\n",
      "torch.Size([28, 10])\n",
      "torch.Size([34, 10])\n",
      "torch.Size([30, 10])\n",
      "torch.Size([34, 10])\n",
      "torch.Size([31, 10])\n",
      "torch.Size([27, 10])\n",
      "torch.Size([32, 10])\n",
      "torch.Size([33, 10])\n",
      "torch.Size([29, 10])\n",
      "torch.Size([31, 10])\n",
      "torch.Size([29, 10])\n",
      "torch.Size([30, 10])\n",
      "torch.Size([34, 10])\n",
      "torch.Size([29, 10])\n",
      "torch.Size([29, 10])\n",
      "torch.Size([32, 10])\n",
      "torch.Size([32, 10])\n",
      "torch.Size([33, 10])\n",
      "torch.Size([31, 10])\n",
      "torch.Size([29, 10])\n",
      "torch.Size([26, 10])\n",
      "torch.Size([30, 10])\n",
      "torch.Size([27, 10])\n",
      "torch.Size([33, 10])\n",
      "torch.Size([29, 10])\n",
      "torch.Size([30, 10])\n",
      "torch.Size([29, 10])\n",
      "torch.Size([30, 10])\n",
      "torch.Size([30, 10])\n",
      "torch.Size([29, 10])\n",
      "torch.Size([29, 10])\n",
      "torch.Size([31, 10])\n",
      "torch.Size([29, 10])\n",
      "torch.Size([29, 10])\n",
      "torch.Size([29, 10])\n",
      "torch.Size([28, 10])\n",
      "torch.Size([27, 10])\n",
      "torch.Size([29, 10])\n",
      "torch.Size([30, 10])\n",
      "torch.Size([28, 10])\n",
      "torch.Size([30, 10])\n",
      "torch.Size([29, 10])\n",
      "torch.Size([32, 10])\n",
      "torch.Size([34, 10])\n",
      "torch.Size([31, 10])\n",
      "torch.Size([29, 10])\n",
      "torch.Size([30, 10])\n",
      "torch.Size([28, 10])\n",
      "torch.Size([28, 10])\n",
      "torch.Size([30, 10])\n",
      "torch.Size([28, 10])\n",
      "torch.Size([31, 10])\n",
      "torch.Size([32, 10])\n",
      "torch.Size([31, 10])\n",
      "torch.Size([30, 10])\n",
      "torch.Size([30, 10])\n",
      "torch.Size([31, 10])\n",
      "torch.Size([31, 10])\n",
      "torch.Size([29, 10])\n",
      "torch.Size([29, 10])\n",
      "torch.Size([31, 10])\n",
      "torch.Size([28, 10])\n",
      "torch.Size([30, 10])\n",
      "torch.Size([29, 10])\n",
      "torch.Size([32, 10])\n",
      "torch.Size([34, 10])\n",
      "torch.Size([29, 10])\n",
      "torch.Size([29, 10])\n",
      "torch.Size([29, 10])\n",
      "torch.Size([29, 10])\n",
      "torch.Size([30, 10])\n",
      "torch.Size([31, 10])\n",
      "torch.Size([32, 10])\n",
      "torch.Size([34, 10])\n",
      "torch.Size([32, 10])\n",
      "torch.Size([29, 10])\n",
      "torch.Size([28, 10])\n",
      "torch.Size([32, 10])\n",
      "torch.Size([31, 10])\n",
      "torch.Size([28, 10])\n",
      "torch.Size([29, 10])\n",
      "torch.Size([33, 10])\n",
      "torch.Size([32, 10])\n",
      "torch.Size([28, 10])\n",
      "torch.Size([29, 10])\n",
      "torch.Size([29, 10])\n",
      "torch.Size([32, 10])\n",
      "torch.Size([28, 10])\n",
      "torch.Size([31, 10])\n",
      "torch.Size([30, 10])\n",
      "torch.Size([33, 10])\n",
      "torch.Size([34, 10])\n",
      "torch.Size([32, 10])\n",
      "torch.Size([29, 10])\n",
      "torch.Size([28, 10])\n",
      "torch.Size([29, 10])\n"
     ]
    }
   ],
   "source": [
    "for batch in train_loader:\n",
    "    print(batch.x.shape)"
   ]
  },
  {
   "cell_type": "markdown",
   "id": "05102673-4d2e-4983-8bcf-cd702bb3544d",
   "metadata": {},
   "source": [
    "#### Set neural network properties"
   ]
  },
  {
   "cell_type": "code",
   "execution_count": 13,
   "id": "e310fdc5-2ccc-46f9-909c-3ebae2d0373d",
   "metadata": {
    "tags": []
   },
   "outputs": [],
   "source": [
    "num_tasks = 200\n",
    "num_layers = 3\n",
    "emb_dim = dataset.num_features\n",
    "in_channels = [int(emb_dim), 10, 10]\n",
    "out_channels = [10, 10, 10]\n",
    "gnn_type = 'gcn'\n",
    "heads = int(1)\n",
    "drop_ratio = 0.8\n",
    "graph_pooling = 'mean'"
   ]
  },
  {
   "cell_type": "code",
   "execution_count": 14,
   "id": "1e21051f-2864-4853-9efe-82ebfd9bd6a6",
   "metadata": {
    "tags": []
   },
   "outputs": [
    {
     "name": "stdout",
     "output_type": "stream",
     "text": [
      "GNN(\n",
      "  (gnn_node): GNN_node(\n",
      "    (convs): ModuleList(\n",
      "      (0): GCNConv(10, 10)\n",
      "      (1): GCNConv(10, 10)\n",
      "      (2): GCNConv(10, 10)\n",
      "    )\n",
      "    (batch_norms): ModuleList(\n",
      "      (0): BatchNorm1d(10, eps=1e-05, momentum=0.1, affine=True, track_running_stats=True)\n",
      "      (1): BatchNorm1d(10, eps=1e-05, momentum=0.1, affine=True, track_running_stats=True)\n",
      "      (2): BatchNorm1d(10, eps=1e-05, momentum=0.1, affine=True, track_running_stats=True)\n",
      "    )\n",
      "  )\n",
      "  (graph_pred_linear): Linear(in_features=10, out_features=200, bias=True)\n",
      "  (graph_pred_linear1): Linear(in_features=200, out_features=200, bias=True)\n",
      ")\n"
     ]
    }
   ],
   "source": [
    "device = torch.device(\"cuda\" if torch.cuda.is_available() else \"cpu\")\n",
    "model = GNN(\n",
    "    num_tasks,\n",
    "    num_layers,\n",
    "    emb_dim,\n",
    "    in_channels,\n",
    "    out_channels,\n",
    "    gnn_type,\n",
    "    heads,\n",
    "    drop_ratio,\n",
    "    graph_pooling,\n",
    ")\n",
    "model = model.to(device)\n",
    "print(model)"
   ]
  },
  {
   "cell_type": "code",
   "execution_count": 15,
   "id": "1c8fa491-7a50-4af6-9a27-fc8fb21ee237",
   "metadata": {
    "tags": []
   },
   "outputs": [],
   "source": [
    "optimizer = torch.optim.Adam(model.parameters(), lr=0.01, betas=(0.9, 0.999), eps=1e-08, amsgrad=True)\n",
    "\n",
    "scheduler = torch.optim.lr_scheduler.ReduceLROnPlateau(optimizer, mode='min', factor=0.5, patience=100, min_lr=0.000001)"
   ]
  },
  {
   "cell_type": "markdown",
   "id": "97763228-6528-41b1-84db-e47380624f33",
   "metadata": {},
   "source": [
    "#### Run neural network training"
   ]
  },
  {
   "cell_type": "code",
   "execution_count": 16,
   "id": "daab36b5-a3fc-42a6-9e57-ff370db30933",
   "metadata": {
    "tags": []
   },
   "outputs": [
    {
     "name": "stderr",
     "output_type": "stream",
     "text": [
      "ic| h_node.shape: torch.Size([28, 10])\n",
      "ic| h_node: tensor([[-5.2028, -0.0000, -0.0000, -0.0000,  0.0000, -0.0000, -1.3559, -4.9895,\n",
      "                     -0.0000, -0.0000],\n",
      "                    [-0.0000, -0.0000, -0.0000, -2.4722,  0.0000, -0.0000, -0.0000, -0.0000,\n",
      "                     -0.0000, -0.0000],\n",
      "                    [-5.2028, -0.0000, -0.0000, -2.1000,  0.0000, -1.6040, -0.0000, -4.9895,\n",
      "                     -0.0000, -0.0000],\n",
      "                    [-0.0000, -0.0000, -1.8879, -0.0000,  0.0000, -0.0000, -0.0000, -0.0000,\n",
      "                     -0.0000, -0.0000],\n",
      "                    [ 0.0000, -1.3192,  0.0000, -2.4722,  0.0000, -0.0000, -0.0000,  0.0000,\n",
      "                     -0.0000,  0.0000],\n",
      "                    [-0.0000, -0.0000, -0.0000, -0.0000,  0.0000, -0.0000, -0.0000,  0.0000,\n",
      "                      0.0000,  0.0000],\n",
      "                    [-0.0000, -0.0000, -0.0000, -2.4722,  0.0000, -0.0000, -0.0000, -0.0000,\n",
      "                      3.6275,  0.0000],\n",
      "                    [-0.0000, -1.3192, -0.0000, -2.4722,  0.0000, -0.0000, -0.0000, -0.0000,\n",
      "                     -2.6051, 13.5693],\n",
      "                    [-0.0000, -0.0000, -0.0000,  5.3930,  0.0000, -0.0000,  0.0000, -4.9895,\n",
      "                     -3.4862,  0.0000],\n",
      "                    [-0.0000, -0.0000, -0.0000, -0.0000,  0.0000, -1.4168, -0.0000, -0.0000,\n",
      "                     -0.0000, -6.4327],\n",
      "                    [ 0.0000, -0.0000, -0.0000, -0.0000,  0.0000, -0.0000, -0.0000,  0.0000,\n",
      "                     -0.0000, -0.0000],\n",
      "                    [ 0.0000, -0.0000, -2.9154, -0.0000,  0.0000, -0.0000, -0.0000,  0.0000,\n",
      "                     -0.0000, -0.0000],\n",
      "                    [ 0.0000, -0.0000, -2.9154, -0.0000,  0.0000, -0.0000, -0.0000,  0.0000,\n",
      "                     -0.0000, -0.0000],\n",
      "                    [-0.0000, -0.0000, -0.0000, -0.0000,  0.0000, -1.6040, -0.0000, -0.0000,\n",
      "                     -3.4862, -7.2387],\n",
      "                    [ 0.0000, -0.0000, -0.0000, -0.0000,  0.0000, -0.0000, -0.0000,  0.0000,\n",
      "                      0.0000,  0.0000],\n",
      "                    [ 0.0000,  0.0000,  0.0000, -0.0000,  0.0000, -1.6040, -0.0000, -0.0000,\n",
      "                      2.9079, -0.0000],\n",
      "                    [ 0.0000, -1.3192, -0.0000,  0.0000,  0.0000,  0.0000, -0.0000,  0.0000,\n",
      "                      0.0000,  0.0000],\n",
      "                    [-0.0000, -0.0000, -0.0000,  0.0000,  0.0000,  0.0000,  0.0000,  6.9805,\n",
      "                      0.0000, -0.6173],\n",
      "                    [ 0.0000, -0.0000, -0.0000, -0.0000,  0.0000,  0.0000, -1.3559,  0.0000,\n",
      "                      0.0000,  0.0000],\n",
      "                    [ 0.0000, -0.0000, 13.7162,  0.0000,  0.0000, -0.0000, -1.3559, -4.9895,\n",
      "                     -0.0000,  0.0000],\n",
      "                    [ 0.0000, -1.3192,  0.0000, 10.5261,  0.0000, -0.0000, -1.3559, -0.0000,\n",
      "                     -0.0000,  0.0000],\n",
      "                    [-0.0000,  0.0000,  0.0000,  0.0000,  0.0000, -0.0000, -0.0000, -0.0000,\n",
      "                     -0.0000, -0.0000],\n",
      "                    [-5.2028, -0.0000, -0.0000, -0.0000,  0.0000, -0.0000, -1.3559, -0.0000,\n",
      "                      0.0000,  0.0000],\n",
      "                    [ 0.0000, -0.0000,  0.5290, -0.0000,  0.0000, -0.0000, -1.3559,  0.0000,\n",
      "                     -0.0000,  0.0000],\n",
      "                    [ 0.0000, -0.0000,  0.0000, -0.0000,  0.0000, -0.0000, -0.0000,  0.0000,\n",
      "                     -0.0000,  0.0000],\n",
      "                    [ 0.0000, -0.0000,  0.0000, -2.4722,  0.0000, -0.0000, -1.3559,  0.0000,\n",
      "                     -0.0000,  0.0000],\n",
      "                    [-0.0000, -0.0000, -0.0000, -0.0000,  0.0000, -0.0000, -0.0000,  0.0000,\n",
      "                      5.6976,  0.0000],\n",
      "                    [-0.0000, -0.0000, -0.0000, -0.0000,  0.0000, -0.0000, -0.0000, -0.0000,\n",
      "                     -0.0000, -0.0000]], grad_fn=<MulBackward0>)\n",
      "ic| h_graph.shape: torch.Size([1, 10])\n",
      "ic| h_graph: tensor([[-0.5574, -0.1885,  0.2331,  0.0521,  0.0000, -0.2225, -0.3390, -0.4635,\n",
      "                       0.0948, -0.0257]], grad_fn=<DivBackward0>)\n"
     ]
    },
    {
     "ename": "NameError",
     "evalue": "name 'exit' is not defined",
     "output_type": "error",
     "traceback": [
      "\u001b[0;31m---------------------------------------------------------------------------\u001b[0m",
      "\u001b[0;31mNameError\u001b[0m                                 Traceback (most recent call last)",
      "Cell \u001b[0;32mIn[16], line 8\u001b[0m\n\u001b[1;32m      4\u001b[0m val_losses \u001b[39m=\u001b[39m []\n\u001b[1;32m      6\u001b[0m \u001b[39mfor\u001b[39;00m epoch \u001b[39min\u001b[39;00m \u001b[39mrange\u001b[39m(num_epochs):\n\u001b[0;32m----> 8\u001b[0m     loss \u001b[39m=\u001b[39m train_model(epoch, train_loader, model, device, optimizer)\n\u001b[1;32m     10\u001b[0m     val_error \u001b[39m=\u001b[39m test_model(val_loader, model, device)\n\u001b[1;32m     11\u001b[0m     scheduler\u001b[39m.\u001b[39mstep(val_error)\n",
      "File \u001b[0;32m~/Github/GO_molecule_GNN/train.py:15\u001b[0m, in \u001b[0;36mtrain_model\u001b[0;34m(epoch, loader, model, device, optimizer)\u001b[0m\n\u001b[1;32m     11\u001b[0m batch \u001b[39m=\u001b[39m batch\u001b[39m.\u001b[39mto(device)\n\u001b[1;32m     13\u001b[0m optimizer\u001b[39m.\u001b[39mzero_grad()\n\u001b[0;32m---> 15\u001b[0m pred \u001b[39m=\u001b[39m model(batch)\n\u001b[1;32m     17\u001b[0m batch_size \u001b[39m=\u001b[39m batch\u001b[39m.\u001b[39my\u001b[39m.\u001b[39mshape[\u001b[39m0\u001b[39m] \u001b[39m/\u001b[39m\u001b[39m/\u001b[39m \u001b[39m200\u001b[39m\n\u001b[1;32m     18\u001b[0m batch\u001b[39m.\u001b[39my \u001b[39m=\u001b[39m batch\u001b[39m.\u001b[39my\u001b[39m.\u001b[39mview(batch_size, \u001b[39m200\u001b[39m)\n",
      "File \u001b[0;32m~/anaconda3/envs/go_gnn/lib/python3.10/site-packages/torch/nn/modules/module.py:1130\u001b[0m, in \u001b[0;36mModule._call_impl\u001b[0;34m(self, *input, **kwargs)\u001b[0m\n\u001b[1;32m   1126\u001b[0m \u001b[39m# If we don't have any hooks, we want to skip the rest of the logic in\u001b[39;00m\n\u001b[1;32m   1127\u001b[0m \u001b[39m# this function, and just call forward.\u001b[39;00m\n\u001b[1;32m   1128\u001b[0m \u001b[39mif\u001b[39;00m \u001b[39mnot\u001b[39;00m (\u001b[39mself\u001b[39m\u001b[39m.\u001b[39m_backward_hooks \u001b[39mor\u001b[39;00m \u001b[39mself\u001b[39m\u001b[39m.\u001b[39m_forward_hooks \u001b[39mor\u001b[39;00m \u001b[39mself\u001b[39m\u001b[39m.\u001b[39m_forward_pre_hooks \u001b[39mor\u001b[39;00m _global_backward_hooks\n\u001b[1;32m   1129\u001b[0m         \u001b[39mor\u001b[39;00m _global_forward_hooks \u001b[39mor\u001b[39;00m _global_forward_pre_hooks):\n\u001b[0;32m-> 1130\u001b[0m     \u001b[39mreturn\u001b[39;00m forward_call(\u001b[39m*\u001b[39;49m\u001b[39minput\u001b[39;49m, \u001b[39m*\u001b[39;49m\u001b[39m*\u001b[39;49mkwargs)\n\u001b[1;32m   1131\u001b[0m \u001b[39m# Do not call functions when jit is used\u001b[39;00m\n\u001b[1;32m   1132\u001b[0m full_backward_hooks, non_full_backward_hooks \u001b[39m=\u001b[39m [], []\n",
      "File \u001b[0;32m~/Github/GO_molecule_GNN/GNN_atom.py:79\u001b[0m, in \u001b[0;36mGNN.forward\u001b[0;34m(self, batched_data)\u001b[0m\n\u001b[1;32m     76\u001b[0m ic(h_graph\u001b[39m.\u001b[39mshape)\n\u001b[1;32m     77\u001b[0m ic(h_graph)\n\u001b[0;32m---> 79\u001b[0m exit()\n\u001b[1;32m     80\u001b[0m \u001b[39m# Compute the weighted sum of x_batch and x_sum\u001b[39;00m\n\u001b[1;32m     81\u001b[0m \u001b[39m#w1 = 0.5 # Adjust this value as needed\u001b[39;00m\n\u001b[1;32m     82\u001b[0m \u001b[39m#h_weight = w1 * h_graph\u001b[39;00m\n\u001b[0;32m   (...)\u001b[0m\n\u001b[1;32m     90\u001b[0m \u001b[39m#out = F.relu(self.lin1(out))\u001b[39;00m\n\u001b[1;32m     91\u001b[0m \u001b[39m#out = torch.sigmoid(self.graph_pred_linear(h_out))\u001b[39;00m\n\u001b[1;32m     93\u001b[0m p \u001b[39m=\u001b[39m torch\u001b[39m.\u001b[39mnn\u001b[39m.\u001b[39mLeakyReLU(\u001b[39m0.1\u001b[39m)\n",
      "\u001b[0;31mNameError\u001b[0m: name 'exit' is not defined"
     ]
    }
   ],
   "source": [
    "num_epochs = 1\n",
    "best_val_error = None\n",
    "train_losses = []\n",
    "val_losses = []\n",
    "\n",
    "for epoch in range(num_epochs):\n",
    "    \n",
    "    loss = train_model(epoch, train_loader, model, device, optimizer)\n",
    "    \n",
    "    val_error = test_model(val_loader, model, device)\n",
    "    scheduler.step(val_error)\n",
    "    #scheduler.step(epoch)\n",
    "    train_losses.append(loss)\n",
    "    val_losses.append(val_error)\n",
    "    \n",
    "    current_lr = optimizer.param_groups[0]['lr']\n",
    "\n",
    "    if best_val_error is None or val_error <= best_val_error:\n",
    "        \n",
    "        best_val_error = val_error\n",
    "    if epoch%25 == 0:\n",
    "        print(f'Epoch: {epoch:03d}, LR: {current_lr:7f}, TrainLoss: {loss:.7f}, ValLoss:{val_error:7f}, Best_ValLoss:{best_val_error:7f}')\n"
   ]
  },
  {
   "cell_type": "code",
   "execution_count": null,
   "id": "d77c1419-42c2-431b-9626-43a91f7e4e46",
   "metadata": {
    "tags": []
   },
   "outputs": [],
   "source": [
    "model_name = 'model_gnn_atom_test.pt'\n",
    "torch.save(model.state_dict(), \"ML_models/\" + model_name)"
   ]
  },
  {
   "cell_type": "markdown",
   "id": "4c3b8a51-f8b1-43a1-8c9d-15adff29eb07",
   "metadata": {},
   "source": [
    "#### View loss"
   ]
  },
  {
   "cell_type": "code",
   "execution_count": null,
   "id": "878739f0-806a-4005-9b31-b95a105fe2e5",
   "metadata": {
    "tags": []
   },
   "outputs": [
    {
     "data": {
      "image/png": "[encoded data removed]",
      "text/plain": [
       "<Figure size 640x480 with 1 Axes>"
      ]
     },
     "metadata": {},
     "output_type": "display_data"
    }
   ],
   "source": [
    "plot_learning_curve(num_epochs, train_losses, val_losses)"
   ]
  },
  {
   "cell_type": "markdown",
   "id": "95d7c398-0933-486e-9a72-8f6c0d8c7007",
   "metadata": {},
   "source": [
    "#### Load model and predict spectra"
   ]
  },
  {
   "cell_type": "code",
   "execution_count": null,
   "id": "f54d40e8-6409-4b02-a3f1-97478e6012f2",
   "metadata": {
    "tags": []
   },
   "outputs": [
    {
     "data": {
      "text/plain": [
       "<All keys matched successfully>"
      ]
     },
     "execution_count": 17,
     "metadata": {},
     "output_type": "execute_result"
    }
   ],
   "source": [
    "# Load the saved model\n",
    "num_tasks = 200\n",
    "\n",
    "model = GNN(\n",
    "    num_tasks,\n",
    "    num_layers,\n",
    "    emb_dim,\n",
    "    in_channels,\n",
    "    out_channels,\n",
    "    gnn_type,\n",
    "    heads,\n",
    "    drop_ratio,\n",
    "    graph_pooling,\n",
    ")\n",
    "mode = model.to(device)\n",
    "model.load_state_dict(torch.load(\"ML_models/\" + model_name))"
   ]
  },
  {
   "attachments": {},
   "cell_type": "markdown",
   "id": "5155f241-b727-4fd7-9e83-10e2671b7141",
   "metadata": {},
   "source": [
    "#### Extract predicted and true spectra"
   ]
  },
  {
   "cell_type": "code",
   "execution_count": null,
   "id": "8b399197-4ae1-4739-a575-7e9602083500",
   "metadata": {
    "tags": []
   },
   "outputs": [
    {
     "name": "stderr",
     "output_type": "stream",
     "text": [
      "ic| h_list[0].shape: torch.Size([30, 10])\n",
      "ic| h_node.shape: torch.Size([30, 200])\n",
      "ic| h_graph.shape: torch.Size([1, 200])\n",
      "ic| h_list[0].shape: torch.Size([29, 10])\n",
      "ic| h_node.shape: torch.Size([29, 200])\n",
      "ic| h_graph.shape: torch.Size([1, 200])\n",
      "ic| h_list[0].shape: torch.Size([29, 10])\n",
      "ic| h_node.shape: torch.Size([29, 200])\n",
      "ic| h_graph.shape: torch.Size([1, 200])\n",
      "ic| h_list[0].shape: torch.Size([29, 10])\n",
      "ic| h_node.shape: torch.Size([29, 200])\n",
      "ic| h_graph.shape: torch.Size([1, 200])\n",
      "ic| h_list[0].shape: torch.Size([29, 10])\n",
      "ic| h_node.shape: torch.Size([29, 200])\n",
      "ic| h_graph.shape: torch.Size([1, 200])\n",
      "ic| h_list[0].shape: torch.Size([31, 10])\n",
      "ic| h_node.shape: torch.Size([31, 200])\n",
      "ic| h_graph.shape: torch.Size([1, 200])\n",
      "ic| h_list[0].shape: torch.Size([31, 10])\n",
      "ic| h_node.shape: torch.Size([31, 200])\n",
      "ic| h_graph.shape: torch.Size([1, 200])\n",
      "ic| h_list[0].shape: torch.Size([29, 10])\n",
      "ic| h_node.shape: torch.Size([29, 200])\n",
      "ic| h_graph.shape: torch.Size([1, 200])\n",
      "ic| h_list[0].shape: torch.Size([28, 10])\n",
      "ic| h_node.shape: torch.Size([28, 200])\n",
      "ic| h_graph.shape: torch.Size([1, 200])\n",
      "ic| h_list[0].shape: torch.Size([34, 10])\n",
      "ic| h_node.shape: torch.Size([34, 200])\n",
      "ic| h_graph.shape: torch.Size([1, 200])\n",
      "ic| h_list[0].shape: torch.Size([29, 10])\n",
      "ic| h_node.shape: torch.Size([29, 200])\n",
      "ic| h_graph.shape: torch.Size([1, 200])\n",
      "ic| h_list[0].shape: torch.Size([29, 10])\n",
      "ic| h_node.shape: torch.Size([29, 200])\n",
      "ic| h_graph.shape: torch.Size([1, 200])\n",
      "ic| h_list[0].shape: torch.Size([29, 10])\n",
      "ic| h_node.shape: torch.Size([29, 200])\n",
      "ic| h_graph.shape: torch.Size([1, 200])\n",
      "ic| h_list[0].shape: torch.Size([29, 10])\n",
      "ic| h_node.shape: torch.Size([29, 200])\n",
      "ic| h_graph.shape: torch.Size([1, 200])\n",
      "ic| h_list[0].shape: torch.Size([29, 10])\n",
      "ic| h_node.shape: torch.Size([29, 200])\n",
      "ic| h_graph.shape: torch.Size([1, 200])\n",
      "ic| h_list[0].shape: torch.Size([28, 10])\n",
      "ic| h_node.shape: torch.Size([28, 200])\n",
      "ic| h_graph.shape: torch.Size([1, 200])\n",
      "ic| h_list[0].shape: torch.Size([31, 10])\n",
      "ic| h_node.shape: torch.Size([31, 200])\n",
      "ic| h_graph.shape: torch.Size([1, 200])\n",
      "ic| h_list[0].shape: torch.Size([30, 10])\n",
      "ic| h_node.shape: torch.Size([30, 200])\n",
      "ic| h_graph.shape: torch.Size([1, 200])\n",
      "ic| h_list[0].shape: torch.Size([30, 10])\n",
      "ic| h_node.shape: torch.Size([30, 200])\n",
      "ic| h_graph.shape: torch.Size([1, 200])\n",
      "ic| h_list[0].shape: torch.Size([29, 10])\n",
      "ic| h_node.shape: torch.Size([29, 200])\n",
      "ic| h_graph.shape: torch.Size([1, 200])\n",
      "ic| h_list[0].shape: torch.Size([31, 10])\n",
      "ic| h_node.shape: torch.Size([31, 200])\n",
      "ic| h_graph.shape: torch.Size([1, 200])\n",
      "ic| h_list[0].shape: torch.Size([30, 10])\n",
      "ic| h_node.shape: torch.Size([30, 200])\n",
      "ic| h_graph.shape: torch.Size([1, 200])\n",
      "ic| h_list[0].shape: torch.Size([34, 10])\n",
      "ic| h_node.shape: torch.Size([34, 200])\n",
      "ic| h_graph.shape: torch.Size([1, 200])\n",
      "ic| h_list[0].shape: torch.Size([32, 10])\n",
      "ic| h_node.shape: torch.Size([32, 200])\n",
      "ic| h_graph.shape: torch.Size([1, 200])\n",
      "ic| h_list[0].shape: torch.Size([33, 10])\n",
      "ic| h_node.shape: torch.Size([33, 200])\n",
      "ic| h_graph.shape: torch.Size([1, 200])\n",
      "ic| h_list[0].shape: torch.Size([29, 10])\n",
      "ic| h_node.shape: torch.Size([29, 200])\n",
      "ic| h_graph.shape: torch.Size([1, 200])\n",
      "ic| h_list[0].shape: torch.Size([32, 10])\n",
      "ic| h_node.shape: torch.Size([32, 200])\n",
      "ic| h_graph.shape: torch.Size([1, 200])\n",
      "ic| h_list[0].shape: torch.Size([34, 10])\n",
      "ic| h_node.shape: torch.Size([34, 200])\n",
      "ic| h_graph.shape: torch.Size([1, 200])\n",
      "ic| h_list[0].shape: torch.Size([30, 10])\n",
      "ic| h_node.shape: torch.Size([30, 200])\n",
      "ic| h_graph.shape: torch.Size([1, 200])\n",
      "ic| h_list[0].shape: torch.Size([31, 10])\n",
      "ic| h_node.shape: torch.Size([31, 200])\n",
      "ic| h_graph.shape: torch.Size([1, 200])\n",
      "ic| h_list[0].shape: torch.Size([33, 10])\n",
      "ic| h_node.shape: torch.Size([33, 200])\n",
      "ic| h_graph.shape: torch.Size([1, 200])\n",
      "ic| h_list[0].shape: torch.Size([29, 10])\n",
      "ic| h_node.shape: torch.Size([29, 200])\n",
      "ic| h_graph.shape: torch.Size([1, 200])\n",
      "ic| h_list[0].shape: torch.Size([29, 10])\n",
      "ic| h_node.shape: torch.Size([29, 200])\n",
      "ic| h_graph.shape: torch.Size([1, 200])\n",
      "ic| h_list[0].shape: torch.Size([33, 10])\n",
      "ic| h_node.shape: torch.Size([33, 200])\n",
      "ic| h_graph.shape: torch.Size([1, 200])\n",
      "ic| h_list[0].shape: torch.Size([33, 10])\n",
      "ic| h_node.shape: torch.Size([33, 200])\n",
      "ic| h_graph.shape: torch.Size([1, 200])\n",
      "ic| h_list[0].shape: torch.Size([30, 10])\n",
      "ic| h_node.shape: torch.Size([30, 200])\n",
      "ic| h_graph.shape: torch.Size([1, 200])\n",
      "ic| h_list[0].shape: torch.Size([28, 10])\n",
      "ic| h_node.shape: torch.Size([28, 200])\n",
      "ic| h_graph.shape: torch.Size([1, 200])\n",
      "ic| h_list[0].shape: torch.Size([31, 10])\n",
      "ic| h_node.shape: torch.Size([31, 200])\n",
      "ic| h_graph.shape: torch.Size([1, 200])\n",
      "ic| h_list[0].shape: torch.Size([29, 10])\n",
      "ic| h_node.shape: torch.Size([29, 200])\n",
      "ic| h_graph.shape: torch.Size([1, 200])\n",
      "ic| h_list[0].shape: torch.Size([33, 10])\n",
      "ic| h_node.shape: torch.Size([33, 200])\n",
      "ic| h_graph.shape: torch.Size([1, 200])\n",
      "ic| h_list[0].shape: torch.Size([29, 10])\n",
      "ic| h_node.shape: torch.Size([29, 200])\n",
      "ic| h_graph.shape: torch.Size([1, 200])\n",
      "ic| h_list[0].shape: torch.Size([28, 10])\n",
      "ic| h_node.shape: torch.Size([28, 200])\n",
      "ic| h_graph.shape: torch.Size([1, 200])\n",
      "ic| h_list[0].shape: torch.Size([29, 10])\n",
      "ic| h_node.shape: torch.Size([29, 200])\n",
      "ic| h_graph.shape: torch.Size([1, 200])\n",
      "ic| h_list[0].shape: torch.Size([28, 10])\n",
      "ic| h_node.shape: torch.Size([28, 200])\n",
      "ic| h_graph.shape: torch.Size([1, 200])\n",
      "ic| h_list[0].shape: torch.Size([33, 10])\n",
      "ic| h_node.shape: torch.Size([33, 200])\n",
      "ic| h_graph.shape: torch.Size([1, 200])\n"
     ]
    }
   ],
   "source": [
    "# Create empty dictionary to contain spectra\n",
    "predict = {}\n",
    "true = {}\n",
    "\n",
    "# Loop over all molecules in test dateset and assign to dictionary index\n",
    "for index in range(len(test_dataset)):\n",
    "    predict[index], true[index] = pred_spec(model, index, test_dataset)\n",
    "\n",
    "# Parse spectra into dictionary\n",
    "model_dict = [predict, true]\n",
    "\n",
    "name = 'spectra_ml_atom_test.pkl'\n",
    "\n",
    "with open('spectra_results/' + name, \"wb\") as file:\n",
    "    pkl.dump(model_dict, file)"
   ]
  },
  {
   "attachments": {},
   "cell_type": "markdown",
   "id": "c2f23de2-b790-4b48-8235-d6f9b28c9397",
   "metadata": {},
   "source": [
    "#### View and analyse predictions"
   ]
  },
  {
   "cell_type": "code",
   "execution_count": null,
   "id": "aab5fb65-a813-486d-b466-7cf85bc30226",
   "metadata": {
    "tags": []
   },
   "outputs": [],
   "source": [
    "file = open('spectra_results/' + name, 'rb')\n",
    "data = pkl.load(file)\n",
    "\n",
    "predict = data[0]\n",
    "true = data[1]"
   ]
  },
  {
   "cell_type": "code",
   "execution_count": null,
   "id": "e15501c8-1a59-4b46-8cfe-f89316675ced",
   "metadata": {},
   "outputs": [
    {
     "name": "stdout",
     "output_type": "stream",
     "text": [
      "Average Wasserstein distance = 0.13916058521500532\n",
      "Average MSE = 0.08588329507624154\n",
      "Average RSE = 0.2828451120999597\n"
     ]
    }
   ],
   "source": [
    "wasser = []\n",
    "mse = []\n",
    "rse = []\n",
    "\n",
    "for x in range(len(predict)):\n",
    "    # Wasserstein metric\n",
    "    wass_temp = wasserstein_distance(predict[x], true[x])\n",
    "    wasser.append(wass_temp)\n",
    "    # Mean squared error\n",
    "    mse_temp = mean_squared_error(predict[x], true[x])\n",
    "    mse.append(mse_temp)\n",
    "    # RSE\n",
    "    rse_temp = calculate_rse(predict[x], true[x])\n",
    "    rse.append(rse_temp)\n",
    "\n",
    "print(f\"Average Wasserstein distance = {sum(wasser) / len(wasser)}\")\n",
    "print(f\"Average MSE = {sum(mse) / len(mse)}\")\n",
    "print(f'Average RSE = {sum(rse) / len(rse)}')"
   ]
  },
  {
   "cell_type": "code",
   "execution_count": null,
   "id": "3cd7546b",
   "metadata": {},
   "outputs": [
    {
     "name": "stdout",
     "output_type": "stream",
     "text": [
      "The 5 best RSE values are:\n",
      "RSE = 0.127, graph number = 17\n",
      "RSE = 0.173, graph number = 21\n",
      "RSE = 0.199, graph number = 33\n",
      "RSE = 0.200, graph number = 2\n",
      "RSE = 0.204, graph number = 41\n",
      "\n",
      "The 5 worst RSE values are:\n",
      "RSE = 0.493, graph number = 26\n",
      "RSE = 0.428, graph number = 3\n",
      "RSE = 0.404, graph number = 37\n",
      "RSE = 0.401, graph number = 38\n",
      "RSE = 0.384, graph number = 23\n"
     ]
    }
   ],
   "source": [
    "five_best = hq.nsmallest(5, rse)\n",
    "five_worst = hq.nlargest(5, rse)\n",
    "\n",
    "best = []\n",
    "worst = []\n",
    "\n",
    "for x in range(5):\n",
    "    best_idx = rse.index(five_best[x])\n",
    "    best.append(best_idx)\n",
    "\n",
    "    worst_idx = rse.index(five_worst[x])\n",
    "    worst.append(worst_idx)\n",
    "\n",
    "print('The 5 best RSE values are:')\n",
    "for x in range(5):\n",
    "    print(f'RSE = {five_best[x]:.3f}, graph number = {best[x]}')\n",
    "\n",
    "print('')\n",
    "print('The 5 worst RSE values are:')\n",
    "for x in range(5):\n",
    "    print(f'RSE = {five_worst[x]:.3f}, graph number = {worst[x]}')"
   ]
  },
  {
   "cell_type": "code",
   "execution_count": null,
   "id": "7d07b6ad",
   "metadata": {},
   "outputs": [
    {
     "data": {
      "text/html": [
       "\n",
       "  <div id=\"a9cd16e9-7eb2-4da6-aa3b-6e121958bc95\" data-root-id=\"p1001\" style=\"display: contents;\"></div>\n"
      ]
     },
     "metadata": {},
     "output_type": "display_data"
    },
    {
     "data": {
      "application/javascript": "(function(root) {\n  function embed_document(root) {\n  const docs_json = {\"dfb6959f-160d-49f8-9ffa-0fabec686536\":{\"version\":\"3.2.2\",\"title\":\"Bokeh Application\",\"roots\":[{\"type\":\"object\",\"name\":\"Figure\",\"id\":\"p1001\",\"attributes\":{\"width\":400,\"height\":400,\"x_range\":{\"type\":\"object\",\"name\":\"Range1d\",\"id\":\"p1010\",\"attributes\":{\"start\":280,\"end\":300}},\"y_range\":{\"type\":\"object\",\"name\":\"DataRange1d\",\"id\":\"p1003\"},\"x_scale\":{\"type\":\"object\",\"name\":\"LinearScale\",\"id\":\"p1011\"},\"y_scale\":{\"type\":\"object\",\"name\":\"LinearScale\",\"id\":\"p1012\"},\"title\":{\"type\":\"object\",\"name\":\"Title\",\"id\":\"p1008\"},\"outline_line_color\":\"black\",\"outline_line_width\":2,\"renderers\":[{\"type\":\"object\",\"name\":\"GlyphRenderer\",\"id\":\"p1036\",\"attributes\":{\"data_source\":{\"type\":\"object\",\"name\":\"ColumnDataSource\",\"id\":\"p1030\",\"attributes\":{\"selected\":{\"type\":\"object\",\"name\":\"Selection\",\"id\":\"p1031\",\"attributes\":{\"indices\":[],\"line_indices\":[]}},\"selection_policy\":{\"type\":\"object\",\"name\":\"UnionRenderers\",\"id\":\"p1032\"},\"data\":{\"type\":\"map\",\"entries\":[[\"x\",{\"type\":\"ndarray\",\"array\":{\"type\":\"bytes\",\"data\":\"AAAAAACAcUD4yYWom4FxQPGTC1E3g3FA6V2R+dKEcUDhJxeiboZxQNnxnEoKiHFA0rsi86WJcUDKhaibQYtxQMJPLkTdjHFAuxm07HiOcUCz4zmVFJBxQKutvz2wkXFAo3dF5kuTcUCcQcuO55RxQJQLUTeDlnFAjNXW3x6YcUCFn1yIuplxQH1p4jBWm3FAdTNo2fGccUBt/e2BjZ5xQGbHcyopoHFAXpH50sShcUBWW397YKNxQE4lBST8pHFAR++KzJemcUA/uRB1M6hxQDeDlh3PqXFAME0cxmqrcUAoF6JuBq1xQCDhJxeirnFAGKutvz2wcUARdTNo2bFxQAk/uRB1s3FAAQk/uRC1cUD60sRhrLZxQPKcSgpIuHFA6mbQsuO5cUDiMFZbf7txQNv62wMbvXFA08RhrLa+cUDLjudUUsBxQMRYbf3twXFAvCLzpYnDcUC07HhOJcVxQKy2/vbAxnFApYCEn1zIcUCdSgpI+MlxQJUUkPCTy3FAjt4VmS/NcUCGqJtBy85xQH5yIepm0HFAdjynkgLScUBvBi07ntNxQGfQsuM51XFAX5o4jNXWcUBXZL40cdhxQFAuRN0M2nFASPjJhajbcUBAwk8uRN1xQDmM1dbf3nFAMVZbf3vgcUApIOEnF+JxQCHqZtCy43FAGrTseE7lcUASfnIh6uZxQApI+MmF6HFAAxJ+ciHqcUD72wMbvetxQPOlicNY7XFA628PbPTucUDkOZUUkPBxQNwDG70r8nFA1M2gZcfzcUDNlyYOY/VxQMVhrLb+9nFAvSsyX5r4cUC19bcHNvpxQK6/PbDR+3FAponDWG39cUCeU0kBCf9xQJcdz6mkAHJAj+dUUkACckCHsdr62wNyQH97YKN3BXJAeEXmSxMHckBwD2z0rghyQGjZ8ZxKCnJAYKN3ReYLckBZbf3tgQ1yQFE3g5YdD3JASQEJP7kQckBCy47nVBJyQDqVFJDwE3JAMl+aOIwVckAqKSDhJxdyQCPzpYnDGHJAG70rMl8ackATh7Ha+htyQAxRN4OWHXJABBu9KzIfckD85ELUzSByQPSuyHxpInJA7XhOJQUkckDlQtTNoCVyQN0MWnY8J3JA1tbfHtgockDOoGXHcypyQMZq628PLHJAvjRxGKstckC3/vbARi9yQK/IfGniMHJAp5ICEn4yckCgXIi6GTRyQJgmDmO1NXJAkPCTC1E3ckCIuhm07DhyQIGEn1yIOnJAeU4lBSQ8ckBxGKutvz1yQGriMFZbP3JAYqy2/vZAckBadjynkkJyQFJAwk8uRHJASwpI+MlFckBD1M2gZUdyQDueU0kBSXJAM2jZ8ZxKckAsMl+aOExyQCT85ELUTXJAHMZq629PckAVkPCTC1FyQA1adjynUnJABST85EJUckD97YGN3lVyQPa3BzZ6V3JA7oGN3hVZckDmSxOHsVpyQN8VmS9NXHJA198e2OhdckDPqaSAhF9yQMdzKikgYXJAwD2w0btickC4BzZ6V2RyQLDRuyLzZXJAqZtBy45nckChZcdzKmlyQJkvTRzGanJAkfnSxGFsckCKw1ht/W1yQIKN3hWZb3JAeldkvjRxckByIepm0HJyQGvrbw9sdHJAY7X1twd2ckBbf3tgo3dyQFRJAQk/eXJATBOHsdp6ckBE3QxadnxyQDynkgISfnJANXEYq61/ckAtO55TSYFyQCUFJPzkgnJAHs+ppICEckAWmS9NHIZyQA5jtfW3h3JABi07nlOJckD/9sBG74pyQPfARu+KjHJA74rMlyaOckDoVFJAwo9yQOAe2OhdkXJA2OhdkfmSckDQsuM5lZRyQMl8aeIwlnJAwUbvisyXckC5EHUzaJlyQLLa+tsDm3JAqqSAhJ+cckCibgYtO55yQJo4jNXWn3JAkwISfnKhckCLzJcmDqNyQIOWHc+ppHJAfGCjd0WmckB0Kikg4adyQGz0rsh8qXJAZL40cRirckBdiLoZtKxyQFVSQMJPrnJATRzGauuvckBG5ksTh7FyQD6w0bsis3JANnpXZL60ckAuRN0MWrZyQCcOY7X1t3JAH9joXZG5ckAXom4GLbtyQA9s9K7IvHJACDZ6V2S+ckAAAAAAAMByQA==\"},\"shape\":[200],\"dtype\":\"float64\",\"order\":\"little\"}],[\"y\",{\"type\":\"ndarray\",\"array\":{\"type\":\"bytes\",\"data\":\"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\"},\"shape\":[200],\"dtype\":\"float64\",\"order\":\"little\"}]]}}},\"view\":{\"type\":\"object\",\"name\":\"CDSView\",\"id\":\"p1037\",\"attributes\":{\"filter\":{\"type\":\"object\",\"name\":\"AllIndices\",\"id\":\"p1038\"}}},\"glyph\":{\"type\":\"object\",\"name\":\"Line\",\"id\":\"p1033\",\"attributes\":{\"x\":{\"type\":\"field\",\"field\":\"x\"},\"y\":{\"type\":\"field\",\"field\":\"y\"},\"line_color\":\"#004488\",\"line_width\":3}},\"nonselection_glyph\":{\"type\":\"object\",\"name\":\"Line\",\"id\":\"p1034\",\"attributes\":{\"x\":{\"type\":\"field\",\"field\":\"x\"},\"y\":{\"type\":\"field\",\"field\":\"y\"},\"line_color\":\"#004488\",\"line_alpha\":0.1,\"line_width\":3}},\"muted_glyph\":{\"type\":\"object\",\"name\":\"Line\",\"id\":\"p1035\",\"attributes\":{\"x\":{\"type\":\"field\",\"field\":\"x\"},\"y\":{\"type\":\"field\",\"field\":\"y\"},\"line_color\":\"#004488\",\"line_alpha\":0.2,\"line_width\":3}}}},{\"type\":\"object\",\"name\":\"GlyphRenderer\",\"id\":\"p1047\",\"attributes\":{\"data_source\":{\"type\":\"object\",\"name\":\"ColumnDataSource\",\"id\":\"p1041\",\"attributes\":{\"selected\":{\"type\":\"object\",\"name\":\"Selection\",\"id\":\"p1042\",\"attributes\":{\"indices\":[],\"line_indices\":[]}},\"selection_policy\":{\"type\":\"object\",\"name\":\"UnionRenderers\",\"id\":\"p1043\"},\"data\":{\"type\":\"map\",\"entries\":[[\"x\",{\"type\":\"ndarray\",\"array\":{\"type\":\"bytes\",\"data\":\"AAAAAACAcUD4yYWom4FxQPGTC1E3g3FA6V2R+dKEcUDhJxeiboZxQNnxnEoKiHFA0rsi86WJcUDKhaibQYtxQMJPLkTdjHFAuxm07HiOcUCz4zmVFJBxQKutvz2wkXFAo3dF5kuTcUCcQcuO55RxQJQLUTeDlnFAjNXW3x6YcUCFn1yIuplxQH1p4jBWm3FAdTNo2fGccUBt/e2BjZ5xQGbHcyopoHFAXpH50sShcUBWW397YKNxQE4lBST8pHFAR++KzJemcUA/uRB1M6hxQDeDlh3PqXFAME0cxmqrcUAoF6JuBq1xQCDhJxeirnFAGKutvz2wcUARdTNo2bFxQAk/uRB1s3FAAQk/uRC1cUD60sRhrLZxQPKcSgpIuHFA6mbQsuO5cUDiMFZbf7txQNv62wMbvXFA08RhrLa+cUDLjudUUsBxQMRYbf3twXFAvCLzpYnDcUC07HhOJcVxQKy2/vbAxnFApYCEn1zIcUCdSgpI+MlxQJUUkPCTy3FAjt4VmS/NcUCGqJtBy85xQH5yIepm0HFAdjynkgLScUBvBi07ntNxQGfQsuM51XFAX5o4jNXWcUBXZL40cdhxQFAuRN0M2nFASPjJhajbcUBAwk8uRN1xQDmM1dbf3nFAMVZbf3vgcUApIOEnF+JxQCHqZtCy43FAGrTseE7lcUASfnIh6uZxQApI+MmF6HFAAxJ+ciHqcUD72wMbvetxQPOlicNY7XFA628PbPTucUDkOZUUkPBxQNwDG70r8nFA1M2gZcfzcUDNlyYOY/VxQMVhrLb+9nFAvSsyX5r4cUC19bcHNvpxQK6/PbDR+3FAponDWG39cUCeU0kBCf9xQJcdz6mkAHJAj+dUUkACckCHsdr62wNyQH97YKN3BXJAeEXmSxMHckBwD2z0rghyQGjZ8ZxKCnJAYKN3ReYLckBZbf3tgQ1yQFE3g5YdD3JASQEJP7kQckBCy47nVBJyQDqVFJDwE3JAMl+aOIwVckAqKSDhJxdyQCPzpYnDGHJAG70rMl8ackATh7Ha+htyQAxRN4OWHXJABBu9KzIfckD85ELUzSByQPSuyHxpInJA7XhOJQUkckDlQtTNoCVyQN0MWnY8J3JA1tbfHtgockDOoGXHcypyQMZq628PLHJAvjRxGKstckC3/vbARi9yQK/IfGniMHJAp5ICEn4yckCgXIi6GTRyQJgmDmO1NXJAkPCTC1E3ckCIuhm07DhyQIGEn1yIOnJAeU4lBSQ8ckBxGKutvz1yQGriMFZbP3JAYqy2/vZAckBadjynkkJyQFJAwk8uRHJASwpI+MlFckBD1M2gZUdyQDueU0kBSXJAM2jZ8ZxKckAsMl+aOExyQCT85ELUTXJAHMZq629PckAVkPCTC1FyQA1adjynUnJABST85EJUckD97YGN3lVyQPa3BzZ6V3JA7oGN3hVZckDmSxOHsVpyQN8VmS9NXHJA198e2OhdckDPqaSAhF9yQMdzKikgYXJAwD2w0btickC4BzZ6V2RyQLDRuyLzZXJAqZtBy45nckChZcdzKmlyQJkvTRzGanJAkfnSxGFsckCKw1ht/W1yQIKN3hWZb3JAeldkvjRxckByIepm0HJyQGvrbw9sdHJAY7X1twd2ckBbf3tgo3dyQFRJAQk/eXJATBOHsdp6ckBE3QxadnxyQDynkgISfnJANXEYq61/ckAtO55TSYFyQCUFJPzkgnJAHs+ppICEckAWmS9NHIZyQA5jtfW3h3JABi07nlOJckD/9sBG74pyQPfARu+KjHJA74rMlyaOckDoVFJAwo9yQOAe2OhdkXJA2OhdkfmSckDQsuM5lZRyQMl8aeIwlnJAwUbvisyXckC5EHUzaJlyQLLa+tsDm3JAqqSAhJ+cckCibgYtO55yQJo4jNXWn3JAkwISfnKhckCLzJcmDqNyQIOWHc+ppHJAfGCjd0WmckB0Kikg4adyQGz0rsh8qXJAZL40cRirckBdiLoZtKxyQFVSQMJPrnJATRzGauuvckBG5ksTh7FyQD6w0bsis3JANnpXZL60ckAuRN0MWrZyQCcOY7X1t3JAH9joXZG5ckAXom4GLbtyQA9s9K7IvHJACDZ6V2S+ckAAAAAAAMByQA==\"},\"shape\":[200],\"dtype\":\"float64\",\"order\":\"little\"}],[\"y\",{\"type\":\"ndarray\",\"array\":{\"type\":\"bytes\",\"data\":\"KKYevV02zbxrDMS9tBMPvpIx5b17dde90E35vcNhw71KFBG9D1QFvauuS731May8U3PLvUjypb1wRZu9k8s8vKssY71u37a9WqlbvKcXkb18Sqq8wPbHvck9tr1TORe92WI1vUdzlr3fIJa88kSJvWfsDL1AY0e9EgjZu7l2HL377Te9Zx8QPSUUT70MOTq96YY+vXr01LySinm8oZAVvU/AO7wH/ia8bYeFPrVBoD75T40+QBu7PvEJTT5YiAQ/YjwrP86OKj8QYg0/6oovP3X4Oj9N1iE/gLo2P4lcSj8ttk0/7Jc5P/yI+z7sDY4+BXSUPvSXBD+s+WY+DxKcPlkHmT4H/pE+vaWVu4Uo6rxkGYO8DWicuy/bm7sv7w69KwqDvPKgnLzUioA9MhQ/vYd6FT74Mlm8vufwPacBIrw4V4S8oOsqO0Ieyj4buQQ+QpitPnU6GD4Mrg49AESOPvSrnj64qLo+FPnIPaiSaz0GD0E+FpyHPhwoMDuPQCo+GFQQPko3sz5DiBg+o1OXPQml1z2h0JY+XfT3Ptu/9T47Ptw+Nk0FP+lD1z4djLs+Fi/KPpL+/j7VVho/olrYPuLMeD7TeZg+RnW7Pn3u/j4bOvE+ioP2PtW4Dj8D1Ck/BH84P21pPj8mkV0/OfsxP5EYNj8ZVho/mHgYP3r9AD/dbDI/NCAZPx1TID+3WjM/0YcIP7NgQD/Lkuw+GRwkP+BXEz+XrRA/UJIVP4uuMj+WWkI/aSoPP0eRID/6Fz4/piwhP255ID8S6xg/KYMwPw73Cz9gnAU/dx4dP4c2GD9e5iM/MNnlPm6DGD8sbw0/WNwHPyrfMD9nvBg/HIUUP0FmJD9sNAQ/mmvYPotKyT4Swwo/+2EcPz6wCD9/bfc+CITMPnUS/j4ENgk/Q8rQPoky4D7ZLBM/S0bkPhiO9T7UtjI/Pa7CPtQoET9Q4ts+xKq3PjQNqz6iygE/TuEwP9fo+T6oKjQ/gBkYP04kEj93XAY/Hm4QP1msoT6pUxM/nYkcP1FLDj8LBSg/YQ8EP1jcCz+21Lo+v8PhPtN1Ij8=\"},\"shape\":[200],\"dtype\":\"float32\",\"order\":\"little\"}]]}}},\"view\":{\"type\":\"object\",\"name\":\"CDSView\",\"id\":\"p1048\",\"attributes\":{\"filter\":{\"type\":\"object\",\"name\":\"AllIndices\",\"id\":\"p1049\"}}},\"glyph\":{\"type\":\"object\",\"name\":\"Line\",\"id\":\"p1044\",\"attributes\":{\"x\":{\"type\":\"field\",\"field\":\"x\"},\"y\":{\"type\":\"field\",\"field\":\"y\"},\"line_color\":\"#DDAA33\",\"line_width\":3}},\"nonselection_glyph\":{\"type\":\"object\",\"name\":\"Line\",\"id\":\"p1045\",\"attributes\":{\"x\":{\"type\":\"field\",\"field\":\"x\"},\"y\":{\"type\":\"field\",\"field\":\"y\"},\"line_color\":\"#DDAA33\",\"line_alpha\":0.1,\"line_width\":3}},\"muted_glyph\":{\"type\":\"object\",\"name\":\"Line\",\"id\":\"p1046\",\"attributes\":{\"x\":{\"type\":\"field\",\"field\":\"x\"},\"y\":{\"type\":\"field\",\"field\":\"y\"},\"line_color\":\"#DDAA33\",\"line_alpha\":0.2,\"line_width\":3}}}}],\"toolbar\":{\"type\":\"object\",\"name\":\"Toolbar\",\"id\":\"p1009\",\"attributes\":{\"logo\":null,\"tools\":[{\"type\":\"object\",\"name\":\"PanTool\",\"id\":\"p1023\"},{\"type\":\"object\",\"name\":\"WheelZoomTool\",\"id\":\"p1024\"},{\"type\":\"object\",\"name\":\"BoxZoomTool\",\"id\":\"p1025\",\"attributes\":{\"overlay\":{\"type\":\"object\",\"name\":\"BoxAnnotation\",\"id\":\"p1026\",\"attributes\":{\"syncable\":false,\"level\":\"overlay\",\"visible\":false,\"left_units\":\"canvas\",\"right_units\":\"canvas\",\"bottom_units\":\"canvas\",\"top_units\":\"canvas\",\"line_color\":\"black\",\"line_alpha\":1.0,\"line_width\":2,\"line_dash\":[4,4],\"fill_color\":\"lightgrey\",\"fill_alpha\":0.5}}}},{\"type\":\"object\",\"name\":\"SaveTool\",\"id\":\"p1027\"},{\"type\":\"object\",\"name\":\"ResetTool\",\"id\":\"p1028\"},{\"type\":\"object\",\"name\":\"HelpTool\",\"id\":\"p1029\"}]}},\"toolbar_location\":null,\"left\":[{\"type\":\"object\",\"name\":\"LinearAxis\",\"id\":\"p1018\",\"attributes\":{\"ticker\":{\"type\":\"object\",\"name\":\"BasicTicker\",\"id\":\"p1019\",\"attributes\":{\"mantissas\":[1,2,5]}},\"formatter\":{\"type\":\"object\",\"name\":\"BasicTickFormatter\",\"id\":\"p1020\"},\"axis_label\":\"arb. units\",\"axis_label_text_font_size\":\"24px\",\"major_label_policy\":{\"type\":\"object\",\"name\":\"AllLabels\",\"id\":\"p1021\"},\"major_label_text_color\":null,\"major_tick_line_color\":null,\"minor_tick_line_color\":null}}],\"below\":[{\"type\":\"object\",\"name\":\"LinearAxis\",\"id\":\"p1013\",\"attributes\":{\"ticker\":{\"type\":\"object\",\"name\":\"BasicTicker\",\"id\":\"p1014\",\"attributes\":{\"desired_num_ticks\":3,\"mantissas\":[1,2,5]}},\"formatter\":{\"type\":\"object\",\"name\":\"BasicTickFormatter\",\"id\":\"p1015\"},\"axis_label\":\"Photon Energy (eV)\",\"axis_label_text_font_size\":\"24px\",\"major_label_policy\":{\"type\":\"object\",\"name\":\"AllLabels\",\"id\":\"p1016\"},\"major_label_text_font_size\":\"24px\",\"major_tick_line_width\":2,\"major_tick_in\":0,\"major_tick_out\":10,\"minor_tick_line_width\":2,\"minor_tick_out\":6}}],\"center\":[{\"type\":\"object\",\"name\":\"Grid\",\"id\":\"p1017\",\"attributes\":{\"axis\":{\"id\":\"p1013\"},\"grid_line_color\":\"grey\",\"grid_line_alpha\":0.3,\"grid_line_width\":1.5,\"grid_line_dash\":[6]}},{\"type\":\"object\",\"name\":\"Grid\",\"id\":\"p1022\",\"attributes\":{\"dimension\":1,\"axis\":{\"id\":\"p1018\"},\"grid_line_color\":\"grey\",\"grid_line_alpha\":0.3,\"grid_line_width\":1.5,\"grid_line_dash\":[6]}},{\"type\":\"object\",\"name\":\"Legend\",\"id\":\"p1039\",\"attributes\":{\"location\":\"bottom_right\",\"label_text_font_size\":\"20px\",\"items\":[{\"type\":\"object\",\"name\":\"LegendItem\",\"id\":\"p1040\",\"attributes\":{\"label\":{\"type\":\"value\",\"value\":\"True\"},\"renderers\":[{\"id\":\"p1036\"}]}},{\"type\":\"object\",\"name\":\"LegendItem\",\"id\":\"p1050\",\"attributes\":{\"label\":{\"type\":\"value\",\"value\":\"ML Model\"},\"renderers\":[{\"id\":\"p1047\"}]}}]}}],\"min_border\":25}}]}};\n  const render_items = [{\"docid\":\"dfb6959f-160d-49f8-9ffa-0fabec686536\",\"roots\":{\"p1001\":\"a9cd16e9-7eb2-4da6-aa3b-6e121958bc95\"},\"root_ids\":[\"p1001\"]}];\n  root.Bokeh.embed.embed_items_notebook(docs_json, render_items);\n  }\n  if (root.Bokeh !== undefined) {\n    embed_document(root);\n  } else {\n    let attempts = 0;\n    const timer = setInterval(function(root) {\n      if (root.Bokeh !== undefined) {\n        clearInterval(timer);\n        embed_document(root);\n      } else {\n        attempts++;\n        if (attempts > 100) {\n          clearInterval(timer);\n          console.log(\"Bokeh: ERROR: Unable to run BokehJS code because BokehJS library is missing\");\n        }\n      }\n    }, 10, root)\n  }\n})(window);",
      "application/vnd.bokehjs_exec.v0+json": ""
     },
     "metadata": {
      "application/vnd.bokehjs_exec.v0+json": {
       "id": "p1001"
      }
     },
     "output_type": "display_data"
    }
   ],
   "source": [
    "# Plot best spectra prediction\n",
    "p = bokeh_spectra(predict[best[1]], true[best[1]])\n",
    "show(p)"
   ]
  },
  {
   "cell_type": "code",
   "execution_count": null,
   "id": "f4511e2b",
   "metadata": {},
   "outputs": [
    {
     "data": {
      "text/html": [
       "\n",
       "  <div id=\"b4e8d484-67e5-4d42-813f-3b64887cd5c1\" data-root-id=\"p1055\" style=\"display: contents;\"></div>\n"
      ]
     },
     "metadata": {},
     "output_type": "display_data"
    },
    {
     "data": {
      "application/javascript": "(function(root) {\n  function embed_document(root) {\n  const docs_json = {\"2fb86598-a679-4e62-a760-aef890cf725c\":{\"version\":\"3.2.2\",\"title\":\"Bokeh Application\",\"roots\":[{\"type\":\"object\",\"name\":\"Figure\",\"id\":\"p1055\",\"attributes\":{\"width\":400,\"height\":400,\"x_range\":{\"type\":\"object\",\"name\":\"Range1d\",\"id\":\"p1064\",\"attributes\":{\"start\":280,\"end\":300}},\"y_range\":{\"type\":\"object\",\"name\":\"DataRange1d\",\"id\":\"p1057\"},\"x_scale\":{\"type\":\"object\",\"name\":\"LinearScale\",\"id\":\"p1065\"},\"y_scale\":{\"type\":\"object\",\"name\":\"LinearScale\",\"id\":\"p1066\"},\"title\":{\"type\":\"object\",\"name\":\"Title\",\"id\":\"p1062\"},\"outline_line_color\":\"black\",\"outline_line_width\":2,\"renderers\":[{\"type\":\"object\",\"name\":\"GlyphRenderer\",\"id\":\"p1090\",\"attributes\":{\"data_source\":{\"type\":\"object\",\"name\":\"ColumnDataSource\",\"id\":\"p1084\",\"attributes\":{\"selected\":{\"type\":\"object\",\"name\":\"Selection\",\"id\":\"p1085\",\"attributes\":{\"indices\":[],\"line_indices\":[]}},\"selection_policy\":{\"type\":\"object\",\"name\":\"UnionRenderers\",\"id\":\"p1086\"},\"data\":{\"type\":\"map\",\"entries\":[[\"x\",{\"type\":\"ndarray\",\"array\":{\"type\":\"bytes\",\"data\":\"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\"},\"shape\":[200],\"dtype\":\"float64\",\"order\":\"little\"}],[\"y\",{\"type\":\"ndarray\",\"array\":{\"type\":\"bytes\",\"data\":\"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\"},\"shape\":[200],\"dtype\":\"float64\",\"order\":\"little\"}]]}}},\"view\":{\"type\":\"object\",\"name\":\"CDSView\",\"id\":\"p1091\",\"attributes\":{\"filter\":{\"type\":\"object\",\"name\":\"AllIndices\",\"id\":\"p1092\"}}},\"glyph\":{\"type\":\"object\",\"name\":\"Line\",\"id\":\"p1087\",\"attributes\":{\"x\":{\"type\":\"field\",\"field\":\"x\"},\"y\":{\"type\":\"field\",\"field\":\"y\"},\"line_color\":\"#004488\",\"line_width\":3}},\"nonselection_glyph\":{\"type\":\"object\",\"name\":\"Line\",\"id\":\"p1088\",\"attributes\":{\"x\":{\"type\":\"field\",\"field\":\"x\"},\"y\":{\"type\":\"field\",\"field\":\"y\"},\"line_color\":\"#004488\",\"line_alpha\":0.1,\"line_width\":3}},\"muted_glyph\":{\"type\":\"object\",\"name\":\"Line\",\"id\":\"p1089\",\"attributes\":{\"x\":{\"type\":\"field\",\"field\":\"x\"},\"y\":{\"type\":\"field\",\"field\":\"y\"},\"line_color\":\"#004488\",\"line_alpha\":0.2,\"line_width\":3}}}},{\"type\":\"object\",\"name\":\"GlyphRenderer\",\"id\":\"p1101\",\"attributes\":{\"data_source\":{\"type\":\"object\",\"name\":\"ColumnDataSource\",\"id\":\"p1095\",\"attributes\":{\"selected\":{\"type\":\"object\",\"name\":\"Selection\",\"id\":\"p1096\",\"attributes\":{\"indices\":[],\"line_indices\":[]}},\"selection_policy\":{\"type\":\"object\",\"name\":\"UnionRenderers\",\"id\":\"p1097\"},\"data\":{\"type\":\"map\",\"entries\":[[\"x\",{\"type\":\"ndarray\",\"array\":{\"type\":\"bytes\",\"data\":\"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\"},\"shape\":[200],\"dtype\":\"float64\",\"order\":\"little\"}],[\"y\",{\"type\":\"ndarray\",\"array\":{\"type\":\"bytes\",\"data\":\"Tr8fvdfsyrxsGcS9cDUPvtKS5b2XUNe9l3r5vVurw70vexG9OkYFvSvES72fRKu82zvLvUBSpr2gV5u9V4g3vNpCYr0lVLe9BzFbvA9pkb1/qam8YCbIvYeQtr0ZmBe9vGI1vWzHlr3bKpe8YmOJvXcCDb1YFUi9TyHduwuhHL1qLji9bpMKPf1VT73jlDq9bTA+vbux17y4X3q8VhEXvVqMPLwrniS8EoqGPsTvoD4HSY4+pN+7PsQ8Tj6/bAQ/+ywrPxEkKz8sDw0/5UIwP0HCOj80pCE/WZU2PxppST+ib0w/ttM4P4i8+T5KxY4+NJSVPgT2Az/obGg+pyqcPoOPmT5fJpI+ei+SuwMx6bzXNYK8euSlu5OdmrvIAw69nbyDvCmtmrxNCII9478+vYhZFj5T01S8Tq/wPUzCI7ynqoS8gFqdO/sByz7dGQc+QI2sPqJrGz4e6RI9wiWPPppdnj5yfLs+u7/GPQz9aT1wJ0A+k+6HPnxtcDvzNSs+dNgPPlR/tD4iTRk+TziZPTUP2D1WaZc+j734Pm989j4fGt0+VQ0FP2AU2D4rVbo+KYDJPszX/z5KuBo/dM3YPqiCdz4z9Jg+dFK8PtWy/z7/PvE+0W/2Pvm5Dj943ik/vSs4P1TUPj9K1V0/9+AxP7i9Nj/uJxo/h90YP+/IAD9VljI/issYP8/uID9TmzI/NS8IP5PoPz8BF+0+rKsjP4E2Ez+lhxA/uUEVPwRSMj/cWkI/WwEPPyuSID9QnT0/t6MgP45OID+Rmhg/9uMvP9ftCz/7YQU/acUcP7n2Fz9nsSM/lmXlPlQKGD803gw/gWIIP05jMD9XYBg/7nEUP103JD8zrQM/uKHYPkgoyT64rgo/HucbP5MWCD/ZefY+xLPMPsRw/T4jWwk/R93PPopD4D5xhxI/DyXkPqDd9T5zaDI/oTPCPmN2ED+s1No+M5u3PkayqT4GwwE/AOQwPyOZ+D59wDM/hZwXP0ogEj90KwY/k7MQP504oT5UlxI/bHEcP21MDj9/Jig/gPcDPwjECz/u5rs+zxLiPihzIj8=\"},\"shape\":[200],\"dtype\":\"float32\",\"order\":\"little\"}]]}}},\"view\":{\"type\":\"object\",\"name\":\"CDSView\",\"id\":\"p1102\",\"attributes\":{\"filter\":{\"type\":\"object\",\"name\":\"AllIndices\",\"id\":\"p1103\"}}},\"glyph\":{\"type\":\"object\",\"name\":\"Line\",\"id\":\"p1098\",\"attributes\":{\"x\":{\"type\":\"field\",\"field\":\"x\"},\"y\":{\"type\":\"field\",\"field\":\"y\"},\"line_color\":\"#DDAA33\",\"line_width\":3}},\"nonselection_glyph\":{\"type\":\"object\",\"name\":\"Line\",\"id\":\"p1099\",\"attributes\":{\"x\":{\"type\":\"field\",\"field\":\"x\"},\"y\":{\"type\":\"field\",\"field\":\"y\"},\"line_color\":\"#DDAA33\",\"line_alpha\":0.1,\"line_width\":3}},\"muted_glyph\":{\"type\":\"object\",\"name\":\"Line\",\"id\":\"p1100\",\"attributes\":{\"x\":{\"type\":\"field\",\"field\":\"x\"},\"y\":{\"type\":\"field\",\"field\":\"y\"},\"line_color\":\"#DDAA33\",\"line_alpha\":0.2,\"line_width\":3}}}}],\"toolbar\":{\"type\":\"object\",\"name\":\"Toolbar\",\"id\":\"p1063\",\"attributes\":{\"logo\":null,\"tools\":[{\"type\":\"object\",\"name\":\"PanTool\",\"id\":\"p1077\"},{\"type\":\"object\",\"name\":\"WheelZoomTool\",\"id\":\"p1078\"},{\"type\":\"object\",\"name\":\"BoxZoomTool\",\"id\":\"p1079\",\"attributes\":{\"overlay\":{\"type\":\"object\",\"name\":\"BoxAnnotation\",\"id\":\"p1080\",\"attributes\":{\"syncable\":false,\"level\":\"overlay\",\"visible\":false,\"left_units\":\"canvas\",\"right_units\":\"canvas\",\"bottom_units\":\"canvas\",\"top_units\":\"canvas\",\"line_color\":\"black\",\"line_alpha\":1.0,\"line_width\":2,\"line_dash\":[4,4],\"fill_color\":\"lightgrey\",\"fill_alpha\":0.5}}}},{\"type\":\"object\",\"name\":\"SaveTool\",\"id\":\"p1081\"},{\"type\":\"object\",\"name\":\"ResetTool\",\"id\":\"p1082\"},{\"type\":\"object\",\"name\":\"HelpTool\",\"id\":\"p1083\"}]}},\"toolbar_location\":null,\"left\":[{\"type\":\"object\",\"name\":\"LinearAxis\",\"id\":\"p1072\",\"attributes\":{\"ticker\":{\"type\":\"object\",\"name\":\"BasicTicker\",\"id\":\"p1073\",\"attributes\":{\"mantissas\":[1,2,5]}},\"formatter\":{\"type\":\"object\",\"name\":\"BasicTickFormatter\",\"id\":\"p1074\"},\"axis_label\":\"arb. units\",\"axis_label_text_font_size\":\"24px\",\"major_label_policy\":{\"type\":\"object\",\"name\":\"AllLabels\",\"id\":\"p1075\"},\"major_label_text_color\":null,\"major_tick_line_color\":null,\"minor_tick_line_color\":null}}],\"below\":[{\"type\":\"object\",\"name\":\"LinearAxis\",\"id\":\"p1067\",\"attributes\":{\"ticker\":{\"type\":\"object\",\"name\":\"BasicTicker\",\"id\":\"p1068\",\"attributes\":{\"desired_num_ticks\":3,\"mantissas\":[1,2,5]}},\"formatter\":{\"type\":\"object\",\"name\":\"BasicTickFormatter\",\"id\":\"p1069\"},\"axis_label\":\"Photon Energy (eV)\",\"axis_label_text_font_size\":\"24px\",\"major_label_policy\":{\"type\":\"object\",\"name\":\"AllLabels\",\"id\":\"p1070\"},\"major_label_text_font_size\":\"24px\",\"major_tick_line_width\":2,\"major_tick_in\":0,\"major_tick_out\":10,\"minor_tick_line_width\":2,\"minor_tick_out\":6}}],\"center\":[{\"type\":\"object\",\"name\":\"Grid\",\"id\":\"p1071\",\"attributes\":{\"axis\":{\"id\":\"p1067\"},\"grid_line_color\":\"grey\",\"grid_line_alpha\":0.3,\"grid_line_width\":1.5,\"grid_line_dash\":[6]}},{\"type\":\"object\",\"name\":\"Grid\",\"id\":\"p1076\",\"attributes\":{\"dimension\":1,\"axis\":{\"id\":\"p1072\"},\"grid_line_color\":\"grey\",\"grid_line_alpha\":0.3,\"grid_line_width\":1.5,\"grid_line_dash\":[6]}},{\"type\":\"object\",\"name\":\"Legend\",\"id\":\"p1093\",\"attributes\":{\"location\":\"bottom_right\",\"label_text_font_size\":\"20px\",\"items\":[{\"type\":\"object\",\"name\":\"LegendItem\",\"id\":\"p1094\",\"attributes\":{\"label\":{\"type\":\"value\",\"value\":\"True\"},\"renderers\":[{\"id\":\"p1090\"}]}},{\"type\":\"object\",\"name\":\"LegendItem\",\"id\":\"p1104\",\"attributes\":{\"label\":{\"type\":\"value\",\"value\":\"ML Model\"},\"renderers\":[{\"id\":\"p1101\"}]}}]}}],\"min_border\":25}}]}};\n  const render_items = [{\"docid\":\"2fb86598-a679-4e62-a760-aef890cf725c\",\"roots\":{\"p1055\":\"b4e8d484-67e5-4d42-813f-3b64887cd5c1\"},\"root_ids\":[\"p1055\"]}];\n  root.Bokeh.embed.embed_items_notebook(docs_json, render_items);\n  }\n  if (root.Bokeh !== undefined) {\n    embed_document(root);\n  } else {\n    let attempts = 0;\n    const timer = setInterval(function(root) {\n      if (root.Bokeh !== undefined) {\n        clearInterval(timer);\n        embed_document(root);\n      } else {\n        attempts++;\n        if (attempts > 100) {\n          clearInterval(timer);\n          console.log(\"Bokeh: ERROR: Unable to run BokehJS code because BokehJS library is missing\");\n        }\n      }\n    }, 10, root)\n  }\n})(window);",
      "application/vnd.bokehjs_exec.v0+json": ""
     },
     "metadata": {
      "application/vnd.bokehjs_exec.v0+json": {
       "id": "p1055"
      }
     },
     "output_type": "display_data"
    }
   ],
   "source": [
    "# Plot worst spectra prediction\n",
    "p = bokeh_spectra(predict[worst[0]], true[worst[0]])\n",
    "show(p)"
   ]
  },
  {
   "cell_type": "code",
   "execution_count": null,
   "id": "23701ebb",
   "metadata": {},
   "outputs": [],
   "source": []
  }
 ],
 "metadata": {
  "kernelspec": {
   "display_name": "ml-playground",
   "language": "python",
   "name": "python3"
  },
  "language_info": {
   "codemirror_mode": {
    "name": "ipython",
    "version": 3
   },
   "file_extension": ".py",
   "mimetype": "text/x-python",
   "name": "python",
   "nbconvert_exporter": "python",
   "pygments_lexer": "ipython3",
   "version": "3.10.12"
  }
 },
 "nbformat": 4,
 "nbformat_minor": 5
}
